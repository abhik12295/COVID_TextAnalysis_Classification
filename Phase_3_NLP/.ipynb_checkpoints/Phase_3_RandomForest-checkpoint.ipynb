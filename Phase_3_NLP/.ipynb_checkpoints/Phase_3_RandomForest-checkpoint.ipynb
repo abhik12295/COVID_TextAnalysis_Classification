{
 "cells": [
  {
   "cell_type": "code",
   "execution_count": 1,
   "id": "digital-jacket",
   "metadata": {},
   "outputs": [],
   "source": [
    "import re\n",
    "import nltk\n",
    "import sklearn\n",
    "import numpy as n\n",
    "import pandas as pd\n",
    "from nltk.stem import *\n",
    "from nltk.corpus import stopwords\n",
    "from nltk.tokenize import word_tokenize\n",
    "from sklearn.metrics import cohen_kappa_score\n",
    "from sklearn.ensemble import RandomForestClassifier\n",
    "from sklearn.model_selection import train_test_split\n",
    "from sklearn.feature_extraction.text import TfidfVectorizer, CountVectorizer\n",
    "from sklearn.metrics import confusion_matrix, classification_report, accuracy_score"
   ]
  },
  {
   "cell_type": "markdown",
   "id": "solar-extent",
   "metadata": {},
   "source": [
    "#### Importing Datasets Primary and Secondary Dataset\n"
   ]
  },
  {
   "cell_type": "code",
   "execution_count": 2,
   "id": "manual-curve",
   "metadata": {},
   "outputs": [],
   "source": [
    "#Primary Twitter.topic\n",
    "df = pd.read_csv(r'primary_final\\twitter_topic_lockdowns.csv')\n",
    "df1 = pd.read_csv(r'primary_final\\twitter_topic_masking_and_distancing.csv')\n",
    "df2 = pd.read_csv(r'primary_final\\twitter_topic_vaccination.csv')\n",
    "#Secondary Change.org.topic\n",
    "df_s = pd.read_csv(r'secondary_final\\change.org_topic_lockdowns.csv')\n",
    "df1_s = pd.read_csv(r'secondary_final\\change.org_topic_masking_and_distancing.csv')\n",
    "df2_s = pd.read_csv(r'secondary_final\\change.org_topic_vaccination.csv')"
   ]
  },
  {
   "cell_type": "code",
   "execution_count": 3,
   "id": "sufficient-copying",
   "metadata": {},
   "outputs": [
    {
     "data": {
      "text/plain": [
       "text           1200\n",
       "Final Label    1200\n",
       "dtype: int64"
      ]
     },
     "execution_count": 3,
     "metadata": {},
     "output_type": "execute_result"
    }
   ],
   "source": [
    "df.count()"
   ]
  },
  {
   "cell_type": "code",
   "execution_count": 4,
   "id": "missing-florida",
   "metadata": {},
   "outputs": [
    {
     "data": {
      "text/html": [
       "<div>\n",
       "<style scoped>\n",
       "    .dataframe tbody tr th:only-of-type {\n",
       "        vertical-align: middle;\n",
       "    }\n",
       "\n",
       "    .dataframe tbody tr th {\n",
       "        vertical-align: top;\n",
       "    }\n",
       "\n",
       "    .dataframe thead th {\n",
       "        text-align: right;\n",
       "    }\n",
       "</style>\n",
       "<table border=\"1\" class=\"dataframe\">\n",
       "  <thead>\n",
       "    <tr style=\"text-align: right;\">\n",
       "      <th></th>\n",
       "      <th>text</th>\n",
       "      <th>Final Label</th>\n",
       "    </tr>\n",
       "  </thead>\n",
       "  <tbody>\n",
       "    <tr>\n",
       "      <th>0</th>\n",
       "      <td>Putin After Announcing #CovidVaccine #Russian ...</td>\n",
       "      <td>False</td>\n",
       "    </tr>\n",
       "    <tr>\n",
       "      <th>1</th>\n",
       "      <td>Courtesy: WA! #WhatsApp #COVID #CovidVaccine h...</td>\n",
       "      <td>False</td>\n",
       "    </tr>\n",
       "    <tr>\n",
       "      <th>2</th>\n",
       "      <td>4 of the vaccines Jared bought are expected to...</td>\n",
       "      <td>False</td>\n",
       "    </tr>\n",
       "    <tr>\n",
       "      <th>3</th>\n",
       "      <td>One day you will realize CDC Guidelines magica...</td>\n",
       "      <td>False</td>\n",
       "    </tr>\n",
       "    <tr>\n",
       "      <th>4</th>\n",
       "      <td>Im far from lying.  Current CDC guidelines is ...</td>\n",
       "      <td>False</td>\n",
       "    </tr>\n",
       "  </tbody>\n",
       "</table>\n",
       "</div>"
      ],
      "text/plain": [
       "                                                text  Final Label\n",
       "0  Putin After Announcing #CovidVaccine #Russian ...        False\n",
       "1  Courtesy: WA! #WhatsApp #COVID #CovidVaccine h...        False\n",
       "2  4 of the vaccines Jared bought are expected to...        False\n",
       "3  One day you will realize CDC Guidelines magica...        False\n",
       "4  Im far from lying.  Current CDC guidelines is ...        False"
      ]
     },
     "execution_count": 4,
     "metadata": {},
     "output_type": "execute_result"
    }
   ],
   "source": [
    "#Primary Lockdown\n",
    "df.head()"
   ]
  },
  {
   "cell_type": "code",
   "execution_count": 5,
   "id": "psychological-denver",
   "metadata": {},
   "outputs": [
    {
     "data": {
      "text/html": [
       "<div>\n",
       "<style scoped>\n",
       "    .dataframe tbody tr th:only-of-type {\n",
       "        vertical-align: middle;\n",
       "    }\n",
       "\n",
       "    .dataframe tbody tr th {\n",
       "        vertical-align: top;\n",
       "    }\n",
       "\n",
       "    .dataframe thead th {\n",
       "        text-align: right;\n",
       "    }\n",
       "</style>\n",
       "<table border=\"1\" class=\"dataframe\">\n",
       "  <thead>\n",
       "    <tr style=\"text-align: right;\">\n",
       "      <th></th>\n",
       "      <th>text</th>\n",
       "      <th>Final Label</th>\n",
       "    </tr>\n",
       "  </thead>\n",
       "  <tbody>\n",
       "    <tr>\n",
       "      <th>count</th>\n",
       "      <td>1200</td>\n",
       "      <td>1200</td>\n",
       "    </tr>\n",
       "    <tr>\n",
       "      <th>unique</th>\n",
       "      <td>1195</td>\n",
       "      <td>2</td>\n",
       "    </tr>\n",
       "    <tr>\n",
       "      <th>top</th>\n",
       "      <td>STUDIES SHOW MORPHINE MILLIGRAM EQUIVALENT (MM...</td>\n",
       "      <td>False</td>\n",
       "    </tr>\n",
       "    <tr>\n",
       "      <th>freq</th>\n",
       "      <td>4</td>\n",
       "      <td>1145</td>\n",
       "    </tr>\n",
       "  </tbody>\n",
       "</table>\n",
       "</div>"
      ],
      "text/plain": [
       "                                                     text Final Label\n",
       "count                                                1200        1200\n",
       "unique                                               1195           2\n",
       "top     STUDIES SHOW MORPHINE MILLIGRAM EQUIVALENT (MM...       False\n",
       "freq                                                    4        1145"
      ]
     },
     "execution_count": 5,
     "metadata": {},
     "output_type": "execute_result"
    }
   ],
   "source": [
    "df.describe()"
   ]
  },
  {
   "cell_type": "code",
   "execution_count": 6,
   "id": "innovative-knight",
   "metadata": {},
   "outputs": [
    {
     "data": {
      "text/html": [
       "<div>\n",
       "<style scoped>\n",
       "    .dataframe tbody tr th:only-of-type {\n",
       "        vertical-align: middle;\n",
       "    }\n",
       "\n",
       "    .dataframe tbody tr th {\n",
       "        vertical-align: top;\n",
       "    }\n",
       "\n",
       "    .dataframe thead th {\n",
       "        text-align: right;\n",
       "    }\n",
       "</style>\n",
       "<table border=\"1\" class=\"dataframe\">\n",
       "  <thead>\n",
       "    <tr style=\"text-align: right;\">\n",
       "      <th></th>\n",
       "      <th>text</th>\n",
       "      <th>Final Label</th>\n",
       "    </tr>\n",
       "  </thead>\n",
       "  <tbody>\n",
       "    <tr>\n",
       "      <th>0</th>\n",
       "      <td>Putin After Announcing #CovidVaccine #Russian ...</td>\n",
       "      <td>False</td>\n",
       "    </tr>\n",
       "    <tr>\n",
       "      <th>1</th>\n",
       "      <td>Courtesy: WA! #WhatsApp #COVID #CovidVaccine h...</td>\n",
       "      <td>False</td>\n",
       "    </tr>\n",
       "    <tr>\n",
       "      <th>2</th>\n",
       "      <td>4 of the vaccines Jared bought are expected to...</td>\n",
       "      <td>False</td>\n",
       "    </tr>\n",
       "    <tr>\n",
       "      <th>3</th>\n",
       "      <td>One day you will realize CDC Guidelines magica...</td>\n",
       "      <td>False</td>\n",
       "    </tr>\n",
       "    <tr>\n",
       "      <th>4</th>\n",
       "      <td>Im far from lying.  Current CDC guidelines is ...</td>\n",
       "      <td>True</td>\n",
       "    </tr>\n",
       "  </tbody>\n",
       "</table>\n",
       "</div>"
      ],
      "text/plain": [
       "                                                text  Final Label\n",
       "0  Putin After Announcing #CovidVaccine #Russian ...        False\n",
       "1  Courtesy: WA! #WhatsApp #COVID #CovidVaccine h...        False\n",
       "2  4 of the vaccines Jared bought are expected to...        False\n",
       "3  One day you will realize CDC Guidelines magica...        False\n",
       "4  Im far from lying.  Current CDC guidelines is ...         True"
      ]
     },
     "execution_count": 6,
     "metadata": {},
     "output_type": "execute_result"
    }
   ],
   "source": [
    "#Primary Masking and Distancing\n",
    "df1.head()"
   ]
  },
  {
   "cell_type": "code",
   "execution_count": 7,
   "id": "adequate-guarantee",
   "metadata": {},
   "outputs": [
    {
     "data": {
      "text/html": [
       "<div>\n",
       "<style scoped>\n",
       "    .dataframe tbody tr th:only-of-type {\n",
       "        vertical-align: middle;\n",
       "    }\n",
       "\n",
       "    .dataframe tbody tr th {\n",
       "        vertical-align: top;\n",
       "    }\n",
       "\n",
       "    .dataframe thead th {\n",
       "        text-align: right;\n",
       "    }\n",
       "</style>\n",
       "<table border=\"1\" class=\"dataframe\">\n",
       "  <thead>\n",
       "    <tr style=\"text-align: right;\">\n",
       "      <th></th>\n",
       "      <th>text</th>\n",
       "      <th>Final Label</th>\n",
       "    </tr>\n",
       "  </thead>\n",
       "  <tbody>\n",
       "    <tr>\n",
       "      <th>count</th>\n",
       "      <td>1200</td>\n",
       "      <td>1200</td>\n",
       "    </tr>\n",
       "    <tr>\n",
       "      <th>unique</th>\n",
       "      <td>1195</td>\n",
       "      <td>2</td>\n",
       "    </tr>\n",
       "    <tr>\n",
       "      <th>top</th>\n",
       "      <td>STUDIES SHOW MORPHINE MILLIGRAM EQUIVALENT (MM...</td>\n",
       "      <td>False</td>\n",
       "    </tr>\n",
       "    <tr>\n",
       "      <th>freq</th>\n",
       "      <td>4</td>\n",
       "      <td>957</td>\n",
       "    </tr>\n",
       "  </tbody>\n",
       "</table>\n",
       "</div>"
      ],
      "text/plain": [
       "                                                     text Final Label\n",
       "count                                                1200        1200\n",
       "unique                                               1195           2\n",
       "top     STUDIES SHOW MORPHINE MILLIGRAM EQUIVALENT (MM...       False\n",
       "freq                                                    4         957"
      ]
     },
     "execution_count": 7,
     "metadata": {},
     "output_type": "execute_result"
    }
   ],
   "source": [
    "df1.describe()"
   ]
  },
  {
   "cell_type": "code",
   "execution_count": 8,
   "id": "ignored-validation",
   "metadata": {},
   "outputs": [
    {
     "data": {
      "text/html": [
       "<div>\n",
       "<style scoped>\n",
       "    .dataframe tbody tr th:only-of-type {\n",
       "        vertical-align: middle;\n",
       "    }\n",
       "\n",
       "    .dataframe tbody tr th {\n",
       "        vertical-align: top;\n",
       "    }\n",
       "\n",
       "    .dataframe thead th {\n",
       "        text-align: right;\n",
       "    }\n",
       "</style>\n",
       "<table border=\"1\" class=\"dataframe\">\n",
       "  <thead>\n",
       "    <tr style=\"text-align: right;\">\n",
       "      <th></th>\n",
       "      <th>text</th>\n",
       "      <th>Final Label</th>\n",
       "    </tr>\n",
       "  </thead>\n",
       "  <tbody>\n",
       "    <tr>\n",
       "      <th>0</th>\n",
       "      <td>Putin After Announcing #CovidVaccine #Russian ...</td>\n",
       "      <td>True</td>\n",
       "    </tr>\n",
       "    <tr>\n",
       "      <th>1</th>\n",
       "      <td>Courtesy: WA! #WhatsApp #COVID #CovidVaccine h...</td>\n",
       "      <td>True</td>\n",
       "    </tr>\n",
       "    <tr>\n",
       "      <th>2</th>\n",
       "      <td>4 of the vaccines Jared bought are expected to...</td>\n",
       "      <td>True</td>\n",
       "    </tr>\n",
       "    <tr>\n",
       "      <th>3</th>\n",
       "      <td>One day you will realize CDC Guidelines magica...</td>\n",
       "      <td>False</td>\n",
       "    </tr>\n",
       "    <tr>\n",
       "      <th>4</th>\n",
       "      <td>Im far from lying.  Current CDC guidelines is ...</td>\n",
       "      <td>True</td>\n",
       "    </tr>\n",
       "  </tbody>\n",
       "</table>\n",
       "</div>"
      ],
      "text/plain": [
       "                                                text  Final Label\n",
       "0  Putin After Announcing #CovidVaccine #Russian ...         True\n",
       "1  Courtesy: WA! #WhatsApp #COVID #CovidVaccine h...         True\n",
       "2  4 of the vaccines Jared bought are expected to...         True\n",
       "3  One day you will realize CDC Guidelines magica...        False\n",
       "4  Im far from lying.  Current CDC guidelines is ...         True"
      ]
     },
     "execution_count": 8,
     "metadata": {},
     "output_type": "execute_result"
    }
   ],
   "source": [
    "#Primary Vaccination\n",
    "df2.head()"
   ]
  },
  {
   "cell_type": "code",
   "execution_count": 9,
   "id": "danish-german",
   "metadata": {},
   "outputs": [
    {
     "data": {
      "text/html": [
       "<div>\n",
       "<style scoped>\n",
       "    .dataframe tbody tr th:only-of-type {\n",
       "        vertical-align: middle;\n",
       "    }\n",
       "\n",
       "    .dataframe tbody tr th {\n",
       "        vertical-align: top;\n",
       "    }\n",
       "\n",
       "    .dataframe thead th {\n",
       "        text-align: right;\n",
       "    }\n",
       "</style>\n",
       "<table border=\"1\" class=\"dataframe\">\n",
       "  <thead>\n",
       "    <tr style=\"text-align: right;\">\n",
       "      <th></th>\n",
       "      <th>text</th>\n",
       "      <th>Final Label</th>\n",
       "    </tr>\n",
       "  </thead>\n",
       "  <tbody>\n",
       "    <tr>\n",
       "      <th>count</th>\n",
       "      <td>1200</td>\n",
       "      <td>1200</td>\n",
       "    </tr>\n",
       "    <tr>\n",
       "      <th>unique</th>\n",
       "      <td>1195</td>\n",
       "      <td>2</td>\n",
       "    </tr>\n",
       "    <tr>\n",
       "      <th>top</th>\n",
       "      <td>STUDIES SHOW MORPHINE MILLIGRAM EQUIVALENT (MM...</td>\n",
       "      <td>True</td>\n",
       "    </tr>\n",
       "    <tr>\n",
       "      <th>freq</th>\n",
       "      <td>4</td>\n",
       "      <td>701</td>\n",
       "    </tr>\n",
       "  </tbody>\n",
       "</table>\n",
       "</div>"
      ],
      "text/plain": [
       "                                                     text Final Label\n",
       "count                                                1200        1200\n",
       "unique                                               1195           2\n",
       "top     STUDIES SHOW MORPHINE MILLIGRAM EQUIVALENT (MM...        True\n",
       "freq                                                    4         701"
      ]
     },
     "execution_count": 9,
     "metadata": {},
     "output_type": "execute_result"
    }
   ],
   "source": [
    "df2.describe()"
   ]
  },
  {
   "cell_type": "markdown",
   "id": "expanded-civilization",
   "metadata": {},
   "source": [
    "### Secondary Dataset"
   ]
  },
  {
   "cell_type": "code",
   "execution_count": 10,
   "id": "colonial-economics",
   "metadata": {},
   "outputs": [
    {
     "data": {
      "text/html": [
       "<div>\n",
       "<style scoped>\n",
       "    .dataframe tbody tr th:only-of-type {\n",
       "        vertical-align: middle;\n",
       "    }\n",
       "\n",
       "    .dataframe tbody tr th {\n",
       "        vertical-align: top;\n",
       "    }\n",
       "\n",
       "    .dataframe thead th {\n",
       "        text-align: right;\n",
       "    }\n",
       "</style>\n",
       "<table border=\"1\" class=\"dataframe\">\n",
       "  <thead>\n",
       "    <tr style=\"text-align: right;\">\n",
       "      <th></th>\n",
       "      <th>text</th>\n",
       "      <th>Final Label</th>\n",
       "    </tr>\n",
       "  </thead>\n",
       "  <tbody>\n",
       "    <tr>\n",
       "      <th>0</th>\n",
       "      <td>Language Education in the Time of COVID-19</td>\n",
       "      <td>False</td>\n",
       "    </tr>\n",
       "    <tr>\n",
       "      <th>1</th>\n",
       "      <td>COVID-19 Test Kits</td>\n",
       "      <td>False</td>\n",
       "    </tr>\n",
       "    <tr>\n",
       "      <th>2</th>\n",
       "      <td>COVID 19 IN PRISON</td>\n",
       "      <td>False</td>\n",
       "    </tr>\n",
       "    <tr>\n",
       "      <th>3</th>\n",
       "      <td>Get Waled Home</td>\n",
       "      <td>False</td>\n",
       "    </tr>\n",
       "    <tr>\n",
       "      <th>4</th>\n",
       "      <td>Make pass/fail available for Mississippi State...</td>\n",
       "      <td>False</td>\n",
       "    </tr>\n",
       "  </tbody>\n",
       "</table>\n",
       "</div>"
      ],
      "text/plain": [
       "                                                text  Final Label\n",
       "0         Language Education in the Time of COVID-19        False\n",
       "1                                 COVID-19 Test Kits        False\n",
       "2                                 COVID 19 IN PRISON        False\n",
       "3                                     Get Waled Home        False\n",
       "4  Make pass/fail available for Mississippi State...        False"
      ]
     },
     "execution_count": 10,
     "metadata": {},
     "output_type": "execute_result"
    }
   ],
   "source": [
    "#Secondary Lockdown\n",
    "df_s.head()"
   ]
  },
  {
   "cell_type": "code",
   "execution_count": 11,
   "id": "endangered-helen",
   "metadata": {},
   "outputs": [
    {
     "data": {
      "text/html": [
       "<div>\n",
       "<style scoped>\n",
       "    .dataframe tbody tr th:only-of-type {\n",
       "        vertical-align: middle;\n",
       "    }\n",
       "\n",
       "    .dataframe tbody tr th {\n",
       "        vertical-align: top;\n",
       "    }\n",
       "\n",
       "    .dataframe thead th {\n",
       "        text-align: right;\n",
       "    }\n",
       "</style>\n",
       "<table border=\"1\" class=\"dataframe\">\n",
       "  <thead>\n",
       "    <tr style=\"text-align: right;\">\n",
       "      <th></th>\n",
       "      <th>text</th>\n",
       "      <th>Final Label</th>\n",
       "    </tr>\n",
       "  </thead>\n",
       "  <tbody>\n",
       "    <tr>\n",
       "      <th>count</th>\n",
       "      <td>1500</td>\n",
       "      <td>1500</td>\n",
       "    </tr>\n",
       "    <tr>\n",
       "      <th>unique</th>\n",
       "      <td>1500</td>\n",
       "      <td>2</td>\n",
       "    </tr>\n",
       "    <tr>\n",
       "      <th>top</th>\n",
       "      <td>Force Big Chain Supermarkets/Takeaways to Drop...</td>\n",
       "      <td>False</td>\n",
       "    </tr>\n",
       "    <tr>\n",
       "      <th>freq</th>\n",
       "      <td>1</td>\n",
       "      <td>1071</td>\n",
       "    </tr>\n",
       "  </tbody>\n",
       "</table>\n",
       "</div>"
      ],
      "text/plain": [
       "                                                     text Final Label\n",
       "count                                                1500        1500\n",
       "unique                                               1500           2\n",
       "top     Force Big Chain Supermarkets/Takeaways to Drop...       False\n",
       "freq                                                    1        1071"
      ]
     },
     "execution_count": 11,
     "metadata": {},
     "output_type": "execute_result"
    }
   ],
   "source": [
    "df_s.describe()"
   ]
  },
  {
   "cell_type": "code",
   "execution_count": 12,
   "id": "western-oasis",
   "metadata": {},
   "outputs": [
    {
     "data": {
      "text/html": [
       "<div>\n",
       "<style scoped>\n",
       "    .dataframe tbody tr th:only-of-type {\n",
       "        vertical-align: middle;\n",
       "    }\n",
       "\n",
       "    .dataframe tbody tr th {\n",
       "        vertical-align: top;\n",
       "    }\n",
       "\n",
       "    .dataframe thead th {\n",
       "        text-align: right;\n",
       "    }\n",
       "</style>\n",
       "<table border=\"1\" class=\"dataframe\">\n",
       "  <thead>\n",
       "    <tr style=\"text-align: right;\">\n",
       "      <th></th>\n",
       "      <th>text</th>\n",
       "      <th>Final Label</th>\n",
       "    </tr>\n",
       "  </thead>\n",
       "  <tbody>\n",
       "    <tr>\n",
       "      <th>0</th>\n",
       "      <td>Language Education in the Time of COVID-19</td>\n",
       "      <td>False</td>\n",
       "    </tr>\n",
       "    <tr>\n",
       "      <th>1</th>\n",
       "      <td>COVID-19 Test Kits</td>\n",
       "      <td>False</td>\n",
       "    </tr>\n",
       "    <tr>\n",
       "      <th>2</th>\n",
       "      <td>COVID 19 IN PRISON</td>\n",
       "      <td>False</td>\n",
       "    </tr>\n",
       "    <tr>\n",
       "      <th>3</th>\n",
       "      <td>Get Waled Home</td>\n",
       "      <td>False</td>\n",
       "    </tr>\n",
       "    <tr>\n",
       "      <th>4</th>\n",
       "      <td>Make pass/fail available for Mississippi State...</td>\n",
       "      <td>False</td>\n",
       "    </tr>\n",
       "  </tbody>\n",
       "</table>\n",
       "</div>"
      ],
      "text/plain": [
       "                                                text  Final Label\n",
       "0         Language Education in the Time of COVID-19        False\n",
       "1                                 COVID-19 Test Kits        False\n",
       "2                                 COVID 19 IN PRISON        False\n",
       "3                                     Get Waled Home        False\n",
       "4  Make pass/fail available for Mississippi State...        False"
      ]
     },
     "execution_count": 12,
     "metadata": {},
     "output_type": "execute_result"
    }
   ],
   "source": [
    "#Secondary Masking and Distancing\n",
    "df1_s.head()"
   ]
  },
  {
   "cell_type": "code",
   "execution_count": 13,
   "id": "criminal-staff",
   "metadata": {},
   "outputs": [
    {
     "data": {
      "text/html": [
       "<div>\n",
       "<style scoped>\n",
       "    .dataframe tbody tr th:only-of-type {\n",
       "        vertical-align: middle;\n",
       "    }\n",
       "\n",
       "    .dataframe tbody tr th {\n",
       "        vertical-align: top;\n",
       "    }\n",
       "\n",
       "    .dataframe thead th {\n",
       "        text-align: right;\n",
       "    }\n",
       "</style>\n",
       "<table border=\"1\" class=\"dataframe\">\n",
       "  <thead>\n",
       "    <tr style=\"text-align: right;\">\n",
       "      <th></th>\n",
       "      <th>text</th>\n",
       "      <th>Final Label</th>\n",
       "    </tr>\n",
       "  </thead>\n",
       "  <tbody>\n",
       "    <tr>\n",
       "      <th>count</th>\n",
       "      <td>1500</td>\n",
       "      <td>1500</td>\n",
       "    </tr>\n",
       "    <tr>\n",
       "      <th>unique</th>\n",
       "      <td>1500</td>\n",
       "      <td>2</td>\n",
       "    </tr>\n",
       "    <tr>\n",
       "      <th>top</th>\n",
       "      <td>Force Big Chain Supermarkets/Takeaways to Drop...</td>\n",
       "      <td>False</td>\n",
       "    </tr>\n",
       "    <tr>\n",
       "      <th>freq</th>\n",
       "      <td>1</td>\n",
       "      <td>1429</td>\n",
       "    </tr>\n",
       "  </tbody>\n",
       "</table>\n",
       "</div>"
      ],
      "text/plain": [
       "                                                     text Final Label\n",
       "count                                                1500        1500\n",
       "unique                                               1500           2\n",
       "top     Force Big Chain Supermarkets/Takeaways to Drop...       False\n",
       "freq                                                    1        1429"
      ]
     },
     "execution_count": 13,
     "metadata": {},
     "output_type": "execute_result"
    }
   ],
   "source": [
    "df1_s.describe()"
   ]
  },
  {
   "cell_type": "code",
   "execution_count": 14,
   "id": "plastic-apollo",
   "metadata": {},
   "outputs": [
    {
     "data": {
      "text/html": [
       "<div>\n",
       "<style scoped>\n",
       "    .dataframe tbody tr th:only-of-type {\n",
       "        vertical-align: middle;\n",
       "    }\n",
       "\n",
       "    .dataframe tbody tr th {\n",
       "        vertical-align: top;\n",
       "    }\n",
       "\n",
       "    .dataframe thead th {\n",
       "        text-align: right;\n",
       "    }\n",
       "</style>\n",
       "<table border=\"1\" class=\"dataframe\">\n",
       "  <thead>\n",
       "    <tr style=\"text-align: right;\">\n",
       "      <th></th>\n",
       "      <th>text</th>\n",
       "      <th>Final Label</th>\n",
       "    </tr>\n",
       "  </thead>\n",
       "  <tbody>\n",
       "    <tr>\n",
       "      <th>0</th>\n",
       "      <td>Language Education in the Time of COVID-19</td>\n",
       "      <td>False</td>\n",
       "    </tr>\n",
       "    <tr>\n",
       "      <th>1</th>\n",
       "      <td>COVID-19 Test Kits</td>\n",
       "      <td>False</td>\n",
       "    </tr>\n",
       "    <tr>\n",
       "      <th>2</th>\n",
       "      <td>COVID 19 IN PRISON</td>\n",
       "      <td>False</td>\n",
       "    </tr>\n",
       "    <tr>\n",
       "      <th>3</th>\n",
       "      <td>Get Waled Home</td>\n",
       "      <td>False</td>\n",
       "    </tr>\n",
       "    <tr>\n",
       "      <th>4</th>\n",
       "      <td>Make pass/fail available for Mississippi State...</td>\n",
       "      <td>False</td>\n",
       "    </tr>\n",
       "  </tbody>\n",
       "</table>\n",
       "</div>"
      ],
      "text/plain": [
       "                                                text  Final Label\n",
       "0         Language Education in the Time of COVID-19        False\n",
       "1                                 COVID-19 Test Kits        False\n",
       "2                                 COVID 19 IN PRISON        False\n",
       "3                                     Get Waled Home        False\n",
       "4  Make pass/fail available for Mississippi State...        False"
      ]
     },
     "execution_count": 14,
     "metadata": {},
     "output_type": "execute_result"
    }
   ],
   "source": [
    "#Secondary Vaccinatioon\n",
    "df2_s.head()"
   ]
  },
  {
   "cell_type": "code",
   "execution_count": 15,
   "id": "increased-cutting",
   "metadata": {},
   "outputs": [
    {
     "data": {
      "text/html": [
       "<div>\n",
       "<style scoped>\n",
       "    .dataframe tbody tr th:only-of-type {\n",
       "        vertical-align: middle;\n",
       "    }\n",
       "\n",
       "    .dataframe tbody tr th {\n",
       "        vertical-align: top;\n",
       "    }\n",
       "\n",
       "    .dataframe thead th {\n",
       "        text-align: right;\n",
       "    }\n",
       "</style>\n",
       "<table border=\"1\" class=\"dataframe\">\n",
       "  <thead>\n",
       "    <tr style=\"text-align: right;\">\n",
       "      <th></th>\n",
       "      <th>text</th>\n",
       "      <th>Final Label</th>\n",
       "    </tr>\n",
       "  </thead>\n",
       "  <tbody>\n",
       "    <tr>\n",
       "      <th>count</th>\n",
       "      <td>1500</td>\n",
       "      <td>1500</td>\n",
       "    </tr>\n",
       "    <tr>\n",
       "      <th>unique</th>\n",
       "      <td>1500</td>\n",
       "      <td>2</td>\n",
       "    </tr>\n",
       "    <tr>\n",
       "      <th>top</th>\n",
       "      <td>Force Big Chain Supermarkets/Takeaways to Drop...</td>\n",
       "      <td>False</td>\n",
       "    </tr>\n",
       "    <tr>\n",
       "      <th>freq</th>\n",
       "      <td>1</td>\n",
       "      <td>1429</td>\n",
       "    </tr>\n",
       "  </tbody>\n",
       "</table>\n",
       "</div>"
      ],
      "text/plain": [
       "                                                     text Final Label\n",
       "count                                                1500        1500\n",
       "unique                                               1500           2\n",
       "top     Force Big Chain Supermarkets/Takeaways to Drop...       False\n",
       "freq                                                    1        1429"
      ]
     },
     "execution_count": 15,
     "metadata": {},
     "output_type": "execute_result"
    }
   ],
   "source": [
    "df2_s.describe()"
   ]
  },
  {
   "cell_type": "markdown",
   "id": "welcome-water",
   "metadata": {},
   "source": [
    "### Checking the count of Positive Classes"
   ]
  },
  {
   "cell_type": "code",
   "execution_count": 16,
   "id": "hourly-music",
   "metadata": {},
   "outputs": [
    {
     "name": "stdout",
     "output_type": "stream",
     "text": [
      "Primary Lockdowns:\n",
      " False    95.416667\n",
      "True      4.583333\n",
      "Name: Final Label, dtype: float64\n",
      "Primary Masking and Distancing:\n",
      " False    79.75\n",
      "True     20.25\n",
      "Name: Final Label, dtype: float64\n",
      "Primary Vaccinations:\n",
      " True     58.416667\n",
      "False    41.583333\n",
      "Name: Final Label, dtype: float64\n",
      "Secondary Lockdowns:\n",
      " False    71.4\n",
      "True     28.6\n",
      "Name: Final Label, dtype: float64\n",
      "Secondary Masking and Distancing:\n",
      " False    95.266667\n",
      "True      4.733333\n",
      "Name: Final Label, dtype: float64\n",
      "Secondary Vaccinations:\n",
      " False    95.266667\n",
      "True      4.733333\n",
      "Name: Final Label, dtype: float64\n"
     ]
    }
   ],
   "source": [
    "print(\"Primary Lockdowns:\\n\", df['Final Label'].value_counts(True)*100)\n",
    "print(\"Primary Masking and Distancing:\\n\",df1['Final Label'].value_counts(True)*100)\n",
    "print(\"Primary Vaccinations:\\n\",df2['Final Label'].value_counts(True)*100)\n",
    "print(\"Secondary Lockdowns:\\n\",df_s['Final Label'].value_counts(True)*100)\n",
    "print(\"Secondary Masking and Distancing:\\n\",df1_s['Final Label'].value_counts(True)*100)\n",
    "print(\"Secondary Vaccinations:\\n\",df2_s['Final Label'].value_counts(True)*100)"
   ]
  },
  {
   "cell_type": "markdown",
   "id": "beneficial-shirt",
   "metadata": {},
   "source": [
    "### Explanation to select right Primary dataset for training and modelling\n",
    "#### From above we can see that in dataset twitter_topic_lockdowns and dataset twitter_topic_masking_and_distancing have low numbers of positive examples, as shown by frequency which represent number of False in datasets is 95% and 79% respectively. <br> \n",
    "\n",
    "\n",
    "### Therefore, we will select twitter_topic_vaccination.csv for Data partitioning and  Baseline modelling. Also, change.org_topic_vaccination from Secondary Dataset and designated 100% of SECONDARY dataset as the Test (SECONDARY) dataset. "
   ]
  },
  {
   "cell_type": "code",
   "execution_count": 17,
   "id": "unexpected-morris",
   "metadata": {},
   "outputs": [
    {
     "data": {
      "text/html": [
       "<div>\n",
       "<style scoped>\n",
       "    .dataframe tbody tr th:only-of-type {\n",
       "        vertical-align: middle;\n",
       "    }\n",
       "\n",
       "    .dataframe tbody tr th {\n",
       "        vertical-align: top;\n",
       "    }\n",
       "\n",
       "    .dataframe thead th {\n",
       "        text-align: right;\n",
       "    }\n",
       "</style>\n",
       "<table border=\"1\" class=\"dataframe\">\n",
       "  <thead>\n",
       "    <tr style=\"text-align: right;\">\n",
       "      <th></th>\n",
       "      <th>text</th>\n",
       "      <th>Final Label</th>\n",
       "    </tr>\n",
       "  </thead>\n",
       "  <tbody>\n",
       "    <tr>\n",
       "      <th>0</th>\n",
       "      <td>Putin After Announcing #CovidVaccine #Russian ...</td>\n",
       "      <td>True</td>\n",
       "    </tr>\n",
       "    <tr>\n",
       "      <th>1</th>\n",
       "      <td>Courtesy: WA! #WhatsApp #COVID #CovidVaccine h...</td>\n",
       "      <td>True</td>\n",
       "    </tr>\n",
       "    <tr>\n",
       "      <th>2</th>\n",
       "      <td>4 of the vaccines Jared bought are expected to...</td>\n",
       "      <td>True</td>\n",
       "    </tr>\n",
       "    <tr>\n",
       "      <th>3</th>\n",
       "      <td>One day you will realize CDC Guidelines magica...</td>\n",
       "      <td>False</td>\n",
       "    </tr>\n",
       "    <tr>\n",
       "      <th>4</th>\n",
       "      <td>Im far from lying.  Current CDC guidelines is ...</td>\n",
       "      <td>True</td>\n",
       "    </tr>\n",
       "  </tbody>\n",
       "</table>\n",
       "</div>"
      ],
      "text/plain": [
       "                                                text  Final Label\n",
       "0  Putin After Announcing #CovidVaccine #Russian ...         True\n",
       "1  Courtesy: WA! #WhatsApp #COVID #CovidVaccine h...         True\n",
       "2  4 of the vaccines Jared bought are expected to...         True\n",
       "3  One day you will realize CDC Guidelines magica...        False\n",
       "4  Im far from lying.  Current CDC guidelines is ...         True"
      ]
     },
     "execution_count": 17,
     "metadata": {},
     "output_type": "execute_result"
    }
   ],
   "source": [
    "df_primary = df2.copy()\n",
    "df_primary.head()"
   ]
  },
  {
   "cell_type": "code",
   "execution_count": 18,
   "id": "resistant-powell",
   "metadata": {},
   "outputs": [
    {
     "data": {
      "text/html": [
       "<div>\n",
       "<style scoped>\n",
       "    .dataframe tbody tr th:only-of-type {\n",
       "        vertical-align: middle;\n",
       "    }\n",
       "\n",
       "    .dataframe tbody tr th {\n",
       "        vertical-align: top;\n",
       "    }\n",
       "\n",
       "    .dataframe thead th {\n",
       "        text-align: right;\n",
       "    }\n",
       "</style>\n",
       "<table border=\"1\" class=\"dataframe\">\n",
       "  <thead>\n",
       "    <tr style=\"text-align: right;\">\n",
       "      <th></th>\n",
       "      <th>text</th>\n",
       "      <th>Final Label</th>\n",
       "    </tr>\n",
       "  </thead>\n",
       "  <tbody>\n",
       "    <tr>\n",
       "      <th>0</th>\n",
       "      <td>Language Education in the Time of COVID-19</td>\n",
       "      <td>False</td>\n",
       "    </tr>\n",
       "    <tr>\n",
       "      <th>1</th>\n",
       "      <td>COVID-19 Test Kits</td>\n",
       "      <td>False</td>\n",
       "    </tr>\n",
       "    <tr>\n",
       "      <th>2</th>\n",
       "      <td>COVID 19 IN PRISON</td>\n",
       "      <td>False</td>\n",
       "    </tr>\n",
       "    <tr>\n",
       "      <th>3</th>\n",
       "      <td>Get Waled Home</td>\n",
       "      <td>False</td>\n",
       "    </tr>\n",
       "    <tr>\n",
       "      <th>4</th>\n",
       "      <td>Make pass/fail available for Mississippi State...</td>\n",
       "      <td>False</td>\n",
       "    </tr>\n",
       "  </tbody>\n",
       "</table>\n",
       "</div>"
      ],
      "text/plain": [
       "                                                text  Final Label\n",
       "0         Language Education in the Time of COVID-19        False\n",
       "1                                 COVID-19 Test Kits        False\n",
       "2                                 COVID 19 IN PRISON        False\n",
       "3                                     Get Waled Home        False\n",
       "4  Make pass/fail available for Mississippi State...        False"
      ]
     },
     "execution_count": 18,
     "metadata": {},
     "output_type": "execute_result"
    }
   ],
   "source": [
    "df_secondary = df2_s.copy()\n",
    "df_secondary.head()"
   ]
  },
  {
   "cell_type": "code",
   "execution_count": 19,
   "id": "certified-wrong",
   "metadata": {},
   "outputs": [
    {
     "data": {
      "text/plain": [
       "text           0\n",
       "Final Label    0\n",
       "dtype: int64"
      ]
     },
     "execution_count": 19,
     "metadata": {},
     "output_type": "execute_result"
    }
   ],
   "source": [
    "df_secondary.isnull().sum()"
   ]
  },
  {
   "cell_type": "markdown",
   "id": "familiar-korean",
   "metadata": {},
   "source": [
    "#### Model 1 \n",
    "#### Before Feature Engineering\n",
    "1. Training dataset = Primary Data 70%\n",
    "2. Test Dataset = Primary Data 30%\n"
   ]
  },
  {
   "cell_type": "code",
   "execution_count": 20,
   "id": "continued-impression",
   "metadata": {},
   "outputs": [
    {
     "name": "stdout",
     "output_type": "stream",
     "text": [
      "                                                   text  Final Label\n",
      "0     Putin After Announcing #CovidVaccine #Russian ...         True\n",
      "1     Courtesy: WA! #WhatsApp #COVID #CovidVaccine h...         True\n",
      "2     4 of the vaccines Jared bought are expected to...         True\n",
      "3     One day you will realize CDC Guidelines magica...        False\n",
      "4     Im far from lying.  Current CDC guidelines is ...         True\n",
      "...                                                 ...          ...\n",
      "1195  .Sprint To Develop A #COVIDVaccine – // https:...         True\n",
      "1196  Here in the U.S. some localities have brought ...        False\n",
      "1197  Sanitizer &amp; Mask Manufacturers After Russi...         True\n",
      "1198  We are following all CDC guidelines through a ...        False\n",
      "1199  People be losing hopes on covid vaccine like i...         True\n",
      "\n",
      "[1200 rows x 2 columns]\n"
     ]
    }
   ],
   "source": [
    "print(df_primary)"
   ]
  },
  {
   "cell_type": "code",
   "execution_count": 21,
   "id": "heated-journal",
   "metadata": {},
   "outputs": [],
   "source": [
    "X_prim = df_primary.drop([\"Final Label\"],axis = 1)\n",
    "y_prim = df_primary[\"Final Label\"]\n",
    "\n",
    "X_sec = df_secondary.drop([\"Final Label\"],axis = 1)\n",
    "y_sec = df_secondary[\"Final Label\"]"
   ]
  },
  {
   "cell_type": "code",
   "execution_count": 22,
   "id": "mediterranean-platform",
   "metadata": {},
   "outputs": [],
   "source": [
    "#Splitting the Dataset into Primary Train and Primary Test\n",
    "X_prim_train,X_prim_test,y_prim_train,y_prim_test = train_test_split(X_prim,y_prim,test_size=0.3,random_state = 42)"
   ]
  },
  {
   "cell_type": "code",
   "execution_count": 23,
   "id": "identified-arena",
   "metadata": {},
   "outputs": [],
   "source": [
    "X_prim_train.reset_index(inplace=True)\n",
    "X_prim_test.reset_index(inplace=True)\n",
    "\n",
    "X_prim_train = X_prim_train.drop(\"index\",axis = 1)\n",
    "X_prim_test = X_prim_test.drop(\"index\",axis = 1)"
   ]
  },
  {
   "cell_type": "code",
   "execution_count": 24,
   "id": "outstanding-extension",
   "metadata": {},
   "outputs": [
    {
     "name": "stdout",
     "output_type": "stream",
     "text": [
      "Primary train with Feature Engineering: (840, 4390)\n",
      "Primary test with Feature Engineering: (360, 4390)\n"
     ]
    }
   ],
   "source": [
    "tfid = TfidfVectorizer()\n",
    "\n",
    "final_x_prim_train = tfid.fit_transform(X_prim_train.text).toarray()\n",
    "df = pd.DataFrame(final_x_prim_train)  \n",
    "final_x_prim_train = X_prim_train.join(df) \n",
    "print(\"Primary train with Feature Engineering:\",final_x_prim_train.shape)\n",
    "\n",
    "\n",
    "final_x_prim_test = tfid.transform(X_prim_test.text).toarray()\n",
    "df1 = pd.DataFrame(final_x_prim_test)  \n",
    "final_x_prim_test = X_prim_test.join(df1) \n",
    "print(\"Primary test with Feature Engineering:\",final_x_prim_test.shape)\n"
   ]
  },
  {
   "cell_type": "code",
   "execution_count": 25,
   "id": "norwegian-customs",
   "metadata": {},
   "outputs": [],
   "source": [
    "final_x_prim_train = final_x_prim_train.drop(\"text\",axis = 1)\n",
    "final_x_prim_test = final_x_prim_test.drop(\"text\",axis = 1)"
   ]
  },
  {
   "cell_type": "markdown",
   "id": "latter-above",
   "metadata": {},
   "source": [
    "### Using Random Forest Classifier on model 1"
   ]
  },
  {
   "cell_type": "code",
   "execution_count": 26,
   "id": "wrong-makeup",
   "metadata": {},
   "outputs": [
    {
     "name": "stdout",
     "output_type": "stream",
     "text": [
      "The Classification Report :\n",
      "               precision    recall  f1-score   support\n",
      "\n",
      "       False       0.84      0.78      0.81       139\n",
      "        True       0.87      0.91      0.89       221\n",
      "\n",
      "    accuracy                           0.86       360\n",
      "   macro avg       0.86      0.85      0.85       360\n",
      "weighted avg       0.86      0.86      0.86       360\n",
      "\n",
      "\n",
      "Confusion Matrix : \n",
      " [[109  30]\n",
      " [ 20 201]]\n",
      "\n",
      "Accuracy in Primary Set using Random Forest: 86.11\n"
     ]
    }
   ],
   "source": [
    "from sklearn.naive_bayes import GaussianNB\n",
    "#clf = GaussianNB()\n",
    "clf = RandomForestClassifier(random_state = 42)\n",
    "clf.fit(final_x_prim_train, y_prim_train)\n",
    "y_pred_prim = clf.predict(final_x_prim_test)\n",
    "\n",
    "print(\"The Classification Report :\\n\",classification_report(y_prim_test,y_pred_prim))\n",
    "print(\"\\nConfusion Matrix : \\n\",confusion_matrix(y_prim_test,y_pred_prim))\n",
    "print(\"\\nAccuracy in Primary Set using Random Forest:\",round((accuracy_score(y_prim_test,y_pred_prim))*100,2))"
   ]
  },
  {
   "cell_type": "markdown",
   "id": "previous-malaysia",
   "metadata": {},
   "source": [
    "#### Model 2\n",
    "#### Before Feature Engineering\n",
    "1. Training dataset = Primary Data 70%\n",
    "2. Test Dataset = Secondary Data 100%\n"
   ]
  },
  {
   "cell_type": "code",
   "execution_count": 27,
   "id": "equivalent-karen",
   "metadata": {},
   "outputs": [
    {
     "data": {
      "text/html": [
       "<div>\n",
       "<style scoped>\n",
       "    .dataframe tbody tr th:only-of-type {\n",
       "        vertical-align: middle;\n",
       "    }\n",
       "\n",
       "    .dataframe tbody tr th {\n",
       "        vertical-align: top;\n",
       "    }\n",
       "\n",
       "    .dataframe thead th {\n",
       "        text-align: right;\n",
       "    }\n",
       "</style>\n",
       "<table border=\"1\" class=\"dataframe\">\n",
       "  <thead>\n",
       "    <tr style=\"text-align: right;\">\n",
       "      <th></th>\n",
       "      <th>text</th>\n",
       "      <th>Final Label</th>\n",
       "    </tr>\n",
       "  </thead>\n",
       "  <tbody>\n",
       "    <tr>\n",
       "      <th>0</th>\n",
       "      <td>Putin After Announcing #CovidVaccine #Russian ...</td>\n",
       "      <td>True</td>\n",
       "    </tr>\n",
       "    <tr>\n",
       "      <th>1</th>\n",
       "      <td>Courtesy: WA! #WhatsApp #COVID #CovidVaccine h...</td>\n",
       "      <td>True</td>\n",
       "    </tr>\n",
       "    <tr>\n",
       "      <th>2</th>\n",
       "      <td>4 of the vaccines Jared bought are expected to...</td>\n",
       "      <td>True</td>\n",
       "    </tr>\n",
       "    <tr>\n",
       "      <th>3</th>\n",
       "      <td>One day you will realize CDC Guidelines magica...</td>\n",
       "      <td>False</td>\n",
       "    </tr>\n",
       "    <tr>\n",
       "      <th>4</th>\n",
       "      <td>Im far from lying.  Current CDC guidelines is ...</td>\n",
       "      <td>True</td>\n",
       "    </tr>\n",
       "  </tbody>\n",
       "</table>\n",
       "</div>"
      ],
      "text/plain": [
       "                                                text  Final Label\n",
       "0  Putin After Announcing #CovidVaccine #Russian ...         True\n",
       "1  Courtesy: WA! #WhatsApp #COVID #CovidVaccine h...         True\n",
       "2  4 of the vaccines Jared bought are expected to...         True\n",
       "3  One day you will realize CDC Guidelines magica...        False\n",
       "4  Im far from lying.  Current CDC guidelines is ...         True"
      ]
     },
     "execution_count": 27,
     "metadata": {},
     "output_type": "execute_result"
    }
   ],
   "source": [
    "df_primary.head()"
   ]
  },
  {
   "cell_type": "code",
   "execution_count": 28,
   "id": "integral-legislature",
   "metadata": {},
   "outputs": [
    {
     "data": {
      "text/html": [
       "<div>\n",
       "<style scoped>\n",
       "    .dataframe tbody tr th:only-of-type {\n",
       "        vertical-align: middle;\n",
       "    }\n",
       "\n",
       "    .dataframe tbody tr th {\n",
       "        vertical-align: top;\n",
       "    }\n",
       "\n",
       "    .dataframe thead th {\n",
       "        text-align: right;\n",
       "    }\n",
       "</style>\n",
       "<table border=\"1\" class=\"dataframe\">\n",
       "  <thead>\n",
       "    <tr style=\"text-align: right;\">\n",
       "      <th></th>\n",
       "      <th>text</th>\n",
       "      <th>Final Label</th>\n",
       "    </tr>\n",
       "  </thead>\n",
       "  <tbody>\n",
       "    <tr>\n",
       "      <th>0</th>\n",
       "      <td>Language Education in the Time of COVID-19</td>\n",
       "      <td>False</td>\n",
       "    </tr>\n",
       "    <tr>\n",
       "      <th>1</th>\n",
       "      <td>COVID-19 Test Kits</td>\n",
       "      <td>False</td>\n",
       "    </tr>\n",
       "    <tr>\n",
       "      <th>2</th>\n",
       "      <td>COVID 19 IN PRISON</td>\n",
       "      <td>False</td>\n",
       "    </tr>\n",
       "    <tr>\n",
       "      <th>3</th>\n",
       "      <td>Get Waled Home</td>\n",
       "      <td>False</td>\n",
       "    </tr>\n",
       "    <tr>\n",
       "      <th>4</th>\n",
       "      <td>Make pass/fail available for Mississippi State...</td>\n",
       "      <td>False</td>\n",
       "    </tr>\n",
       "  </tbody>\n",
       "</table>\n",
       "</div>"
      ],
      "text/plain": [
       "                                                text  Final Label\n",
       "0         Language Education in the Time of COVID-19        False\n",
       "1                                 COVID-19 Test Kits        False\n",
       "2                                 COVID 19 IN PRISON        False\n",
       "3                                     Get Waled Home        False\n",
       "4  Make pass/fail available for Mississippi State...        False"
      ]
     },
     "execution_count": 28,
     "metadata": {},
     "output_type": "execute_result"
    }
   ],
   "source": [
    "df_secondary.head()"
   ]
  },
  {
   "cell_type": "code",
   "execution_count": 29,
   "id": "tired-hypothesis",
   "metadata": {},
   "outputs": [
    {
     "name": "stdout",
     "output_type": "stream",
     "text": [
      "Primary test with Feature Engineering: (1500, 4390)\n"
     ]
    }
   ],
   "source": [
    "final_x_sec_test = tfid.transform(X_sec.text).toarray()\n",
    "df2 = pd.DataFrame(final_x_sec_test)  \n",
    "final_x_sec_test = X_sec.join(df2) \n",
    "print(\"Primary test with Feature Engineering:\",final_x_sec_test.shape)"
   ]
  },
  {
   "cell_type": "code",
   "execution_count": 30,
   "id": "protecting-landing",
   "metadata": {},
   "outputs": [],
   "source": [
    "final_x_sec_test = final_x_sec_test.drop(\"text\",axis = 1)"
   ]
  },
  {
   "cell_type": "markdown",
   "id": "breeding-yugoslavia",
   "metadata": {},
   "source": [
    "### Using Random Forest Classifier on model 2"
   ]
  },
  {
   "cell_type": "code",
   "execution_count": 31,
   "id": "genetic-hanging",
   "metadata": {},
   "outputs": [
    {
     "name": "stdout",
     "output_type": "stream",
     "text": [
      "Classification Report: \n",
      "               precision    recall  f1-score   support\n",
      "\n",
      "       False       0.96      0.32      0.48      1429\n",
      "        True       0.05      0.76      0.10        71\n",
      "\n",
      "    accuracy                           0.34      1500\n",
      "   macro avg       0.51      0.54      0.29      1500\n",
      "weighted avg       0.92      0.34      0.46      1500\n",
      "\n",
      "\n",
      "Confusion Matrix : \n",
      " [[457 972]\n",
      " [ 17  54]]\n",
      "\n",
      "Accuracy in Secondary Set using Random Forest Classifier : 34.07\n"
     ]
    }
   ],
   "source": [
    "clf = RandomForestClassifier(random_state = 42)\n",
    "clf.fit(final_x_prim_train, y_prim_train)\n",
    "y_pred_sec = clf.predict(final_x_sec_test)\n",
    "\n",
    "print(\"Classification Report: \\n\",classification_report(y_sec,y_pred_sec))\n",
    "print(\"\\nConfusion Matrix : \\n\",confusion_matrix(y_sec,y_pred_sec))\n",
    "print(\"\\nAccuracy in Secondary Set using Random Forest Classifier :\",round((accuracy_score(y_sec,y_pred_sec))*100,2))"
   ]
  },
  {
   "cell_type": "markdown",
   "id": "serious-athens",
   "metadata": {},
   "source": [
    "From above it is clear that using Random Forest Classifier we will get \n",
    "\n",
    "1. Accuracy on Primary DataSet(Vaccination) Model 1 as ~86.11%\n",
    "\n",
    "2. Accuracy on Secondary DataSet(Vaccination) Model 2 as ~34.07%\n"
   ]
  },
  {
   "cell_type": "markdown",
   "id": "imported-zambia",
   "metadata": {},
   "source": [
    "### 4. Feature Engineering "
   ]
  },
  {
   "cell_type": "code",
   "execution_count": 32,
   "id": "interpreted-network",
   "metadata": {},
   "outputs": [
    {
     "name": "stdout",
     "output_type": "stream",
     "text": [
      "Text count Primary: 1200\n",
      "\n",
      "Text count Secondary: 1500\n"
     ]
    }
   ],
   "source": [
    "print('Text count Primary:',df_primary['text'].count())\n",
    "print('\\nText count Secondary:',df_secondary['text'].count())"
   ]
  },
  {
   "cell_type": "code",
   "execution_count": 33,
   "id": "handed-society",
   "metadata": {},
   "outputs": [],
   "source": [
    "#Number of Characters\n",
    "def count_chars(text):\n",
    "    return len(text)\n",
    "\n",
    "#Number of Words\n",
    "def count_words(text):\n",
    "    return len(text.split())\n",
    "\n",
    "def count_sent(text):\n",
    "    return len(nltk.sent_tokenize(text))\n",
    "\n",
    "#Number of Capital Characters\n",
    "def count_capital_chars(text):\n",
    "    count=0\n",
    "    for i in text:\n",
    "        if i.isupper():\n",
    "            count+=1\n",
    "    return count\n",
    "\n",
    "def count_unique_words(text):\n",
    "    return len(set(text.split()))\n",
    "\n",
    "#Count of mentions\n",
    "def count_mentions(text):\n",
    "    x = re.findall(r'(@w[A-Za-z0-9]*)', text)\n",
    "    return len(x)\n",
    "\n"
   ]
  },
  {
   "cell_type": "code",
   "execution_count": 34,
   "id": "russian-habitat",
   "metadata": {},
   "outputs": [],
   "source": [
    "def cleaning_pipe(sent):\n",
    "    #Removing Stopwords and Punctuations\n",
    "    data = re.sub('[^a-zA-Z]', ' ',sent)\n",
    "    data = data.lower()\n",
    "    data = data.split()\n",
    "    data = [word for word in data if not word in set(stopwords.words('english'))]\n",
    "    data = ' '.join(data)\n",
    "    \n",
    "    #Performing Stemming using PortarStemmer\n",
    "    stemmer = PorterStemmer()\n",
    "    words = word_tokenize(data)\n",
    "    words = [ stemmer.stem(word) for word in words ]\n",
    "    data = ' '.join(words)\n",
    "    return data"
   ]
  },
  {
   "cell_type": "code",
   "execution_count": 35,
   "id": "incorporate-clearing",
   "metadata": {},
   "outputs": [],
   "source": [
    "df_primary['char_count'] = df_primary[\"text\"].apply(lambda x:count_chars(x))\n",
    "df_primary['word_count'] = df_primary[\"text\"].apply(lambda x:count_words(x))\n",
    "df_primary['sent_count'] = df_primary[\"text\"].apply(lambda x:count_sent(x))\n",
    "df_primary['avg_wordlength'] = df_primary['char_count']/df_primary['word_count']\n",
    "df_primary['avg_sentlength'] = df_primary['word_count']/df_primary['sent_count']\n",
    "df_primary['unique_word_count'] = df_primary[\"text\"].apply(lambda x:count_unique_words(x))\n",
    "df_primary['unique_vs_words'] = df_primary['unique_word_count']/df_primary['word_count']\n",
    "df_primary[\"text\"] = df_primary[\"text\"].apply(cleaning_pipe)"
   ]
  },
  {
   "cell_type": "code",
   "execution_count": 36,
   "id": "patient-mentor",
   "metadata": {},
   "outputs": [],
   "source": [
    "df_secondary['char_count'] = df_secondary[\"text\"].apply(lambda x:count_chars(x))\n",
    "df_secondary['word_count'] = df_secondary[\"text\"].apply(lambda x:count_words(x))\n",
    "df_secondary['sent_count'] = df_secondary[\"text\"].apply(lambda x:count_sent(x))\n",
    "df_secondary['avg_wordlength'] = df_secondary['char_count']/df_secondary['word_count']\n",
    "df_secondary['avg_sentlength'] = df_secondary['word_count']/df_secondary['sent_count']\n",
    "df_secondary['unique_word_count'] = df_secondary[\"text\"].apply(lambda x:count_unique_words(x))\n",
    "df_secondary['unique_vs_words'] = df_secondary['unique_word_count']/df_secondary['word_count']\n",
    "df_secondary[\"text\"] = df_secondary[\"text\"].apply(cleaning_pipe)"
   ]
  },
  {
   "cell_type": "code",
   "execution_count": 37,
   "id": "above-penalty",
   "metadata": {},
   "outputs": [
    {
     "data": {
      "text/plain": [
       "text                 0\n",
       "Final Label          0\n",
       "char_count           0\n",
       "word_count           0\n",
       "sent_count           0\n",
       "avg_wordlength       0\n",
       "avg_sentlength       0\n",
       "unique_word_count    0\n",
       "unique_vs_words      0\n",
       "dtype: int64"
      ]
     },
     "execution_count": 37,
     "metadata": {},
     "output_type": "execute_result"
    }
   ],
   "source": [
    "df_primary.isnull().sum()"
   ]
  },
  {
   "cell_type": "code",
   "execution_count": 38,
   "id": "assumed-aging",
   "metadata": {},
   "outputs": [
    {
     "data": {
      "text/plain": [
       "text                 0\n",
       "Final Label          0\n",
       "char_count           0\n",
       "word_count           0\n",
       "sent_count           0\n",
       "avg_wordlength       0\n",
       "avg_sentlength       0\n",
       "unique_word_count    0\n",
       "unique_vs_words      0\n",
       "dtype: int64"
      ]
     },
     "execution_count": 38,
     "metadata": {},
     "output_type": "execute_result"
    }
   ],
   "source": [
    "df_secondary.isnull().sum()"
   ]
  },
  {
   "cell_type": "code",
   "execution_count": 39,
   "id": "choice-registrar",
   "metadata": {},
   "outputs": [
    {
     "data": {
      "text/html": [
       "<div>\n",
       "<style scoped>\n",
       "    .dataframe tbody tr th:only-of-type {\n",
       "        vertical-align: middle;\n",
       "    }\n",
       "\n",
       "    .dataframe tbody tr th {\n",
       "        vertical-align: top;\n",
       "    }\n",
       "\n",
       "    .dataframe thead th {\n",
       "        text-align: right;\n",
       "    }\n",
       "</style>\n",
       "<table border=\"1\" class=\"dataframe\">\n",
       "  <thead>\n",
       "    <tr style=\"text-align: right;\">\n",
       "      <th></th>\n",
       "      <th>text</th>\n",
       "      <th>Final Label</th>\n",
       "      <th>char_count</th>\n",
       "      <th>word_count</th>\n",
       "      <th>sent_count</th>\n",
       "      <th>avg_wordlength</th>\n",
       "      <th>avg_sentlength</th>\n",
       "      <th>unique_word_count</th>\n",
       "      <th>unique_vs_words</th>\n",
       "    </tr>\n",
       "  </thead>\n",
       "  <tbody>\n",
       "    <tr>\n",
       "      <th>0</th>\n",
       "      <td>putin announc covidvaccin russian http co rndf...</td>\n",
       "      <td>True</td>\n",
       "      <td>69</td>\n",
       "      <td>6</td>\n",
       "      <td>1</td>\n",
       "      <td>11.500000</td>\n",
       "      <td>6.000000</td>\n",
       "      <td>6</td>\n",
       "      <td>1.000000</td>\n",
       "    </tr>\n",
       "    <tr>\n",
       "      <th>1</th>\n",
       "      <td>courtesi wa whatsapp covid covidvaccin http co...</td>\n",
       "      <td>True</td>\n",
       "      <td>68</td>\n",
       "      <td>6</td>\n",
       "      <td>2</td>\n",
       "      <td>11.333333</td>\n",
       "      <td>3.000000</td>\n",
       "      <td>6</td>\n",
       "      <td>1.000000</td>\n",
       "    </tr>\n",
       "    <tr>\n",
       "      <th>2</th>\n",
       "      <td>vaccin jare bought expect fail trump refus joi...</td>\n",
       "      <td>True</td>\n",
       "      <td>113</td>\n",
       "      <td>18</td>\n",
       "      <td>1</td>\n",
       "      <td>6.277778</td>\n",
       "      <td>18.000000</td>\n",
       "      <td>16</td>\n",
       "      <td>0.888889</td>\n",
       "    </tr>\n",
       "    <tr>\n",
       "      <th>3</th>\n",
       "      <td>one day realiz cdc guidelin magic align teache...</td>\n",
       "      <td>False</td>\n",
       "      <td>86</td>\n",
       "      <td>13</td>\n",
       "      <td>1</td>\n",
       "      <td>6.615385</td>\n",
       "      <td>13.000000</td>\n",
       "      <td>13</td>\n",
       "      <td>1.000000</td>\n",
       "    </tr>\n",
       "    <tr>\n",
       "      <th>4</th>\n",
       "      <td>im far lie current cdc guidelin wear mask indo...</td>\n",
       "      <td>True</td>\n",
       "      <td>113</td>\n",
       "      <td>20</td>\n",
       "      <td>3</td>\n",
       "      <td>5.650000</td>\n",
       "      <td>6.666667</td>\n",
       "      <td>20</td>\n",
       "      <td>1.000000</td>\n",
       "    </tr>\n",
       "  </tbody>\n",
       "</table>\n",
       "</div>"
      ],
      "text/plain": [
       "                                                text  Final Label  char_count  \\\n",
       "0  putin announc covidvaccin russian http co rndf...         True          69   \n",
       "1  courtesi wa whatsapp covid covidvaccin http co...         True          68   \n",
       "2  vaccin jare bought expect fail trump refus joi...         True         113   \n",
       "3  one day realiz cdc guidelin magic align teache...        False          86   \n",
       "4  im far lie current cdc guidelin wear mask indo...         True         113   \n",
       "\n",
       "   word_count  sent_count  avg_wordlength  avg_sentlength  unique_word_count  \\\n",
       "0           6           1       11.500000        6.000000                  6   \n",
       "1           6           2       11.333333        3.000000                  6   \n",
       "2          18           1        6.277778       18.000000                 16   \n",
       "3          13           1        6.615385       13.000000                 13   \n",
       "4          20           3        5.650000        6.666667                 20   \n",
       "\n",
       "   unique_vs_words  \n",
       "0         1.000000  \n",
       "1         1.000000  \n",
       "2         0.888889  \n",
       "3         1.000000  \n",
       "4         1.000000  "
      ]
     },
     "execution_count": 39,
     "metadata": {},
     "output_type": "execute_result"
    }
   ],
   "source": [
    "df_primary.head()"
   ]
  },
  {
   "cell_type": "code",
   "execution_count": 40,
   "id": "prescribed-thesaurus",
   "metadata": {},
   "outputs": [
    {
     "data": {
      "text/html": [
       "<div>\n",
       "<style scoped>\n",
       "    .dataframe tbody tr th:only-of-type {\n",
       "        vertical-align: middle;\n",
       "    }\n",
       "\n",
       "    .dataframe tbody tr th {\n",
       "        vertical-align: top;\n",
       "    }\n",
       "\n",
       "    .dataframe thead th {\n",
       "        text-align: right;\n",
       "    }\n",
       "</style>\n",
       "<table border=\"1\" class=\"dataframe\">\n",
       "  <thead>\n",
       "    <tr style=\"text-align: right;\">\n",
       "      <th></th>\n",
       "      <th>text</th>\n",
       "      <th>Final Label</th>\n",
       "      <th>char_count</th>\n",
       "      <th>word_count</th>\n",
       "      <th>sent_count</th>\n",
       "      <th>avg_wordlength</th>\n",
       "      <th>avg_sentlength</th>\n",
       "      <th>unique_word_count</th>\n",
       "      <th>unique_vs_words</th>\n",
       "    </tr>\n",
       "  </thead>\n",
       "  <tbody>\n",
       "    <tr>\n",
       "      <th>0</th>\n",
       "      <td>languag educ time covid</td>\n",
       "      <td>False</td>\n",
       "      <td>42</td>\n",
       "      <td>7</td>\n",
       "      <td>1</td>\n",
       "      <td>6.000000</td>\n",
       "      <td>7.0</td>\n",
       "      <td>7</td>\n",
       "      <td>1.000000</td>\n",
       "    </tr>\n",
       "    <tr>\n",
       "      <th>1</th>\n",
       "      <td>covid test kit</td>\n",
       "      <td>False</td>\n",
       "      <td>18</td>\n",
       "      <td>3</td>\n",
       "      <td>1</td>\n",
       "      <td>6.000000</td>\n",
       "      <td>3.0</td>\n",
       "      <td>3</td>\n",
       "      <td>1.000000</td>\n",
       "    </tr>\n",
       "    <tr>\n",
       "      <th>2</th>\n",
       "      <td>covid prison</td>\n",
       "      <td>False</td>\n",
       "      <td>18</td>\n",
       "      <td>4</td>\n",
       "      <td>1</td>\n",
       "      <td>4.500000</td>\n",
       "      <td>4.0</td>\n",
       "      <td>4</td>\n",
       "      <td>1.000000</td>\n",
       "    </tr>\n",
       "    <tr>\n",
       "      <th>3</th>\n",
       "      <td>get wale home</td>\n",
       "      <td>False</td>\n",
       "      <td>14</td>\n",
       "      <td>3</td>\n",
       "      <td>1</td>\n",
       "      <td>4.666667</td>\n",
       "      <td>3.0</td>\n",
       "      <td>3</td>\n",
       "      <td>1.000000</td>\n",
       "    </tr>\n",
       "    <tr>\n",
       "      <th>4</th>\n",
       "      <td>make pass fail avail mississippi state student...</td>\n",
       "      <td>False</td>\n",
       "      <td>88</td>\n",
       "      <td>12</td>\n",
       "      <td>1</td>\n",
       "      <td>7.333333</td>\n",
       "      <td>12.0</td>\n",
       "      <td>11</td>\n",
       "      <td>0.916667</td>\n",
       "    </tr>\n",
       "  </tbody>\n",
       "</table>\n",
       "</div>"
      ],
      "text/plain": [
       "                                                text  Final Label  char_count  \\\n",
       "0                            languag educ time covid        False          42   \n",
       "1                                     covid test kit        False          18   \n",
       "2                                       covid prison        False          18   \n",
       "3                                      get wale home        False          14   \n",
       "4  make pass fail avail mississippi state student...        False          88   \n",
       "\n",
       "   word_count  sent_count  avg_wordlength  avg_sentlength  unique_word_count  \\\n",
       "0           7           1        6.000000             7.0                  7   \n",
       "1           3           1        6.000000             3.0                  3   \n",
       "2           4           1        4.500000             4.0                  4   \n",
       "3           3           1        4.666667             3.0                  3   \n",
       "4          12           1        7.333333            12.0                 11   \n",
       "\n",
       "   unique_vs_words  \n",
       "0         1.000000  \n",
       "1         1.000000  \n",
       "2         1.000000  \n",
       "3         1.000000  \n",
       "4         0.916667  "
      ]
     },
     "execution_count": 40,
     "metadata": {},
     "output_type": "execute_result"
    }
   ],
   "source": [
    "df_secondary.head()"
   ]
  },
  {
   "cell_type": "code",
   "execution_count": 41,
   "id": "official-stand",
   "metadata": {},
   "outputs": [],
   "source": [
    "X_prim = df_primary.drop([\"Final Label\"],axis = 1)\n",
    "y_prim = df_primary[\"Final Label\"]\n",
    "\n",
    "X_sec = df_secondary.drop([\"Final Label\"],axis = 1)\n",
    "y_sec = df_secondary[\"Final Label\"]"
   ]
  },
  {
   "cell_type": "markdown",
   "id": "dietary-translator",
   "metadata": {},
   "source": [
    "### Model 1 after Feature Engineering"
   ]
  },
  {
   "cell_type": "code",
   "execution_count": 42,
   "id": "earned-nigeria",
   "metadata": {},
   "outputs": [],
   "source": [
    "#Splitting the Dataset into Primary Train and Primary Test\n",
    "X_prim_train,X_prim_test,y_prim_train,y_prim_test = train_test_split(X_prim,y_prim,test_size=0.3,random_state = 42)"
   ]
  },
  {
   "cell_type": "code",
   "execution_count": 43,
   "id": "lightweight-compact",
   "metadata": {},
   "outputs": [],
   "source": [
    "X_prim_train.reset_index(inplace=True)\n",
    "X_prim_test.reset_index(inplace=True)\n",
    "\n",
    "X_prim_train = X_prim_train.drop(\"index\",axis = 1)\n",
    "X_prim_test = X_prim_test.drop(\"index\",axis = 1)"
   ]
  },
  {
   "cell_type": "markdown",
   "id": "forward-happening",
   "metadata": {},
   "source": [
    "### Creating the Dataframe for the TF-IDF Vectorizer"
   ]
  },
  {
   "cell_type": "code",
   "execution_count": 44,
   "id": "choice-alignment",
   "metadata": {},
   "outputs": [
    {
     "name": "stdout",
     "output_type": "stream",
     "text": [
      "Primary train with feature Engineering : (840, 3666)\n",
      "Primary test with feature Engineering : (360, 3666)\n"
     ]
    }
   ],
   "source": [
    "tfif = TfidfVectorizer()\n",
    "\n",
    "final_x_prim_train = tfid.fit_transform(X_prim_train.text).toarray()\n",
    "df = pd.DataFrame(final_x_prim_train)  \n",
    "final_x_prim_train = X_prim_train.join(df) \n",
    "print(\"Primary train with feature Engineering :\",final_x_prim_train.shape)\n",
    "\n",
    "\n",
    "final_x_prim_test = tfid.transform(X_prim_test.text).toarray()\n",
    "df1 = pd.DataFrame(final_x_prim_test)  \n",
    "final_x_prim_test = X_prim_test.join(df1) \n",
    "print(\"Primary test with feature Engineering :\",final_x_prim_test.shape)"
   ]
  },
  {
   "cell_type": "code",
   "execution_count": 45,
   "id": "resident-grade",
   "metadata": {},
   "outputs": [],
   "source": [
    "final_x_prim_train = final_x_prim_train.drop(\"text\",axis = 1)\n",
    "final_x_prim_test = final_x_prim_test.drop(\"text\",axis = 1)"
   ]
  },
  {
   "cell_type": "code",
   "execution_count": 46,
   "id": "cordless-deployment",
   "metadata": {},
   "outputs": [
    {
     "name": "stdout",
     "output_type": "stream",
     "text": [
      "Classification Report :\n",
      "               precision    recall  f1-score   support\n",
      "\n",
      "       False       0.90      0.81      0.85       139\n",
      "        True       0.89      0.95      0.91       221\n",
      "\n",
      "    accuracy                           0.89       360\n",
      "   macro avg       0.89      0.88      0.88       360\n",
      "weighted avg       0.89      0.89      0.89       360\n",
      "\n",
      "\n",
      "Confusion Matrix : \n",
      " [[112  27]\n",
      " [ 12 209]]\n",
      "\n",
      "Accuracy in Primary Set using Random Forest Classfier: 89.17\n"
     ]
    }
   ],
   "source": [
    "clf = RandomForestClassifier(random_state = 42)\n",
    "clf.fit(final_x_prim_train, y_prim_train)\n",
    "y_pred_prim = clf.predict(final_x_prim_test)\n",
    "\n",
    "print(\"Classification Report :\\n\",classification_report(y_prim_test,y_pred_prim))\n",
    "print(\"\\nConfusion Matrix : \\n\",confusion_matrix(y_prim_test,y_pred_prim))\n",
    "print(\"\\nAccuracy in Primary Set using Random Forest Classfier:\",round((accuracy_score(y_prim_test,y_pred_prim))*100,2))"
   ]
  },
  {
   "cell_type": "markdown",
   "id": "detected-advancement",
   "metadata": {},
   "source": [
    "### Model 2 after Feature Engineering"
   ]
  },
  {
   "cell_type": "code",
   "execution_count": 47,
   "id": "dietary-calculator",
   "metadata": {},
   "outputs": [
    {
     "name": "stdout",
     "output_type": "stream",
     "text": [
      "The size of Primary test with feature Engineering is: (1500, 3666)\n"
     ]
    }
   ],
   "source": [
    "final_x_sec_test = tfid.transform(X_sec.text).toarray()\n",
    "df2 = pd.DataFrame(final_x_sec_test)  \n",
    "final_x_sec_test = X_sec.join(df2) \n",
    "print(\"The size of Primary test with feature Engineering is:\",final_x_sec_test.shape)"
   ]
  },
  {
   "cell_type": "code",
   "execution_count": 48,
   "id": "proprietary-martial",
   "metadata": {},
   "outputs": [],
   "source": [
    "final_x_sec_test = final_x_sec_test.drop(\"text\",axis = 1)"
   ]
  },
  {
   "cell_type": "markdown",
   "id": "ranking-dragon",
   "metadata": {},
   "source": [
    "### Model using Random Forest Classifier"
   ]
  },
  {
   "cell_type": "code",
   "execution_count": 49,
   "id": "parliamentary-stone",
   "metadata": {},
   "outputs": [
    {
     "name": "stdout",
     "output_type": "stream",
     "text": [
      "The Classification Report: \n",
      "               precision    recall  f1-score   support\n",
      "\n",
      "       False       0.96      0.47      0.63      1429\n",
      "        True       0.05      0.59      0.10        71\n",
      "\n",
      "    accuracy                           0.48      1500\n",
      "   macro avg       0.51      0.53      0.37      1500\n",
      "weighted avg       0.92      0.48      0.61      1500\n",
      "\n",
      "\n",
      "Confusion Matrix : \n",
      " [[677 752]\n",
      " [ 29  42]]\n",
      "\n",
      "The Accuracy in Secondary Set using Random Forest Classifier is: 47.93\n"
     ]
    }
   ],
   "source": [
    "clf = RandomForestClassifier(random_state = 42)\n",
    "clf.fit(final_x_prim_train, y_prim_train)\n",
    "y_pred_sec = clf.predict(final_x_sec_test)\n",
    "\n",
    "print(\"The Classification Report: \\n\",classification_report(y_sec,y_pred_sec))\n",
    "print(\"\\nConfusion Matrix : \\n\",confusion_matrix(y_sec,y_pred_sec))\n",
    "print(\"\\nThe Accuracy in Secondary Set using Random Forest Classifier is:\",round((accuracy_score(y_sec,y_pred_sec))*100,2))"
   ]
  },
  {
   "cell_type": "markdown",
   "id": "northern-ordinary",
   "metadata": {},
   "source": [
    "From above it is clear that using RandomForest we will get \n",
    "\n",
    "1. Accuracy on Primary DataSet(Vaccination) Model 1 as ~89.17%\n",
    "\n",
    "2. Accuracy on Secondary DataSet(Vaccination) Model 2 as ~47.93%\n",
    "\n"
   ]
  },
  {
   "cell_type": "code",
   "execution_count": null,
   "id": "thrown-behalf",
   "metadata": {},
   "outputs": [],
   "source": []
  },
  {
   "cell_type": "code",
   "execution_count": null,
   "id": "mysterious-jerusalem",
   "metadata": {},
   "outputs": [],
   "source": []
  },
  {
   "cell_type": "code",
   "execution_count": null,
   "id": "administrative-greeting",
   "metadata": {},
   "outputs": [],
   "source": []
  },
  {
   "cell_type": "code",
   "execution_count": null,
   "id": "saving-drinking",
   "metadata": {},
   "outputs": [],
   "source": []
  },
  {
   "cell_type": "code",
   "execution_count": null,
   "id": "radio-senior",
   "metadata": {},
   "outputs": [],
   "source": []
  },
  {
   "cell_type": "code",
   "execution_count": null,
   "id": "impressed-flash",
   "metadata": {},
   "outputs": [],
   "source": [
    "\n"
   ]
  },
  {
   "cell_type": "code",
   "execution_count": null,
   "id": "indonesian-hundred",
   "metadata": {},
   "outputs": [],
   "source": []
  },
  {
   "cell_type": "code",
   "execution_count": null,
   "id": "close-advocate",
   "metadata": {},
   "outputs": [],
   "source": []
  }
 ],
 "metadata": {
  "kernelspec": {
   "display_name": "Python 3",
   "language": "python",
   "name": "python3"
  },
  "language_info": {
   "codemirror_mode": {
    "name": "ipython",
    "version": 3
   },
   "file_extension": ".py",
   "mimetype": "text/x-python",
   "name": "python",
   "nbconvert_exporter": "python",
   "pygments_lexer": "ipython3",
   "version": "3.9.1"
  }
 },
 "nbformat": 4,
 "nbformat_minor": 5
}
