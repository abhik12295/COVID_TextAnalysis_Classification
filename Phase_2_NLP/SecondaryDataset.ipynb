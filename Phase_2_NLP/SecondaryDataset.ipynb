{
 "cells": [
  {
   "cell_type": "markdown",
   "id": "considerable-maximum",
   "metadata": {},
   "source": [
    "### Abhishek Kumar <br>\n",
    "### Secondary Dataset"
   ]
  },
  {
   "cell_type": "code",
   "execution_count": 1,
   "id": "controversial-century",
   "metadata": {},
   "outputs": [],
   "source": [
    "import sklearn\n",
    "from sklearn.metrics import cohen_kappa_score\n",
    "import pandas as pd"
   ]
  },
  {
   "cell_type": "markdown",
   "id": "still-legend",
   "metadata": {},
   "source": [
    "##### For a given topic dataset CSV, create three separate CSVs, corresponding to lockdowns, masking and distancing, and vaccination. The new CSVs are written with the name of the topic suffixed to the original filename.\n",
    "\n",
    "```\n",
    "import argparse\n",
    "import re\n",
    "import pandas as pd\n",
    "\n",
    "parser = argparse.ArgumentParser()\n",
    "parser.add_argument(\"--infile\", \"-i\", type=str, help=\"CSV for dataset to expand\",\n",
    "                    required=True)\n",
    "args = parser.parse_args()\n",
    "\n",
    "for topic in [\"lockdowns\", \"masking and distancing\", \"vaccination\"]:\n",
    "    df = pd.read_csv(args.infile)\n",
    "    cols = df.columns\n",
    "    for col in cols:\n",
    "        if \"annotation\" in col:\n",
    "            df[col] = (df[col].notna() & df[col].str.contains(topic))\n",
    "    new_fn = re.sub(r\"\\.csv$\", f\"_{topic.replace(' ', '_')}.csv\", args.infile)\n",
    "    df.to_csv(new_fn, index=False)\n",
    "\n",
    "```\n",
    "\n",
    "###### Using command: python expand_topic_csv_dataset.py --infile change.org_topic_0.csv\n",
    "###### Using command: python expand_topic_csv_dataset.py --infile change.org_topic_1.csv\n",
    "###### Using command: python expand_topic_csv_dataset.py --infile change.org_topic_2.csv\n",
    "###### Using command: python expand_topic_csv_dataset.py --infile change.org_topic_3.csv\n",
    "###### Using command: python expand_topic_csv_dataset.py --infile change.org_topic_4.csv\n",
    "\n"
   ]
  },
  {
   "cell_type": "markdown",
   "id": "capable-understanding",
   "metadata": {},
   "source": [
    "## change.org_topic_0_lockdowns.csv"
   ]
  },
  {
   "cell_type": "code",
   "execution_count": 2,
   "id": "controlled-heath",
   "metadata": {},
   "outputs": [
    {
     "data": {
      "text/html": [
       "<div>\n",
       "<style scoped>\n",
       "    .dataframe tbody tr th:only-of-type {\n",
       "        vertical-align: middle;\n",
       "    }\n",
       "\n",
       "    .dataframe tbody tr th {\n",
       "        vertical-align: top;\n",
       "    }\n",
       "\n",
       "    .dataframe thead th {\n",
       "        text-align: right;\n",
       "    }\n",
       "</style>\n",
       "<table border=\"1\" class=\"dataframe\">\n",
       "  <thead>\n",
       "    <tr style=\"text-align: right;\">\n",
       "      <th></th>\n",
       "      <th>text</th>\n",
       "      <th>annotation_96</th>\n",
       "      <th>annotation_53</th>\n",
       "      <th>annotation_93</th>\n",
       "      <th>annotation_94</th>\n",
       "      <th>annotation_95</th>\n",
       "    </tr>\n",
       "  </thead>\n",
       "  <tbody>\n",
       "    <tr>\n",
       "      <th>0</th>\n",
       "      <td>Language Education in the Time of COVID-19</td>\n",
       "      <td>False</td>\n",
       "      <td>False</td>\n",
       "      <td>False</td>\n",
       "      <td>False</td>\n",
       "      <td>False</td>\n",
       "    </tr>\n",
       "    <tr>\n",
       "      <th>1</th>\n",
       "      <td>COVID-19 Test Kits</td>\n",
       "      <td>False</td>\n",
       "      <td>False</td>\n",
       "      <td>False</td>\n",
       "      <td>False</td>\n",
       "      <td>False</td>\n",
       "    </tr>\n",
       "    <tr>\n",
       "      <th>2</th>\n",
       "      <td>COVID 19 IN PRISON</td>\n",
       "      <td>False</td>\n",
       "      <td>False</td>\n",
       "      <td>False</td>\n",
       "      <td>False</td>\n",
       "      <td>False</td>\n",
       "    </tr>\n",
       "    <tr>\n",
       "      <th>3</th>\n",
       "      <td>Get Waled Home</td>\n",
       "      <td>False</td>\n",
       "      <td>False</td>\n",
       "      <td>False</td>\n",
       "      <td>False</td>\n",
       "      <td>False</td>\n",
       "    </tr>\n",
       "    <tr>\n",
       "      <th>4</th>\n",
       "      <td>Make pass/fail available for Mississippi State...</td>\n",
       "      <td>False</td>\n",
       "      <td>False</td>\n",
       "      <td>False</td>\n",
       "      <td>False</td>\n",
       "      <td>False</td>\n",
       "    </tr>\n",
       "  </tbody>\n",
       "</table>\n",
       "</div>"
      ],
      "text/plain": [
       "                                                text  annotation_96  \\\n",
       "0         Language Education in the Time of COVID-19          False   \n",
       "1                                 COVID-19 Test Kits          False   \n",
       "2                                 COVID 19 IN PRISON          False   \n",
       "3                                     Get Waled Home          False   \n",
       "4  Make pass/fail available for Mississippi State...          False   \n",
       "\n",
       "   annotation_53  annotation_93  annotation_94  annotation_95  \n",
       "0          False          False          False          False  \n",
       "1          False          False          False          False  \n",
       "2          False          False          False          False  \n",
       "3          False          False          False          False  \n",
       "4          False          False          False          False  "
      ]
     },
     "execution_count": 2,
     "metadata": {},
     "output_type": "execute_result"
    }
   ],
   "source": [
    "df = pd.read_csv(r'change.org_topic\\change.org_topic_0_lockdowns.csv')\n",
    "df.head()"
   ]
  },
  {
   "cell_type": "code",
   "execution_count": 3,
   "id": "wooden-transcription",
   "metadata": {},
   "outputs": [
    {
     "name": "stdout",
     "output_type": "stream",
     "text": [
      "0\n",
      "0\n",
      "0\n",
      "0\n",
      "0\n",
      "0\n"
     ]
    }
   ],
   "source": [
    "print(df['annotation_53'].isnull().sum())\n",
    "print(df['annotation_93'].isnull().sum())\n",
    "print(df['annotation_94'].isnull().sum())\n",
    "print(df['annotation_95'].isnull().sum())\n",
    "print(df['annotation_96'].isnull().sum())\n",
    "print(df['text'].isnull().sum())"
   ]
  },
  {
   "cell_type": "code",
   "execution_count": 4,
   "id": "subject-melissa",
   "metadata": {},
   "outputs": [],
   "source": [
    "annotation_1= df['annotation_53']\n",
    "annotation_2= df['annotation_93']\n",
    "annotation_3= df['annotation_94']\n",
    "annotation_4= df['annotation_95']\n",
    "annotation_5= df['annotation_96']"
   ]
  },
  {
   "cell_type": "markdown",
   "id": "legitimate-clock",
   "metadata": {},
   "source": [
    "### Cohen_kappa average score of annotation 53"
   ]
  },
  {
   "cell_type": "code",
   "execution_count": 5,
   "id": "fluid-ordinary",
   "metadata": {},
   "outputs": [],
   "source": [
    "def cohen_avg_1():\n",
    "    cohen_score_12 = cohen_kappa_score(annotation_1,annotation_2)\n",
    "    cohen_score_13 = cohen_kappa_score(annotation_1,annotation_3)\n",
    "    cohen_score_14 = cohen_kappa_score(annotation_1,annotation_4)\n",
    "    cohen_score_15 = cohen_kappa_score(annotation_1,annotation_5)\n",
    "    cohen_score_average_1 = round((cohen_score_12 + cohen_score_13 + cohen_score_14+ cohen_score_15)/4,3)\n",
    "    #print(\"Average Cohen Kappa Score for annotation 53:\",(cohen_score_average_1))\n",
    "    return cohen_score_average_1"
   ]
  },
  {
   "cell_type": "code",
   "execution_count": 6,
   "id": "chemical-links",
   "metadata": {
    "scrolled": true
   },
   "outputs": [
    {
     "data": {
      "text/plain": [
       "0.038"
      ]
     },
     "execution_count": 6,
     "metadata": {},
     "output_type": "execute_result"
    }
   ],
   "source": [
    "cohen_avg_1()"
   ]
  },
  {
   "cell_type": "markdown",
   "id": "found-indie",
   "metadata": {},
   "source": [
    "### Cohen_kappa average score of annotation 93"
   ]
  },
  {
   "cell_type": "code",
   "execution_count": 7,
   "id": "changed-briefing",
   "metadata": {},
   "outputs": [],
   "source": [
    "def cohen_avg_2():\n",
    "    cohen_score_21 = cohen_kappa_score(annotation_2,annotation_1)\n",
    "    cohen_score_23 = cohen_kappa_score(annotation_2,annotation_3)\n",
    "    cohen_score_24 = cohen_kappa_score(annotation_2,annotation_4)\n",
    "    cohen_score_25 = cohen_kappa_score(annotation_2,annotation_5)\n",
    "    cohen_score_average_2 = round((cohen_score_21 + cohen_score_23 + cohen_score_24+ cohen_score_25)/4,3)\n",
    "    #print(\"Average Cohen Kappa Score for annotation 93:\",(cohen_score_average_2))\n",
    "    return cohen_score_average_2"
   ]
  },
  {
   "cell_type": "code",
   "execution_count": 8,
   "id": "patent-telling",
   "metadata": {},
   "outputs": [
    {
     "data": {
      "text/plain": [
       "0.346"
      ]
     },
     "execution_count": 8,
     "metadata": {},
     "output_type": "execute_result"
    }
   ],
   "source": [
    "cohen_avg_2()"
   ]
  },
  {
   "cell_type": "markdown",
   "id": "established-target",
   "metadata": {},
   "source": [
    "### Cohen_kappa average score of annotation 94"
   ]
  },
  {
   "cell_type": "code",
   "execution_count": 9,
   "id": "known-mailing",
   "metadata": {},
   "outputs": [],
   "source": [
    "def cohen_avg_3():\n",
    "    cohen_score_31 = cohen_kappa_score(annotation_3,annotation_1)\n",
    "    cohen_score_32 = cohen_kappa_score(annotation_3,annotation_2)\n",
    "    cohen_score_34 = cohen_kappa_score(annotation_3,annotation_4)\n",
    "    cohen_score_35 = cohen_kappa_score(annotation_3,annotation_5)\n",
    "    cohen_score_average_3 = round((cohen_score_31 + cohen_score_32 + cohen_score_34+ cohen_score_35)/4,3)\n",
    "    #print(\"Average Cohen Kappa Score for annotation 94:\",(cohen_score_average_3))\n",
    "    return cohen_score_average_3"
   ]
  },
  {
   "cell_type": "code",
   "execution_count": 10,
   "id": "interpreted-export",
   "metadata": {},
   "outputs": [
    {
     "data": {
      "text/plain": [
       "0.428"
      ]
     },
     "execution_count": 10,
     "metadata": {},
     "output_type": "execute_result"
    }
   ],
   "source": [
    "cohen_avg_3()"
   ]
  },
  {
   "cell_type": "markdown",
   "id": "sharing-commitment",
   "metadata": {},
   "source": [
    "### Cohen_kappa average score of annotation 95"
   ]
  },
  {
   "cell_type": "code",
   "execution_count": 11,
   "id": "cognitive-depth",
   "metadata": {},
   "outputs": [],
   "source": [
    "def cohen_avg_4():\n",
    "    cohen_score_41 = cohen_kappa_score(annotation_4,annotation_1)\n",
    "    cohen_score_42 = cohen_kappa_score(annotation_4,annotation_2)\n",
    "    cohen_score_43 = cohen_kappa_score(annotation_4,annotation_3)\n",
    "    cohen_score_45 = cohen_kappa_score(annotation_4,annotation_5)\n",
    "    cohen_score_average_4 = round((cohen_score_41 + cohen_score_42 + cohen_score_43 + cohen_score_45)/4,3)\n",
    "    #print(\"Average Cohen Kappa Score for annotation 95:\",(cohen_score_average_4))\n",
    "    return cohen_score_average_4"
   ]
  },
  {
   "cell_type": "code",
   "execution_count": 12,
   "id": "accredited-glucose",
   "metadata": {},
   "outputs": [
    {
     "data": {
      "text/plain": [
       "0.425"
      ]
     },
     "execution_count": 12,
     "metadata": {},
     "output_type": "execute_result"
    }
   ],
   "source": [
    "cohen_avg_4()"
   ]
  },
  {
   "cell_type": "markdown",
   "id": "ahead-preserve",
   "metadata": {},
   "source": [
    "### Cohen_kappa average score of annotation 96"
   ]
  },
  {
   "cell_type": "code",
   "execution_count": 13,
   "id": "round-glass",
   "metadata": {},
   "outputs": [],
   "source": [
    "def cohen_avg_5():\n",
    "    cohen_score_51 = cohen_kappa_score(annotation_5,annotation_1)\n",
    "    cohen_score_52 = cohen_kappa_score(annotation_5,annotation_2)\n",
    "    cohen_score_53 = cohen_kappa_score(annotation_5,annotation_3)\n",
    "    cohen_score_54 = cohen_kappa_score(annotation_5,annotation_4)\n",
    "    cohen_score_average_5 = round((cohen_score_51 + cohen_score_52 + cohen_score_53 + cohen_score_54)/4,3)\n",
    "    #print(\"Average Cohen Kappa Score for annotation 96:\",(cohen_score_average_5))\n",
    "    return cohen_score_average_5"
   ]
  },
  {
   "cell_type": "code",
   "execution_count": 14,
   "id": "statewide-softball",
   "metadata": {},
   "outputs": [
    {
     "data": {
      "text/plain": [
       "0.377"
      ]
     },
     "execution_count": 14,
     "metadata": {},
     "output_type": "execute_result"
    }
   ],
   "source": [
    "cohen_avg_5()"
   ]
  },
  {
   "cell_type": "markdown",
   "id": "latin-graduation",
   "metadata": {},
   "source": [
    "##### If average cohen kappa score for any annotation is less than 0.2, we will drop it"
   ]
  },
  {
   "cell_type": "code",
   "execution_count": 15,
   "id": "stuffed-sociology",
   "metadata": {},
   "outputs": [],
   "source": [
    "def drop_annotate():\n",
    "    average = [cohen_avg_1(), cohen_avg_2(),cohen_avg_3(),cohen_avg_4(),cohen_avg_5()]\n",
    "    columns_name = ['annotation_53','annotation_93','annotation_94','annotation_95','annotation_96']\n",
    "    for i in range(0,len(average)):\n",
    "        if average[i]< 0.2:\n",
    "            print(columns_name[i])\n",
    "            print(average[i])\n",
    "            df.drop(columns_name[i], axis=1, inplace = True)\n",
    "    print(df.head())\n",
    "    r = []\n",
    "    for col in df.columns:\n",
    "        r.append(col)\n",
    "    print(r[1:])"
   ]
  },
  {
   "cell_type": "code",
   "execution_count": 16,
   "id": "failing-irrigation",
   "metadata": {
    "scrolled": true
   },
   "outputs": [
    {
     "name": "stdout",
     "output_type": "stream",
     "text": [
      "annotation_53\n",
      "0.038\n",
      "                                                text  annotation_96  \\\n",
      "0         Language Education in the Time of COVID-19          False   \n",
      "1                                 COVID-19 Test Kits          False   \n",
      "2                                 COVID 19 IN PRISON          False   \n",
      "3                                     Get Waled Home          False   \n",
      "4  Make pass/fail available for Mississippi State...          False   \n",
      "\n",
      "   annotation_93  annotation_94  annotation_95  \n",
      "0          False          False          False  \n",
      "1          False          False          False  \n",
      "2          False          False          False  \n",
      "3          False          False          False  \n",
      "4          False          False          False  \n",
      "['annotation_96', 'annotation_93', 'annotation_94', 'annotation_95']\n"
     ]
    }
   ],
   "source": [
    "drop_annotate()"
   ]
  },
  {
   "cell_type": "code",
   "execution_count": 17,
   "id": "touched-equality",
   "metadata": {},
   "outputs": [],
   "source": [
    "def updateLabel(df):\n",
    "    for index, rows in df.iterrows():\n",
    "        match = [[cohen_avg_2(),rows['annotation_93']],\n",
    "                   [cohen_avg_3(),rows['annotation_94']],\n",
    "                   [cohen_avg_4(),rows['annotation_95']],\n",
    "                    [cohen_avg_5(),rows['annotation_96']]]\n",
    "        boolean = [rows['annotation_93'],rows['annotation_94'],rows['annotation_95'],rows['annotation_96']]\n",
    "        match.sort(key = lambda k:k[0])\n",
    "        true = match.count('True')\n",
    "        false = match.count('False')\n",
    "        if true == false: \n",
    "            kappa, columnV = match[-1]\n",
    "            df.loc[index, 'Final Label'] = columnV\n",
    "            \n",
    "        elif true!=false:\n",
    "            if true > false:\n",
    "                df.loc[index, 'Final Label'] = True\n",
    "            else:\n",
    "                df.loc[index, 'Final Label'] = False\n",
    "    \n",
    "\n"
   ]
  },
  {
   "cell_type": "code",
   "execution_count": 18,
   "id": "needed-communications",
   "metadata": {},
   "outputs": [
    {
     "data": {
      "text/html": [
       "<div>\n",
       "<style scoped>\n",
       "    .dataframe tbody tr th:only-of-type {\n",
       "        vertical-align: middle;\n",
       "    }\n",
       "\n",
       "    .dataframe tbody tr th {\n",
       "        vertical-align: top;\n",
       "    }\n",
       "\n",
       "    .dataframe thead th {\n",
       "        text-align: right;\n",
       "    }\n",
       "</style>\n",
       "<table border=\"1\" class=\"dataframe\">\n",
       "  <thead>\n",
       "    <tr style=\"text-align: right;\">\n",
       "      <th></th>\n",
       "      <th>text</th>\n",
       "      <th>Final Label</th>\n",
       "    </tr>\n",
       "  </thead>\n",
       "  <tbody>\n",
       "    <tr>\n",
       "      <th>0</th>\n",
       "      <td>Language Education in the Time of COVID-19</td>\n",
       "      <td>False</td>\n",
       "    </tr>\n",
       "    <tr>\n",
       "      <th>1</th>\n",
       "      <td>COVID-19 Test Kits</td>\n",
       "      <td>False</td>\n",
       "    </tr>\n",
       "    <tr>\n",
       "      <th>2</th>\n",
       "      <td>COVID 19 IN PRISON</td>\n",
       "      <td>False</td>\n",
       "    </tr>\n",
       "    <tr>\n",
       "      <th>3</th>\n",
       "      <td>Get Waled Home</td>\n",
       "      <td>False</td>\n",
       "    </tr>\n",
       "    <tr>\n",
       "      <th>4</th>\n",
       "      <td>Make pass/fail available for Mississippi State...</td>\n",
       "      <td>False</td>\n",
       "    </tr>\n",
       "  </tbody>\n",
       "</table>\n",
       "</div>"
      ],
      "text/plain": [
       "                                                text Final Label\n",
       "0         Language Education in the Time of COVID-19       False\n",
       "1                                 COVID-19 Test Kits       False\n",
       "2                                 COVID 19 IN PRISON       False\n",
       "3                                     Get Waled Home       False\n",
       "4  Make pass/fail available for Mississippi State...       False"
      ]
     },
     "execution_count": 18,
     "metadata": {},
     "output_type": "execute_result"
    }
   ],
   "source": [
    "updateLabel(df)\n",
    "df = df.iloc[:,[0,-1]]\n",
    "df.head()"
   ]
  },
  {
   "cell_type": "code",
   "execution_count": 19,
   "id": "faced-substitute",
   "metadata": {},
   "outputs": [],
   "source": [
    "df.to_csv(r'C:\\Users\\stuar\\Desktop\\NLP Assignment 2\\new_files\\secondary\\change.org_topic_0_lockdowns.csv',\n",
    "           index = False)"
   ]
  },
  {
   "cell_type": "markdown",
   "id": "other-walter",
   "metadata": {},
   "source": [
    "## change.org_topic_0_masking_and_distancing.csv"
   ]
  },
  {
   "cell_type": "code",
   "execution_count": 20,
   "id": "interracial-squad",
   "metadata": {},
   "outputs": [
    {
     "data": {
      "text/html": [
       "<div>\n",
       "<style scoped>\n",
       "    .dataframe tbody tr th:only-of-type {\n",
       "        vertical-align: middle;\n",
       "    }\n",
       "\n",
       "    .dataframe tbody tr th {\n",
       "        vertical-align: top;\n",
       "    }\n",
       "\n",
       "    .dataframe thead th {\n",
       "        text-align: right;\n",
       "    }\n",
       "</style>\n",
       "<table border=\"1\" class=\"dataframe\">\n",
       "  <thead>\n",
       "    <tr style=\"text-align: right;\">\n",
       "      <th></th>\n",
       "      <th>text</th>\n",
       "      <th>annotation_96</th>\n",
       "      <th>annotation_53</th>\n",
       "      <th>annotation_93</th>\n",
       "      <th>annotation_94</th>\n",
       "      <th>annotation_95</th>\n",
       "    </tr>\n",
       "  </thead>\n",
       "  <tbody>\n",
       "    <tr>\n",
       "      <th>0</th>\n",
       "      <td>Language Education in the Time of COVID-19</td>\n",
       "      <td>False</td>\n",
       "      <td>False</td>\n",
       "      <td>False</td>\n",
       "      <td>False</td>\n",
       "      <td>False</td>\n",
       "    </tr>\n",
       "    <tr>\n",
       "      <th>1</th>\n",
       "      <td>COVID-19 Test Kits</td>\n",
       "      <td>False</td>\n",
       "      <td>False</td>\n",
       "      <td>False</td>\n",
       "      <td>False</td>\n",
       "      <td>False</td>\n",
       "    </tr>\n",
       "    <tr>\n",
       "      <th>2</th>\n",
       "      <td>COVID 19 IN PRISON</td>\n",
       "      <td>False</td>\n",
       "      <td>False</td>\n",
       "      <td>False</td>\n",
       "      <td>False</td>\n",
       "      <td>False</td>\n",
       "    </tr>\n",
       "    <tr>\n",
       "      <th>3</th>\n",
       "      <td>Get Waled Home</td>\n",
       "      <td>False</td>\n",
       "      <td>False</td>\n",
       "      <td>False</td>\n",
       "      <td>False</td>\n",
       "      <td>False</td>\n",
       "    </tr>\n",
       "    <tr>\n",
       "      <th>4</th>\n",
       "      <td>Make pass/fail available for Mississippi State...</td>\n",
       "      <td>False</td>\n",
       "      <td>False</td>\n",
       "      <td>False</td>\n",
       "      <td>False</td>\n",
       "      <td>False</td>\n",
       "    </tr>\n",
       "  </tbody>\n",
       "</table>\n",
       "</div>"
      ],
      "text/plain": [
       "                                                text  annotation_96  \\\n",
       "0         Language Education in the Time of COVID-19          False   \n",
       "1                                 COVID-19 Test Kits          False   \n",
       "2                                 COVID 19 IN PRISON          False   \n",
       "3                                     Get Waled Home          False   \n",
       "4  Make pass/fail available for Mississippi State...          False   \n",
       "\n",
       "   annotation_53  annotation_93  annotation_94  annotation_95  \n",
       "0          False          False          False          False  \n",
       "1          False          False          False          False  \n",
       "2          False          False          False          False  \n",
       "3          False          False          False          False  \n",
       "4          False          False          False          False  "
      ]
     },
     "execution_count": 20,
     "metadata": {},
     "output_type": "execute_result"
    }
   ],
   "source": [
    "df_1 = pd.read_csv(r'change.org_topic\\change.org_topic_0_masking_and_distancing.csv')\n",
    "df_1.head()"
   ]
  },
  {
   "cell_type": "code",
   "execution_count": 21,
   "id": "expired-inspiration",
   "metadata": {},
   "outputs": [
    {
     "name": "stdout",
     "output_type": "stream",
     "text": [
      "0\n",
      "0\n",
      "0\n",
      "0\n",
      "0\n",
      "0\n"
     ]
    }
   ],
   "source": [
    "print(df_1['annotation_53'].isnull().sum())\n",
    "print(df_1['annotation_93'].isnull().sum())\n",
    "print(df_1['annotation_94'].isnull().sum())\n",
    "print(df_1['annotation_95'].isnull().sum())\n",
    "print(df_1['annotation_96'].isnull().sum())\n",
    "print(df_1['text'].isnull().sum())"
   ]
  },
  {
   "cell_type": "code",
   "execution_count": 22,
   "id": "serial-kazakhstan",
   "metadata": {},
   "outputs": [],
   "source": [
    "annotation_1= df_1['annotation_53']\n",
    "annotation_2= df_1['annotation_93']\n",
    "annotation_3= df_1['annotation_94']\n",
    "annotation_4= df_1['annotation_95']\n",
    "annotation_5= df_1['annotation_96']"
   ]
  },
  {
   "cell_type": "markdown",
   "id": "hindu-academy",
   "metadata": {},
   "source": [
    "### Cohen_kappa average score of annotation 53"
   ]
  },
  {
   "cell_type": "code",
   "execution_count": 23,
   "id": "israeli-strand",
   "metadata": {},
   "outputs": [],
   "source": [
    "def cohen_avg_1():\n",
    "    cohen_score_12 = cohen_kappa_score(annotation_1,annotation_2)\n",
    "    cohen_score_13 = cohen_kappa_score(annotation_1,annotation_3)\n",
    "    cohen_score_14 = cohen_kappa_score(annotation_1,annotation_4)\n",
    "    cohen_score_15 = cohen_kappa_score(annotation_1,annotation_5)\n",
    "    cohen_score_average_1 = round((cohen_score_12 + cohen_score_13 + cohen_score_14+ cohen_score_15)/4,3)\n",
    "    #print(\"Average Cohen Kappa Score for annotation 53:\",(cohen_score_average_1))\n",
    "    return cohen_score_average_1"
   ]
  },
  {
   "cell_type": "code",
   "execution_count": 24,
   "id": "departmental-fireplace",
   "metadata": {},
   "outputs": [
    {
     "data": {
      "text/plain": [
       "-0.006"
      ]
     },
     "execution_count": 24,
     "metadata": {},
     "output_type": "execute_result"
    }
   ],
   "source": [
    "cohen_avg_1()"
   ]
  },
  {
   "cell_type": "markdown",
   "id": "invisible-memory",
   "metadata": {},
   "source": [
    "### Cohen_kappa average score of annotation 93"
   ]
  },
  {
   "cell_type": "code",
   "execution_count": 25,
   "id": "incomplete-overhead",
   "metadata": {},
   "outputs": [],
   "source": [
    "def cohen_avg_2():\n",
    "    cohen_score_21 = cohen_kappa_score(annotation_2,annotation_1)\n",
    "    cohen_score_23 = cohen_kappa_score(annotation_2,annotation_3)\n",
    "    cohen_score_24 = cohen_kappa_score(annotation_2,annotation_4)\n",
    "    cohen_score_25 = cohen_kappa_score(annotation_2,annotation_5)\n",
    "    cohen_score_average_2 = round((cohen_score_21 + cohen_score_23 + cohen_score_24+ cohen_score_25)/4,3)\n",
    "    #print(\"Average Cohen Kappa Score for annotation 93:\",(cohen_score_average_2))\n",
    "    return cohen_score_average_2"
   ]
  },
  {
   "cell_type": "code",
   "execution_count": 26,
   "id": "pointed-selling",
   "metadata": {},
   "outputs": [
    {
     "data": {
      "text/plain": [
       "0.139"
      ]
     },
     "execution_count": 26,
     "metadata": {},
     "output_type": "execute_result"
    }
   ],
   "source": [
    "cohen_avg_2()"
   ]
  },
  {
   "cell_type": "markdown",
   "id": "hawaiian-hollywood",
   "metadata": {},
   "source": [
    "### Cohen_kappa average score of annotation 94"
   ]
  },
  {
   "cell_type": "code",
   "execution_count": 27,
   "id": "joined-refund",
   "metadata": {},
   "outputs": [],
   "source": [
    "def cohen_avg_3():\n",
    "    cohen_score_31 = cohen_kappa_score(annotation_3,annotation_1)\n",
    "    cohen_score_32 = cohen_kappa_score(annotation_3,annotation_2)\n",
    "    cohen_score_34 = cohen_kappa_score(annotation_3,annotation_4)\n",
    "    cohen_score_35 = cohen_kappa_score(annotation_3,annotation_5)\n",
    "    cohen_score_average_3 = round((cohen_score_31 + cohen_score_32 + cohen_score_34+ cohen_score_35)/4,3)\n",
    "    #print(\"Average Cohen Kappa Score for annotation 94:\",(cohen_score_average_3))\n",
    "    return cohen_score_average_3"
   ]
  },
  {
   "cell_type": "code",
   "execution_count": 28,
   "id": "mexican-browser",
   "metadata": {},
   "outputs": [
    {
     "data": {
      "text/plain": [
       "0.193"
      ]
     },
     "execution_count": 28,
     "metadata": {},
     "output_type": "execute_result"
    }
   ],
   "source": [
    "cohen_avg_3()"
   ]
  },
  {
   "cell_type": "markdown",
   "id": "treated-duration",
   "metadata": {},
   "source": [
    "### Cohen_kappa average score of annotation 95"
   ]
  },
  {
   "cell_type": "code",
   "execution_count": 29,
   "id": "manufactured-commonwealth",
   "metadata": {},
   "outputs": [],
   "source": [
    "def cohen_avg_4():\n",
    "    cohen_score_41 = cohen_kappa_score(annotation_4,annotation_1)\n",
    "    cohen_score_42 = cohen_kappa_score(annotation_4,annotation_2)\n",
    "    cohen_score_43 = cohen_kappa_score(annotation_4,annotation_3)\n",
    "    cohen_score_45 = cohen_kappa_score(annotation_4,annotation_5)\n",
    "    cohen_score_average_4 = round((cohen_score_41 + cohen_score_42 + cohen_score_43 + cohen_score_45)/4,3)\n",
    "    #print(\"Average Cohen Kappa Score for annotation 95:\",(cohen_score_average_4))\n",
    "    return cohen_score_average_4"
   ]
  },
  {
   "cell_type": "code",
   "execution_count": 30,
   "id": "advance-railway",
   "metadata": {},
   "outputs": [
    {
     "data": {
      "text/plain": [
       "0.258"
      ]
     },
     "execution_count": 30,
     "metadata": {},
     "output_type": "execute_result"
    }
   ],
   "source": [
    "cohen_avg_4()"
   ]
  },
  {
   "cell_type": "markdown",
   "id": "surface-dance",
   "metadata": {},
   "source": [
    "### Cohen_kappa average score of annotation 96"
   ]
  },
  {
   "cell_type": "code",
   "execution_count": 31,
   "id": "danish-particular",
   "metadata": {},
   "outputs": [],
   "source": [
    "def cohen_avg_5():\n",
    "    cohen_score_51 = cohen_kappa_score(annotation_5,annotation_1)\n",
    "    cohen_score_52 = cohen_kappa_score(annotation_5,annotation_2)\n",
    "    cohen_score_53 = cohen_kappa_score(annotation_5,annotation_3)\n",
    "    cohen_score_54 = cohen_kappa_score(annotation_5,annotation_4)\n",
    "    cohen_score_average_5 = round((cohen_score_51 + cohen_score_52 + cohen_score_53 + cohen_score_54)/4,3)\n",
    "    #print(\"Average Cohen Kappa Score for annotation 96:\",(cohen_score_average_5))\n",
    "    return cohen_score_average_5"
   ]
  },
  {
   "cell_type": "code",
   "execution_count": 32,
   "id": "forced-hypothesis",
   "metadata": {},
   "outputs": [
    {
     "data": {
      "text/plain": [
       "0.201"
      ]
     },
     "execution_count": 32,
     "metadata": {},
     "output_type": "execute_result"
    }
   ],
   "source": [
    "cohen_avg_5()"
   ]
  },
  {
   "cell_type": "markdown",
   "id": "breathing-compound",
   "metadata": {},
   "source": [
    "##### If average cohen kappa score for any annotation is less than 0.2, we will drop it"
   ]
  },
  {
   "cell_type": "code",
   "execution_count": 33,
   "id": "editorial-reporter",
   "metadata": {},
   "outputs": [],
   "source": [
    "def drop_annotate():\n",
    "    average = [cohen_avg_1(), cohen_avg_2(),cohen_avg_3(),cohen_avg_4(),cohen_avg_5()]\n",
    "    columns_name = ['annotation_53','annotation_93','annotation_94','annotation_95','annotation_96']\n",
    "    for i in range(0,len(average)):\n",
    "        if average[i]< 0.2:\n",
    "            print(\"\\t\")\n",
    "            print(columns_name[i])\n",
    "            print(average[i])\n",
    "            df_1.drop(columns_name[i], axis=1, inplace = True)\n",
    "    print(df_1.head())\n",
    "    r = []\n",
    "    for col in df_1.columns:\n",
    "        r.append(col)\n",
    "    print(r[1:])"
   ]
  },
  {
   "cell_type": "code",
   "execution_count": 34,
   "id": "great-given",
   "metadata": {},
   "outputs": [
    {
     "name": "stdout",
     "output_type": "stream",
     "text": [
      "\t\n",
      "annotation_53\n",
      "-0.006\n",
      "\t\n",
      "annotation_93\n",
      "0.139\n",
      "\t\n",
      "annotation_94\n",
      "0.193\n",
      "                                                text  annotation_96  \\\n",
      "0         Language Education in the Time of COVID-19          False   \n",
      "1                                 COVID-19 Test Kits          False   \n",
      "2                                 COVID 19 IN PRISON          False   \n",
      "3                                     Get Waled Home          False   \n",
      "4  Make pass/fail available for Mississippi State...          False   \n",
      "\n",
      "   annotation_95  \n",
      "0          False  \n",
      "1          False  \n",
      "2          False  \n",
      "3          False  \n",
      "4          False  \n",
      "['annotation_96', 'annotation_95']\n"
     ]
    }
   ],
   "source": [
    "drop_annotate()"
   ]
  },
  {
   "cell_type": "code",
   "execution_count": 35,
   "id": "grateful-weekend",
   "metadata": {},
   "outputs": [],
   "source": [
    "def updateLabel(df_1):\n",
    "    for index, rows in df_1.iterrows():\n",
    "        match = [[cohen_avg_4(),rows['annotation_95']],\n",
    "                    [cohen_avg_5(),rows['annotation_96']]]\n",
    "        boolean = [rows['annotation_95'],rows['annotation_96']]\n",
    "        match.sort(key = lambda k:k[0])\n",
    "        true = match.count('True')\n",
    "        false = match.count('False')\n",
    "        if true == false: \n",
    "            kappa, ColumnV = match[-1]\n",
    "            df_1.loc[index, 'Final Label'] = ColumnV\n",
    "            \n",
    "        elif true!=false:\n",
    "            if true > false:\n",
    "                df_1.loc[index, 'Final Label'] = True\n",
    "            else:\n",
    "                df_1.loc[index, 'Final Label'] = False\n",
    "    \n",
    "\n"
   ]
  },
  {
   "cell_type": "code",
   "execution_count": 36,
   "id": "least-judges",
   "metadata": {},
   "outputs": [
    {
     "data": {
      "text/html": [
       "<div>\n",
       "<style scoped>\n",
       "    .dataframe tbody tr th:only-of-type {\n",
       "        vertical-align: middle;\n",
       "    }\n",
       "\n",
       "    .dataframe tbody tr th {\n",
       "        vertical-align: top;\n",
       "    }\n",
       "\n",
       "    .dataframe thead th {\n",
       "        text-align: right;\n",
       "    }\n",
       "</style>\n",
       "<table border=\"1\" class=\"dataframe\">\n",
       "  <thead>\n",
       "    <tr style=\"text-align: right;\">\n",
       "      <th></th>\n",
       "      <th>text</th>\n",
       "      <th>Final Label</th>\n",
       "    </tr>\n",
       "  </thead>\n",
       "  <tbody>\n",
       "    <tr>\n",
       "      <th>0</th>\n",
       "      <td>Language Education in the Time of COVID-19</td>\n",
       "      <td>False</td>\n",
       "    </tr>\n",
       "    <tr>\n",
       "      <th>1</th>\n",
       "      <td>COVID-19 Test Kits</td>\n",
       "      <td>False</td>\n",
       "    </tr>\n",
       "    <tr>\n",
       "      <th>2</th>\n",
       "      <td>COVID 19 IN PRISON</td>\n",
       "      <td>False</td>\n",
       "    </tr>\n",
       "    <tr>\n",
       "      <th>3</th>\n",
       "      <td>Get Waled Home</td>\n",
       "      <td>False</td>\n",
       "    </tr>\n",
       "    <tr>\n",
       "      <th>4</th>\n",
       "      <td>Make pass/fail available for Mississippi State...</td>\n",
       "      <td>False</td>\n",
       "    </tr>\n",
       "  </tbody>\n",
       "</table>\n",
       "</div>"
      ],
      "text/plain": [
       "                                                text Final Label\n",
       "0         Language Education in the Time of COVID-19       False\n",
       "1                                 COVID-19 Test Kits       False\n",
       "2                                 COVID 19 IN PRISON       False\n",
       "3                                     Get Waled Home       False\n",
       "4  Make pass/fail available for Mississippi State...       False"
      ]
     },
     "execution_count": 36,
     "metadata": {},
     "output_type": "execute_result"
    }
   ],
   "source": [
    "updateLabel(df_1)\n",
    "df_1 = df_1.iloc[:,[0,-1]]\n",
    "df_1.head()"
   ]
  },
  {
   "cell_type": "code",
   "execution_count": 37,
   "id": "becoming-collect",
   "metadata": {},
   "outputs": [],
   "source": [
    "df_1.to_csv(r'C:\\Users\\stuar\\Desktop\\NLP Assignment 2\\new_files\\secondary\\change.org_topic_0_masking_and_distancing.csv',\n",
    "           index = False)"
   ]
  },
  {
   "cell_type": "markdown",
   "id": "contemporary-senate",
   "metadata": {},
   "source": [
    "## change.org_topic_0_vaccination.csv"
   ]
  },
  {
   "cell_type": "code",
   "execution_count": 38,
   "id": "whole-lunch",
   "metadata": {},
   "outputs": [
    {
     "data": {
      "text/html": [
       "<div>\n",
       "<style scoped>\n",
       "    .dataframe tbody tr th:only-of-type {\n",
       "        vertical-align: middle;\n",
       "    }\n",
       "\n",
       "    .dataframe tbody tr th {\n",
       "        vertical-align: top;\n",
       "    }\n",
       "\n",
       "    .dataframe thead th {\n",
       "        text-align: right;\n",
       "    }\n",
       "</style>\n",
       "<table border=\"1\" class=\"dataframe\">\n",
       "  <thead>\n",
       "    <tr style=\"text-align: right;\">\n",
       "      <th></th>\n",
       "      <th>text</th>\n",
       "      <th>annotation_96</th>\n",
       "      <th>annotation_53</th>\n",
       "      <th>annotation_93</th>\n",
       "      <th>annotation_94</th>\n",
       "      <th>annotation_95</th>\n",
       "    </tr>\n",
       "  </thead>\n",
       "  <tbody>\n",
       "    <tr>\n",
       "      <th>0</th>\n",
       "      <td>Language Education in the Time of COVID-19</td>\n",
       "      <td>False</td>\n",
       "      <td>False</td>\n",
       "      <td>False</td>\n",
       "      <td>False</td>\n",
       "      <td>False</td>\n",
       "    </tr>\n",
       "    <tr>\n",
       "      <th>1</th>\n",
       "      <td>COVID-19 Test Kits</td>\n",
       "      <td>False</td>\n",
       "      <td>False</td>\n",
       "      <td>False</td>\n",
       "      <td>False</td>\n",
       "      <td>False</td>\n",
       "    </tr>\n",
       "    <tr>\n",
       "      <th>2</th>\n",
       "      <td>COVID 19 IN PRISON</td>\n",
       "      <td>False</td>\n",
       "      <td>False</td>\n",
       "      <td>False</td>\n",
       "      <td>False</td>\n",
       "      <td>False</td>\n",
       "    </tr>\n",
       "    <tr>\n",
       "      <th>3</th>\n",
       "      <td>Get Waled Home</td>\n",
       "      <td>False</td>\n",
       "      <td>False</td>\n",
       "      <td>False</td>\n",
       "      <td>False</td>\n",
       "      <td>False</td>\n",
       "    </tr>\n",
       "    <tr>\n",
       "      <th>4</th>\n",
       "      <td>Make pass/fail available for Mississippi State...</td>\n",
       "      <td>False</td>\n",
       "      <td>False</td>\n",
       "      <td>False</td>\n",
       "      <td>False</td>\n",
       "      <td>False</td>\n",
       "    </tr>\n",
       "  </tbody>\n",
       "</table>\n",
       "</div>"
      ],
      "text/plain": [
       "                                                text  annotation_96  \\\n",
       "0         Language Education in the Time of COVID-19          False   \n",
       "1                                 COVID-19 Test Kits          False   \n",
       "2                                 COVID 19 IN PRISON          False   \n",
       "3                                     Get Waled Home          False   \n",
       "4  Make pass/fail available for Mississippi State...          False   \n",
       "\n",
       "   annotation_53  annotation_93  annotation_94  annotation_95  \n",
       "0          False          False          False          False  \n",
       "1          False          False          False          False  \n",
       "2          False          False          False          False  \n",
       "3          False          False          False          False  \n",
       "4          False          False          False          False  "
      ]
     },
     "execution_count": 38,
     "metadata": {},
     "output_type": "execute_result"
    }
   ],
   "source": [
    "df_2 = pd.read_csv(r'change.org_topic\\change.org_topic_0_vaccination.csv')\n",
    "df_2.head()"
   ]
  },
  {
   "cell_type": "code",
   "execution_count": 39,
   "id": "descending-struggle",
   "metadata": {},
   "outputs": [
    {
     "name": "stdout",
     "output_type": "stream",
     "text": [
      "0\n",
      "0\n",
      "0\n",
      "0\n",
      "0\n",
      "0\n"
     ]
    }
   ],
   "source": [
    "print(df_2['annotation_53'].isnull().sum())\n",
    "print(df_2['annotation_93'].isnull().sum())\n",
    "print(df_2['annotation_94'].isnull().sum())\n",
    "print(df_2['annotation_95'].isnull().sum())\n",
    "print(df_2['annotation_96'].isnull().sum())\n",
    "print(df_2['text'].isnull().sum())"
   ]
  },
  {
   "cell_type": "code",
   "execution_count": 40,
   "id": "junior-renaissance",
   "metadata": {},
   "outputs": [],
   "source": [
    "annotation_1= df_2['annotation_53']\n",
    "annotation_2= df_2['annotation_93']\n",
    "annotation_3= df_2['annotation_94']\n",
    "annotation_4= df_2['annotation_95']\n",
    "annotation_5= df_2['annotation_96']"
   ]
  },
  {
   "cell_type": "markdown",
   "id": "rotary-series",
   "metadata": {},
   "source": [
    "### Cohen_kappa average score of annotation 53"
   ]
  },
  {
   "cell_type": "code",
   "execution_count": 41,
   "id": "russian-simon",
   "metadata": {},
   "outputs": [],
   "source": [
    "def cohen_avg_1():\n",
    "    cohen_score_12 = cohen_kappa_score(annotation_1,annotation_2)\n",
    "    cohen_score_13 = cohen_kappa_score(annotation_1,annotation_3)\n",
    "    cohen_score_14 = cohen_kappa_score(annotation_1,annotation_4)\n",
    "    cohen_score_15 = cohen_kappa_score(annotation_1,annotation_5)\n",
    "    cohen_score_average_1 = round((cohen_score_12 + cohen_score_13 + cohen_score_14+ cohen_score_15)/4,3)\n",
    "    #print(\"Average Cohen Kappa Score for annotation 53:\",(cohen_score_average_1))\n",
    "    return cohen_score_average_1"
   ]
  },
  {
   "cell_type": "code",
   "execution_count": 42,
   "id": "intended-suggestion",
   "metadata": {},
   "outputs": [
    {
     "data": {
      "text/plain": [
       "-0.005"
      ]
     },
     "execution_count": 42,
     "metadata": {},
     "output_type": "execute_result"
    }
   ],
   "source": [
    "cohen_avg_1()"
   ]
  },
  {
   "cell_type": "markdown",
   "id": "surprising-france",
   "metadata": {},
   "source": [
    "### Cohen_kappa average score of annotation 93"
   ]
  },
  {
   "cell_type": "code",
   "execution_count": 43,
   "id": "renewable-coordinator",
   "metadata": {},
   "outputs": [],
   "source": [
    "def cohen_avg_2():\n",
    "    cohen_score_21 = cohen_kappa_score(annotation_2,annotation_1)\n",
    "    cohen_score_23 = cohen_kappa_score(annotation_2,annotation_3)\n",
    "    cohen_score_24 = cohen_kappa_score(annotation_2,annotation_4)\n",
    "    cohen_score_25 = cohen_kappa_score(annotation_2,annotation_5)\n",
    "    cohen_score_average_2 = round((cohen_score_21 + cohen_score_23 + cohen_score_24+ cohen_score_25)/4,3)\n",
    "    #print(\"Average Cohen Kappa Score for annotation 93:\",(cohen_score_average_2))\n",
    "    return cohen_score_average_2"
   ]
  },
  {
   "cell_type": "code",
   "execution_count": 44,
   "id": "least-idaho",
   "metadata": {},
   "outputs": [
    {
     "data": {
      "text/plain": [
       "0.262"
      ]
     },
     "execution_count": 44,
     "metadata": {},
     "output_type": "execute_result"
    }
   ],
   "source": [
    "cohen_avg_2()"
   ]
  },
  {
   "cell_type": "markdown",
   "id": "elect-combining",
   "metadata": {},
   "source": [
    "### Cohen_kappa average score of annotation 94"
   ]
  },
  {
   "cell_type": "code",
   "execution_count": 45,
   "id": "surface-turkey",
   "metadata": {},
   "outputs": [],
   "source": [
    "def cohen_avg_3():\n",
    "    cohen_score_31 = cohen_kappa_score(annotation_3,annotation_1)\n",
    "    cohen_score_32 = cohen_kappa_score(annotation_3,annotation_2)\n",
    "    cohen_score_34 = cohen_kappa_score(annotation_3,annotation_4)\n",
    "    cohen_score_35 = cohen_kappa_score(annotation_3,annotation_5)\n",
    "    cohen_score_average_3 = round((cohen_score_31 + cohen_score_32 + cohen_score_34+ cohen_score_35)/4,3)\n",
    "    #print(\"Average Cohen Kappa Score for annotation 94:\",(cohen_score_average_3))\n",
    "    return cohen_score_average_3"
   ]
  },
  {
   "cell_type": "code",
   "execution_count": 46,
   "id": "animated-wagner",
   "metadata": {},
   "outputs": [
    {
     "data": {
      "text/plain": [
       "0.251"
      ]
     },
     "execution_count": 46,
     "metadata": {},
     "output_type": "execute_result"
    }
   ],
   "source": [
    "cohen_avg_3()"
   ]
  },
  {
   "cell_type": "markdown",
   "id": "crazy-chemistry",
   "metadata": {},
   "source": [
    "### Cohen_kappa average score of annotation 95"
   ]
  },
  {
   "cell_type": "code",
   "execution_count": 47,
   "id": "empirical-consent",
   "metadata": {},
   "outputs": [],
   "source": [
    "def cohen_avg_4():\n",
    "    cohen_score_41 = cohen_kappa_score(annotation_4,annotation_1)\n",
    "    cohen_score_42 = cohen_kappa_score(annotation_4,annotation_2)\n",
    "    cohen_score_43 = cohen_kappa_score(annotation_4,annotation_3)\n",
    "    cohen_score_45 = cohen_kappa_score(annotation_4,annotation_5)\n",
    "    cohen_score_average_4 = round((cohen_score_41 + cohen_score_42 + cohen_score_43 + cohen_score_45)/4,3)\n",
    "    #print(\"Average Cohen Kappa Score for annotation 95:\",(cohen_score_average_4))\n",
    "    return cohen_score_average_4"
   ]
  },
  {
   "cell_type": "code",
   "execution_count": 48,
   "id": "proper-robinson",
   "metadata": {},
   "outputs": [
    {
     "data": {
      "text/plain": [
       "0.137"
      ]
     },
     "execution_count": 48,
     "metadata": {},
     "output_type": "execute_result"
    }
   ],
   "source": [
    "cohen_avg_4()"
   ]
  },
  {
   "cell_type": "markdown",
   "id": "hawaiian-beads",
   "metadata": {},
   "source": [
    "### Cohen_kappa average score of annotation 96"
   ]
  },
  {
   "cell_type": "code",
   "execution_count": 49,
   "id": "interested-idaho",
   "metadata": {},
   "outputs": [],
   "source": [
    "def cohen_avg_5():\n",
    "    cohen_score_51 = cohen_kappa_score(annotation_5,annotation_1)\n",
    "    cohen_score_52 = cohen_kappa_score(annotation_5,annotation_2)\n",
    "    cohen_score_53 = cohen_kappa_score(annotation_5,annotation_3)\n",
    "    cohen_score_54 = cohen_kappa_score(annotation_5,annotation_4)\n",
    "    cohen_score_average_5 = round((cohen_score_51 + cohen_score_52 + cohen_score_53 + cohen_score_54)/4,3)\n",
    "    #print(\"Average Cohen Kappa Score for annotation 96:\",(cohen_score_average_5))\n",
    "    return cohen_score_average_5"
   ]
  },
  {
   "cell_type": "code",
   "execution_count": 50,
   "id": "manual-latin",
   "metadata": {},
   "outputs": [
    {
     "data": {
      "text/plain": [
       "0.122"
      ]
     },
     "execution_count": 50,
     "metadata": {},
     "output_type": "execute_result"
    }
   ],
   "source": [
    "cohen_avg_5()"
   ]
  },
  {
   "cell_type": "markdown",
   "id": "ranging-steam",
   "metadata": {},
   "source": [
    "##### If average cohen kappa score for any annotation is less than 0.2, we will drop it"
   ]
  },
  {
   "cell_type": "code",
   "execution_count": 51,
   "id": "voluntary-agenda",
   "metadata": {},
   "outputs": [],
   "source": [
    "def drop_annotate():\n",
    "    average = [cohen_avg_1(), cohen_avg_2(),cohen_avg_3(),cohen_avg_4(),cohen_avg_5()]\n",
    "    columns_name = ['annotation_53','annotation_93','annotation_94','annotation_95','annotation_96']\n",
    "    for i in range(0,len(average)):\n",
    "        if average[i]< 0.2:\n",
    "            print(\"\\t\")\n",
    "            print(columns_name[i])\n",
    "            print(average[i])\n",
    "            df_2.drop(columns_name[i], axis=1, inplace = True)\n",
    "    print(df_2.head())\n",
    "    r = []\n",
    "    for col in df_2.columns:\n",
    "        r.append(col)\n",
    "    print(r[1:])"
   ]
  },
  {
   "cell_type": "code",
   "execution_count": 52,
   "id": "formal-expense",
   "metadata": {},
   "outputs": [
    {
     "name": "stdout",
     "output_type": "stream",
     "text": [
      "\t\n",
      "annotation_53\n",
      "-0.005\n",
      "\t\n",
      "annotation_95\n",
      "0.137\n",
      "\t\n",
      "annotation_96\n",
      "0.122\n",
      "                                                text  annotation_93  \\\n",
      "0         Language Education in the Time of COVID-19          False   \n",
      "1                                 COVID-19 Test Kits          False   \n",
      "2                                 COVID 19 IN PRISON          False   \n",
      "3                                     Get Waled Home          False   \n",
      "4  Make pass/fail available for Mississippi State...          False   \n",
      "\n",
      "   annotation_94  \n",
      "0          False  \n",
      "1          False  \n",
      "2          False  \n",
      "3          False  \n",
      "4          False  \n",
      "['annotation_93', 'annotation_94']\n"
     ]
    }
   ],
   "source": [
    "drop_annotate()"
   ]
  },
  {
   "cell_type": "code",
   "execution_count": 53,
   "id": "mental-tracker",
   "metadata": {},
   "outputs": [],
   "source": [
    "def updateLabel(df_2):\n",
    "    for index, rows in df_2.iterrows():\n",
    "        match = [[cohen_avg_2(),rows['annotation_93']],\n",
    "                   [cohen_avg_3(),rows['annotation_94']]]\n",
    "        boolean = [rows['annotation_93'],rows['annotation_94']]\n",
    "        match.sort(key = lambda k:k[0])\n",
    "        true = match.count('True')\n",
    "        false = match.count('False')\n",
    "        if true == false: \n",
    "            kappa, columnV = match[-1]\n",
    "            df_2.loc[index, 'Final Label'] = columnV\n",
    "            \n",
    "        elif true!=false:\n",
    "            if true > false:\n",
    "                df_2.loc[index, 'Final Label'] = True\n",
    "            else:\n",
    "                df_2.loc[index, 'Final Label'] = False\n",
    "    \n",
    "\n"
   ]
  },
  {
   "cell_type": "code",
   "execution_count": 54,
   "id": "built-attendance",
   "metadata": {},
   "outputs": [
    {
     "data": {
      "text/html": [
       "<div>\n",
       "<style scoped>\n",
       "    .dataframe tbody tr th:only-of-type {\n",
       "        vertical-align: middle;\n",
       "    }\n",
       "\n",
       "    .dataframe tbody tr th {\n",
       "        vertical-align: top;\n",
       "    }\n",
       "\n",
       "    .dataframe thead th {\n",
       "        text-align: right;\n",
       "    }\n",
       "</style>\n",
       "<table border=\"1\" class=\"dataframe\">\n",
       "  <thead>\n",
       "    <tr style=\"text-align: right;\">\n",
       "      <th></th>\n",
       "      <th>text</th>\n",
       "      <th>Final Label</th>\n",
       "    </tr>\n",
       "  </thead>\n",
       "  <tbody>\n",
       "    <tr>\n",
       "      <th>0</th>\n",
       "      <td>Language Education in the Time of COVID-19</td>\n",
       "      <td>False</td>\n",
       "    </tr>\n",
       "    <tr>\n",
       "      <th>1</th>\n",
       "      <td>COVID-19 Test Kits</td>\n",
       "      <td>False</td>\n",
       "    </tr>\n",
       "    <tr>\n",
       "      <th>2</th>\n",
       "      <td>COVID 19 IN PRISON</td>\n",
       "      <td>False</td>\n",
       "    </tr>\n",
       "    <tr>\n",
       "      <th>3</th>\n",
       "      <td>Get Waled Home</td>\n",
       "      <td>False</td>\n",
       "    </tr>\n",
       "    <tr>\n",
       "      <th>4</th>\n",
       "      <td>Make pass/fail available for Mississippi State...</td>\n",
       "      <td>False</td>\n",
       "    </tr>\n",
       "  </tbody>\n",
       "</table>\n",
       "</div>"
      ],
      "text/plain": [
       "                                                text Final Label\n",
       "0         Language Education in the Time of COVID-19       False\n",
       "1                                 COVID-19 Test Kits       False\n",
       "2                                 COVID 19 IN PRISON       False\n",
       "3                                     Get Waled Home       False\n",
       "4  Make pass/fail available for Mississippi State...       False"
      ]
     },
     "execution_count": 54,
     "metadata": {},
     "output_type": "execute_result"
    }
   ],
   "source": [
    "updateLabel(df_2)\n",
    "df_2 = df_2.iloc[:,[0,-1]]\n",
    "df_2.head()"
   ]
  },
  {
   "cell_type": "code",
   "execution_count": 55,
   "id": "verified-numbers",
   "metadata": {},
   "outputs": [],
   "source": [
    "df_2.to_csv(r'C:\\Users\\stuar\\Desktop\\NLP Assignment 2\\new_files\\secondary\\change.org_topic_0_vaccination.csv',\n",
    "           index = False)"
   ]
  },
  {
   "cell_type": "markdown",
   "id": "organized-field",
   "metadata": {},
   "source": [
    "## change.org_topic_1_lockdowns.csv"
   ]
  },
  {
   "cell_type": "code",
   "execution_count": 56,
   "id": "nutritional-thinking",
   "metadata": {},
   "outputs": [
    {
     "data": {
      "text/html": [
       "<div>\n",
       "<style scoped>\n",
       "    .dataframe tbody tr th:only-of-type {\n",
       "        vertical-align: middle;\n",
       "    }\n",
       "\n",
       "    .dataframe tbody tr th {\n",
       "        vertical-align: top;\n",
       "    }\n",
       "\n",
       "    .dataframe thead th {\n",
       "        text-align: right;\n",
       "    }\n",
       "</style>\n",
       "<table border=\"1\" class=\"dataframe\">\n",
       "  <thead>\n",
       "    <tr style=\"text-align: right;\">\n",
       "      <th></th>\n",
       "      <th>text</th>\n",
       "      <th>annotation_112</th>\n",
       "      <th>annotation_109</th>\n",
       "      <th>annotation_110</th>\n",
       "      <th>annotation_111</th>\n",
       "    </tr>\n",
       "  </thead>\n",
       "  <tbody>\n",
       "    <tr>\n",
       "      <th>0</th>\n",
       "      <td>Get CoVID Vaccines to Nepal ASAP and prevent a...</td>\n",
       "      <td>False</td>\n",
       "      <td>False</td>\n",
       "      <td>False</td>\n",
       "      <td>False</td>\n",
       "    </tr>\n",
       "    <tr>\n",
       "      <th>1</th>\n",
       "      <td>Compensate Essential Workers</td>\n",
       "      <td>False</td>\n",
       "      <td>False</td>\n",
       "      <td>False</td>\n",
       "      <td>True</td>\n",
       "    </tr>\n",
       "    <tr>\n",
       "      <th>2</th>\n",
       "      <td>Amend Recent COVID-19 Restrictions for Persona...</td>\n",
       "      <td>False</td>\n",
       "      <td>True</td>\n",
       "      <td>True</td>\n",
       "      <td>False</td>\n",
       "    </tr>\n",
       "    <tr>\n",
       "      <th>3</th>\n",
       "      <td>Petition against COVID-19 &amp; Quarantine Bill: S...</td>\n",
       "      <td>True</td>\n",
       "      <td>False</td>\n",
       "      <td>False</td>\n",
       "      <td>False</td>\n",
       "    </tr>\n",
       "    <tr>\n",
       "      <th>4</th>\n",
       "      <td>KCL Has Coronavirus Case: Petition to Have Onl...</td>\n",
       "      <td>True</td>\n",
       "      <td>True</td>\n",
       "      <td>True</td>\n",
       "      <td>False</td>\n",
       "    </tr>\n",
       "  </tbody>\n",
       "</table>\n",
       "</div>"
      ],
      "text/plain": [
       "                                                text  annotation_112  \\\n",
       "0  Get CoVID Vaccines to Nepal ASAP and prevent a...           False   \n",
       "1                       Compensate Essential Workers           False   \n",
       "2  Amend Recent COVID-19 Restrictions for Persona...           False   \n",
       "3  Petition against COVID-19 & Quarantine Bill: S...            True   \n",
       "4  KCL Has Coronavirus Case: Petition to Have Onl...            True   \n",
       "\n",
       "   annotation_109  annotation_110  annotation_111  \n",
       "0           False           False           False  \n",
       "1           False           False            True  \n",
       "2            True            True           False  \n",
       "3           False           False           False  \n",
       "4            True            True           False  "
      ]
     },
     "execution_count": 56,
     "metadata": {},
     "output_type": "execute_result"
    }
   ],
   "source": [
    "df_3 = pd.read_csv(r'change.org_topic\\change.org_topic_1_lockdowns.csv')\n",
    "df_3.head()"
   ]
  },
  {
   "cell_type": "code",
   "execution_count": 57,
   "id": "cooperative-gibraltar",
   "metadata": {},
   "outputs": [
    {
     "name": "stdout",
     "output_type": "stream",
     "text": [
      "0\n",
      "0\n",
      "0\n",
      "0\n",
      "0\n"
     ]
    }
   ],
   "source": [
    "print(df_3['annotation_109'].isnull().sum())\n",
    "print(df_3['annotation_110'].isnull().sum())\n",
    "print(df_3['annotation_111'].isnull().sum())\n",
    "print(df_3['annotation_112'].isnull().sum())\n",
    "print(df_3['text'].isnull().sum())"
   ]
  },
  {
   "cell_type": "code",
   "execution_count": 58,
   "id": "filled-monkey",
   "metadata": {},
   "outputs": [],
   "source": [
    "annotation_1= df_3['annotation_109']\n",
    "annotation_2= df_3['annotation_110']\n",
    "annotation_3= df_3['annotation_111']\n",
    "annotation_4= df_3['annotation_112']"
   ]
  },
  {
   "cell_type": "markdown",
   "id": "thirty-inflation",
   "metadata": {},
   "source": [
    "### Cohen_kappa average score of annotation 109"
   ]
  },
  {
   "cell_type": "code",
   "execution_count": 59,
   "id": "proprietary-damage",
   "metadata": {},
   "outputs": [],
   "source": [
    "def cohen_avg_1():\n",
    "    cohen_score_12 = cohen_kappa_score(annotation_1,annotation_2)\n",
    "    cohen_score_13 = cohen_kappa_score(annotation_1,annotation_3)\n",
    "    cohen_score_14 = cohen_kappa_score(annotation_1,annotation_4)\n",
    "    cohen_score_average_1 = round((cohen_score_12 + cohen_score_13 + cohen_score_14)/3,3)\n",
    "    #print(\"Average Cohen Kappa Score for annotation 109:\",(cohen_score_average_1))\n",
    "    return cohen_score_average_1"
   ]
  },
  {
   "cell_type": "code",
   "execution_count": 60,
   "id": "racial-given",
   "metadata": {},
   "outputs": [
    {
     "data": {
      "text/plain": [
       "0.466"
      ]
     },
     "execution_count": 60,
     "metadata": {},
     "output_type": "execute_result"
    }
   ],
   "source": [
    "cohen_avg_1()"
   ]
  },
  {
   "cell_type": "markdown",
   "id": "limited-gambling",
   "metadata": {},
   "source": [
    "### Cohen_kappa average score of annotation 110"
   ]
  },
  {
   "cell_type": "code",
   "execution_count": 61,
   "id": "digital-hydrogen",
   "metadata": {},
   "outputs": [],
   "source": [
    "def cohen_avg_2():\n",
    "    cohen_score_21 = cohen_kappa_score(annotation_2,annotation_1)\n",
    "    cohen_score_23 = cohen_kappa_score(annotation_2,annotation_3)\n",
    "    cohen_score_24 = cohen_kappa_score(annotation_2,annotation_4)\n",
    "    cohen_score_average_2 = round((cohen_score_21 + cohen_score_23 + cohen_score_24)/3,3)\n",
    "    #print(\"Average Cohen Kappa Score for annotation 110:\",(cohen_score_average_2))\n",
    "    return cohen_score_average_2"
   ]
  },
  {
   "cell_type": "code",
   "execution_count": 62,
   "id": "cardiovascular-discovery",
   "metadata": {},
   "outputs": [
    {
     "data": {
      "text/plain": [
       "0.357"
      ]
     },
     "execution_count": 62,
     "metadata": {},
     "output_type": "execute_result"
    }
   ],
   "source": [
    "cohen_avg_2()"
   ]
  },
  {
   "cell_type": "markdown",
   "id": "accepting-rhythm",
   "metadata": {},
   "source": [
    "### Cohen_kappa average score of annotation 111"
   ]
  },
  {
   "cell_type": "code",
   "execution_count": 63,
   "id": "living-bible",
   "metadata": {},
   "outputs": [],
   "source": [
    "def cohen_avg_3():\n",
    "    cohen_score_31 = cohen_kappa_score(annotation_3,annotation_1)\n",
    "    cohen_score_32 = cohen_kappa_score(annotation_3,annotation_2)\n",
    "    cohen_score_34 = cohen_kappa_score(annotation_3,annotation_4)\n",
    "    cohen_score_average_3 = round((cohen_score_31 + cohen_score_32 + cohen_score_34)/3,3)\n",
    "    #print(\"Average Cohen Kappa Score for annotation 111:\",(cohen_score_average_3))\n",
    "    return cohen_score_average_3"
   ]
  },
  {
   "cell_type": "code",
   "execution_count": 64,
   "id": "pacific-question",
   "metadata": {},
   "outputs": [
    {
     "data": {
      "text/plain": [
       "0.306"
      ]
     },
     "execution_count": 64,
     "metadata": {},
     "output_type": "execute_result"
    }
   ],
   "source": [
    "cohen_avg_3()"
   ]
  },
  {
   "cell_type": "markdown",
   "id": "innocent-firewall",
   "metadata": {},
   "source": [
    "### Cohen_kappa average score of annotation 112"
   ]
  },
  {
   "cell_type": "code",
   "execution_count": 65,
   "id": "official-adoption",
   "metadata": {},
   "outputs": [],
   "source": [
    "def cohen_avg_4():\n",
    "    cohen_score_41 = cohen_kappa_score(annotation_4,annotation_1)\n",
    "    cohen_score_42 = cohen_kappa_score(annotation_4,annotation_2)\n",
    "    cohen_score_43 = cohen_kappa_score(annotation_4,annotation_3)\n",
    "    cohen_score_average_4 = round((cohen_score_41 + cohen_score_42 + cohen_score_43)/3,3)\n",
    "    #print(\"Average Cohen Kappa Score for annotation 112:\",(cohen_score_average_4))\n",
    "    return cohen_score_average_4"
   ]
  },
  {
   "cell_type": "code",
   "execution_count": 66,
   "id": "irish-authorization",
   "metadata": {},
   "outputs": [
    {
     "data": {
      "text/plain": [
       "0.394"
      ]
     },
     "execution_count": 66,
     "metadata": {},
     "output_type": "execute_result"
    }
   ],
   "source": [
    "cohen_avg_4()"
   ]
  },
  {
   "cell_type": "markdown",
   "id": "caroline-premises",
   "metadata": {},
   "source": [
    "##### If average cohen kappa score for any annotation is less than 0.2, we will drop it"
   ]
  },
  {
   "cell_type": "code",
   "execution_count": 67,
   "id": "mediterranean-living",
   "metadata": {},
   "outputs": [],
   "source": [
    "def drop_annotate():\n",
    "    average = [cohen_avg_1(), cohen_avg_2(),cohen_avg_3(),cohen_avg_4()]\n",
    "    columns_name = ['annotation_109','annotation_110','annotation_111','annotation_112']\n",
    "    \n",
    "    for i in range(0,len(average)):\n",
    "        if average[i]< 0.2:\n",
    "            print(columns_name[i])\n",
    "            print(average[i])\n",
    "            df_3.drop(columns_name[i], axis=1, inplace = True)\n",
    "    print(df_3.head())\n",
    "    r = []\n",
    "    for col in df_3.columns:\n",
    "        r.append(col)\n",
    "    print(r[1:])"
   ]
  },
  {
   "cell_type": "code",
   "execution_count": 68,
   "id": "meaningful-brunswick",
   "metadata": {},
   "outputs": [
    {
     "name": "stdout",
     "output_type": "stream",
     "text": [
      "                                                text  annotation_112  \\\n",
      "0  Get CoVID Vaccines to Nepal ASAP and prevent a...           False   \n",
      "1                       Compensate Essential Workers           False   \n",
      "2  Amend Recent COVID-19 Restrictions for Persona...           False   \n",
      "3  Petition against COVID-19 & Quarantine Bill: S...            True   \n",
      "4  KCL Has Coronavirus Case: Petition to Have Onl...            True   \n",
      "\n",
      "   annotation_109  annotation_110  annotation_111  \n",
      "0           False           False           False  \n",
      "1           False           False            True  \n",
      "2            True            True           False  \n",
      "3           False           False           False  \n",
      "4            True            True           False  \n",
      "['annotation_112', 'annotation_109', 'annotation_110', 'annotation_111']\n"
     ]
    }
   ],
   "source": [
    "drop_annotate()"
   ]
  },
  {
   "cell_type": "code",
   "execution_count": 69,
   "id": "bulgarian-license",
   "metadata": {},
   "outputs": [],
   "source": [
    "def updateLabel(df_3):\n",
    "    for index, rows in df_3.iterrows():\n",
    "        match = [[cohen_avg_1(),rows['annotation_109']],\n",
    "                   [cohen_avg_2(),rows['annotation_110']],\n",
    "                   [cohen_avg_3(),rows['annotation_111']],\n",
    "                    [cohen_avg_4(),rows['annotation_112']]]\n",
    "        boolean = [rows['annotation_109'],rows['annotation_110'],rows['annotation_111'],rows['annotation_112']]\n",
    "        match.sort(key = lambda k:k[0])\n",
    "        true = match.count('True')\n",
    "        false = match.count('False')\n",
    "        if true == false: \n",
    "            kappa, columnV = match[-1]\n",
    "            df_3.loc[index, 'Final Label'] = columnV\n",
    "            \n",
    "        elif true!=false:\n",
    "            if true > false:\n",
    "                df_3.loc[index, 'Final Label'] = True\n",
    "            else:\n",
    "                df_3.loc[index, 'Final Label'] = False\n",
    "    \n",
    "\n"
   ]
  },
  {
   "cell_type": "code",
   "execution_count": 70,
   "id": "dimensional-preserve",
   "metadata": {},
   "outputs": [
    {
     "data": {
      "text/html": [
       "<div>\n",
       "<style scoped>\n",
       "    .dataframe tbody tr th:only-of-type {\n",
       "        vertical-align: middle;\n",
       "    }\n",
       "\n",
       "    .dataframe tbody tr th {\n",
       "        vertical-align: top;\n",
       "    }\n",
       "\n",
       "    .dataframe thead th {\n",
       "        text-align: right;\n",
       "    }\n",
       "</style>\n",
       "<table border=\"1\" class=\"dataframe\">\n",
       "  <thead>\n",
       "    <tr style=\"text-align: right;\">\n",
       "      <th></th>\n",
       "      <th>text</th>\n",
       "      <th>Final Label</th>\n",
       "    </tr>\n",
       "  </thead>\n",
       "  <tbody>\n",
       "    <tr>\n",
       "      <th>0</th>\n",
       "      <td>Get CoVID Vaccines to Nepal ASAP and prevent a...</td>\n",
       "      <td>False</td>\n",
       "    </tr>\n",
       "    <tr>\n",
       "      <th>1</th>\n",
       "      <td>Compensate Essential Workers</td>\n",
       "      <td>False</td>\n",
       "    </tr>\n",
       "    <tr>\n",
       "      <th>2</th>\n",
       "      <td>Amend Recent COVID-19 Restrictions for Persona...</td>\n",
       "      <td>True</td>\n",
       "    </tr>\n",
       "    <tr>\n",
       "      <th>3</th>\n",
       "      <td>Petition against COVID-19 &amp; Quarantine Bill: S...</td>\n",
       "      <td>False</td>\n",
       "    </tr>\n",
       "    <tr>\n",
       "      <th>4</th>\n",
       "      <td>KCL Has Coronavirus Case: Petition to Have Onl...</td>\n",
       "      <td>True</td>\n",
       "    </tr>\n",
       "  </tbody>\n",
       "</table>\n",
       "</div>"
      ],
      "text/plain": [
       "                                                text Final Label\n",
       "0  Get CoVID Vaccines to Nepal ASAP and prevent a...       False\n",
       "1                       Compensate Essential Workers       False\n",
       "2  Amend Recent COVID-19 Restrictions for Persona...        True\n",
       "3  Petition against COVID-19 & Quarantine Bill: S...       False\n",
       "4  KCL Has Coronavirus Case: Petition to Have Onl...        True"
      ]
     },
     "execution_count": 70,
     "metadata": {},
     "output_type": "execute_result"
    }
   ],
   "source": [
    "updateLabel(df_3)\n",
    "df_3 = df_3.iloc[:,[0,-1]]\n",
    "df_3.head()"
   ]
  },
  {
   "cell_type": "code",
   "execution_count": 71,
   "id": "contained-request",
   "metadata": {},
   "outputs": [],
   "source": [
    "df_3.to_csv(r'C:\\Users\\stuar\\Desktop\\NLP Assignment 2\\new_files\\secondary\\change.org_topic_1_lockdowns.csv',\n",
    "           index = False)"
   ]
  },
  {
   "cell_type": "code",
   "execution_count": null,
   "id": "vocal-belle",
   "metadata": {},
   "outputs": [],
   "source": []
  },
  {
   "cell_type": "code",
   "execution_count": null,
   "id": "ranging-campaign",
   "metadata": {},
   "outputs": [],
   "source": []
  },
  {
   "cell_type": "markdown",
   "id": "convenient-underwear",
   "metadata": {},
   "source": [
    "## change_topic_1_masking_and_distancing.csv"
   ]
  },
  {
   "cell_type": "code",
   "execution_count": 72,
   "id": "running-announcement",
   "metadata": {},
   "outputs": [
    {
     "data": {
      "text/html": [
       "<div>\n",
       "<style scoped>\n",
       "    .dataframe tbody tr th:only-of-type {\n",
       "        vertical-align: middle;\n",
       "    }\n",
       "\n",
       "    .dataframe tbody tr th {\n",
       "        vertical-align: top;\n",
       "    }\n",
       "\n",
       "    .dataframe thead th {\n",
       "        text-align: right;\n",
       "    }\n",
       "</style>\n",
       "<table border=\"1\" class=\"dataframe\">\n",
       "  <thead>\n",
       "    <tr style=\"text-align: right;\">\n",
       "      <th></th>\n",
       "      <th>text</th>\n",
       "      <th>annotation_112</th>\n",
       "      <th>annotation_109</th>\n",
       "      <th>annotation_110</th>\n",
       "      <th>annotation_111</th>\n",
       "    </tr>\n",
       "  </thead>\n",
       "  <tbody>\n",
       "    <tr>\n",
       "      <th>0</th>\n",
       "      <td>Get CoVID Vaccines to Nepal ASAP and prevent a...</td>\n",
       "      <td>False</td>\n",
       "      <td>False</td>\n",
       "      <td>False</td>\n",
       "      <td>False</td>\n",
       "    </tr>\n",
       "    <tr>\n",
       "      <th>1</th>\n",
       "      <td>Compensate Essential Workers</td>\n",
       "      <td>False</td>\n",
       "      <td>False</td>\n",
       "      <td>False</td>\n",
       "      <td>True</td>\n",
       "    </tr>\n",
       "    <tr>\n",
       "      <th>2</th>\n",
       "      <td>Amend Recent COVID-19 Restrictions for Persona...</td>\n",
       "      <td>False</td>\n",
       "      <td>False</td>\n",
       "      <td>False</td>\n",
       "      <td>True</td>\n",
       "    </tr>\n",
       "    <tr>\n",
       "      <th>3</th>\n",
       "      <td>Petition against COVID-19 &amp; Quarantine Bill: S...</td>\n",
       "      <td>False</td>\n",
       "      <td>False</td>\n",
       "      <td>False</td>\n",
       "      <td>False</td>\n",
       "    </tr>\n",
       "    <tr>\n",
       "      <th>4</th>\n",
       "      <td>KCL Has Coronavirus Case: Petition to Have Onl...</td>\n",
       "      <td>False</td>\n",
       "      <td>False</td>\n",
       "      <td>False</td>\n",
       "      <td>False</td>\n",
       "    </tr>\n",
       "  </tbody>\n",
       "</table>\n",
       "</div>"
      ],
      "text/plain": [
       "                                                text  annotation_112  \\\n",
       "0  Get CoVID Vaccines to Nepal ASAP and prevent a...           False   \n",
       "1                       Compensate Essential Workers           False   \n",
       "2  Amend Recent COVID-19 Restrictions for Persona...           False   \n",
       "3  Petition against COVID-19 & Quarantine Bill: S...           False   \n",
       "4  KCL Has Coronavirus Case: Petition to Have Onl...           False   \n",
       "\n",
       "   annotation_109  annotation_110  annotation_111  \n",
       "0           False           False           False  \n",
       "1           False           False            True  \n",
       "2           False           False            True  \n",
       "3           False           False           False  \n",
       "4           False           False           False  "
      ]
     },
     "execution_count": 72,
     "metadata": {},
     "output_type": "execute_result"
    }
   ],
   "source": [
    "df_4 = pd.read_csv(r'change.org_topic\\change.org_topic_1_masking_and_distancing.csv')\n",
    "df_4.head()"
   ]
  },
  {
   "cell_type": "code",
   "execution_count": 73,
   "id": "toxic-portrait",
   "metadata": {},
   "outputs": [
    {
     "name": "stdout",
     "output_type": "stream",
     "text": [
      "0\n",
      "0\n",
      "0\n",
      "0\n",
      "0\n"
     ]
    }
   ],
   "source": [
    "print(df_4['annotation_109'].isnull().sum())\n",
    "print(df_4['annotation_110'].isnull().sum())\n",
    "print(df_4['annotation_111'].isnull().sum())\n",
    "print(df_4['annotation_112'].isnull().sum())\n",
    "print(df_4['text'].isnull().sum())"
   ]
  },
  {
   "cell_type": "code",
   "execution_count": 74,
   "id": "medieval-schema",
   "metadata": {},
   "outputs": [],
   "source": [
    "annotation_1= df_4['annotation_109']\n",
    "annotation_2= df_4['annotation_110']\n",
    "annotation_3= df_4['annotation_111']\n",
    "annotation_4= df_4['annotation_112']"
   ]
  },
  {
   "cell_type": "markdown",
   "id": "unlikely-jimmy",
   "metadata": {},
   "source": [
    "### Cohen_kappa average score of annotation 109"
   ]
  },
  {
   "cell_type": "code",
   "execution_count": 75,
   "id": "european-silly",
   "metadata": {},
   "outputs": [],
   "source": [
    "def cohen_avg_1():\n",
    "    cohen_score_12 = cohen_kappa_score(annotation_1,annotation_2)\n",
    "    cohen_score_13 = cohen_kappa_score(annotation_1,annotation_3)\n",
    "    cohen_score_14 = cohen_kappa_score(annotation_1,annotation_4)\n",
    "    cohen_score_average_1 = round((cohen_score_12 + cohen_score_13 + cohen_score_14)/3,3)\n",
    "    #print(\"Average Cohen Kappa Score for annotation 109:\",(cohen_score_average_1))\n",
    "    return cohen_score_average_1"
   ]
  },
  {
   "cell_type": "code",
   "execution_count": 76,
   "id": "gentle-albert",
   "metadata": {},
   "outputs": [
    {
     "data": {
      "text/plain": [
       "0.25"
      ]
     },
     "execution_count": 76,
     "metadata": {},
     "output_type": "execute_result"
    }
   ],
   "source": [
    "cohen_avg_1()"
   ]
  },
  {
   "cell_type": "markdown",
   "id": "hollow-skill",
   "metadata": {},
   "source": [
    "### Cohen_kappa average score of annotation 110"
   ]
  },
  {
   "cell_type": "code",
   "execution_count": 77,
   "id": "engaging-humanity",
   "metadata": {},
   "outputs": [],
   "source": [
    "def cohen_avg_2():\n",
    "    cohen_score_21 = cohen_kappa_score(annotation_2,annotation_1)\n",
    "    cohen_score_23 = cohen_kappa_score(annotation_2,annotation_3)\n",
    "    cohen_score_24 = cohen_kappa_score(annotation_2,annotation_4)\n",
    "    cohen_score_average_2 = round((cohen_score_21 + cohen_score_23 + cohen_score_24)/3,3)\n",
    "    #print(\"Average Cohen Kappa Score for annotation 110:\",(cohen_score_average_2))\n",
    "    return cohen_score_average_2"
   ]
  },
  {
   "cell_type": "code",
   "execution_count": 78,
   "id": "patent-apache",
   "metadata": {},
   "outputs": [
    {
     "data": {
      "text/plain": [
       "0.297"
      ]
     },
     "execution_count": 78,
     "metadata": {},
     "output_type": "execute_result"
    }
   ],
   "source": [
    "cohen_avg_2()"
   ]
  },
  {
   "cell_type": "markdown",
   "id": "blind-checkout",
   "metadata": {},
   "source": [
    "### Cohen_kappa average score of annotation 111"
   ]
  },
  {
   "cell_type": "code",
   "execution_count": 79,
   "id": "clean-producer",
   "metadata": {},
   "outputs": [],
   "source": [
    "def cohen_avg_3():\n",
    "    cohen_score_31 = cohen_kappa_score(annotation_3,annotation_1)\n",
    "    cohen_score_32 = cohen_kappa_score(annotation_3,annotation_2)\n",
    "    cohen_score_34 = cohen_kappa_score(annotation_3,annotation_4)\n",
    "    cohen_score_average_3 = round((cohen_score_31 + cohen_score_32 + cohen_score_34)/3,3)\n",
    "    #print(\"Average Cohen Kappa Score for annotation 111:\",(cohen_score_average_3))\n",
    "    return cohen_score_average_3"
   ]
  },
  {
   "cell_type": "code",
   "execution_count": 80,
   "id": "horizontal-cornell",
   "metadata": {},
   "outputs": [
    {
     "data": {
      "text/plain": [
       "0.213"
      ]
     },
     "execution_count": 80,
     "metadata": {},
     "output_type": "execute_result"
    }
   ],
   "source": [
    "cohen_avg_3()"
   ]
  },
  {
   "cell_type": "markdown",
   "id": "victorian-ferry",
   "metadata": {},
   "source": [
    "### Cohen_kappa average score of annotation 112"
   ]
  },
  {
   "cell_type": "code",
   "execution_count": 81,
   "id": "divine-islam",
   "metadata": {},
   "outputs": [],
   "source": [
    "def cohen_avg_4():\n",
    "    cohen_score_41 = cohen_kappa_score(annotation_4,annotation_1)\n",
    "    cohen_score_42 = cohen_kappa_score(annotation_4,annotation_2)\n",
    "    cohen_score_43 = cohen_kappa_score(annotation_4,annotation_3)\n",
    "    cohen_score_average_4 = round((cohen_score_41 + cohen_score_42 + cohen_score_43)/3,3)\n",
    "    #print(\"Average Cohen Kappa Score for annotation 112:\",(cohen_score_average_4))\n",
    "    return cohen_score_average_4"
   ]
  },
  {
   "cell_type": "code",
   "execution_count": 82,
   "id": "automotive-duration",
   "metadata": {},
   "outputs": [
    {
     "data": {
      "text/plain": [
       "0.327"
      ]
     },
     "execution_count": 82,
     "metadata": {},
     "output_type": "execute_result"
    }
   ],
   "source": [
    "cohen_avg_4()"
   ]
  },
  {
   "cell_type": "markdown",
   "id": "continuing-consequence",
   "metadata": {},
   "source": [
    "##### If average cohen kappa score for any annotation is less than 0.2, we will drop it"
   ]
  },
  {
   "cell_type": "code",
   "execution_count": 83,
   "id": "saved-locking",
   "metadata": {},
   "outputs": [],
   "source": [
    "def drop_annotate():\n",
    "    average = [cohen_avg_1(), cohen_avg_2(),cohen_avg_3(),cohen_avg_4()]\n",
    "    columns_name = ['annotation_109','annotation_110','annotation_111','annotation_112']\n",
    "    for i in range(0,len(average)):\n",
    "        if average[i]< 0.2:\n",
    "            print(columns_name[i])\n",
    "            print(average[i])\n",
    "            df_4.drop(columns_name[i], axis=1, inplace = True)\n",
    "    print(df_4.head())\n",
    "    r = []\n",
    "    for col in df_4.columns:\n",
    "        r.append(col)\n",
    "    print(r[1:])"
   ]
  },
  {
   "cell_type": "code",
   "execution_count": 84,
   "id": "adjustable-worry",
   "metadata": {},
   "outputs": [
    {
     "name": "stdout",
     "output_type": "stream",
     "text": [
      "                                                text  annotation_112  \\\n",
      "0  Get CoVID Vaccines to Nepal ASAP and prevent a...           False   \n",
      "1                       Compensate Essential Workers           False   \n",
      "2  Amend Recent COVID-19 Restrictions for Persona...           False   \n",
      "3  Petition against COVID-19 & Quarantine Bill: S...           False   \n",
      "4  KCL Has Coronavirus Case: Petition to Have Onl...           False   \n",
      "\n",
      "   annotation_109  annotation_110  annotation_111  \n",
      "0           False           False           False  \n",
      "1           False           False            True  \n",
      "2           False           False            True  \n",
      "3           False           False           False  \n",
      "4           False           False           False  \n",
      "['annotation_112', 'annotation_109', 'annotation_110', 'annotation_111']\n"
     ]
    }
   ],
   "source": [
    "drop_annotate()"
   ]
  },
  {
   "cell_type": "code",
   "execution_count": 85,
   "id": "referenced-portland",
   "metadata": {},
   "outputs": [],
   "source": [
    "def updateLabel(df_4):\n",
    "    for index, rows in df_4.iterrows():\n",
    "        match = [[cohen_avg_1(),rows['annotation_109']],\n",
    "                   [cohen_avg_2(),rows['annotation_110']],\n",
    "                   [cohen_avg_3(),rows['annotation_111']],\n",
    "                    [cohen_avg_4(),rows['annotation_112']]]\n",
    "        boolean = [rows['annotation_109'],rows['annotation_110'],rows['annotation_111'],rows['annotation_112']]\n",
    "        match.sort(key = lambda k:k[0])\n",
    "        true = match.count('True')\n",
    "        false = match.count('False')\n",
    "        if true == false: \n",
    "            kappa, columnV = match[-1]\n",
    "            df_4.loc[index, 'Final Label'] = columnV\n",
    "            \n",
    "        elif true!=false:\n",
    "            if true > false:\n",
    "                df_4.loc[index, 'Final Label'] = True\n",
    "            else:\n",
    "                df_4.loc[index, 'Final Label'] = False\n",
    "    \n",
    "\n"
   ]
  },
  {
   "cell_type": "code",
   "execution_count": 86,
   "id": "southeast-airport",
   "metadata": {},
   "outputs": [
    {
     "data": {
      "text/html": [
       "<div>\n",
       "<style scoped>\n",
       "    .dataframe tbody tr th:only-of-type {\n",
       "        vertical-align: middle;\n",
       "    }\n",
       "\n",
       "    .dataframe tbody tr th {\n",
       "        vertical-align: top;\n",
       "    }\n",
       "\n",
       "    .dataframe thead th {\n",
       "        text-align: right;\n",
       "    }\n",
       "</style>\n",
       "<table border=\"1\" class=\"dataframe\">\n",
       "  <thead>\n",
       "    <tr style=\"text-align: right;\">\n",
       "      <th></th>\n",
       "      <th>text</th>\n",
       "      <th>Final Label</th>\n",
       "    </tr>\n",
       "  </thead>\n",
       "  <tbody>\n",
       "    <tr>\n",
       "      <th>0</th>\n",
       "      <td>Get CoVID Vaccines to Nepal ASAP and prevent a...</td>\n",
       "      <td>False</td>\n",
       "    </tr>\n",
       "    <tr>\n",
       "      <th>1</th>\n",
       "      <td>Compensate Essential Workers</td>\n",
       "      <td>False</td>\n",
       "    </tr>\n",
       "    <tr>\n",
       "      <th>2</th>\n",
       "      <td>Amend Recent COVID-19 Restrictions for Persona...</td>\n",
       "      <td>False</td>\n",
       "    </tr>\n",
       "    <tr>\n",
       "      <th>3</th>\n",
       "      <td>Petition against COVID-19 &amp; Quarantine Bill: S...</td>\n",
       "      <td>False</td>\n",
       "    </tr>\n",
       "    <tr>\n",
       "      <th>4</th>\n",
       "      <td>KCL Has Coronavirus Case: Petition to Have Onl...</td>\n",
       "      <td>False</td>\n",
       "    </tr>\n",
       "  </tbody>\n",
       "</table>\n",
       "</div>"
      ],
      "text/plain": [
       "                                                text Final Label\n",
       "0  Get CoVID Vaccines to Nepal ASAP and prevent a...       False\n",
       "1                       Compensate Essential Workers       False\n",
       "2  Amend Recent COVID-19 Restrictions for Persona...       False\n",
       "3  Petition against COVID-19 & Quarantine Bill: S...       False\n",
       "4  KCL Has Coronavirus Case: Petition to Have Onl...       False"
      ]
     },
     "execution_count": 86,
     "metadata": {},
     "output_type": "execute_result"
    }
   ],
   "source": [
    "updateLabel(df_4)\n",
    "df_4 = df_4.iloc[:,[0,-1]]\n",
    "df_4.head()"
   ]
  },
  {
   "cell_type": "code",
   "execution_count": 87,
   "id": "demonstrated-robin",
   "metadata": {},
   "outputs": [],
   "source": [
    "df_4.to_csv(r'C:\\Users\\stuar\\Desktop\\NLP Assignment 2\\new_files\\secondary\\change.org_topic_1_masking_and_distancing.csv',\n",
    "           index = False)"
   ]
  },
  {
   "cell_type": "markdown",
   "id": "innovative-ferry",
   "metadata": {},
   "source": [
    "## change.org_topic_1_vaccination.csv"
   ]
  },
  {
   "cell_type": "code",
   "execution_count": 88,
   "id": "vital-encyclopedia",
   "metadata": {},
   "outputs": [
    {
     "data": {
      "text/html": [
       "<div>\n",
       "<style scoped>\n",
       "    .dataframe tbody tr th:only-of-type {\n",
       "        vertical-align: middle;\n",
       "    }\n",
       "\n",
       "    .dataframe tbody tr th {\n",
       "        vertical-align: top;\n",
       "    }\n",
       "\n",
       "    .dataframe thead th {\n",
       "        text-align: right;\n",
       "    }\n",
       "</style>\n",
       "<table border=\"1\" class=\"dataframe\">\n",
       "  <thead>\n",
       "    <tr style=\"text-align: right;\">\n",
       "      <th></th>\n",
       "      <th>text</th>\n",
       "      <th>annotation_112</th>\n",
       "      <th>annotation_109</th>\n",
       "      <th>annotation_110</th>\n",
       "      <th>annotation_111</th>\n",
       "    </tr>\n",
       "  </thead>\n",
       "  <tbody>\n",
       "    <tr>\n",
       "      <th>0</th>\n",
       "      <td>Get CoVID Vaccines to Nepal ASAP and prevent a...</td>\n",
       "      <td>True</td>\n",
       "      <td>True</td>\n",
       "      <td>True</td>\n",
       "      <td>True</td>\n",
       "    </tr>\n",
       "    <tr>\n",
       "      <th>1</th>\n",
       "      <td>Compensate Essential Workers</td>\n",
       "      <td>False</td>\n",
       "      <td>False</td>\n",
       "      <td>True</td>\n",
       "      <td>False</td>\n",
       "    </tr>\n",
       "    <tr>\n",
       "      <th>2</th>\n",
       "      <td>Amend Recent COVID-19 Restrictions for Persona...</td>\n",
       "      <td>False</td>\n",
       "      <td>False</td>\n",
       "      <td>False</td>\n",
       "      <td>False</td>\n",
       "    </tr>\n",
       "    <tr>\n",
       "      <th>3</th>\n",
       "      <td>Petition against COVID-19 &amp; Quarantine Bill: S...</td>\n",
       "      <td>False</td>\n",
       "      <td>False</td>\n",
       "      <td>False</td>\n",
       "      <td>False</td>\n",
       "    </tr>\n",
       "    <tr>\n",
       "      <th>4</th>\n",
       "      <td>KCL Has Coronavirus Case: Petition to Have Onl...</td>\n",
       "      <td>False</td>\n",
       "      <td>False</td>\n",
       "      <td>False</td>\n",
       "      <td>False</td>\n",
       "    </tr>\n",
       "  </tbody>\n",
       "</table>\n",
       "</div>"
      ],
      "text/plain": [
       "                                                text  annotation_112  \\\n",
       "0  Get CoVID Vaccines to Nepal ASAP and prevent a...            True   \n",
       "1                       Compensate Essential Workers           False   \n",
       "2  Amend Recent COVID-19 Restrictions for Persona...           False   \n",
       "3  Petition against COVID-19 & Quarantine Bill: S...           False   \n",
       "4  KCL Has Coronavirus Case: Petition to Have Onl...           False   \n",
       "\n",
       "   annotation_109  annotation_110  annotation_111  \n",
       "0            True            True            True  \n",
       "1           False            True           False  \n",
       "2           False           False           False  \n",
       "3           False           False           False  \n",
       "4           False           False           False  "
      ]
     },
     "execution_count": 88,
     "metadata": {},
     "output_type": "execute_result"
    }
   ],
   "source": [
    "df_5 = pd.read_csv(r'change.org_topic\\change.org_topic_1_vaccination.csv')\n",
    "df_5.head()"
   ]
  },
  {
   "cell_type": "code",
   "execution_count": 89,
   "id": "universal-climate",
   "metadata": {},
   "outputs": [
    {
     "name": "stdout",
     "output_type": "stream",
     "text": [
      "0\n",
      "0\n",
      "0\n",
      "0\n",
      "0\n"
     ]
    }
   ],
   "source": [
    "print(df_5['annotation_109'].isnull().sum())\n",
    "print(df_5['annotation_110'].isnull().sum())\n",
    "print(df_5['annotation_111'].isnull().sum())\n",
    "print(df_5['annotation_112'].isnull().sum())\n",
    "print(df_5['text'].isnull().sum())"
   ]
  },
  {
   "cell_type": "code",
   "execution_count": 90,
   "id": "allied-conditioning",
   "metadata": {},
   "outputs": [],
   "source": [
    "annotation_1= df_5['annotation_109']\n",
    "annotation_2= df_5['annotation_110']\n",
    "annotation_3= df_5['annotation_111']\n",
    "annotation_4= df_5['annotation_112']"
   ]
  },
  {
   "cell_type": "markdown",
   "id": "handed-canal",
   "metadata": {},
   "source": [
    "### Cohen_kappa average score of annotation 109"
   ]
  },
  {
   "cell_type": "code",
   "execution_count": 91,
   "id": "institutional-price",
   "metadata": {},
   "outputs": [],
   "source": [
    "def cohen_avg_1():\n",
    "    cohen_score_12 = cohen_kappa_score(annotation_1,annotation_2)\n",
    "    cohen_score_13 = cohen_kappa_score(annotation_1,annotation_3)\n",
    "    cohen_score_14 = cohen_kappa_score(annotation_1,annotation_4)\n",
    "    cohen_score_average_1 = round((cohen_score_12 + cohen_score_13 + cohen_score_14)/3,3)\n",
    "    #print(\"Average Cohen Kappa Score for annotation 109:\",(cohen_score_average_1))\n",
    "    return cohen_score_average_1"
   ]
  },
  {
   "cell_type": "code",
   "execution_count": 92,
   "id": "developed-compensation",
   "metadata": {},
   "outputs": [
    {
     "data": {
      "text/plain": [
       "0.411"
      ]
     },
     "execution_count": 92,
     "metadata": {},
     "output_type": "execute_result"
    }
   ],
   "source": [
    "cohen_avg_1()"
   ]
  },
  {
   "cell_type": "markdown",
   "id": "standard-invention",
   "metadata": {},
   "source": [
    "### Cohen_kappa average score of annotation 110"
   ]
  },
  {
   "cell_type": "code",
   "execution_count": 93,
   "id": "equal-error",
   "metadata": {},
   "outputs": [],
   "source": [
    "def cohen_avg_2():\n",
    "    cohen_score_21 = cohen_kappa_score(annotation_2,annotation_1)\n",
    "    cohen_score_23 = cohen_kappa_score(annotation_2,annotation_3)\n",
    "    cohen_score_24 = cohen_kappa_score(annotation_2,annotation_4)\n",
    "    cohen_score_average_2 = round((cohen_score_21 + cohen_score_23 + cohen_score_24)/3,3)\n",
    "    #print(\"Average Cohen Kappa Score for annotation 110:\",(cohen_score_average_2))\n",
    "    return cohen_score_average_2"
   ]
  },
  {
   "cell_type": "code",
   "execution_count": 94,
   "id": "advised-philosophy",
   "metadata": {},
   "outputs": [
    {
     "data": {
      "text/plain": [
       "0.336"
      ]
     },
     "execution_count": 94,
     "metadata": {},
     "output_type": "execute_result"
    }
   ],
   "source": [
    "cohen_avg_2()"
   ]
  },
  {
   "cell_type": "markdown",
   "id": "israeli-simon",
   "metadata": {},
   "source": [
    "### Cohen_kappa average score of annotation 111"
   ]
  },
  {
   "cell_type": "code",
   "execution_count": 95,
   "id": "enhanced-painting",
   "metadata": {},
   "outputs": [],
   "source": [
    "def cohen_avg_3():\n",
    "    cohen_score_31 = cohen_kappa_score(annotation_3,annotation_1)\n",
    "    cohen_score_32 = cohen_kappa_score(annotation_3,annotation_2)\n",
    "    cohen_score_34 = cohen_kappa_score(annotation_3,annotation_4)\n",
    "    cohen_score_average_3 = round((cohen_score_31 + cohen_score_32 + cohen_score_34)/3,3)\n",
    "    #print(\"Average Cohen Kappa Score for annotation 111:\",(cohen_score_average_3))\n",
    "    return cohen_score_average_3"
   ]
  },
  {
   "cell_type": "code",
   "execution_count": 96,
   "id": "found-ticket",
   "metadata": {},
   "outputs": [
    {
     "data": {
      "text/plain": [
       "0.157"
      ]
     },
     "execution_count": 96,
     "metadata": {},
     "output_type": "execute_result"
    }
   ],
   "source": [
    "cohen_avg_3()"
   ]
  },
  {
   "cell_type": "markdown",
   "id": "subsequent-adrian",
   "metadata": {},
   "source": [
    "### Cohen_kappa average score of annotation 112"
   ]
  },
  {
   "cell_type": "code",
   "execution_count": 97,
   "id": "treated-dining",
   "metadata": {},
   "outputs": [],
   "source": [
    "def cohen_avg_4():\n",
    "    cohen_score_41 = cohen_kappa_score(annotation_4,annotation_1)\n",
    "    cohen_score_42 = cohen_kappa_score(annotation_4,annotation_2)\n",
    "    cohen_score_43 = cohen_kappa_score(annotation_4,annotation_3)\n",
    "    cohen_score_average_4 = round((cohen_score_41 + cohen_score_42 + cohen_score_43)/3,3)\n",
    "    #print(\"Average Cohen Kappa Score for annotation 112:\",(cohen_score_average_4))\n",
    "    return cohen_score_average_4"
   ]
  },
  {
   "cell_type": "code",
   "execution_count": 98,
   "id": "frozen-basement",
   "metadata": {},
   "outputs": [
    {
     "data": {
      "text/plain": [
       "0.407"
      ]
     },
     "execution_count": 98,
     "metadata": {},
     "output_type": "execute_result"
    }
   ],
   "source": [
    "cohen_avg_4()"
   ]
  },
  {
   "cell_type": "markdown",
   "id": "authentic-montreal",
   "metadata": {},
   "source": [
    "##### If average cohen kappa score for any annotation is less than 0.2, we will drop it"
   ]
  },
  {
   "cell_type": "code",
   "execution_count": 99,
   "id": "important-temple",
   "metadata": {},
   "outputs": [],
   "source": [
    "def drop_annotate():\n",
    "    average = [cohen_avg_1(), cohen_avg_2(),cohen_avg_3(),cohen_avg_4()]\n",
    "    columns_name = ['annotation_109','annotation_110','annotation_111','annotation_112']\n",
    "    for i in range(0,len(average)):\n",
    "        if average[i]< 0.2:\n",
    "            print(columns_name[i])\n",
    "            print(average[i])\n",
    "            df_5.drop(columns_name[i], axis=1, inplace = True)\n",
    "    print(df_5.head())\n",
    "    r=[]\n",
    "    for col in df_5.columns:\n",
    "        r.append(col)\n",
    "    print(r[1:])"
   ]
  },
  {
   "cell_type": "code",
   "execution_count": 100,
   "id": "bound-nickname",
   "metadata": {},
   "outputs": [
    {
     "name": "stdout",
     "output_type": "stream",
     "text": [
      "annotation_111\n",
      "0.157\n",
      "                                                text  annotation_112  \\\n",
      "0  Get CoVID Vaccines to Nepal ASAP and prevent a...            True   \n",
      "1                       Compensate Essential Workers           False   \n",
      "2  Amend Recent COVID-19 Restrictions for Persona...           False   \n",
      "3  Petition against COVID-19 & Quarantine Bill: S...           False   \n",
      "4  KCL Has Coronavirus Case: Petition to Have Onl...           False   \n",
      "\n",
      "   annotation_109  annotation_110  \n",
      "0            True            True  \n",
      "1           False            True  \n",
      "2           False           False  \n",
      "3           False           False  \n",
      "4           False           False  \n",
      "['annotation_112', 'annotation_109', 'annotation_110']\n"
     ]
    }
   ],
   "source": [
    "drop_annotate()"
   ]
  },
  {
   "cell_type": "code",
   "execution_count": 101,
   "id": "beneficial-robert",
   "metadata": {},
   "outputs": [],
   "source": [
    "def updateLabel(df_5):\n",
    "    for index, rows in df_5.iterrows():\n",
    "        match = [[cohen_avg_1(),rows['annotation_109']],\n",
    "                   [cohen_avg_2(),rows['annotation_110']],\n",
    "                    [cohen_avg_4(),rows['annotation_112']]]\n",
    "        boolean = [rows['annotation_109'],rows['annotation_110'],rows['annotation_112']]\n",
    "        match.sort(key = lambda k:k[0])\n",
    "        true = match.count('True')\n",
    "        false = match.count('False')\n",
    "        if true == false: \n",
    "            kappa, columnV = match[-1]\n",
    "            df_5.loc[index, 'Final Label'] = columnV\n",
    "            \n",
    "        elif true!=false:\n",
    "            if true > false:\n",
    "                df_5.loc[index, 'Final Label'] = True\n",
    "            else:\n",
    "                df_5.loc[index, 'Final Label'] = False\n",
    "    \n",
    "\n"
   ]
  },
  {
   "cell_type": "code",
   "execution_count": 102,
   "id": "limited-skating",
   "metadata": {},
   "outputs": [
    {
     "data": {
      "text/html": [
       "<div>\n",
       "<style scoped>\n",
       "    .dataframe tbody tr th:only-of-type {\n",
       "        vertical-align: middle;\n",
       "    }\n",
       "\n",
       "    .dataframe tbody tr th {\n",
       "        vertical-align: top;\n",
       "    }\n",
       "\n",
       "    .dataframe thead th {\n",
       "        text-align: right;\n",
       "    }\n",
       "</style>\n",
       "<table border=\"1\" class=\"dataframe\">\n",
       "  <thead>\n",
       "    <tr style=\"text-align: right;\">\n",
       "      <th></th>\n",
       "      <th>text</th>\n",
       "      <th>Final Label</th>\n",
       "    </tr>\n",
       "  </thead>\n",
       "  <tbody>\n",
       "    <tr>\n",
       "      <th>0</th>\n",
       "      <td>Get CoVID Vaccines to Nepal ASAP and prevent a...</td>\n",
       "      <td>True</td>\n",
       "    </tr>\n",
       "    <tr>\n",
       "      <th>1</th>\n",
       "      <td>Compensate Essential Workers</td>\n",
       "      <td>False</td>\n",
       "    </tr>\n",
       "    <tr>\n",
       "      <th>2</th>\n",
       "      <td>Amend Recent COVID-19 Restrictions for Persona...</td>\n",
       "      <td>False</td>\n",
       "    </tr>\n",
       "    <tr>\n",
       "      <th>3</th>\n",
       "      <td>Petition against COVID-19 &amp; Quarantine Bill: S...</td>\n",
       "      <td>False</td>\n",
       "    </tr>\n",
       "    <tr>\n",
       "      <th>4</th>\n",
       "      <td>KCL Has Coronavirus Case: Petition to Have Onl...</td>\n",
       "      <td>False</td>\n",
       "    </tr>\n",
       "  </tbody>\n",
       "</table>\n",
       "</div>"
      ],
      "text/plain": [
       "                                                text Final Label\n",
       "0  Get CoVID Vaccines to Nepal ASAP and prevent a...        True\n",
       "1                       Compensate Essential Workers       False\n",
       "2  Amend Recent COVID-19 Restrictions for Persona...       False\n",
       "3  Petition against COVID-19 & Quarantine Bill: S...       False\n",
       "4  KCL Has Coronavirus Case: Petition to Have Onl...       False"
      ]
     },
     "execution_count": 102,
     "metadata": {},
     "output_type": "execute_result"
    }
   ],
   "source": [
    "updateLabel(df_5)\n",
    "df_5 = df_5.iloc[:,[0,-1]]\n",
    "df_5.head()"
   ]
  },
  {
   "cell_type": "code",
   "execution_count": 103,
   "id": "involved-business",
   "metadata": {},
   "outputs": [],
   "source": [
    "df_5.to_csv(r'C:\\Users\\stuar\\Desktop\\NLP Assignment 2\\new_files\\secondary\\change.org_topic_1_vaccination.csv',\n",
    "           index = False)"
   ]
  },
  {
   "cell_type": "code",
   "execution_count": null,
   "id": "provincial-soccer",
   "metadata": {},
   "outputs": [],
   "source": []
  },
  {
   "cell_type": "markdown",
   "id": "discrete-delight",
   "metadata": {},
   "source": [
    "## change.org_topic_2_lockdowns.csv"
   ]
  },
  {
   "cell_type": "code",
   "execution_count": 104,
   "id": "focal-cursor",
   "metadata": {},
   "outputs": [
    {
     "data": {
      "text/html": [
       "<div>\n",
       "<style scoped>\n",
       "    .dataframe tbody tr th:only-of-type {\n",
       "        vertical-align: middle;\n",
       "    }\n",
       "\n",
       "    .dataframe tbody tr th {\n",
       "        vertical-align: top;\n",
       "    }\n",
       "\n",
       "    .dataframe thead th {\n",
       "        text-align: right;\n",
       "    }\n",
       "</style>\n",
       "<table border=\"1\" class=\"dataframe\">\n",
       "  <thead>\n",
       "    <tr style=\"text-align: right;\">\n",
       "      <th></th>\n",
       "      <th>text</th>\n",
       "      <th>annotation_73</th>\n",
       "      <th>annotation_74</th>\n",
       "      <th>annotation_75</th>\n",
       "      <th>annotation_76</th>\n",
       "    </tr>\n",
       "  </thead>\n",
       "  <tbody>\n",
       "    <tr>\n",
       "      <th>0</th>\n",
       "      <td>COVID-19 Awards</td>\n",
       "      <td>False</td>\n",
       "      <td>False</td>\n",
       "      <td>False</td>\n",
       "      <td>False</td>\n",
       "    </tr>\n",
       "    <tr>\n",
       "      <th>1</th>\n",
       "      <td>Cancel the 2020-2021 school year SOLs</td>\n",
       "      <td>True</td>\n",
       "      <td>True</td>\n",
       "      <td>False</td>\n",
       "      <td>True</td>\n",
       "    </tr>\n",
       "    <tr>\n",
       "      <th>2</th>\n",
       "      <td>..</td>\n",
       "      <td>False</td>\n",
       "      <td>False</td>\n",
       "      <td>False</td>\n",
       "      <td>False</td>\n",
       "    </tr>\n",
       "    <tr>\n",
       "      <th>3</th>\n",
       "      <td>Protect our nurses!</td>\n",
       "      <td>False</td>\n",
       "      <td>False</td>\n",
       "      <td>False</td>\n",
       "      <td>False</td>\n",
       "    </tr>\n",
       "    <tr>\n",
       "      <th>4</th>\n",
       "      <td>SENSELESS IMPRISONMENT FOR MY MOM.. FIRST TIME...</td>\n",
       "      <td>False</td>\n",
       "      <td>False</td>\n",
       "      <td>False</td>\n",
       "      <td>True</td>\n",
       "    </tr>\n",
       "  </tbody>\n",
       "</table>\n",
       "</div>"
      ],
      "text/plain": [
       "                                                text  annotation_73  \\\n",
       "0                                    COVID-19 Awards          False   \n",
       "1              Cancel the 2020-2021 school year SOLs           True   \n",
       "2                                                 ..          False   \n",
       "3                                Protect our nurses!          False   \n",
       "4  SENSELESS IMPRISONMENT FOR MY MOM.. FIRST TIME...          False   \n",
       "\n",
       "   annotation_74  annotation_75  annotation_76  \n",
       "0          False          False          False  \n",
       "1           True          False           True  \n",
       "2          False          False          False  \n",
       "3          False          False          False  \n",
       "4          False          False           True  "
      ]
     },
     "execution_count": 104,
     "metadata": {},
     "output_type": "execute_result"
    }
   ],
   "source": [
    "df_6 = pd.read_csv(r'change.org_topic\\change.org_topic_2_lockdowns.csv')\n",
    "df_6.head()"
   ]
  },
  {
   "cell_type": "code",
   "execution_count": 105,
   "id": "dependent-fraud",
   "metadata": {},
   "outputs": [
    {
     "name": "stdout",
     "output_type": "stream",
     "text": [
      "0\n",
      "0\n",
      "0\n",
      "0\n",
      "0\n"
     ]
    }
   ],
   "source": [
    "print(df_6['annotation_73'].isnull().sum())\n",
    "print(df_6['annotation_74'].isnull().sum())\n",
    "print(df_6['annotation_75'].isnull().sum())\n",
    "print(df_6['annotation_76'].isnull().sum())\n",
    "print(df_6['text'].isnull().sum())"
   ]
  },
  {
   "cell_type": "code",
   "execution_count": 106,
   "id": "talented-hepatitis",
   "metadata": {},
   "outputs": [],
   "source": [
    "annotation_1= df_6['annotation_73']\n",
    "annotation_2= df_6['annotation_74']\n",
    "annotation_3= df_6['annotation_75']\n",
    "annotation_4= df_6['annotation_76']"
   ]
  },
  {
   "cell_type": "markdown",
   "id": "living-intellectual",
   "metadata": {},
   "source": [
    "### Cohen_kappa average score of annotation 73"
   ]
  },
  {
   "cell_type": "code",
   "execution_count": 107,
   "id": "amazing-merit",
   "metadata": {},
   "outputs": [],
   "source": [
    "def cohen_avg_1():\n",
    "    cohen_score_12 = cohen_kappa_score(annotation_1,annotation_2)\n",
    "    cohen_score_13 = cohen_kappa_score(annotation_1,annotation_3)\n",
    "    cohen_score_14 = cohen_kappa_score(annotation_1,annotation_4)\n",
    "    cohen_score_average_1 = round((cohen_score_12 + cohen_score_13 + cohen_score_14)/3,3)\n",
    "    #print(\"Average Cohen Kappa Score for annotation 73:\",(cohen_score_average_1))\n",
    "    return cohen_score_average_1"
   ]
  },
  {
   "cell_type": "code",
   "execution_count": 108,
   "id": "composite-conversation",
   "metadata": {},
   "outputs": [
    {
     "data": {
      "text/plain": [
       "0.623"
      ]
     },
     "execution_count": 108,
     "metadata": {},
     "output_type": "execute_result"
    }
   ],
   "source": [
    "cohen_avg_1()"
   ]
  },
  {
   "cell_type": "markdown",
   "id": "serious-small",
   "metadata": {},
   "source": [
    "### Cohen_kappa average score of annotation 74"
   ]
  },
  {
   "cell_type": "code",
   "execution_count": 109,
   "id": "acknowledged-context",
   "metadata": {},
   "outputs": [],
   "source": [
    "def cohen_avg_2():\n",
    "    cohen_score_21 = cohen_kappa_score(annotation_2,annotation_1)\n",
    "    cohen_score_23 = cohen_kappa_score(annotation_2,annotation_3)\n",
    "    cohen_score_24 = cohen_kappa_score(annotation_2,annotation_4)\n",
    "    cohen_score_average_2 = round((cohen_score_21 + cohen_score_23 + cohen_score_24)/3,3)\n",
    "    #print(\"Average Cohen Kappa Score for annotation 74:\",(cohen_score_average_2))\n",
    "    return cohen_score_average_2"
   ]
  },
  {
   "cell_type": "code",
   "execution_count": 110,
   "id": "clear-aggregate",
   "metadata": {},
   "outputs": [
    {
     "data": {
      "text/plain": [
       "0.643"
      ]
     },
     "execution_count": 110,
     "metadata": {},
     "output_type": "execute_result"
    }
   ],
   "source": [
    "cohen_avg_2()"
   ]
  },
  {
   "cell_type": "markdown",
   "id": "marked-words",
   "metadata": {},
   "source": [
    "### Cohen_kappa average score of annotation 75"
   ]
  },
  {
   "cell_type": "code",
   "execution_count": 111,
   "id": "bridal-psychiatry",
   "metadata": {},
   "outputs": [],
   "source": [
    "def cohen_avg_3():\n",
    "    cohen_score_31 = cohen_kappa_score(annotation_3,annotation_1)\n",
    "    cohen_score_32 = cohen_kappa_score(annotation_3,annotation_2)\n",
    "    cohen_score_34 = cohen_kappa_score(annotation_3,annotation_4)\n",
    "    cohen_score_average_3 = round((cohen_score_31 + cohen_score_32 + cohen_score_34)/3,3)\n",
    "    #print(\"Average Cohen Kappa Score for annotation 75:\",(cohen_score_average_3))\n",
    "    return cohen_score_average_3"
   ]
  },
  {
   "cell_type": "code",
   "execution_count": 112,
   "id": "southern-flight",
   "metadata": {},
   "outputs": [
    {
     "data": {
      "text/plain": [
       "0.479"
      ]
     },
     "execution_count": 112,
     "metadata": {},
     "output_type": "execute_result"
    }
   ],
   "source": [
    "cohen_avg_3()"
   ]
  },
  {
   "cell_type": "markdown",
   "id": "another-forestry",
   "metadata": {},
   "source": [
    "### Cohen_kappa average score of annotation 76"
   ]
  },
  {
   "cell_type": "code",
   "execution_count": 113,
   "id": "suspended-villa",
   "metadata": {},
   "outputs": [],
   "source": [
    "def cohen_avg_4():\n",
    "    cohen_score_41 = cohen_kappa_score(annotation_4,annotation_1)\n",
    "    cohen_score_42 = cohen_kappa_score(annotation_4,annotation_2)\n",
    "    cohen_score_43 = cohen_kappa_score(annotation_4,annotation_3)\n",
    "    cohen_score_average_4 = round((cohen_score_41 + cohen_score_42 + cohen_score_43)/3,3)\n",
    "    #print(\"Average Cohen Kappa Score for annotation 76:\",(cohen_score_average_4))\n",
    "    return cohen_score_average_4"
   ]
  },
  {
   "cell_type": "code",
   "execution_count": 114,
   "id": "plastic-roommate",
   "metadata": {},
   "outputs": [
    {
     "data": {
      "text/plain": [
       "0.648"
      ]
     },
     "execution_count": 114,
     "metadata": {},
     "output_type": "execute_result"
    }
   ],
   "source": [
    "cohen_avg_4()"
   ]
  },
  {
   "cell_type": "markdown",
   "id": "portuguese-violence",
   "metadata": {},
   "source": [
    "##### If average cohen kappa score for any annotation is less than 0.2, we will drop it"
   ]
  },
  {
   "cell_type": "code",
   "execution_count": 115,
   "id": "beautiful-community",
   "metadata": {},
   "outputs": [],
   "source": [
    "def drop_annotate():\n",
    "    average = [cohen_avg_1(), cohen_avg_2(),cohen_avg_3(),cohen_avg_4()]\n",
    "    columns_name = ['annotation_73','annotation_74','annotation_75','annotation_76']\n",
    "    for i in range(0,len(average)):\n",
    "        if average[i]< 0.2:\n",
    "            print(columns_name[i])\n",
    "            print(average[i])\n",
    "            df_6.drop(columns_name[i], axis=1, inplace = True)\n",
    "    print(df_6.head())\n",
    "    r=[]\n",
    "    for col in df_6.columns:\n",
    "        r.append(col)\n",
    "    print(r[1:])"
   ]
  },
  {
   "cell_type": "code",
   "execution_count": 116,
   "id": "narrow-facial",
   "metadata": {},
   "outputs": [
    {
     "name": "stdout",
     "output_type": "stream",
     "text": [
      "                                                text  annotation_73  \\\n",
      "0                                    COVID-19 Awards          False   \n",
      "1              Cancel the 2020-2021 school year SOLs           True   \n",
      "2                                                 ..          False   \n",
      "3                                Protect our nurses!          False   \n",
      "4  SENSELESS IMPRISONMENT FOR MY MOM.. FIRST TIME...          False   \n",
      "\n",
      "   annotation_74  annotation_75  annotation_76  \n",
      "0          False          False          False  \n",
      "1           True          False           True  \n",
      "2          False          False          False  \n",
      "3          False          False          False  \n",
      "4          False          False           True  \n",
      "['annotation_73', 'annotation_74', 'annotation_75', 'annotation_76']\n"
     ]
    }
   ],
   "source": [
    "drop_annotate()"
   ]
  },
  {
   "cell_type": "code",
   "execution_count": 117,
   "id": "adjustable-cedar",
   "metadata": {},
   "outputs": [],
   "source": [
    "def updateLabel(df_6):\n",
    "    for index, rows in df_6.iterrows():\n",
    "        match = [[cohen_avg_1(),rows['annotation_73']],\n",
    "                   [cohen_avg_2(),rows['annotation_74']],\n",
    "                   [cohen_avg_3(),rows['annotation_75']],\n",
    "                    [cohen_avg_4(),rows['annotation_76']]]\n",
    "        boolean = [rows['annotation_73'],rows['annotation_74'],rows['annotation_75'],rows['annotation_76']]\n",
    "        match.sort(key = lambda k:k[0])\n",
    "        true = match.count('True')\n",
    "        false = match.count('False')\n",
    "        if true == false: \n",
    "            kappa, columnV = match[-1]\n",
    "            df_6.loc[index, 'Final Label'] = columnV\n",
    "            \n",
    "        elif true!=false:\n",
    "            if true > false:\n",
    "                df_6.loc[index, 'Final Label'] = True\n",
    "            else:\n",
    "                df_6.loc[index, 'Final Label'] = False\n",
    "    \n",
    "\n"
   ]
  },
  {
   "cell_type": "code",
   "execution_count": 118,
   "id": "ruled-chance",
   "metadata": {},
   "outputs": [
    {
     "data": {
      "text/html": [
       "<div>\n",
       "<style scoped>\n",
       "    .dataframe tbody tr th:only-of-type {\n",
       "        vertical-align: middle;\n",
       "    }\n",
       "\n",
       "    .dataframe tbody tr th {\n",
       "        vertical-align: top;\n",
       "    }\n",
       "\n",
       "    .dataframe thead th {\n",
       "        text-align: right;\n",
       "    }\n",
       "</style>\n",
       "<table border=\"1\" class=\"dataframe\">\n",
       "  <thead>\n",
       "    <tr style=\"text-align: right;\">\n",
       "      <th></th>\n",
       "      <th>text</th>\n",
       "      <th>Final Label</th>\n",
       "    </tr>\n",
       "  </thead>\n",
       "  <tbody>\n",
       "    <tr>\n",
       "      <th>0</th>\n",
       "      <td>COVID-19 Awards</td>\n",
       "      <td>False</td>\n",
       "    </tr>\n",
       "    <tr>\n",
       "      <th>1</th>\n",
       "      <td>Cancel the 2020-2021 school year SOLs</td>\n",
       "      <td>True</td>\n",
       "    </tr>\n",
       "    <tr>\n",
       "      <th>2</th>\n",
       "      <td>..</td>\n",
       "      <td>False</td>\n",
       "    </tr>\n",
       "    <tr>\n",
       "      <th>3</th>\n",
       "      <td>Protect our nurses!</td>\n",
       "      <td>False</td>\n",
       "    </tr>\n",
       "    <tr>\n",
       "      <th>4</th>\n",
       "      <td>SENSELESS IMPRISONMENT FOR MY MOM.. FIRST TIME...</td>\n",
       "      <td>True</td>\n",
       "    </tr>\n",
       "  </tbody>\n",
       "</table>\n",
       "</div>"
      ],
      "text/plain": [
       "                                                text Final Label\n",
       "0                                    COVID-19 Awards       False\n",
       "1              Cancel the 2020-2021 school year SOLs        True\n",
       "2                                                 ..       False\n",
       "3                                Protect our nurses!       False\n",
       "4  SENSELESS IMPRISONMENT FOR MY MOM.. FIRST TIME...        True"
      ]
     },
     "execution_count": 118,
     "metadata": {},
     "output_type": "execute_result"
    }
   ],
   "source": [
    "updateLabel(df_6)\n",
    "df_6 = df_6.iloc[:,[0,-1]]\n",
    "df_6.head()"
   ]
  },
  {
   "cell_type": "code",
   "execution_count": 119,
   "id": "sustainable-agreement",
   "metadata": {},
   "outputs": [],
   "source": [
    "df_6.to_csv(r'C:\\Users\\stuar\\Desktop\\NLP Assignment 2\\new_files\\secondary\\change.org_topic_2_lockdowns.csv',\n",
    "           index = False)"
   ]
  },
  {
   "cell_type": "code",
   "execution_count": null,
   "id": "western-florist",
   "metadata": {},
   "outputs": [],
   "source": []
  },
  {
   "cell_type": "markdown",
   "id": "wireless-techno",
   "metadata": {},
   "source": [
    "## change.org_topic_2_masking_and_distancing.csv"
   ]
  },
  {
   "cell_type": "code",
   "execution_count": 120,
   "id": "personalized-negotiation",
   "metadata": {},
   "outputs": [
    {
     "data": {
      "text/html": [
       "<div>\n",
       "<style scoped>\n",
       "    .dataframe tbody tr th:only-of-type {\n",
       "        vertical-align: middle;\n",
       "    }\n",
       "\n",
       "    .dataframe tbody tr th {\n",
       "        vertical-align: top;\n",
       "    }\n",
       "\n",
       "    .dataframe thead th {\n",
       "        text-align: right;\n",
       "    }\n",
       "</style>\n",
       "<table border=\"1\" class=\"dataframe\">\n",
       "  <thead>\n",
       "    <tr style=\"text-align: right;\">\n",
       "      <th></th>\n",
       "      <th>text</th>\n",
       "      <th>annotation_73</th>\n",
       "      <th>annotation_74</th>\n",
       "      <th>annotation_75</th>\n",
       "      <th>annotation_76</th>\n",
       "    </tr>\n",
       "  </thead>\n",
       "  <tbody>\n",
       "    <tr>\n",
       "      <th>0</th>\n",
       "      <td>COVID-19 Awards</td>\n",
       "      <td>False</td>\n",
       "      <td>False</td>\n",
       "      <td>False</td>\n",
       "      <td>False</td>\n",
       "    </tr>\n",
       "    <tr>\n",
       "      <th>1</th>\n",
       "      <td>Cancel the 2020-2021 school year SOLs</td>\n",
       "      <td>False</td>\n",
       "      <td>False</td>\n",
       "      <td>False</td>\n",
       "      <td>False</td>\n",
       "    </tr>\n",
       "    <tr>\n",
       "      <th>2</th>\n",
       "      <td>..</td>\n",
       "      <td>False</td>\n",
       "      <td>False</td>\n",
       "      <td>False</td>\n",
       "      <td>False</td>\n",
       "    </tr>\n",
       "    <tr>\n",
       "      <th>3</th>\n",
       "      <td>Protect our nurses!</td>\n",
       "      <td>False</td>\n",
       "      <td>False</td>\n",
       "      <td>False</td>\n",
       "      <td>False</td>\n",
       "    </tr>\n",
       "    <tr>\n",
       "      <th>4</th>\n",
       "      <td>SENSELESS IMPRISONMENT FOR MY MOM.. FIRST TIME...</td>\n",
       "      <td>False</td>\n",
       "      <td>False</td>\n",
       "      <td>False</td>\n",
       "      <td>False</td>\n",
       "    </tr>\n",
       "  </tbody>\n",
       "</table>\n",
       "</div>"
      ],
      "text/plain": [
       "                                                text  annotation_73  \\\n",
       "0                                    COVID-19 Awards          False   \n",
       "1              Cancel the 2020-2021 school year SOLs          False   \n",
       "2                                                 ..          False   \n",
       "3                                Protect our nurses!          False   \n",
       "4  SENSELESS IMPRISONMENT FOR MY MOM.. FIRST TIME...          False   \n",
       "\n",
       "   annotation_74  annotation_75  annotation_76  \n",
       "0          False          False          False  \n",
       "1          False          False          False  \n",
       "2          False          False          False  \n",
       "3          False          False          False  \n",
       "4          False          False          False  "
      ]
     },
     "execution_count": 120,
     "metadata": {},
     "output_type": "execute_result"
    }
   ],
   "source": [
    "df_7 = pd.read_csv(r'change.org_topic\\change.org_topic_2_masking_and_distancing.csv')\n",
    "df_7.head()"
   ]
  },
  {
   "cell_type": "code",
   "execution_count": 121,
   "id": "turned-change",
   "metadata": {},
   "outputs": [
    {
     "name": "stdout",
     "output_type": "stream",
     "text": [
      "0\n",
      "0\n",
      "0\n",
      "0\n",
      "0\n"
     ]
    }
   ],
   "source": [
    "print(df_7['annotation_73'].isnull().sum())\n",
    "print(df_7['annotation_74'].isnull().sum())\n",
    "print(df_7['annotation_75'].isnull().sum())\n",
    "print(df_7['annotation_76'].isnull().sum())\n",
    "print(df_7['text'].isnull().sum())"
   ]
  },
  {
   "cell_type": "code",
   "execution_count": 122,
   "id": "lesser-boundary",
   "metadata": {},
   "outputs": [],
   "source": [
    "annotation_1= df_7['annotation_73']\n",
    "annotation_2= df_7['annotation_74']\n",
    "annotation_3= df_7['annotation_75']\n",
    "annotation_4= df_7['annotation_76']"
   ]
  },
  {
   "cell_type": "markdown",
   "id": "secure-novel",
   "metadata": {},
   "source": [
    "### Cohen_kappa average score of annotation 73"
   ]
  },
  {
   "cell_type": "code",
   "execution_count": 123,
   "id": "thorough-stone",
   "metadata": {},
   "outputs": [],
   "source": [
    "def cohen_avg_1():\n",
    "    cohen_score_12 = cohen_kappa_score(annotation_1,annotation_2)\n",
    "    cohen_score_13 = cohen_kappa_score(annotation_1,annotation_3)\n",
    "    cohen_score_14 = cohen_kappa_score(annotation_1,annotation_4)\n",
    "    cohen_score_average_1 = round((cohen_score_12 + cohen_score_13 + cohen_score_14)/3,3)\n",
    "    #print(\"Average Cohen Kappa Score for annotation 73:\",(cohen_score_average_1))\n",
    "    return cohen_score_average_1"
   ]
  },
  {
   "cell_type": "code",
   "execution_count": 124,
   "id": "suspended-canyon",
   "metadata": {},
   "outputs": [
    {
     "data": {
      "text/plain": [
       "0.204"
      ]
     },
     "execution_count": 124,
     "metadata": {},
     "output_type": "execute_result"
    }
   ],
   "source": [
    "cohen_avg_1()"
   ]
  },
  {
   "cell_type": "markdown",
   "id": "parallel-workstation",
   "metadata": {},
   "source": [
    "### Cohen_kappa average score of annotation 74"
   ]
  },
  {
   "cell_type": "code",
   "execution_count": 125,
   "id": "negative-mathematics",
   "metadata": {},
   "outputs": [],
   "source": [
    "def cohen_avg_2():\n",
    "    cohen_score_21 = cohen_kappa_score(annotation_2,annotation_1)\n",
    "    cohen_score_23 = cohen_kappa_score(annotation_2,annotation_3)\n",
    "    cohen_score_24 = cohen_kappa_score(annotation_2,annotation_4)\n",
    "    cohen_score_average_2 = round((cohen_score_21 + cohen_score_23 + cohen_score_24)/3,3)\n",
    "    #print(\"Average Cohen Kappa Score for annotation 74:\",(cohen_score_average_2))\n",
    "    return cohen_score_average_2"
   ]
  },
  {
   "cell_type": "code",
   "execution_count": 126,
   "id": "interior-israeli",
   "metadata": {},
   "outputs": [
    {
     "data": {
      "text/plain": [
       "0.221"
      ]
     },
     "execution_count": 126,
     "metadata": {},
     "output_type": "execute_result"
    }
   ],
   "source": [
    "cohen_avg_2()"
   ]
  },
  {
   "cell_type": "markdown",
   "id": "victorian-parliament",
   "metadata": {},
   "source": [
    "### Cohen_kappa average score of annotation 75"
   ]
  },
  {
   "cell_type": "code",
   "execution_count": 127,
   "id": "comparative-decade",
   "metadata": {},
   "outputs": [],
   "source": [
    "def cohen_avg_3():\n",
    "    cohen_score_31 = cohen_kappa_score(annotation_3,annotation_1)\n",
    "    cohen_score_32 = cohen_kappa_score(annotation_3,annotation_2)\n",
    "    cohen_score_34 = cohen_kappa_score(annotation_3,annotation_4)\n",
    "    cohen_score_average_3 = round((cohen_score_31 + cohen_score_32 + cohen_score_34)/3,3)\n",
    "#     print(\"Average Cohen Kappa Score for annotation 75:\",(cohen_score_average_3))\n",
    "    return cohen_score_average_3"
   ]
  },
  {
   "cell_type": "code",
   "execution_count": 128,
   "id": "wrapped-traffic",
   "metadata": {},
   "outputs": [
    {
     "data": {
      "text/plain": [
       "0.0"
      ]
     },
     "execution_count": 128,
     "metadata": {},
     "output_type": "execute_result"
    }
   ],
   "source": [
    "cohen_avg_3()"
   ]
  },
  {
   "cell_type": "markdown",
   "id": "functioning-programming",
   "metadata": {},
   "source": [
    "### Cohen_kappa average score of annotation 76"
   ]
  },
  {
   "cell_type": "code",
   "execution_count": 129,
   "id": "atmospheric-sellers",
   "metadata": {},
   "outputs": [],
   "source": [
    "def cohen_avg_4():\n",
    "    cohen_score_41 = cohen_kappa_score(annotation_4,annotation_1)\n",
    "    cohen_score_42 = cohen_kappa_score(annotation_4,annotation_2)\n",
    "    cohen_score_43 = cohen_kappa_score(annotation_4,annotation_3)\n",
    "    cohen_score_average_4 = round((cohen_score_41 + cohen_score_42 + cohen_score_43)/3,3)\n",
    "#     print(\"Average Cohen Kappa Score for annotation 76:\",(cohen_score_average_4))\n",
    "    return cohen_score_average_4"
   ]
  },
  {
   "cell_type": "code",
   "execution_count": 130,
   "id": "subject-private",
   "metadata": {},
   "outputs": [
    {
     "data": {
      "text/plain": [
       "0.198"
      ]
     },
     "execution_count": 130,
     "metadata": {},
     "output_type": "execute_result"
    }
   ],
   "source": [
    "cohen_avg_4()"
   ]
  },
  {
   "cell_type": "markdown",
   "id": "accredited-equilibrium",
   "metadata": {},
   "source": [
    "##### If average cohen kappa score for any annotation is less than 0.2, we will drop it"
   ]
  },
  {
   "cell_type": "code",
   "execution_count": 131,
   "id": "sharp-proceeding",
   "metadata": {},
   "outputs": [],
   "source": [
    "def drop_annotate():\n",
    "    average = [cohen_avg_1(), cohen_avg_2(),cohen_avg_3(),cohen_avg_4()]\n",
    "    columns_name = ['annotation_73','annotation_74','annotation_75','annotation_76']\n",
    "    for i in range(0,len(average)):\n",
    "        if average[i]< 0.2:\n",
    "            print(\"\\n\")\n",
    "            print(columns_name[i])\n",
    "            print(average[i])\n",
    "            df_7.drop(columns_name[i], axis=1, inplace = True)\n",
    "    print(df_7.head())\n",
    "    r=[]\n",
    "    for col in df_7.columns:\n",
    "        r.append(col)\n",
    "    print(r[1:])"
   ]
  },
  {
   "cell_type": "code",
   "execution_count": 132,
   "id": "white-thesis",
   "metadata": {},
   "outputs": [
    {
     "name": "stdout",
     "output_type": "stream",
     "text": [
      "\n",
      "\n",
      "annotation_75\n",
      "0.0\n",
      "\n",
      "\n",
      "annotation_76\n",
      "0.198\n",
      "                                                text  annotation_73  \\\n",
      "0                                    COVID-19 Awards          False   \n",
      "1              Cancel the 2020-2021 school year SOLs          False   \n",
      "2                                                 ..          False   \n",
      "3                                Protect our nurses!          False   \n",
      "4  SENSELESS IMPRISONMENT FOR MY MOM.. FIRST TIME...          False   \n",
      "\n",
      "   annotation_74  \n",
      "0          False  \n",
      "1          False  \n",
      "2          False  \n",
      "3          False  \n",
      "4          False  \n",
      "['annotation_73', 'annotation_74']\n"
     ]
    }
   ],
   "source": [
    "drop_annotate()"
   ]
  },
  {
   "cell_type": "code",
   "execution_count": 133,
   "id": "increased-dayton",
   "metadata": {},
   "outputs": [],
   "source": [
    "def updateLabel(df_7):\n",
    "    for index, rows in df_7.iterrows():\n",
    "        match = [[cohen_avg_1(),rows['annotation_73']],\n",
    "                   [cohen_avg_2(),rows['annotation_74']],]\n",
    "        boolean = [rows['annotation_73'],rows['annotation_74']]\n",
    "        match.sort(key = lambda k:k[0])\n",
    "        true = match.count('True')\n",
    "        false = match.count('False')\n",
    "        if true == false: \n",
    "            kappa, columnV = match[-1]\n",
    "            df_7.loc[index, 'Final Label'] = columnV\n",
    "            \n",
    "        elif true!=false:\n",
    "            if true > false:\n",
    "                df_7.loc[index, 'Final Label'] = True\n",
    "            else:\n",
    "                df_7.loc[index, 'Final Label'] = False\n",
    "    \n",
    "\n"
   ]
  },
  {
   "cell_type": "code",
   "execution_count": 134,
   "id": "patent-diary",
   "metadata": {},
   "outputs": [
    {
     "data": {
      "text/html": [
       "<div>\n",
       "<style scoped>\n",
       "    .dataframe tbody tr th:only-of-type {\n",
       "        vertical-align: middle;\n",
       "    }\n",
       "\n",
       "    .dataframe tbody tr th {\n",
       "        vertical-align: top;\n",
       "    }\n",
       "\n",
       "    .dataframe thead th {\n",
       "        text-align: right;\n",
       "    }\n",
       "</style>\n",
       "<table border=\"1\" class=\"dataframe\">\n",
       "  <thead>\n",
       "    <tr style=\"text-align: right;\">\n",
       "      <th></th>\n",
       "      <th>text</th>\n",
       "      <th>Final Label</th>\n",
       "    </tr>\n",
       "  </thead>\n",
       "  <tbody>\n",
       "    <tr>\n",
       "      <th>0</th>\n",
       "      <td>COVID-19 Awards</td>\n",
       "      <td>False</td>\n",
       "    </tr>\n",
       "    <tr>\n",
       "      <th>1</th>\n",
       "      <td>Cancel the 2020-2021 school year SOLs</td>\n",
       "      <td>False</td>\n",
       "    </tr>\n",
       "    <tr>\n",
       "      <th>2</th>\n",
       "      <td>..</td>\n",
       "      <td>False</td>\n",
       "    </tr>\n",
       "    <tr>\n",
       "      <th>3</th>\n",
       "      <td>Protect our nurses!</td>\n",
       "      <td>False</td>\n",
       "    </tr>\n",
       "    <tr>\n",
       "      <th>4</th>\n",
       "      <td>SENSELESS IMPRISONMENT FOR MY MOM.. FIRST TIME...</td>\n",
       "      <td>False</td>\n",
       "    </tr>\n",
       "  </tbody>\n",
       "</table>\n",
       "</div>"
      ],
      "text/plain": [
       "                                                text Final Label\n",
       "0                                    COVID-19 Awards       False\n",
       "1              Cancel the 2020-2021 school year SOLs       False\n",
       "2                                                 ..       False\n",
       "3                                Protect our nurses!       False\n",
       "4  SENSELESS IMPRISONMENT FOR MY MOM.. FIRST TIME...       False"
      ]
     },
     "execution_count": 134,
     "metadata": {},
     "output_type": "execute_result"
    }
   ],
   "source": [
    "updateLabel(df_7)\n",
    "df_7 = df_7.iloc[:,[0,-1]]\n",
    "df_7.head()"
   ]
  },
  {
   "cell_type": "code",
   "execution_count": 135,
   "id": "rotary-developer",
   "metadata": {},
   "outputs": [],
   "source": [
    "df_7.to_csv(r'C:\\Users\\stuar\\Desktop\\NLP Assignment 2\\new_files\\secondary\\change.org_topic_2_masking_and_distancing.csv',\n",
    "           index = False)"
   ]
  },
  {
   "cell_type": "code",
   "execution_count": null,
   "id": "dependent-marriage",
   "metadata": {},
   "outputs": [],
   "source": []
  },
  {
   "cell_type": "markdown",
   "id": "intimate-guitar",
   "metadata": {},
   "source": [
    "## change.org_topic_2_vaccination.csv"
   ]
  },
  {
   "cell_type": "code",
   "execution_count": 136,
   "id": "boolean-state",
   "metadata": {},
   "outputs": [
    {
     "data": {
      "text/html": [
       "<div>\n",
       "<style scoped>\n",
       "    .dataframe tbody tr th:only-of-type {\n",
       "        vertical-align: middle;\n",
       "    }\n",
       "\n",
       "    .dataframe tbody tr th {\n",
       "        vertical-align: top;\n",
       "    }\n",
       "\n",
       "    .dataframe thead th {\n",
       "        text-align: right;\n",
       "    }\n",
       "</style>\n",
       "<table border=\"1\" class=\"dataframe\">\n",
       "  <thead>\n",
       "    <tr style=\"text-align: right;\">\n",
       "      <th></th>\n",
       "      <th>text</th>\n",
       "      <th>annotation_73</th>\n",
       "      <th>annotation_74</th>\n",
       "      <th>annotation_75</th>\n",
       "      <th>annotation_76</th>\n",
       "    </tr>\n",
       "  </thead>\n",
       "  <tbody>\n",
       "    <tr>\n",
       "      <th>0</th>\n",
       "      <td>COVID-19 Awards</td>\n",
       "      <td>False</td>\n",
       "      <td>False</td>\n",
       "      <td>False</td>\n",
       "      <td>False</td>\n",
       "    </tr>\n",
       "    <tr>\n",
       "      <th>1</th>\n",
       "      <td>Cancel the 2020-2021 school year SOLs</td>\n",
       "      <td>False</td>\n",
       "      <td>False</td>\n",
       "      <td>False</td>\n",
       "      <td>False</td>\n",
       "    </tr>\n",
       "    <tr>\n",
       "      <th>2</th>\n",
       "      <td>..</td>\n",
       "      <td>False</td>\n",
       "      <td>False</td>\n",
       "      <td>False</td>\n",
       "      <td>False</td>\n",
       "    </tr>\n",
       "    <tr>\n",
       "      <th>3</th>\n",
       "      <td>Protect our nurses!</td>\n",
       "      <td>False</td>\n",
       "      <td>False</td>\n",
       "      <td>False</td>\n",
       "      <td>False</td>\n",
       "    </tr>\n",
       "    <tr>\n",
       "      <th>4</th>\n",
       "      <td>SENSELESS IMPRISONMENT FOR MY MOM.. FIRST TIME...</td>\n",
       "      <td>False</td>\n",
       "      <td>False</td>\n",
       "      <td>False</td>\n",
       "      <td>False</td>\n",
       "    </tr>\n",
       "  </tbody>\n",
       "</table>\n",
       "</div>"
      ],
      "text/plain": [
       "                                                text  annotation_73  \\\n",
       "0                                    COVID-19 Awards          False   \n",
       "1              Cancel the 2020-2021 school year SOLs          False   \n",
       "2                                                 ..          False   \n",
       "3                                Protect our nurses!          False   \n",
       "4  SENSELESS IMPRISONMENT FOR MY MOM.. FIRST TIME...          False   \n",
       "\n",
       "   annotation_74  annotation_75  annotation_76  \n",
       "0          False          False          False  \n",
       "1          False          False          False  \n",
       "2          False          False          False  \n",
       "3          False          False          False  \n",
       "4          False          False          False  "
      ]
     },
     "execution_count": 136,
     "metadata": {},
     "output_type": "execute_result"
    }
   ],
   "source": [
    "df_8 = pd.read_csv(r'change.org_topic\\change.org_topic_2_vaccination.csv')\n",
    "df_8.head()"
   ]
  },
  {
   "cell_type": "code",
   "execution_count": 137,
   "id": "sensitive-devon",
   "metadata": {},
   "outputs": [
    {
     "name": "stdout",
     "output_type": "stream",
     "text": [
      "0\n",
      "0\n",
      "0\n",
      "0\n",
      "0\n"
     ]
    }
   ],
   "source": [
    "print(df_8['annotation_73'].isnull().sum())\n",
    "print(df_8['annotation_74'].isnull().sum())\n",
    "print(df_8['annotation_75'].isnull().sum())\n",
    "print(df_8['annotation_76'].isnull().sum())\n",
    "print(df_8['text'].isnull().sum())"
   ]
  },
  {
   "cell_type": "code",
   "execution_count": 138,
   "id": "anonymous-change",
   "metadata": {},
   "outputs": [],
   "source": [
    "annotation_1= df_8['annotation_73']\n",
    "annotation_2= df_8['annotation_74']\n",
    "annotation_3= df_8['annotation_75']\n",
    "annotation_4= df_8['annotation_76']"
   ]
  },
  {
   "cell_type": "markdown",
   "id": "sharp-element",
   "metadata": {},
   "source": [
    "### Cohen_kappa average score of annotation 73"
   ]
  },
  {
   "cell_type": "code",
   "execution_count": 139,
   "id": "filled-container",
   "metadata": {},
   "outputs": [],
   "source": [
    "def cohen_avg_1():\n",
    "    cohen_score_12 = cohen_kappa_score(annotation_1,annotation_2)\n",
    "    cohen_score_13 = cohen_kappa_score(annotation_1,annotation_3)\n",
    "    cohen_score_14 = cohen_kappa_score(annotation_1,annotation_4)\n",
    "    cohen_score_average_1 = round((cohen_score_12 + cohen_score_13 + cohen_score_14)/3,3)\n",
    "    #print(\"Average Cohen Kappa Score for annotation 73:\",(cohen_score_average_1))\n",
    "    return cohen_score_average_1"
   ]
  },
  {
   "cell_type": "code",
   "execution_count": 140,
   "id": "floating-distributor",
   "metadata": {},
   "outputs": [
    {
     "data": {
      "text/plain": [
       "0.652"
      ]
     },
     "execution_count": 140,
     "metadata": {},
     "output_type": "execute_result"
    }
   ],
   "source": [
    "cohen_avg_1()"
   ]
  },
  {
   "cell_type": "markdown",
   "id": "sporting-partition",
   "metadata": {},
   "source": [
    "### Cohen_kappa average score of annotation 74"
   ]
  },
  {
   "cell_type": "code",
   "execution_count": 141,
   "id": "original-bhutan",
   "metadata": {},
   "outputs": [],
   "source": [
    "def cohen_avg_2():\n",
    "    cohen_score_21 = cohen_kappa_score(annotation_2,annotation_1)\n",
    "    cohen_score_23 = cohen_kappa_score(annotation_2,annotation_3)\n",
    "    cohen_score_24 = cohen_kappa_score(annotation_2,annotation_4)\n",
    "    cohen_score_average_2 = round((cohen_score_21 + cohen_score_23 + cohen_score_24)/3,3)\n",
    "    #print(\"Average Cohen Kappa Score for annotation 74:\",(cohen_score_average_2))\n",
    "    return cohen_score_average_2"
   ]
  },
  {
   "cell_type": "code",
   "execution_count": 142,
   "id": "collected-rocket",
   "metadata": {},
   "outputs": [
    {
     "data": {
      "text/plain": [
       "0.785"
      ]
     },
     "execution_count": 142,
     "metadata": {},
     "output_type": "execute_result"
    }
   ],
   "source": [
    "cohen_avg_2()"
   ]
  },
  {
   "cell_type": "markdown",
   "id": "alternate-timer",
   "metadata": {},
   "source": [
    "### Cohen_kappa average score of annotation 75"
   ]
  },
  {
   "cell_type": "code",
   "execution_count": 143,
   "id": "certified-treasury",
   "metadata": {},
   "outputs": [],
   "source": [
    "def cohen_avg_3():\n",
    "    cohen_score_31 = cohen_kappa_score(annotation_3,annotation_1)\n",
    "    cohen_score_32 = cohen_kappa_score(annotation_3,annotation_2)\n",
    "    cohen_score_34 = cohen_kappa_score(annotation_3,annotation_4)\n",
    "    cohen_score_average_3 = round((cohen_score_31 + cohen_score_32 + cohen_score_34)/3,3)\n",
    "    #print(\"Average Cohen Kappa Score for annotation 75:\",(cohen_score_average_3))\n",
    "    return cohen_score_average_3"
   ]
  },
  {
   "cell_type": "code",
   "execution_count": 144,
   "id": "enclosed-causing",
   "metadata": {},
   "outputs": [
    {
     "data": {
      "text/plain": [
       "0.583"
      ]
     },
     "execution_count": 144,
     "metadata": {},
     "output_type": "execute_result"
    }
   ],
   "source": [
    "cohen_avg_3()"
   ]
  },
  {
   "cell_type": "markdown",
   "id": "brave-facial",
   "metadata": {},
   "source": [
    "### Cohen_kappa average score of annotation 76"
   ]
  },
  {
   "cell_type": "code",
   "execution_count": 145,
   "id": "incident-charger",
   "metadata": {},
   "outputs": [],
   "source": [
    "def cohen_avg_4():\n",
    "    cohen_score_41 = cohen_kappa_score(annotation_4,annotation_1)\n",
    "    cohen_score_42 = cohen_kappa_score(annotation_4,annotation_2)\n",
    "    cohen_score_43 = cohen_kappa_score(annotation_4,annotation_3)\n",
    "    cohen_score_average_4 = round((cohen_score_41 + cohen_score_42 + cohen_score_43)/3,3)\n",
    "    #print(\"Average Cohen Kappa Score for annotation 76:\",(cohen_score_average_4))\n",
    "    return cohen_score_average_4"
   ]
  },
  {
   "cell_type": "code",
   "execution_count": 146,
   "id": "mysterious-newspaper",
   "metadata": {},
   "outputs": [
    {
     "data": {
      "text/plain": [
       "0.75"
      ]
     },
     "execution_count": 146,
     "metadata": {},
     "output_type": "execute_result"
    }
   ],
   "source": [
    "cohen_avg_4()"
   ]
  },
  {
   "cell_type": "markdown",
   "id": "certified-context",
   "metadata": {},
   "source": [
    "##### If average cohen kappa score for any annotation is less than 0.2, we will drop it"
   ]
  },
  {
   "cell_type": "code",
   "execution_count": 147,
   "id": "weird-mouth",
   "metadata": {},
   "outputs": [],
   "source": [
    "def drop_annotate():\n",
    "    average = [cohen_avg_1(), cohen_avg_2(),cohen_avg_3(),cohen_avg_4()]\n",
    "    columns_name = ['annotation_73','annotation_74','annotation_75','annotation_76']\n",
    "    for i in range(0,len(average)):\n",
    "        if average[i]< 0.2:\n",
    "            print(\"\\n\")\n",
    "            print(columns_name[i])\n",
    "            print(average[i])\n",
    "            df_8.drop(columns_name[i], axis=1, inplace = True)\n",
    "    print(df_8.head())\n",
    "    r=[]\n",
    "    for col in df_8.columns:\n",
    "        r.append(col)\n",
    "    print(r[1:])"
   ]
  },
  {
   "cell_type": "code",
   "execution_count": 148,
   "id": "accredited-prisoner",
   "metadata": {},
   "outputs": [
    {
     "name": "stdout",
     "output_type": "stream",
     "text": [
      "                                                text  annotation_73  \\\n",
      "0                                    COVID-19 Awards          False   \n",
      "1              Cancel the 2020-2021 school year SOLs          False   \n",
      "2                                                 ..          False   \n",
      "3                                Protect our nurses!          False   \n",
      "4  SENSELESS IMPRISONMENT FOR MY MOM.. FIRST TIME...          False   \n",
      "\n",
      "   annotation_74  annotation_75  annotation_76  \n",
      "0          False          False          False  \n",
      "1          False          False          False  \n",
      "2          False          False          False  \n",
      "3          False          False          False  \n",
      "4          False          False          False  \n",
      "['annotation_73', 'annotation_74', 'annotation_75', 'annotation_76']\n"
     ]
    }
   ],
   "source": [
    "drop_annotate()"
   ]
  },
  {
   "cell_type": "code",
   "execution_count": 149,
   "id": "tender-textbook",
   "metadata": {},
   "outputs": [],
   "source": [
    "def updateLabel(df_8):\n",
    "    for index, rows in df_8.iterrows():\n",
    "        match = [[cohen_avg_1(),rows['annotation_73']],\n",
    "                   [cohen_avg_2(),rows['annotation_74']],\n",
    "                   [cohen_avg_3(),rows['annotation_75']],\n",
    "                    [cohen_avg_4(),rows['annotation_76']]]\n",
    "        boolean = [rows['annotation_73'],rows['annotation_74'],rows['annotation_75'],rows['annotation_76']]\n",
    "        match.sort(key = lambda k:k[0])\n",
    "        true = match.count('True')\n",
    "        false = match.count('False')\n",
    "        if true == false: \n",
    "            kappa, columnV = match[-1]\n",
    "            df_8.loc[index, 'Final Label'] = columnV\n",
    "            \n",
    "        elif true!=false:\n",
    "            if true > false:\n",
    "                df_8.loc[index, 'Final Label'] = True\n",
    "            else:\n",
    "                df_8.loc[index, 'Final Label'] = False\n",
    "    \n",
    "\n"
   ]
  },
  {
   "cell_type": "code",
   "execution_count": 150,
   "id": "imposed-blame",
   "metadata": {},
   "outputs": [
    {
     "data": {
      "text/html": [
       "<div>\n",
       "<style scoped>\n",
       "    .dataframe tbody tr th:only-of-type {\n",
       "        vertical-align: middle;\n",
       "    }\n",
       "\n",
       "    .dataframe tbody tr th {\n",
       "        vertical-align: top;\n",
       "    }\n",
       "\n",
       "    .dataframe thead th {\n",
       "        text-align: right;\n",
       "    }\n",
       "</style>\n",
       "<table border=\"1\" class=\"dataframe\">\n",
       "  <thead>\n",
       "    <tr style=\"text-align: right;\">\n",
       "      <th></th>\n",
       "      <th>text</th>\n",
       "      <th>Final Label</th>\n",
       "    </tr>\n",
       "  </thead>\n",
       "  <tbody>\n",
       "    <tr>\n",
       "      <th>0</th>\n",
       "      <td>COVID-19 Awards</td>\n",
       "      <td>False</td>\n",
       "    </tr>\n",
       "    <tr>\n",
       "      <th>1</th>\n",
       "      <td>Cancel the 2020-2021 school year SOLs</td>\n",
       "      <td>False</td>\n",
       "    </tr>\n",
       "    <tr>\n",
       "      <th>2</th>\n",
       "      <td>..</td>\n",
       "      <td>False</td>\n",
       "    </tr>\n",
       "    <tr>\n",
       "      <th>3</th>\n",
       "      <td>Protect our nurses!</td>\n",
       "      <td>False</td>\n",
       "    </tr>\n",
       "    <tr>\n",
       "      <th>4</th>\n",
       "      <td>SENSELESS IMPRISONMENT FOR MY MOM.. FIRST TIME...</td>\n",
       "      <td>False</td>\n",
       "    </tr>\n",
       "  </tbody>\n",
       "</table>\n",
       "</div>"
      ],
      "text/plain": [
       "                                                text Final Label\n",
       "0                                    COVID-19 Awards       False\n",
       "1              Cancel the 2020-2021 school year SOLs       False\n",
       "2                                                 ..       False\n",
       "3                                Protect our nurses!       False\n",
       "4  SENSELESS IMPRISONMENT FOR MY MOM.. FIRST TIME...       False"
      ]
     },
     "execution_count": 150,
     "metadata": {},
     "output_type": "execute_result"
    }
   ],
   "source": [
    "updateLabel(df_8)\n",
    "df_8 = df_8.iloc[:,[0,-1]]\n",
    "df_8.head()"
   ]
  },
  {
   "cell_type": "code",
   "execution_count": 151,
   "id": "original-vietnam",
   "metadata": {},
   "outputs": [],
   "source": [
    "df_8.to_csv(r'C:\\Users\\stuar\\Desktop\\NLP Assignment 2\\new_files\\secondary\\change.org_topic_2_vaccination.csv',\n",
    "           index = False)"
   ]
  },
  {
   "cell_type": "markdown",
   "id": "premier-hardware",
   "metadata": {},
   "source": [
    "## change.org_topic_3_lockdowns.csv"
   ]
  },
  {
   "cell_type": "code",
   "execution_count": 152,
   "id": "occasional-scale",
   "metadata": {},
   "outputs": [
    {
     "data": {
      "text/html": [
       "<div>\n",
       "<style scoped>\n",
       "    .dataframe tbody tr th:only-of-type {\n",
       "        vertical-align: middle;\n",
       "    }\n",
       "\n",
       "    .dataframe tbody tr th {\n",
       "        vertical-align: top;\n",
       "    }\n",
       "\n",
       "    .dataframe thead th {\n",
       "        text-align: right;\n",
       "    }\n",
       "</style>\n",
       "<table border=\"1\" class=\"dataframe\">\n",
       "  <thead>\n",
       "    <tr style=\"text-align: right;\">\n",
       "      <th></th>\n",
       "      <th>text</th>\n",
       "      <th>annotation_48</th>\n",
       "      <th>annotation_49</th>\n",
       "      <th>annotation_50</th>\n",
       "      <th>annotation_47</th>\n",
       "    </tr>\n",
       "  </thead>\n",
       "  <tbody>\n",
       "    <tr>\n",
       "      <th>0</th>\n",
       "      <td>Postpone CBSE Board Exams</td>\n",
       "      <td>True</td>\n",
       "      <td>False</td>\n",
       "      <td>False</td>\n",
       "      <td>True</td>\n",
       "    </tr>\n",
       "    <tr>\n",
       "      <th>1</th>\n",
       "      <td>Pay rise for paramedics and nurses</td>\n",
       "      <td>False</td>\n",
       "      <td>False</td>\n",
       "      <td>False</td>\n",
       "      <td>False</td>\n",
       "    </tr>\n",
       "    <tr>\n",
       "      <th>2</th>\n",
       "      <td>Too Soon To Open Georgia!</td>\n",
       "      <td>True</td>\n",
       "      <td>True</td>\n",
       "      <td>True</td>\n",
       "      <td>True</td>\n",
       "    </tr>\n",
       "    <tr>\n",
       "      <th>3</th>\n",
       "      <td>Request to reconsider DPS Ruby Park school tui...</td>\n",
       "      <td>True</td>\n",
       "      <td>False</td>\n",
       "      <td>False</td>\n",
       "      <td>True</td>\n",
       "    </tr>\n",
       "    <tr>\n",
       "      <th>4</th>\n",
       "      <td>Covid-19 Aesthetics / Salon / Massage Industry...</td>\n",
       "      <td>False</td>\n",
       "      <td>False</td>\n",
       "      <td>False</td>\n",
       "      <td>True</td>\n",
       "    </tr>\n",
       "  </tbody>\n",
       "</table>\n",
       "</div>"
      ],
      "text/plain": [
       "                                                text  annotation_48  \\\n",
       "0                          Postpone CBSE Board Exams           True   \n",
       "1                 Pay rise for paramedics and nurses          False   \n",
       "2                          Too Soon To Open Georgia!           True   \n",
       "3  Request to reconsider DPS Ruby Park school tui...           True   \n",
       "4  Covid-19 Aesthetics / Salon / Massage Industry...          False   \n",
       "\n",
       "   annotation_49  annotation_50  annotation_47  \n",
       "0          False          False           True  \n",
       "1          False          False          False  \n",
       "2           True           True           True  \n",
       "3          False          False           True  \n",
       "4          False          False           True  "
      ]
     },
     "execution_count": 152,
     "metadata": {},
     "output_type": "execute_result"
    }
   ],
   "source": [
    "df_9 = pd.read_csv(r'change.org_topic\\change.org_topic_3_lockdowns.csv')\n",
    "df_9.head()"
   ]
  },
  {
   "cell_type": "code",
   "execution_count": 153,
   "id": "golden-plastic",
   "metadata": {},
   "outputs": [
    {
     "name": "stdout",
     "output_type": "stream",
     "text": [
      "0\n",
      "0\n",
      "0\n",
      "0\n",
      "0\n"
     ]
    }
   ],
   "source": [
    "print(df_9['annotation_47'].isnull().sum())\n",
    "print(df_9['annotation_48'].isnull().sum())\n",
    "print(df_9['annotation_49'].isnull().sum())\n",
    "print(df_9['annotation_50'].isnull().sum())\n",
    "print(df_9['text'].isnull().sum())"
   ]
  },
  {
   "cell_type": "code",
   "execution_count": 154,
   "id": "controversial-status",
   "metadata": {},
   "outputs": [],
   "source": [
    "annotation_1= df_9['annotation_47']\n",
    "annotation_2= df_9['annotation_48']\n",
    "annotation_3= df_9['annotation_49']\n",
    "annotation_4= df_9['annotation_50']"
   ]
  },
  {
   "cell_type": "markdown",
   "id": "significant-compensation",
   "metadata": {},
   "source": [
    "### Cohen_kappa average score of annotation 47"
   ]
  },
  {
   "cell_type": "code",
   "execution_count": 155,
   "id": "american-matthew",
   "metadata": {},
   "outputs": [],
   "source": [
    "def cohen_avg_1():\n",
    "    cohen_score_12 = cohen_kappa_score(annotation_1,annotation_2)\n",
    "    cohen_score_13 = cohen_kappa_score(annotation_1,annotation_3)\n",
    "    cohen_score_14 = cohen_kappa_score(annotation_1,annotation_4)\n",
    "    cohen_score_average_1 = round((cohen_score_12 + cohen_score_13 + cohen_score_14)/3,3)\n",
    "    #print(\"Average Cohen Kappa Score for annotation 47:\",(cohen_score_average_1))\n",
    "    return cohen_score_average_1"
   ]
  },
  {
   "cell_type": "code",
   "execution_count": 156,
   "id": "productive-youth",
   "metadata": {},
   "outputs": [
    {
     "data": {
      "text/plain": [
       "0.434"
      ]
     },
     "execution_count": 156,
     "metadata": {},
     "output_type": "execute_result"
    }
   ],
   "source": [
    "cohen_avg_1()"
   ]
  },
  {
   "cell_type": "markdown",
   "id": "biblical-central",
   "metadata": {},
   "source": [
    "### Cohen_kappa average score of annotation 48"
   ]
  },
  {
   "cell_type": "code",
   "execution_count": 157,
   "id": "framed-ticket",
   "metadata": {},
   "outputs": [],
   "source": [
    "def cohen_avg_2():\n",
    "    cohen_score_21 = cohen_kappa_score(annotation_2,annotation_1)\n",
    "    cohen_score_23 = cohen_kappa_score(annotation_2,annotation_3)\n",
    "    cohen_score_24 = cohen_kappa_score(annotation_2,annotation_4)\n",
    "    cohen_score_average_2 = round((cohen_score_21 + cohen_score_23 + cohen_score_24)/3,3)\n",
    "    #print(\"Average Cohen Kappa Score for annotation 48:\",(cohen_score_average_2))\n",
    "    return cohen_score_average_2"
   ]
  },
  {
   "cell_type": "code",
   "execution_count": 158,
   "id": "together-paraguay",
   "metadata": {},
   "outputs": [
    {
     "data": {
      "text/plain": [
       "0.42"
      ]
     },
     "execution_count": 158,
     "metadata": {},
     "output_type": "execute_result"
    }
   ],
   "source": [
    "cohen_avg_2()"
   ]
  },
  {
   "cell_type": "markdown",
   "id": "binding-brook",
   "metadata": {},
   "source": [
    "### Cohen_kappa average score of annotation 49"
   ]
  },
  {
   "cell_type": "code",
   "execution_count": 159,
   "id": "likely-christian",
   "metadata": {},
   "outputs": [],
   "source": [
    "def cohen_avg_3():\n",
    "    cohen_score_31 = cohen_kappa_score(annotation_3,annotation_1)\n",
    "    cohen_score_32 = cohen_kappa_score(annotation_3,annotation_2)\n",
    "    cohen_score_34 = cohen_kappa_score(annotation_3,annotation_4)\n",
    "    cohen_score_average_3 = round((cohen_score_31 + cohen_score_32 + cohen_score_34)/3,3)\n",
    "    #print(\"Average Cohen Kappa Score for annotation 49:\",(cohen_score_average_3))\n",
    "    return cohen_score_average_3"
   ]
  },
  {
   "cell_type": "code",
   "execution_count": 160,
   "id": "legal-dining",
   "metadata": {},
   "outputs": [
    {
     "data": {
      "text/plain": [
       "0.437"
      ]
     },
     "execution_count": 160,
     "metadata": {},
     "output_type": "execute_result"
    }
   ],
   "source": [
    "cohen_avg_3()"
   ]
  },
  {
   "cell_type": "markdown",
   "id": "roman-biotechnology",
   "metadata": {},
   "source": [
    "### Cohen_kappa average score of annotation 50"
   ]
  },
  {
   "cell_type": "code",
   "execution_count": 161,
   "id": "genuine-syntax",
   "metadata": {},
   "outputs": [],
   "source": [
    "def cohen_avg_4():\n",
    "    cohen_score_41 = cohen_kappa_score(annotation_4,annotation_1)\n",
    "    cohen_score_42 = cohen_kappa_score(annotation_4,annotation_2)\n",
    "    cohen_score_43 = cohen_kappa_score(annotation_4,annotation_3)\n",
    "    cohen_score_average_4 = round((cohen_score_41 + cohen_score_42 + cohen_score_43)/3,3)\n",
    "    #print(\"Average Cohen Kappa Score for annotation 50:\",(cohen_score_average_4))\n",
    "    return cohen_score_average_4"
   ]
  },
  {
   "cell_type": "code",
   "execution_count": 162,
   "id": "turkish-intranet",
   "metadata": {},
   "outputs": [
    {
     "data": {
      "text/plain": [
       "0.455"
      ]
     },
     "execution_count": 162,
     "metadata": {},
     "output_type": "execute_result"
    }
   ],
   "source": [
    "cohen_avg_4()"
   ]
  },
  {
   "cell_type": "markdown",
   "id": "incorrect-dancing",
   "metadata": {},
   "source": [
    "##### If average cohen kappa score for any annotation is less than 0.2, we will drop it"
   ]
  },
  {
   "cell_type": "code",
   "execution_count": 163,
   "id": "circular-baghdad",
   "metadata": {},
   "outputs": [],
   "source": [
    "def drop_annotate():\n",
    "    average = [cohen_avg_1(), cohen_avg_2(),cohen_avg_3(),cohen_avg_4()]\n",
    "    columns_name = ['annotation_47','annotation_48','annotation_49','annotation_50']\n",
    "    for i in range(0,len(average)):\n",
    "        if average[i]< 0.2:\n",
    "            print(\"\\n\")\n",
    "            print(columns_name[i])\n",
    "            print(average[i])\n",
    "            df_9.drop(columns_name[i], axis=1, inplace = True)\n",
    "    print(df_9.head())\n",
    "    r =[]\n",
    "    for col in df_9.columns:\n",
    "        r.append(col)\n",
    "    print(r[1:])"
   ]
  },
  {
   "cell_type": "code",
   "execution_count": 164,
   "id": "emerging-insert",
   "metadata": {},
   "outputs": [
    {
     "name": "stdout",
     "output_type": "stream",
     "text": [
      "                                                text  annotation_48  \\\n",
      "0                          Postpone CBSE Board Exams           True   \n",
      "1                 Pay rise for paramedics and nurses          False   \n",
      "2                          Too Soon To Open Georgia!           True   \n",
      "3  Request to reconsider DPS Ruby Park school tui...           True   \n",
      "4  Covid-19 Aesthetics / Salon / Massage Industry...          False   \n",
      "\n",
      "   annotation_49  annotation_50  annotation_47  \n",
      "0          False          False           True  \n",
      "1          False          False          False  \n",
      "2           True           True           True  \n",
      "3          False          False           True  \n",
      "4          False          False           True  \n",
      "['annotation_48', 'annotation_49', 'annotation_50', 'annotation_47']\n"
     ]
    }
   ],
   "source": [
    "drop_annotate()"
   ]
  },
  {
   "cell_type": "code",
   "execution_count": 165,
   "id": "involved-dining",
   "metadata": {},
   "outputs": [],
   "source": [
    "def updateLabel(df_9):\n",
    "    for index, rows in df_9.iterrows():\n",
    "        match = [[cohen_avg_1(),rows['annotation_47']],\n",
    "                   [cohen_avg_2(),rows['annotation_48']],\n",
    "                   [cohen_avg_3(),rows['annotation_49']],\n",
    "                    [cohen_avg_4(),rows['annotation_50']]]\n",
    "        boolean = [rows['annotation_47'],rows['annotation_48'],rows['annotation_49'],rows['annotation_50']]\n",
    "        match.sort(key = lambda k:k[0])\n",
    "        true = match.count('True')\n",
    "        false = match.count('False')\n",
    "        if true == false: \n",
    "            kappa, columnV = match[-1]\n",
    "            df_9.loc[index, 'Final Label'] = columnV\n",
    "            \n",
    "        elif true!=false:\n",
    "            if true > false:\n",
    "                df_9.loc[index, 'Final Label'] = True\n",
    "            else:\n",
    "                df_9.loc[index, 'Final Label'] = False\n",
    "    \n",
    "\n"
   ]
  },
  {
   "cell_type": "code",
   "execution_count": 166,
   "id": "cardiac-minneapolis",
   "metadata": {},
   "outputs": [
    {
     "data": {
      "text/html": [
       "<div>\n",
       "<style scoped>\n",
       "    .dataframe tbody tr th:only-of-type {\n",
       "        vertical-align: middle;\n",
       "    }\n",
       "\n",
       "    .dataframe tbody tr th {\n",
       "        vertical-align: top;\n",
       "    }\n",
       "\n",
       "    .dataframe thead th {\n",
       "        text-align: right;\n",
       "    }\n",
       "</style>\n",
       "<table border=\"1\" class=\"dataframe\">\n",
       "  <thead>\n",
       "    <tr style=\"text-align: right;\">\n",
       "      <th></th>\n",
       "      <th>text</th>\n",
       "      <th>Final Label</th>\n",
       "    </tr>\n",
       "  </thead>\n",
       "  <tbody>\n",
       "    <tr>\n",
       "      <th>0</th>\n",
       "      <td>Postpone CBSE Board Exams</td>\n",
       "      <td>False</td>\n",
       "    </tr>\n",
       "    <tr>\n",
       "      <th>1</th>\n",
       "      <td>Pay rise for paramedics and nurses</td>\n",
       "      <td>False</td>\n",
       "    </tr>\n",
       "    <tr>\n",
       "      <th>2</th>\n",
       "      <td>Too Soon To Open Georgia!</td>\n",
       "      <td>True</td>\n",
       "    </tr>\n",
       "    <tr>\n",
       "      <th>3</th>\n",
       "      <td>Request to reconsider DPS Ruby Park school tui...</td>\n",
       "      <td>False</td>\n",
       "    </tr>\n",
       "    <tr>\n",
       "      <th>4</th>\n",
       "      <td>Covid-19 Aesthetics / Salon / Massage Industry...</td>\n",
       "      <td>False</td>\n",
       "    </tr>\n",
       "  </tbody>\n",
       "</table>\n",
       "</div>"
      ],
      "text/plain": [
       "                                                text Final Label\n",
       "0                          Postpone CBSE Board Exams       False\n",
       "1                 Pay rise for paramedics and nurses       False\n",
       "2                          Too Soon To Open Georgia!        True\n",
       "3  Request to reconsider DPS Ruby Park school tui...       False\n",
       "4  Covid-19 Aesthetics / Salon / Massage Industry...       False"
      ]
     },
     "execution_count": 166,
     "metadata": {},
     "output_type": "execute_result"
    }
   ],
   "source": [
    "updateLabel(df_9)\n",
    "df_9 = df_9.iloc[:,[0,-1]]\n",
    "df_9.head()"
   ]
  },
  {
   "cell_type": "code",
   "execution_count": 167,
   "id": "coupled-skating",
   "metadata": {},
   "outputs": [],
   "source": [
    "df_9.to_csv(r'C:\\Users\\stuar\\Desktop\\NLP Assignment 2\\new_files\\secondary\\change.org_topic_3_lockdowns.csv',\n",
    "           index = False)"
   ]
  },
  {
   "cell_type": "markdown",
   "id": "lovely-sydney",
   "metadata": {},
   "source": [
    "## change.org_topic_3_masking_and_distancing.csv"
   ]
  },
  {
   "cell_type": "code",
   "execution_count": 168,
   "id": "civil-burden",
   "metadata": {},
   "outputs": [
    {
     "data": {
      "text/html": [
       "<div>\n",
       "<style scoped>\n",
       "    .dataframe tbody tr th:only-of-type {\n",
       "        vertical-align: middle;\n",
       "    }\n",
       "\n",
       "    .dataframe tbody tr th {\n",
       "        vertical-align: top;\n",
       "    }\n",
       "\n",
       "    .dataframe thead th {\n",
       "        text-align: right;\n",
       "    }\n",
       "</style>\n",
       "<table border=\"1\" class=\"dataframe\">\n",
       "  <thead>\n",
       "    <tr style=\"text-align: right;\">\n",
       "      <th></th>\n",
       "      <th>text</th>\n",
       "      <th>annotation_48</th>\n",
       "      <th>annotation_49</th>\n",
       "      <th>annotation_50</th>\n",
       "      <th>annotation_47</th>\n",
       "    </tr>\n",
       "  </thead>\n",
       "  <tbody>\n",
       "    <tr>\n",
       "      <th>0</th>\n",
       "      <td>Postpone CBSE Board Exams</td>\n",
       "      <td>False</td>\n",
       "      <td>False</td>\n",
       "      <td>False</td>\n",
       "      <td>False</td>\n",
       "    </tr>\n",
       "    <tr>\n",
       "      <th>1</th>\n",
       "      <td>Pay rise for paramedics and nurses</td>\n",
       "      <td>False</td>\n",
       "      <td>False</td>\n",
       "      <td>False</td>\n",
       "      <td>False</td>\n",
       "    </tr>\n",
       "    <tr>\n",
       "      <th>2</th>\n",
       "      <td>Too Soon To Open Georgia!</td>\n",
       "      <td>False</td>\n",
       "      <td>False</td>\n",
       "      <td>False</td>\n",
       "      <td>False</td>\n",
       "    </tr>\n",
       "    <tr>\n",
       "      <th>3</th>\n",
       "      <td>Request to reconsider DPS Ruby Park school tui...</td>\n",
       "      <td>False</td>\n",
       "      <td>False</td>\n",
       "      <td>False</td>\n",
       "      <td>False</td>\n",
       "    </tr>\n",
       "    <tr>\n",
       "      <th>4</th>\n",
       "      <td>Covid-19 Aesthetics / Salon / Massage Industry...</td>\n",
       "      <td>False</td>\n",
       "      <td>False</td>\n",
       "      <td>False</td>\n",
       "      <td>False</td>\n",
       "    </tr>\n",
       "  </tbody>\n",
       "</table>\n",
       "</div>"
      ],
      "text/plain": [
       "                                                text  annotation_48  \\\n",
       "0                          Postpone CBSE Board Exams          False   \n",
       "1                 Pay rise for paramedics and nurses          False   \n",
       "2                          Too Soon To Open Georgia!          False   \n",
       "3  Request to reconsider DPS Ruby Park school tui...          False   \n",
       "4  Covid-19 Aesthetics / Salon / Massage Industry...          False   \n",
       "\n",
       "   annotation_49  annotation_50  annotation_47  \n",
       "0          False          False          False  \n",
       "1          False          False          False  \n",
       "2          False          False          False  \n",
       "3          False          False          False  \n",
       "4          False          False          False  "
      ]
     },
     "execution_count": 168,
     "metadata": {},
     "output_type": "execute_result"
    }
   ],
   "source": [
    "df_10 = pd.read_csv(r'change.org_topic\\change.org_topic_3_masking_and_distancing.csv')\n",
    "df_10.head()"
   ]
  },
  {
   "cell_type": "code",
   "execution_count": 169,
   "id": "valuable-plain",
   "metadata": {},
   "outputs": [
    {
     "name": "stdout",
     "output_type": "stream",
     "text": [
      "0\n",
      "0\n",
      "0\n",
      "0\n",
      "0\n"
     ]
    }
   ],
   "source": [
    "print(df_10['annotation_47'].isnull().sum())\n",
    "print(df_10['annotation_48'].isnull().sum())\n",
    "print(df_10['annotation_49'].isnull().sum())\n",
    "print(df_10['annotation_50'].isnull().sum())\n",
    "print(df_10['text'].isnull().sum())"
   ]
  },
  {
   "cell_type": "code",
   "execution_count": 170,
   "id": "civil-scottish",
   "metadata": {},
   "outputs": [],
   "source": [
    "annotation_1= df_10['annotation_47']\n",
    "annotation_2= df_10['annotation_48']\n",
    "annotation_3= df_10['annotation_49']\n",
    "annotation_4= df_10['annotation_50']"
   ]
  },
  {
   "cell_type": "markdown",
   "id": "egyptian-punch",
   "metadata": {},
   "source": [
    "### Cohen_kappa average score of annotation 47"
   ]
  },
  {
   "cell_type": "code",
   "execution_count": 171,
   "id": "eight-thickness",
   "metadata": {},
   "outputs": [],
   "source": [
    "def cohen_avg_1():\n",
    "    cohen_score_12 = cohen_kappa_score(annotation_1,annotation_2)\n",
    "    cohen_score_13 = cohen_kappa_score(annotation_1,annotation_3)\n",
    "    cohen_score_14 = cohen_kappa_score(annotation_1,annotation_4)\n",
    "    cohen_score_average_1 = round((cohen_score_12 + cohen_score_13 + cohen_score_14)/3,3)\n",
    "   #print(\"Average Cohen Kappa Score for annotation 47:\",(cohen_score_average_1))\n",
    "    return cohen_score_average_1"
   ]
  },
  {
   "cell_type": "code",
   "execution_count": 172,
   "id": "rotary-inspector",
   "metadata": {},
   "outputs": [
    {
     "data": {
      "text/plain": [
       "0.403"
      ]
     },
     "execution_count": 172,
     "metadata": {},
     "output_type": "execute_result"
    }
   ],
   "source": [
    "cohen_avg_1()"
   ]
  },
  {
   "cell_type": "markdown",
   "id": "prerequisite-bikini",
   "metadata": {},
   "source": [
    "### Cohen_kappa average score of annotation 48"
   ]
  },
  {
   "cell_type": "code",
   "execution_count": 173,
   "id": "interior-lease",
   "metadata": {},
   "outputs": [],
   "source": [
    "def cohen_avg_2():\n",
    "    cohen_score_21 = cohen_kappa_score(annotation_2,annotation_1)\n",
    "    cohen_score_23 = cohen_kappa_score(annotation_2,annotation_3)\n",
    "    cohen_score_24 = cohen_kappa_score(annotation_2,annotation_4)\n",
    "    cohen_score_average_2 = round((cohen_score_21 + cohen_score_23 + cohen_score_24)/3,3)\n",
    "    #print(\"Average Cohen Kappa Score for annotation 48:\",(cohen_score_average_2))\n",
    "    return cohen_score_average_2"
   ]
  },
  {
   "cell_type": "code",
   "execution_count": 174,
   "id": "subsequent-attraction",
   "metadata": {},
   "outputs": [
    {
     "data": {
      "text/plain": [
       "0.365"
      ]
     },
     "execution_count": 174,
     "metadata": {},
     "output_type": "execute_result"
    }
   ],
   "source": [
    "cohen_avg_2()"
   ]
  },
  {
   "cell_type": "markdown",
   "id": "decent-destruction",
   "metadata": {},
   "source": [
    "### Cohen_kappa average score of annotation 49"
   ]
  },
  {
   "cell_type": "code",
   "execution_count": 175,
   "id": "temporal-crazy",
   "metadata": {},
   "outputs": [],
   "source": [
    "def cohen_avg_3():\n",
    "    cohen_score_31 = cohen_kappa_score(annotation_3,annotation_1)\n",
    "    cohen_score_32 = cohen_kappa_score(annotation_3,annotation_2)\n",
    "    cohen_score_34 = cohen_kappa_score(annotation_3,annotation_4)\n",
    "    cohen_score_average_3 = round((cohen_score_31 + cohen_score_32 + cohen_score_34)/3,3)\n",
    "    #print(\"Average Cohen Kappa Score for annotation 49:\",(cohen_score_average_3))\n",
    "    return cohen_score_average_3"
   ]
  },
  {
   "cell_type": "code",
   "execution_count": 176,
   "id": "august-pitch",
   "metadata": {},
   "outputs": [
    {
     "data": {
      "text/plain": [
       "0.494"
      ]
     },
     "execution_count": 176,
     "metadata": {},
     "output_type": "execute_result"
    }
   ],
   "source": [
    "cohen_avg_3()"
   ]
  },
  {
   "cell_type": "markdown",
   "id": "capital-realtor",
   "metadata": {},
   "source": [
    "### Cohen_kappa average score of annotation 50"
   ]
  },
  {
   "cell_type": "code",
   "execution_count": 177,
   "id": "continent-europe",
   "metadata": {},
   "outputs": [],
   "source": [
    "def cohen_avg_4():\n",
    "    cohen_score_41 = cohen_kappa_score(annotation_4,annotation_1)\n",
    "    cohen_score_42 = cohen_kappa_score(annotation_4,annotation_2)\n",
    "    cohen_score_43 = cohen_kappa_score(annotation_4,annotation_3)\n",
    "    cohen_score_average_4 = round((cohen_score_41 + cohen_score_42 + cohen_score_43)/3,3)\n",
    "    #print(\"Average Cohen Kappa Score for annotation 50:\",(cohen_score_average_4))\n",
    "    return cohen_score_average_4"
   ]
  },
  {
   "cell_type": "code",
   "execution_count": 178,
   "id": "starting-democrat",
   "metadata": {},
   "outputs": [
    {
     "data": {
      "text/plain": [
       "0.467"
      ]
     },
     "execution_count": 178,
     "metadata": {},
     "output_type": "execute_result"
    }
   ],
   "source": [
    "cohen_avg_4()"
   ]
  },
  {
   "cell_type": "markdown",
   "id": "spanish-territory",
   "metadata": {},
   "source": [
    "##### If average cohen kappa score for any annotation is less than 0.2, we will drop it"
   ]
  },
  {
   "cell_type": "code",
   "execution_count": 179,
   "id": "fifth-eugene",
   "metadata": {},
   "outputs": [],
   "source": [
    "def drop_annotate():\n",
    "    average = [cohen_avg_1(), cohen_avg_2(),cohen_avg_3(),cohen_avg_4()]\n",
    "    columns_name = ['annotation_47','annotation_48','annotation_49','annotation_50']\n",
    "    #columns =[annotation_1,annotation_2,annotation_3,annotation_4]\n",
    "    for i in range(0,len(average)):\n",
    "        if average[i]< 0.2:\n",
    "            print(\"\\n\")\n",
    "            print(columns_name[i])\n",
    "            print(average[i])\n",
    "            df_10.drop(columns_name[i], axis=1, inplace = True)\n",
    "    print(df_10.head())\n",
    "    r=[]\n",
    "    for col in df_10.columns:\n",
    "        r.append(col)\n",
    "    print(r[1:])"
   ]
  },
  {
   "cell_type": "code",
   "execution_count": 180,
   "id": "piano-delay",
   "metadata": {},
   "outputs": [
    {
     "name": "stdout",
     "output_type": "stream",
     "text": [
      "                                                text  annotation_48  \\\n",
      "0                          Postpone CBSE Board Exams          False   \n",
      "1                 Pay rise for paramedics and nurses          False   \n",
      "2                          Too Soon To Open Georgia!          False   \n",
      "3  Request to reconsider DPS Ruby Park school tui...          False   \n",
      "4  Covid-19 Aesthetics / Salon / Massage Industry...          False   \n",
      "\n",
      "   annotation_49  annotation_50  annotation_47  \n",
      "0          False          False          False  \n",
      "1          False          False          False  \n",
      "2          False          False          False  \n",
      "3          False          False          False  \n",
      "4          False          False          False  \n",
      "['annotation_48', 'annotation_49', 'annotation_50', 'annotation_47']\n"
     ]
    }
   ],
   "source": [
    "drop_annotate()"
   ]
  },
  {
   "cell_type": "code",
   "execution_count": 181,
   "id": "alpha-digit",
   "metadata": {},
   "outputs": [],
   "source": [
    "def updateLabel(df_10):\n",
    "    for index, rows in df_10.iterrows():\n",
    "        match = [[cohen_avg_1(),rows['annotation_47']],\n",
    "                   [cohen_avg_2(),rows['annotation_48']],\n",
    "                   [cohen_avg_3(),rows['annotation_49']],\n",
    "                    [cohen_avg_4(),rows['annotation_50']]]\n",
    "        boolean = [rows['annotation_47'],rows['annotation_48'],rows['annotation_49'],rows['annotation_50']]\n",
    "        match.sort(key = lambda k:k[0])\n",
    "        true = match.count('True')\n",
    "        false = match.count('False')\n",
    "        if true == false: \n",
    "            kappa, columnV = match[-1]\n",
    "            df_10.loc[index, 'Final Label'] = columnV\n",
    "            \n",
    "        elif true!=false:\n",
    "            if true > false:\n",
    "                df_10.loc[index, 'Final Label'] = True\n",
    "            else:\n",
    "                df_10.loc[index, 'Final Label'] = False\n",
    "    \n",
    "\n"
   ]
  },
  {
   "cell_type": "code",
   "execution_count": 182,
   "id": "beginning-frame",
   "metadata": {},
   "outputs": [
    {
     "data": {
      "text/html": [
       "<div>\n",
       "<style scoped>\n",
       "    .dataframe tbody tr th:only-of-type {\n",
       "        vertical-align: middle;\n",
       "    }\n",
       "\n",
       "    .dataframe tbody tr th {\n",
       "        vertical-align: top;\n",
       "    }\n",
       "\n",
       "    .dataframe thead th {\n",
       "        text-align: right;\n",
       "    }\n",
       "</style>\n",
       "<table border=\"1\" class=\"dataframe\">\n",
       "  <thead>\n",
       "    <tr style=\"text-align: right;\">\n",
       "      <th></th>\n",
       "      <th>text</th>\n",
       "      <th>Final Label</th>\n",
       "    </tr>\n",
       "  </thead>\n",
       "  <tbody>\n",
       "    <tr>\n",
       "      <th>0</th>\n",
       "      <td>Postpone CBSE Board Exams</td>\n",
       "      <td>False</td>\n",
       "    </tr>\n",
       "    <tr>\n",
       "      <th>1</th>\n",
       "      <td>Pay rise for paramedics and nurses</td>\n",
       "      <td>False</td>\n",
       "    </tr>\n",
       "    <tr>\n",
       "      <th>2</th>\n",
       "      <td>Too Soon To Open Georgia!</td>\n",
       "      <td>False</td>\n",
       "    </tr>\n",
       "    <tr>\n",
       "      <th>3</th>\n",
       "      <td>Request to reconsider DPS Ruby Park school tui...</td>\n",
       "      <td>False</td>\n",
       "    </tr>\n",
       "    <tr>\n",
       "      <th>4</th>\n",
       "      <td>Covid-19 Aesthetics / Salon / Massage Industry...</td>\n",
       "      <td>False</td>\n",
       "    </tr>\n",
       "  </tbody>\n",
       "</table>\n",
       "</div>"
      ],
      "text/plain": [
       "                                                text Final Label\n",
       "0                          Postpone CBSE Board Exams       False\n",
       "1                 Pay rise for paramedics and nurses       False\n",
       "2                          Too Soon To Open Georgia!       False\n",
       "3  Request to reconsider DPS Ruby Park school tui...       False\n",
       "4  Covid-19 Aesthetics / Salon / Massage Industry...       False"
      ]
     },
     "execution_count": 182,
     "metadata": {},
     "output_type": "execute_result"
    }
   ],
   "source": [
    "updateLabel(df_10)\n",
    "df_10 = df_10.iloc[:,[0,-1]]\n",
    "df_10.head()"
   ]
  },
  {
   "cell_type": "code",
   "execution_count": 183,
   "id": "purple-guest",
   "metadata": {},
   "outputs": [],
   "source": [
    "df_10.to_csv(r'C:\\Users\\stuar\\Desktop\\NLP Assignment 2\\new_files\\secondary\\change.org_topic_3_masking_and_distancing.csv',\n",
    "           index = False)"
   ]
  },
  {
   "cell_type": "code",
   "execution_count": null,
   "id": "mechanical-vertical",
   "metadata": {},
   "outputs": [],
   "source": []
  },
  {
   "cell_type": "markdown",
   "id": "individual-testimony",
   "metadata": {},
   "source": [
    "## change.org_topic_3_vaccination.csv\n",
    "\n"
   ]
  },
  {
   "cell_type": "code",
   "execution_count": 184,
   "id": "whole-marshall",
   "metadata": {},
   "outputs": [
    {
     "data": {
      "text/html": [
       "<div>\n",
       "<style scoped>\n",
       "    .dataframe tbody tr th:only-of-type {\n",
       "        vertical-align: middle;\n",
       "    }\n",
       "\n",
       "    .dataframe tbody tr th {\n",
       "        vertical-align: top;\n",
       "    }\n",
       "\n",
       "    .dataframe thead th {\n",
       "        text-align: right;\n",
       "    }\n",
       "</style>\n",
       "<table border=\"1\" class=\"dataframe\">\n",
       "  <thead>\n",
       "    <tr style=\"text-align: right;\">\n",
       "      <th></th>\n",
       "      <th>text</th>\n",
       "      <th>annotation_48</th>\n",
       "      <th>annotation_49</th>\n",
       "      <th>annotation_50</th>\n",
       "      <th>annotation_47</th>\n",
       "    </tr>\n",
       "  </thead>\n",
       "  <tbody>\n",
       "    <tr>\n",
       "      <th>0</th>\n",
       "      <td>Postpone CBSE Board Exams</td>\n",
       "      <td>False</td>\n",
       "      <td>False</td>\n",
       "      <td>False</td>\n",
       "      <td>False</td>\n",
       "    </tr>\n",
       "    <tr>\n",
       "      <th>1</th>\n",
       "      <td>Pay rise for paramedics and nurses</td>\n",
       "      <td>False</td>\n",
       "      <td>False</td>\n",
       "      <td>False</td>\n",
       "      <td>False</td>\n",
       "    </tr>\n",
       "    <tr>\n",
       "      <th>2</th>\n",
       "      <td>Too Soon To Open Georgia!</td>\n",
       "      <td>False</td>\n",
       "      <td>False</td>\n",
       "      <td>False</td>\n",
       "      <td>False</td>\n",
       "    </tr>\n",
       "    <tr>\n",
       "      <th>3</th>\n",
       "      <td>Request to reconsider DPS Ruby Park school tui...</td>\n",
       "      <td>False</td>\n",
       "      <td>False</td>\n",
       "      <td>False</td>\n",
       "      <td>False</td>\n",
       "    </tr>\n",
       "    <tr>\n",
       "      <th>4</th>\n",
       "      <td>Covid-19 Aesthetics / Salon / Massage Industry...</td>\n",
       "      <td>False</td>\n",
       "      <td>False</td>\n",
       "      <td>False</td>\n",
       "      <td>False</td>\n",
       "    </tr>\n",
       "  </tbody>\n",
       "</table>\n",
       "</div>"
      ],
      "text/plain": [
       "                                                text  annotation_48  \\\n",
       "0                          Postpone CBSE Board Exams          False   \n",
       "1                 Pay rise for paramedics and nurses          False   \n",
       "2                          Too Soon To Open Georgia!          False   \n",
       "3  Request to reconsider DPS Ruby Park school tui...          False   \n",
       "4  Covid-19 Aesthetics / Salon / Massage Industry...          False   \n",
       "\n",
       "   annotation_49  annotation_50  annotation_47  \n",
       "0          False          False          False  \n",
       "1          False          False          False  \n",
       "2          False          False          False  \n",
       "3          False          False          False  \n",
       "4          False          False          False  "
      ]
     },
     "execution_count": 184,
     "metadata": {},
     "output_type": "execute_result"
    }
   ],
   "source": [
    "df_11 = pd.read_csv(r'change.org_topic\\change.org_topic_3_vaccination.csv')\n",
    "df_11.head()"
   ]
  },
  {
   "cell_type": "code",
   "execution_count": 185,
   "id": "european-repair",
   "metadata": {},
   "outputs": [
    {
     "name": "stdout",
     "output_type": "stream",
     "text": [
      "0\n",
      "0\n",
      "0\n",
      "0\n",
      "0\n"
     ]
    }
   ],
   "source": [
    "print(df_11['annotation_47'].isnull().sum())\n",
    "print(df_11['annotation_48'].isnull().sum())\n",
    "print(df_11['annotation_49'].isnull().sum())\n",
    "print(df_11['annotation_50'].isnull().sum())\n",
    "print(df_11['text'].isnull().sum())"
   ]
  },
  {
   "cell_type": "code",
   "execution_count": 186,
   "id": "minor-planet",
   "metadata": {},
   "outputs": [],
   "source": [
    "annotation_1= df_11['annotation_47']\n",
    "annotation_2= df_11['annotation_48']\n",
    "annotation_3= df_11['annotation_49']\n",
    "annotation_4= df_11['annotation_50']"
   ]
  },
  {
   "cell_type": "markdown",
   "id": "level-diversity",
   "metadata": {},
   "source": [
    "### Cohen_kappa average score of annotation 47"
   ]
  },
  {
   "cell_type": "code",
   "execution_count": 187,
   "id": "another-peeing",
   "metadata": {},
   "outputs": [],
   "source": [
    "def cohen_avg_1():\n",
    "    cohen_score_12 = cohen_kappa_score(annotation_1,annotation_2)\n",
    "    cohen_score_13 = cohen_kappa_score(annotation_1,annotation_3)\n",
    "    cohen_score_14 = cohen_kappa_score(annotation_1,annotation_4)\n",
    "    cohen_score_average_1 = round((cohen_score_12 + cohen_score_13 + cohen_score_14)/3,3)\n",
    "    #print(\"Average Cohen Kappa Score for annotation 47:\",(cohen_score_average_1))\n",
    "    return cohen_score_average_1"
   ]
  },
  {
   "cell_type": "code",
   "execution_count": 188,
   "id": "minute-state",
   "metadata": {},
   "outputs": [
    {
     "data": {
      "text/plain": [
       "0.524"
      ]
     },
     "execution_count": 188,
     "metadata": {},
     "output_type": "execute_result"
    }
   ],
   "source": [
    "cohen_avg_1()"
   ]
  },
  {
   "cell_type": "markdown",
   "id": "intensive-pickup",
   "metadata": {},
   "source": [
    "### Cohen_kappa average score of annotation 48"
   ]
  },
  {
   "cell_type": "code",
   "execution_count": 189,
   "id": "rapid-corpus",
   "metadata": {},
   "outputs": [],
   "source": [
    "def cohen_avg_2():\n",
    "    cohen_score_21 = cohen_kappa_score(annotation_2,annotation_1)\n",
    "    cohen_score_23 = cohen_kappa_score(annotation_2,annotation_3)\n",
    "    cohen_score_24 = cohen_kappa_score(annotation_2,annotation_4)\n",
    "    cohen_score_average_2 = round((cohen_score_21 + cohen_score_23 + cohen_score_24)/3,3)\n",
    "    #print(\"Average Cohen Kappa Score for annotation 48:\",(cohen_score_average_2))\n",
    "    return cohen_score_average_2"
   ]
  },
  {
   "cell_type": "code",
   "execution_count": 190,
   "id": "resistant-strengthening",
   "metadata": {},
   "outputs": [
    {
     "data": {
      "text/plain": [
       "0.388"
      ]
     },
     "execution_count": 190,
     "metadata": {},
     "output_type": "execute_result"
    }
   ],
   "source": [
    "cohen_avg_2()"
   ]
  },
  {
   "cell_type": "markdown",
   "id": "strong-orlando",
   "metadata": {},
   "source": [
    "### Cohen_kappa average score of annotation 49"
   ]
  },
  {
   "cell_type": "code",
   "execution_count": 191,
   "id": "pharmaceutical-romance",
   "metadata": {},
   "outputs": [],
   "source": [
    "def cohen_avg_3():\n",
    "    cohen_score_31 = cohen_kappa_score(annotation_3,annotation_1)\n",
    "    cohen_score_32 = cohen_kappa_score(annotation_3,annotation_2)\n",
    "    cohen_score_34 = cohen_kappa_score(annotation_3,annotation_4)\n",
    "    cohen_score_average_3 = round((cohen_score_31 + cohen_score_32 + cohen_score_34)/3,3)\n",
    "    #print(\"Average Cohen Kappa Score for annotation 49:\",(cohen_score_average_3))\n",
    "    return cohen_score_average_3"
   ]
  },
  {
   "cell_type": "code",
   "execution_count": 192,
   "id": "twenty-politics",
   "metadata": {},
   "outputs": [
    {
     "data": {
      "text/plain": [
       "0.605"
      ]
     },
     "execution_count": 192,
     "metadata": {},
     "output_type": "execute_result"
    }
   ],
   "source": [
    "cohen_avg_3()"
   ]
  },
  {
   "cell_type": "markdown",
   "id": "legitimate-spokesman",
   "metadata": {},
   "source": [
    "### Cohen_kappa average score of annotation 50"
   ]
  },
  {
   "cell_type": "code",
   "execution_count": 193,
   "id": "dominant-speaking",
   "metadata": {},
   "outputs": [],
   "source": [
    "def cohen_avg_4():\n",
    "    cohen_score_41 = cohen_kappa_score(annotation_4,annotation_1)\n",
    "    cohen_score_42 = cohen_kappa_score(annotation_4,annotation_2)\n",
    "    cohen_score_43 = cohen_kappa_score(annotation_4,annotation_3)\n",
    "    cohen_score_average_4 = round((cohen_score_41 + cohen_score_42 + cohen_score_43)/3,3)\n",
    "    #print(\"Average Cohen Kappa Score for annotation 50:\",(cohen_score_average_4))\n",
    "    return cohen_score_average_4"
   ]
  },
  {
   "cell_type": "code",
   "execution_count": 194,
   "id": "artistic-sponsorship",
   "metadata": {},
   "outputs": [
    {
     "data": {
      "text/plain": [
       "0.562"
      ]
     },
     "execution_count": 194,
     "metadata": {},
     "output_type": "execute_result"
    }
   ],
   "source": [
    "cohen_avg_4()"
   ]
  },
  {
   "cell_type": "markdown",
   "id": "signed-ebony",
   "metadata": {},
   "source": [
    "##### If average cohen kappa score for any annotation is less than 0.2, we will drop it"
   ]
  },
  {
   "cell_type": "code",
   "execution_count": 195,
   "id": "czech-destiny",
   "metadata": {},
   "outputs": [],
   "source": [
    "def drop_annotate():\n",
    "    average = [cohen_avg_1(), cohen_avg_2(),cohen_avg_3(),cohen_avg_4()]\n",
    "    columns_name = ['annotation_47','annotation_48','annotation_49','annotation_50']\n",
    "    #columns =[annotation_1,annotation_2,annotation_3,annotation_4]\n",
    "    for i in range(0,len(average)):\n",
    "        if average[i]< 0.2:\n",
    "            print(columns_name[i])\n",
    "            print(average[i])\n",
    "            df_11.drop(columns_name[i], axis=1, inplace = True)\n",
    "    print(df_11.head())\n",
    "    r = []\n",
    "    for col in df_11.columns:\n",
    "        r.append(col)\n",
    "    print(r[1:])"
   ]
  },
  {
   "cell_type": "code",
   "execution_count": 196,
   "id": "modified-delaware",
   "metadata": {},
   "outputs": [
    {
     "name": "stdout",
     "output_type": "stream",
     "text": [
      "                                                text  annotation_48  \\\n",
      "0                          Postpone CBSE Board Exams          False   \n",
      "1                 Pay rise for paramedics and nurses          False   \n",
      "2                          Too Soon To Open Georgia!          False   \n",
      "3  Request to reconsider DPS Ruby Park school tui...          False   \n",
      "4  Covid-19 Aesthetics / Salon / Massage Industry...          False   \n",
      "\n",
      "   annotation_49  annotation_50  annotation_47  \n",
      "0          False          False          False  \n",
      "1          False          False          False  \n",
      "2          False          False          False  \n",
      "3          False          False          False  \n",
      "4          False          False          False  \n",
      "['annotation_48', 'annotation_49', 'annotation_50', 'annotation_47']\n"
     ]
    }
   ],
   "source": [
    "drop_annotate()"
   ]
  },
  {
   "cell_type": "code",
   "execution_count": 197,
   "id": "emerging-horizon",
   "metadata": {},
   "outputs": [],
   "source": [
    "def updateLabel(df_11):\n",
    "    for index, rows in df_11.iterrows():\n",
    "        match = [[cohen_avg_1(),rows['annotation_47']],\n",
    "                   [cohen_avg_2(),rows['annotation_48']],\n",
    "                   [cohen_avg_3(),rows['annotation_49']],\n",
    "                    [cohen_avg_4(),rows['annotation_50']]]\n",
    "        boolean = [rows['annotation_47'],rows['annotation_48'],rows['annotation_49'],rows['annotation_50']]\n",
    "        match.sort(key = lambda k:k[0])\n",
    "        true = match.count('True')\n",
    "        false = match.count('False')\n",
    "        if true == false: \n",
    "            kappa, columnV = match[-1]\n",
    "            df_11.loc[index, 'Final Label'] = columnV\n",
    "            \n",
    "        elif true!=false:\n",
    "            if true > false:\n",
    "                df_11.loc[index, 'Final Label'] = True\n",
    "            else:\n",
    "                df_11.loc[index, 'Final Label'] = False\n",
    "    \n",
    "\n"
   ]
  },
  {
   "cell_type": "code",
   "execution_count": 198,
   "id": "engaging-attendance",
   "metadata": {},
   "outputs": [
    {
     "data": {
      "text/html": [
       "<div>\n",
       "<style scoped>\n",
       "    .dataframe tbody tr th:only-of-type {\n",
       "        vertical-align: middle;\n",
       "    }\n",
       "\n",
       "    .dataframe tbody tr th {\n",
       "        vertical-align: top;\n",
       "    }\n",
       "\n",
       "    .dataframe thead th {\n",
       "        text-align: right;\n",
       "    }\n",
       "</style>\n",
       "<table border=\"1\" class=\"dataframe\">\n",
       "  <thead>\n",
       "    <tr style=\"text-align: right;\">\n",
       "      <th></th>\n",
       "      <th>text</th>\n",
       "      <th>Final Label</th>\n",
       "    </tr>\n",
       "  </thead>\n",
       "  <tbody>\n",
       "    <tr>\n",
       "      <th>0</th>\n",
       "      <td>Postpone CBSE Board Exams</td>\n",
       "      <td>False</td>\n",
       "    </tr>\n",
       "    <tr>\n",
       "      <th>1</th>\n",
       "      <td>Pay rise for paramedics and nurses</td>\n",
       "      <td>False</td>\n",
       "    </tr>\n",
       "    <tr>\n",
       "      <th>2</th>\n",
       "      <td>Too Soon To Open Georgia!</td>\n",
       "      <td>False</td>\n",
       "    </tr>\n",
       "    <tr>\n",
       "      <th>3</th>\n",
       "      <td>Request to reconsider DPS Ruby Park school tui...</td>\n",
       "      <td>False</td>\n",
       "    </tr>\n",
       "    <tr>\n",
       "      <th>4</th>\n",
       "      <td>Covid-19 Aesthetics / Salon / Massage Industry...</td>\n",
       "      <td>False</td>\n",
       "    </tr>\n",
       "  </tbody>\n",
       "</table>\n",
       "</div>"
      ],
      "text/plain": [
       "                                                text Final Label\n",
       "0                          Postpone CBSE Board Exams       False\n",
       "1                 Pay rise for paramedics and nurses       False\n",
       "2                          Too Soon To Open Georgia!       False\n",
       "3  Request to reconsider DPS Ruby Park school tui...       False\n",
       "4  Covid-19 Aesthetics / Salon / Massage Industry...       False"
      ]
     },
     "execution_count": 198,
     "metadata": {},
     "output_type": "execute_result"
    }
   ],
   "source": [
    "updateLabel(df_11)\n",
    "df_11 = df_11.iloc[:,[0,-1]]\n",
    "df_11.head()"
   ]
  },
  {
   "cell_type": "code",
   "execution_count": 199,
   "id": "industrial-commonwealth",
   "metadata": {},
   "outputs": [],
   "source": [
    "df_11.to_csv(r'C:\\Users\\stuar\\Desktop\\NLP Assignment 2\\new_files\\secondary\\change.org_topic_3_vaccination.csv',\n",
    "           index = False)"
   ]
  },
  {
   "cell_type": "code",
   "execution_count": null,
   "id": "intermediate-deployment",
   "metadata": {},
   "outputs": [],
   "source": []
  },
  {
   "cell_type": "markdown",
   "id": "skilled-jimmy",
   "metadata": {},
   "source": [
    "## change.org_topic_4_lockdowns.csv\n",
    "\n"
   ]
  },
  {
   "cell_type": "code",
   "execution_count": 200,
   "id": "patent-airfare",
   "metadata": {},
   "outputs": [
    {
     "data": {
      "text/html": [
       "<div>\n",
       "<style scoped>\n",
       "    .dataframe tbody tr th:only-of-type {\n",
       "        vertical-align: middle;\n",
       "    }\n",
       "\n",
       "    .dataframe tbody tr th {\n",
       "        vertical-align: top;\n",
       "    }\n",
       "\n",
       "    .dataframe thead th {\n",
       "        text-align: right;\n",
       "    }\n",
       "</style>\n",
       "<table border=\"1\" class=\"dataframe\">\n",
       "  <thead>\n",
       "    <tr style=\"text-align: right;\">\n",
       "      <th></th>\n",
       "      <th>text</th>\n",
       "      <th>annotation_43</th>\n",
       "      <th>annotation_44</th>\n",
       "      <th>annotation_45</th>\n",
       "      <th>annotation_46</th>\n",
       "    </tr>\n",
       "  </thead>\n",
       "  <tbody>\n",
       "    <tr>\n",
       "      <th>0</th>\n",
       "      <td>Save Western Ghats from annihilation</td>\n",
       "      <td>True</td>\n",
       "      <td>False</td>\n",
       "      <td>False</td>\n",
       "      <td>False</td>\n",
       "    </tr>\n",
       "    <tr>\n",
       "      <th>1</th>\n",
       "      <td>Save Beacon Hill Park</td>\n",
       "      <td>True</td>\n",
       "      <td>False</td>\n",
       "      <td>False</td>\n",
       "      <td>False</td>\n",
       "    </tr>\n",
       "    <tr>\n",
       "      <th>2</th>\n",
       "      <td>Government of India: Don't Tax Medical Bills</td>\n",
       "      <td>True</td>\n",
       "      <td>False</td>\n",
       "      <td>False</td>\n",
       "      <td>False</td>\n",
       "    </tr>\n",
       "    <tr>\n",
       "      <th>3</th>\n",
       "      <td>NO FAILING @ UCR</td>\n",
       "      <td>True</td>\n",
       "      <td>False</td>\n",
       "      <td>False</td>\n",
       "      <td>False</td>\n",
       "    </tr>\n",
       "    <tr>\n",
       "      <th>4</th>\n",
       "      <td>WIAA - Let them play football!</td>\n",
       "      <td>True</td>\n",
       "      <td>False</td>\n",
       "      <td>True</td>\n",
       "      <td>False</td>\n",
       "    </tr>\n",
       "  </tbody>\n",
       "</table>\n",
       "</div>"
      ],
      "text/plain": [
       "                                           text  annotation_43  annotation_44  \\\n",
       "0          Save Western Ghats from annihilation           True          False   \n",
       "1                         Save Beacon Hill Park           True          False   \n",
       "2  Government of India: Don't Tax Medical Bills           True          False   \n",
       "3                              NO FAILING @ UCR           True          False   \n",
       "4                WIAA - Let them play football!           True          False   \n",
       "\n",
       "   annotation_45  annotation_46  \n",
       "0          False          False  \n",
       "1          False          False  \n",
       "2          False          False  \n",
       "3          False          False  \n",
       "4           True          False  "
      ]
     },
     "execution_count": 200,
     "metadata": {},
     "output_type": "execute_result"
    }
   ],
   "source": [
    "df_12 = pd.read_csv(r'change.org_topic\\change.org_topic_4_lockdowns.csv')\n",
    "df_12.head()"
   ]
  },
  {
   "cell_type": "code",
   "execution_count": 201,
   "id": "advanced-gothic",
   "metadata": {},
   "outputs": [
    {
     "name": "stdout",
     "output_type": "stream",
     "text": [
      "0\n",
      "0\n",
      "0\n",
      "0\n",
      "0\n"
     ]
    }
   ],
   "source": [
    "print(df_12['annotation_43'].isnull().sum())\n",
    "print(df_12['annotation_44'].isnull().sum())\n",
    "print(df_12['annotation_45'].isnull().sum())\n",
    "print(df_12['annotation_46'].isnull().sum())\n",
    "print(df_12['text'].isnull().sum())"
   ]
  },
  {
   "cell_type": "code",
   "execution_count": 202,
   "id": "thorough-possible",
   "metadata": {},
   "outputs": [],
   "source": [
    "annotation_1= df_12['annotation_43']\n",
    "annotation_2= df_12['annotation_44']\n",
    "annotation_3= df_12['annotation_45']\n",
    "annotation_4= df_12['annotation_46']"
   ]
  },
  {
   "cell_type": "markdown",
   "id": "terminal-sailing",
   "metadata": {},
   "source": [
    "### Cohen_kappa average score of annotation 43"
   ]
  },
  {
   "cell_type": "code",
   "execution_count": 203,
   "id": "blond-parish",
   "metadata": {},
   "outputs": [],
   "source": [
    "def cohen_avg_1():\n",
    "    cohen_score_12 = cohen_kappa_score(annotation_1,annotation_2)\n",
    "    cohen_score_13 = cohen_kappa_score(annotation_1,annotation_3)\n",
    "    cohen_score_14 = cohen_kappa_score(annotation_1,annotation_4)\n",
    "    cohen_score_average_1 = round((cohen_score_12 + cohen_score_13 + cohen_score_14)/3,3)\n",
    "    #print(\"Average Cohen Kappa Score for annotation 43:\",(cohen_score_average_1))\n",
    "    return cohen_score_average_1"
   ]
  },
  {
   "cell_type": "code",
   "execution_count": 204,
   "id": "technical-junior",
   "metadata": {},
   "outputs": [
    {
     "data": {
      "text/plain": [
       "0.095"
      ]
     },
     "execution_count": 204,
     "metadata": {},
     "output_type": "execute_result"
    }
   ],
   "source": [
    "cohen_avg_1()"
   ]
  },
  {
   "cell_type": "markdown",
   "id": "established-arena",
   "metadata": {},
   "source": [
    "### Cohen_kappa average score of annotation 44"
   ]
  },
  {
   "cell_type": "code",
   "execution_count": 205,
   "id": "exciting-preservation",
   "metadata": {},
   "outputs": [],
   "source": [
    "def cohen_avg_2():\n",
    "    cohen_score_21 = cohen_kappa_score(annotation_2,annotation_1)\n",
    "    cohen_score_23 = cohen_kappa_score(annotation_2,annotation_3)\n",
    "    cohen_score_24 = cohen_kappa_score(annotation_2,annotation_4)\n",
    "    cohen_score_average_2 = round((cohen_score_21 + cohen_score_23 + cohen_score_24)/3,3)\n",
    "    #print(\"Average Cohen Kappa Score for annotation 44:\",(cohen_score_average_2))\n",
    "    return cohen_score_average_2"
   ]
  },
  {
   "cell_type": "code",
   "execution_count": 206,
   "id": "pleased-earth",
   "metadata": {},
   "outputs": [
    {
     "data": {
      "text/plain": [
       "0.36"
      ]
     },
     "execution_count": 206,
     "metadata": {},
     "output_type": "execute_result"
    }
   ],
   "source": [
    "cohen_avg_2()"
   ]
  },
  {
   "cell_type": "markdown",
   "id": "medieval-fifteen",
   "metadata": {},
   "source": [
    "### Cohen_kappa average score of annotation 45"
   ]
  },
  {
   "cell_type": "code",
   "execution_count": 207,
   "id": "simple-samba",
   "metadata": {},
   "outputs": [],
   "source": [
    "def cohen_avg_3():\n",
    "    cohen_score_31 = cohen_kappa_score(annotation_3,annotation_1)\n",
    "    cohen_score_32 = cohen_kappa_score(annotation_3,annotation_2)\n",
    "    cohen_score_34 = cohen_kappa_score(annotation_3,annotation_4)\n",
    "    cohen_score_average_3 = round((cohen_score_31 + cohen_score_32 + cohen_score_34)/3,3)\n",
    "    #print(\"Average Cohen Kappa Score for annotation 45:\",(cohen_score_average_3))\n",
    "    return cohen_score_average_3"
   ]
  },
  {
   "cell_type": "code",
   "execution_count": 208,
   "id": "dressed-objective",
   "metadata": {},
   "outputs": [
    {
     "data": {
      "text/plain": [
       "0.38"
      ]
     },
     "execution_count": 208,
     "metadata": {},
     "output_type": "execute_result"
    }
   ],
   "source": [
    "cohen_avg_3()"
   ]
  },
  {
   "cell_type": "markdown",
   "id": "automotive-pharmacology",
   "metadata": {},
   "source": [
    "### Cohen_kappa average score of annotation 46"
   ]
  },
  {
   "cell_type": "code",
   "execution_count": 209,
   "id": "dress-longitude",
   "metadata": {},
   "outputs": [],
   "source": [
    "def cohen_avg_4():\n",
    "    cohen_score_41 = cohen_kappa_score(annotation_4,annotation_1)\n",
    "    cohen_score_42 = cohen_kappa_score(annotation_4,annotation_2)\n",
    "    cohen_score_43 = cohen_kappa_score(annotation_4,annotation_3)\n",
    "    cohen_score_average_4 = round((cohen_score_41 + cohen_score_42 + cohen_score_43)/3,3)\n",
    "    #print(\"Average Cohen Kappa Score for annotation 46:\",(cohen_score_average_4))\n",
    "    return cohen_score_average_4"
   ]
  },
  {
   "cell_type": "code",
   "execution_count": 210,
   "id": "conscious-warren",
   "metadata": {},
   "outputs": [
    {
     "data": {
      "text/plain": [
       "0.386"
      ]
     },
     "execution_count": 210,
     "metadata": {},
     "output_type": "execute_result"
    }
   ],
   "source": [
    "cohen_avg_4()"
   ]
  },
  {
   "cell_type": "markdown",
   "id": "plain-scientist",
   "metadata": {},
   "source": [
    "##### If average cohen kappa score for any annotation is less than 0.2, we will drop it"
   ]
  },
  {
   "cell_type": "code",
   "execution_count": 211,
   "id": "raised-finding",
   "metadata": {},
   "outputs": [],
   "source": [
    "def drop_annotate():\n",
    "    average = [cohen_avg_1(), cohen_avg_2(),cohen_avg_3(),cohen_avg_4()]\n",
    "    columns_name = ['annotation_43','annotation_44','annotation_45','annotation_46']\n",
    "    for i in range(0,len(average)):\n",
    "        if average[i]< 0.2:\n",
    "            print(columns_name[i])\n",
    "            print(average[i])\n",
    "            df_12.drop(columns_name[i], axis=1, inplace = True)\n",
    "    #print(df_12.head())\n",
    "    r = []\n",
    "    for col in df_12.columns:\n",
    "        r.append(col)\n",
    "    print(r[1:])"
   ]
  },
  {
   "cell_type": "code",
   "execution_count": 212,
   "id": "sunrise-persian",
   "metadata": {},
   "outputs": [
    {
     "name": "stdout",
     "output_type": "stream",
     "text": [
      "annotation_43\n",
      "0.095\n",
      "['annotation_44', 'annotation_45', 'annotation_46']\n"
     ]
    }
   ],
   "source": [
    "drop_annotate()\n"
   ]
  },
  {
   "cell_type": "code",
   "execution_count": 213,
   "id": "refined-republican",
   "metadata": {},
   "outputs": [],
   "source": [
    "def updateLabel(df_12):\n",
    "    for index, rows in df_12.iterrows():\n",
    "        match = [[cohen_avg_1(),rows['annotation_44']],\n",
    "                   [cohen_avg_2(),rows['annotation_45']],\n",
    "                   [cohen_avg_3(),rows['annotation_46']]]\n",
    "        boolean = [rows['annotation_44'],rows['annotation_45'],rows['annotation_46']]\n",
    "        match.sort(key = lambda k:k[0])\n",
    "        true = match.count('True')\n",
    "        false = match.count('False')\n",
    "        if true == false: \n",
    "            kappa, columnV = match[-1]\n",
    "            df_12.loc[index, 'Final Label'] = columnV\n",
    "            \n",
    "        elif true!=false:\n",
    "            if true > false:\n",
    "                df_12.loc[index, 'Final Label'] = True\n",
    "            else:\n",
    "                df_12.loc[index, 'Final Label'] = False\n",
    "    \n",
    "\n"
   ]
  },
  {
   "cell_type": "code",
   "execution_count": 214,
   "id": "enhanced-distance",
   "metadata": {},
   "outputs": [
    {
     "data": {
      "text/html": [
       "<div>\n",
       "<style scoped>\n",
       "    .dataframe tbody tr th:only-of-type {\n",
       "        vertical-align: middle;\n",
       "    }\n",
       "\n",
       "    .dataframe tbody tr th {\n",
       "        vertical-align: top;\n",
       "    }\n",
       "\n",
       "    .dataframe thead th {\n",
       "        text-align: right;\n",
       "    }\n",
       "</style>\n",
       "<table border=\"1\" class=\"dataframe\">\n",
       "  <thead>\n",
       "    <tr style=\"text-align: right;\">\n",
       "      <th></th>\n",
       "      <th>text</th>\n",
       "      <th>Final Label</th>\n",
       "    </tr>\n",
       "  </thead>\n",
       "  <tbody>\n",
       "    <tr>\n",
       "      <th>0</th>\n",
       "      <td>Save Western Ghats from annihilation</td>\n",
       "      <td>False</td>\n",
       "    </tr>\n",
       "    <tr>\n",
       "      <th>1</th>\n",
       "      <td>Save Beacon Hill Park</td>\n",
       "      <td>False</td>\n",
       "    </tr>\n",
       "    <tr>\n",
       "      <th>2</th>\n",
       "      <td>Government of India: Don't Tax Medical Bills</td>\n",
       "      <td>False</td>\n",
       "    </tr>\n",
       "    <tr>\n",
       "      <th>3</th>\n",
       "      <td>NO FAILING @ UCR</td>\n",
       "      <td>False</td>\n",
       "    </tr>\n",
       "    <tr>\n",
       "      <th>4</th>\n",
       "      <td>WIAA - Let them play football!</td>\n",
       "      <td>False</td>\n",
       "    </tr>\n",
       "  </tbody>\n",
       "</table>\n",
       "</div>"
      ],
      "text/plain": [
       "                                           text Final Label\n",
       "0          Save Western Ghats from annihilation       False\n",
       "1                         Save Beacon Hill Park       False\n",
       "2  Government of India: Don't Tax Medical Bills       False\n",
       "3                              NO FAILING @ UCR       False\n",
       "4                WIAA - Let them play football!       False"
      ]
     },
     "execution_count": 214,
     "metadata": {},
     "output_type": "execute_result"
    }
   ],
   "source": [
    "updateLabel(df_12)\n",
    "df_12 = df_12.iloc[:,[0,-1]]\n",
    "df_12.head()"
   ]
  },
  {
   "cell_type": "code",
   "execution_count": 215,
   "id": "annual-fitting",
   "metadata": {},
   "outputs": [],
   "source": [
    "df_12.to_csv(r'C:\\Users\\stuar\\Desktop\\NLP Assignment 2\\new_files\\secondary\\change.org_topic_4_lockdowns.csv',\n",
    "           index = False)"
   ]
  },
  {
   "cell_type": "code",
   "execution_count": null,
   "id": "mounted-ethics",
   "metadata": {},
   "outputs": [],
   "source": []
  },
  {
   "cell_type": "code",
   "execution_count": null,
   "id": "pressing-province",
   "metadata": {},
   "outputs": [],
   "source": []
  },
  {
   "cell_type": "markdown",
   "id": "ahead-permit",
   "metadata": {},
   "source": [
    "## change.org_topic_4_masking_and_distancing.csv\n",
    "\n"
   ]
  },
  {
   "cell_type": "code",
   "execution_count": 216,
   "id": "higher-collectible",
   "metadata": {},
   "outputs": [
    {
     "data": {
      "text/html": [
       "<div>\n",
       "<style scoped>\n",
       "    .dataframe tbody tr th:only-of-type {\n",
       "        vertical-align: middle;\n",
       "    }\n",
       "\n",
       "    .dataframe tbody tr th {\n",
       "        vertical-align: top;\n",
       "    }\n",
       "\n",
       "    .dataframe thead th {\n",
       "        text-align: right;\n",
       "    }\n",
       "</style>\n",
       "<table border=\"1\" class=\"dataframe\">\n",
       "  <thead>\n",
       "    <tr style=\"text-align: right;\">\n",
       "      <th></th>\n",
       "      <th>text</th>\n",
       "      <th>annotation_43</th>\n",
       "      <th>annotation_44</th>\n",
       "      <th>annotation_45</th>\n",
       "      <th>annotation_46</th>\n",
       "    </tr>\n",
       "  </thead>\n",
       "  <tbody>\n",
       "    <tr>\n",
       "      <th>0</th>\n",
       "      <td>Save Western Ghats from annihilation</td>\n",
       "      <td>False</td>\n",
       "      <td>False</td>\n",
       "      <td>False</td>\n",
       "      <td>False</td>\n",
       "    </tr>\n",
       "    <tr>\n",
       "      <th>1</th>\n",
       "      <td>Save Beacon Hill Park</td>\n",
       "      <td>False</td>\n",
       "      <td>False</td>\n",
       "      <td>False</td>\n",
       "      <td>False</td>\n",
       "    </tr>\n",
       "    <tr>\n",
       "      <th>2</th>\n",
       "      <td>Government of India: Don't Tax Medical Bills</td>\n",
       "      <td>False</td>\n",
       "      <td>False</td>\n",
       "      <td>False</td>\n",
       "      <td>False</td>\n",
       "    </tr>\n",
       "    <tr>\n",
       "      <th>3</th>\n",
       "      <td>NO FAILING @ UCR</td>\n",
       "      <td>False</td>\n",
       "      <td>False</td>\n",
       "      <td>False</td>\n",
       "      <td>False</td>\n",
       "    </tr>\n",
       "    <tr>\n",
       "      <th>4</th>\n",
       "      <td>WIAA - Let them play football!</td>\n",
       "      <td>False</td>\n",
       "      <td>True</td>\n",
       "      <td>False</td>\n",
       "      <td>False</td>\n",
       "    </tr>\n",
       "  </tbody>\n",
       "</table>\n",
       "</div>"
      ],
      "text/plain": [
       "                                           text  annotation_43  annotation_44  \\\n",
       "0          Save Western Ghats from annihilation          False          False   \n",
       "1                         Save Beacon Hill Park          False          False   \n",
       "2  Government of India: Don't Tax Medical Bills          False          False   \n",
       "3                              NO FAILING @ UCR          False          False   \n",
       "4                WIAA - Let them play football!          False           True   \n",
       "\n",
       "   annotation_45  annotation_46  \n",
       "0          False          False  \n",
       "1          False          False  \n",
       "2          False          False  \n",
       "3          False          False  \n",
       "4          False          False  "
      ]
     },
     "execution_count": 216,
     "metadata": {},
     "output_type": "execute_result"
    }
   ],
   "source": [
    "df_13 = pd.read_csv(r'change.org_topic\\change.org_topic_4_masking_and_distancing.csv')\n",
    "df_13.head()"
   ]
  },
  {
   "cell_type": "code",
   "execution_count": 217,
   "id": "actual-monkey",
   "metadata": {},
   "outputs": [
    {
     "name": "stdout",
     "output_type": "stream",
     "text": [
      "0\n",
      "0\n",
      "0\n",
      "0\n",
      "0\n"
     ]
    }
   ],
   "source": [
    "print(df_13['annotation_43'].isnull().sum())\n",
    "print(df_13['annotation_44'].isnull().sum())\n",
    "print(df_13['annotation_45'].isnull().sum())\n",
    "print(df_13['annotation_46'].isnull().sum())\n",
    "print(df_13['text'].isnull().sum())"
   ]
  },
  {
   "cell_type": "markdown",
   "id": "underlying-saturday",
   "metadata": {},
   "source": [
    "### Cohen_kappa average score of annotation 43"
   ]
  },
  {
   "cell_type": "code",
   "execution_count": 218,
   "id": "amber-vulnerability",
   "metadata": {},
   "outputs": [],
   "source": [
    "def cohen_avg_1():\n",
    "    cohen_score_12 = cohen_kappa_score(annotation_1,annotation_2)\n",
    "    cohen_score_13 = cohen_kappa_score(annotation_1,annotation_3)\n",
    "    cohen_score_14 = cohen_kappa_score(annotation_1,annotation_4)\n",
    "    cohen_score_average_1 = round((cohen_score_12 + cohen_score_13 + cohen_score_14)/3,3)\n",
    "    #print(\"Average Cohen Kappa Score for annotation 43:\",(cohen_score_average_1))\n",
    "    return cohen_score_average_1"
   ]
  },
  {
   "cell_type": "code",
   "execution_count": 219,
   "id": "rental-lawsuit",
   "metadata": {},
   "outputs": [
    {
     "data": {
      "text/plain": [
       "0.095"
      ]
     },
     "execution_count": 219,
     "metadata": {},
     "output_type": "execute_result"
    }
   ],
   "source": [
    "cohen_avg_1()"
   ]
  },
  {
   "cell_type": "markdown",
   "id": "committed-jurisdiction",
   "metadata": {},
   "source": [
    "### Cohen_kappa average score of annotation 44"
   ]
  },
  {
   "cell_type": "code",
   "execution_count": 220,
   "id": "european-freeze",
   "metadata": {},
   "outputs": [],
   "source": [
    "def cohen_avg_2():\n",
    "    cohen_score_21 = cohen_kappa_score(annotation_2,annotation_1)\n",
    "    cohen_score_23 = cohen_kappa_score(annotation_2,annotation_3)\n",
    "    cohen_score_24 = cohen_kappa_score(annotation_2,annotation_4)\n",
    "    cohen_score_average_2 = round((cohen_score_21 + cohen_score_23 + cohen_score_24)/3,3)\n",
    "    #print(\"Average Cohen Kappa Score for annotation 44:\",(cohen_score_average_2))\n",
    "    return cohen_score_average_2"
   ]
  },
  {
   "cell_type": "code",
   "execution_count": 221,
   "id": "obvious-michigan",
   "metadata": {},
   "outputs": [
    {
     "data": {
      "text/plain": [
       "0.36"
      ]
     },
     "execution_count": 221,
     "metadata": {},
     "output_type": "execute_result"
    }
   ],
   "source": [
    "cohen_avg_2()"
   ]
  },
  {
   "cell_type": "markdown",
   "id": "systematic-broadcast",
   "metadata": {},
   "source": [
    "### Cohen_kappa average score of annotation 45"
   ]
  },
  {
   "cell_type": "code",
   "execution_count": 222,
   "id": "alternate-appreciation",
   "metadata": {},
   "outputs": [],
   "source": [
    "def cohen_avg_3():\n",
    "    cohen_score_31 = cohen_kappa_score(annotation_3,annotation_1)\n",
    "    cohen_score_32 = cohen_kappa_score(annotation_3,annotation_2)\n",
    "    cohen_score_34 = cohen_kappa_score(annotation_3,annotation_4)\n",
    "    cohen_score_average_3 = round((cohen_score_31 + cohen_score_32 + cohen_score_34)/3,3)\n",
    "    #print(\"Average Cohen Kappa Score for annotation 45:\",(cohen_score_average_3))\n",
    "    return cohen_score_average_3"
   ]
  },
  {
   "cell_type": "code",
   "execution_count": 223,
   "id": "hispanic-printer",
   "metadata": {},
   "outputs": [
    {
     "data": {
      "text/plain": [
       "0.38"
      ]
     },
     "execution_count": 223,
     "metadata": {},
     "output_type": "execute_result"
    }
   ],
   "source": [
    "cohen_avg_3()"
   ]
  },
  {
   "cell_type": "markdown",
   "id": "dried-surprise",
   "metadata": {},
   "source": [
    "### Cohen_kappa average score of annotation 46"
   ]
  },
  {
   "cell_type": "code",
   "execution_count": 224,
   "id": "applied-knowing",
   "metadata": {},
   "outputs": [],
   "source": [
    "def cohen_avg_4():\n",
    "    cohen_score_41 = cohen_kappa_score(annotation_4,annotation_1)\n",
    "    cohen_score_42 = cohen_kappa_score(annotation_4,annotation_2)\n",
    "    cohen_score_43 = cohen_kappa_score(annotation_4,annotation_3)\n",
    "    cohen_score_average_4 = round((cohen_score_41 + cohen_score_42 + cohen_score_43)/3,3)\n",
    "    #print(\"Average Cohen Kappa Score for annotation 46:\",(cohen_score_average_4))\n",
    "    return cohen_score_average_4"
   ]
  },
  {
   "cell_type": "code",
   "execution_count": 225,
   "id": "stock-county",
   "metadata": {},
   "outputs": [
    {
     "data": {
      "text/plain": [
       "0.386"
      ]
     },
     "execution_count": 225,
     "metadata": {},
     "output_type": "execute_result"
    }
   ],
   "source": [
    "cohen_avg_4()"
   ]
  },
  {
   "cell_type": "markdown",
   "id": "experimental-aggregate",
   "metadata": {},
   "source": [
    "##### If average cohen kappa score for any annotation is less than 0.2, we will drop it"
   ]
  },
  {
   "cell_type": "code",
   "execution_count": 226,
   "id": "deadly-reservoir",
   "metadata": {},
   "outputs": [],
   "source": [
    "def drop_annotate():\n",
    "    average = [cohen_avg_1(), cohen_avg_2(),cohen_avg_3(),cohen_avg_4()]\n",
    "    columns_name = ['annotation_43','annotation_44','annotation_45','annotation_46']\n",
    "    for i in range(0,len(average)):\n",
    "        if average[i]< 0.2:\n",
    "            print(columns_name[i])\n",
    "            print(average[i])\n",
    "            df_13.drop(columns_name[i], axis=1, inplace = True)\n",
    "    print(df_13.head())\n",
    "    r = []\n",
    "    for col in df_13.columns:\n",
    "        r.append(col)\n",
    "    print(r[1:])"
   ]
  },
  {
   "cell_type": "code",
   "execution_count": 227,
   "id": "caroline-cleaner",
   "metadata": {},
   "outputs": [
    {
     "name": "stdout",
     "output_type": "stream",
     "text": [
      "annotation_43\n",
      "0.095\n",
      "                                           text  annotation_44  annotation_45  \\\n",
      "0          Save Western Ghats from annihilation          False          False   \n",
      "1                         Save Beacon Hill Park          False          False   \n",
      "2  Government of India: Don't Tax Medical Bills          False          False   \n",
      "3                              NO FAILING @ UCR          False          False   \n",
      "4                WIAA - Let them play football!           True          False   \n",
      "\n",
      "   annotation_46  \n",
      "0          False  \n",
      "1          False  \n",
      "2          False  \n",
      "3          False  \n",
      "4          False  \n",
      "['annotation_44', 'annotation_45', 'annotation_46']\n"
     ]
    }
   ],
   "source": [
    "drop_annotate()"
   ]
  },
  {
   "cell_type": "code",
   "execution_count": 228,
   "id": "stupid-couple",
   "metadata": {},
   "outputs": [],
   "source": [
    "def updateLabel(df_13):\n",
    "    for index, rows in df_13.iterrows():\n",
    "        match = [[cohen_avg_1(),rows['annotation_44']],\n",
    "                   [cohen_avg_2(),rows['annotation_45']],\n",
    "                   [cohen_avg_3(),rows['annotation_46']]]\n",
    "        boolean = [rows['annotation_44'],rows['annotation_45'],rows['annotation_46']]\n",
    "        match.sort(key = lambda k:k[0])\n",
    "        true = match.count('True')\n",
    "        false = match.count('False')\n",
    "        if true == false: \n",
    "            kappa, columnV = match[-1]\n",
    "            df_13.loc[index, 'Final Label'] = columnV\n",
    "            \n",
    "        elif true!=false:\n",
    "            if true > false:\n",
    "                df_13.loc[index, 'Final Label'] = True\n",
    "            else:\n",
    "                df_13.loc[index, 'Final Label'] = False\n",
    "    \n",
    "\n"
   ]
  },
  {
   "cell_type": "code",
   "execution_count": 229,
   "id": "interpreted-holocaust",
   "metadata": {},
   "outputs": [
    {
     "data": {
      "text/html": [
       "<div>\n",
       "<style scoped>\n",
       "    .dataframe tbody tr th:only-of-type {\n",
       "        vertical-align: middle;\n",
       "    }\n",
       "\n",
       "    .dataframe tbody tr th {\n",
       "        vertical-align: top;\n",
       "    }\n",
       "\n",
       "    .dataframe thead th {\n",
       "        text-align: right;\n",
       "    }\n",
       "</style>\n",
       "<table border=\"1\" class=\"dataframe\">\n",
       "  <thead>\n",
       "    <tr style=\"text-align: right;\">\n",
       "      <th></th>\n",
       "      <th>text</th>\n",
       "      <th>Final Label</th>\n",
       "    </tr>\n",
       "  </thead>\n",
       "  <tbody>\n",
       "    <tr>\n",
       "      <th>0</th>\n",
       "      <td>Save Western Ghats from annihilation</td>\n",
       "      <td>False</td>\n",
       "    </tr>\n",
       "    <tr>\n",
       "      <th>1</th>\n",
       "      <td>Save Beacon Hill Park</td>\n",
       "      <td>False</td>\n",
       "    </tr>\n",
       "    <tr>\n",
       "      <th>2</th>\n",
       "      <td>Government of India: Don't Tax Medical Bills</td>\n",
       "      <td>False</td>\n",
       "    </tr>\n",
       "    <tr>\n",
       "      <th>3</th>\n",
       "      <td>NO FAILING @ UCR</td>\n",
       "      <td>False</td>\n",
       "    </tr>\n",
       "    <tr>\n",
       "      <th>4</th>\n",
       "      <td>WIAA - Let them play football!</td>\n",
       "      <td>False</td>\n",
       "    </tr>\n",
       "  </tbody>\n",
       "</table>\n",
       "</div>"
      ],
      "text/plain": [
       "                                           text Final Label\n",
       "0          Save Western Ghats from annihilation       False\n",
       "1                         Save Beacon Hill Park       False\n",
       "2  Government of India: Don't Tax Medical Bills       False\n",
       "3                              NO FAILING @ UCR       False\n",
       "4                WIAA - Let them play football!       False"
      ]
     },
     "execution_count": 229,
     "metadata": {},
     "output_type": "execute_result"
    }
   ],
   "source": [
    "updateLabel(df_13)\n",
    "df_13 = df_13.iloc[:,[0,-1]]\n",
    "df_13.head()"
   ]
  },
  {
   "cell_type": "code",
   "execution_count": 230,
   "id": "magnetic-advantage",
   "metadata": {},
   "outputs": [],
   "source": [
    "df_13.to_csv(r'C:\\Users\\stuar\\Desktop\\NLP Assignment 2\\new_files\\secondary\\change.org_topic_4_masking_and_distancing.csv',\n",
    "           index = False)"
   ]
  },
  {
   "cell_type": "markdown",
   "id": "upset-patient",
   "metadata": {},
   "source": [
    "## change.org_topic_4_vaccination.csv\n",
    "\n"
   ]
  },
  {
   "cell_type": "code",
   "execution_count": 231,
   "id": "educated-karaoke",
   "metadata": {},
   "outputs": [
    {
     "data": {
      "text/html": [
       "<div>\n",
       "<style scoped>\n",
       "    .dataframe tbody tr th:only-of-type {\n",
       "        vertical-align: middle;\n",
       "    }\n",
       "\n",
       "    .dataframe tbody tr th {\n",
       "        vertical-align: top;\n",
       "    }\n",
       "\n",
       "    .dataframe thead th {\n",
       "        text-align: right;\n",
       "    }\n",
       "</style>\n",
       "<table border=\"1\" class=\"dataframe\">\n",
       "  <thead>\n",
       "    <tr style=\"text-align: right;\">\n",
       "      <th></th>\n",
       "      <th>text</th>\n",
       "      <th>annotation_43</th>\n",
       "      <th>annotation_44</th>\n",
       "      <th>annotation_45</th>\n",
       "      <th>annotation_46</th>\n",
       "    </tr>\n",
       "  </thead>\n",
       "  <tbody>\n",
       "    <tr>\n",
       "      <th>0</th>\n",
       "      <td>Save Western Ghats from annihilation</td>\n",
       "      <td>False</td>\n",
       "      <td>False</td>\n",
       "      <td>False</td>\n",
       "      <td>False</td>\n",
       "    </tr>\n",
       "    <tr>\n",
       "      <th>1</th>\n",
       "      <td>Save Beacon Hill Park</td>\n",
       "      <td>False</td>\n",
       "      <td>False</td>\n",
       "      <td>False</td>\n",
       "      <td>False</td>\n",
       "    </tr>\n",
       "    <tr>\n",
       "      <th>2</th>\n",
       "      <td>Government of India: Don't Tax Medical Bills</td>\n",
       "      <td>False</td>\n",
       "      <td>False</td>\n",
       "      <td>False</td>\n",
       "      <td>False</td>\n",
       "    </tr>\n",
       "    <tr>\n",
       "      <th>3</th>\n",
       "      <td>NO FAILING @ UCR</td>\n",
       "      <td>False</td>\n",
       "      <td>False</td>\n",
       "      <td>False</td>\n",
       "      <td>False</td>\n",
       "    </tr>\n",
       "    <tr>\n",
       "      <th>4</th>\n",
       "      <td>WIAA - Let them play football!</td>\n",
       "      <td>False</td>\n",
       "      <td>False</td>\n",
       "      <td>False</td>\n",
       "      <td>False</td>\n",
       "    </tr>\n",
       "  </tbody>\n",
       "</table>\n",
       "</div>"
      ],
      "text/plain": [
       "                                           text  annotation_43  annotation_44  \\\n",
       "0          Save Western Ghats from annihilation          False          False   \n",
       "1                         Save Beacon Hill Park          False          False   \n",
       "2  Government of India: Don't Tax Medical Bills          False          False   \n",
       "3                              NO FAILING @ UCR          False          False   \n",
       "4                WIAA - Let them play football!          False          False   \n",
       "\n",
       "   annotation_45  annotation_46  \n",
       "0          False          False  \n",
       "1          False          False  \n",
       "2          False          False  \n",
       "3          False          False  \n",
       "4          False          False  "
      ]
     },
     "execution_count": 231,
     "metadata": {},
     "output_type": "execute_result"
    }
   ],
   "source": [
    "df_14 = pd.read_csv(r'change.org_topic\\change.org_topic_4_vaccination.csv')\n",
    "df_14.head()"
   ]
  },
  {
   "cell_type": "code",
   "execution_count": 232,
   "id": "falling-employee",
   "metadata": {},
   "outputs": [
    {
     "name": "stdout",
     "output_type": "stream",
     "text": [
      "0\n",
      "0\n",
      "0\n",
      "0\n",
      "0\n"
     ]
    }
   ],
   "source": [
    "print(df_14['annotation_43'].isnull().sum())\n",
    "print(df_14['annotation_44'].isnull().sum())\n",
    "print(df_14['annotation_45'].isnull().sum())\n",
    "print(df_14['annotation_46'].isnull().sum())\n",
    "print(df_14['text'].isnull().sum())"
   ]
  },
  {
   "cell_type": "markdown",
   "id": "basic-italian",
   "metadata": {},
   "source": [
    "### Cohen_kappa average score of annotation 43"
   ]
  },
  {
   "cell_type": "code",
   "execution_count": 233,
   "id": "endangered-density",
   "metadata": {},
   "outputs": [],
   "source": [
    "def cohen_avg_1():\n",
    "    cohen_score_12 = cohen_kappa_score(annotation_1,annotation_2)\n",
    "    cohen_score_13 = cohen_kappa_score(annotation_1,annotation_3)\n",
    "    cohen_score_14 = cohen_kappa_score(annotation_1,annotation_4)\n",
    "    cohen_score_average_1 = round((cohen_score_12 + cohen_score_13 + cohen_score_14)/3,3)\n",
    "    #print(\"Average Cohen Kappa Score for annotation 43:\",(cohen_score_average_1))\n",
    "    return cohen_score_average_1"
   ]
  },
  {
   "cell_type": "code",
   "execution_count": 234,
   "id": "discrete-corpus",
   "metadata": {},
   "outputs": [
    {
     "data": {
      "text/plain": [
       "0.095"
      ]
     },
     "execution_count": 234,
     "metadata": {},
     "output_type": "execute_result"
    }
   ],
   "source": [
    "cohen_avg_1()"
   ]
  },
  {
   "cell_type": "markdown",
   "id": "crucial-schema",
   "metadata": {},
   "source": [
    "### Cohen_kappa average score of annotation 44"
   ]
  },
  {
   "cell_type": "code",
   "execution_count": 235,
   "id": "constant-subcommittee",
   "metadata": {},
   "outputs": [],
   "source": [
    "def cohen_avg_2():\n",
    "    cohen_score_21 = cohen_kappa_score(annotation_2,annotation_1)\n",
    "    cohen_score_23 = cohen_kappa_score(annotation_2,annotation_3)\n",
    "    cohen_score_24 = cohen_kappa_score(annotation_2,annotation_4)\n",
    "    cohen_score_average_2 = round((cohen_score_21 + cohen_score_23 + cohen_score_24)/3,3)\n",
    "    #print(\"Average Cohen Kappa Score for annotation 44:\",(cohen_score_average_2))\n",
    "    return cohen_score_average_2"
   ]
  },
  {
   "cell_type": "code",
   "execution_count": 236,
   "id": "lyric-shakespeare",
   "metadata": {},
   "outputs": [
    {
     "data": {
      "text/plain": [
       "0.36"
      ]
     },
     "execution_count": 236,
     "metadata": {},
     "output_type": "execute_result"
    }
   ],
   "source": [
    "cohen_avg_2()"
   ]
  },
  {
   "cell_type": "markdown",
   "id": "increased-palmer",
   "metadata": {},
   "source": [
    "### Cohen_kappa average score of annotation 45"
   ]
  },
  {
   "cell_type": "code",
   "execution_count": 237,
   "id": "impaired-chrome",
   "metadata": {},
   "outputs": [],
   "source": [
    "def cohen_avg_3():\n",
    "    cohen_score_31 = cohen_kappa_score(annotation_3,annotation_1)\n",
    "    cohen_score_32 = cohen_kappa_score(annotation_3,annotation_2)\n",
    "    cohen_score_34 = cohen_kappa_score(annotation_3,annotation_4)\n",
    "    cohen_score_average_3 = round((cohen_score_31 + cohen_score_32 + cohen_score_34)/3,3)\n",
    "    #print(\"Average Cohen Kappa Score for annotation 45:\",(cohen_score_average_3))\n",
    "    return cohen_score_average_3"
   ]
  },
  {
   "cell_type": "code",
   "execution_count": 238,
   "id": "specialized-preparation",
   "metadata": {},
   "outputs": [
    {
     "data": {
      "text/plain": [
       "0.38"
      ]
     },
     "execution_count": 238,
     "metadata": {},
     "output_type": "execute_result"
    }
   ],
   "source": [
    "cohen_avg_3()"
   ]
  },
  {
   "cell_type": "markdown",
   "id": "ancient-injection",
   "metadata": {},
   "source": [
    "### Cohen_kappa average score of annotation 46"
   ]
  },
  {
   "cell_type": "code",
   "execution_count": 239,
   "id": "published-chrome",
   "metadata": {},
   "outputs": [],
   "source": [
    "def cohen_avg_4():\n",
    "    cohen_score_41 = cohen_kappa_score(annotation_4,annotation_1)\n",
    "    cohen_score_42 = cohen_kappa_score(annotation_4,annotation_2)\n",
    "    cohen_score_43 = cohen_kappa_score(annotation_4,annotation_3)\n",
    "    cohen_score_average_4 = round((cohen_score_41 + cohen_score_42 + cohen_score_43)/3,3)\n",
    "    #print(\"Average Cohen Kappa Score for annotation 46:\",(cohen_score_average_4))\n",
    "    return cohen_score_average_4"
   ]
  },
  {
   "cell_type": "code",
   "execution_count": 240,
   "id": "metric-precipitation",
   "metadata": {},
   "outputs": [
    {
     "data": {
      "text/plain": [
       "0.386"
      ]
     },
     "execution_count": 240,
     "metadata": {},
     "output_type": "execute_result"
    }
   ],
   "source": [
    "cohen_avg_4()"
   ]
  },
  {
   "cell_type": "markdown",
   "id": "hungarian-crown",
   "metadata": {},
   "source": [
    "##### If average cohen kappa score for any annotation is less than 0.2, we will drop it"
   ]
  },
  {
   "cell_type": "code",
   "execution_count": 241,
   "id": "controlled-there",
   "metadata": {},
   "outputs": [],
   "source": [
    "def drop_annotate():\n",
    "    average = [cohen_avg_1(), cohen_avg_2(),cohen_avg_3(),cohen_avg_4()]\n",
    "    columns_name = ['annotation_43','annotation_44','annotation_45','annotation_46']\n",
    "    for i in range(0,len(average)):\n",
    "        if average[i]< 0.2:\n",
    "            print(columns_name[i])\n",
    "            print(average[i])\n",
    "            df_14.drop(columns_name[i], axis=1, inplace = True)\n",
    "    print(df_14.head())\n",
    "    r = []\n",
    "    for col in df_14.columns:\n",
    "        r.append(col)\n",
    "    print(r[1:])"
   ]
  },
  {
   "cell_type": "code",
   "execution_count": 242,
   "id": "arranged-complement",
   "metadata": {},
   "outputs": [
    {
     "name": "stdout",
     "output_type": "stream",
     "text": [
      "annotation_43\n",
      "0.095\n",
      "                                           text  annotation_44  annotation_45  \\\n",
      "0          Save Western Ghats from annihilation          False          False   \n",
      "1                         Save Beacon Hill Park          False          False   \n",
      "2  Government of India: Don't Tax Medical Bills          False          False   \n",
      "3                              NO FAILING @ UCR          False          False   \n",
      "4                WIAA - Let them play football!          False          False   \n",
      "\n",
      "   annotation_46  \n",
      "0          False  \n",
      "1          False  \n",
      "2          False  \n",
      "3          False  \n",
      "4          False  \n",
      "['annotation_44', 'annotation_45', 'annotation_46']\n"
     ]
    }
   ],
   "source": [
    "drop_annotate()"
   ]
  },
  {
   "cell_type": "code",
   "execution_count": 243,
   "id": "duplicate-error",
   "metadata": {},
   "outputs": [],
   "source": [
    "def updateLabel(df_14):\n",
    "    for index, rows in df_14.iterrows():\n",
    "        match = [[cohen_avg_1(),rows['annotation_44']],\n",
    "                   [cohen_avg_2(),rows['annotation_45']],\n",
    "                   [cohen_avg_3(),rows['annotation_46']]]\n",
    "        boolean = [rows['annotation_44'],rows['annotation_45'],rows['annotation_46']]\n",
    "        match.sort(key = lambda k:k[0])\n",
    "        true = match.count('True')\n",
    "        false = match.count('False')\n",
    "        if true == false: \n",
    "            kappa, columnV = match[-1]\n",
    "            df_14.loc[index, 'Final Label'] = columnV\n",
    "            \n",
    "        elif true!=false:\n",
    "            if true > false:\n",
    "                df_14.loc[index, 'Final Label'] = True\n",
    "            else:\n",
    "                df_14.loc[index, 'Final Label'] = False\n",
    "    \n",
    "\n"
   ]
  },
  {
   "cell_type": "code",
   "execution_count": 244,
   "id": "floral-wheel",
   "metadata": {},
   "outputs": [
    {
     "data": {
      "text/html": [
       "<div>\n",
       "<style scoped>\n",
       "    .dataframe tbody tr th:only-of-type {\n",
       "        vertical-align: middle;\n",
       "    }\n",
       "\n",
       "    .dataframe tbody tr th {\n",
       "        vertical-align: top;\n",
       "    }\n",
       "\n",
       "    .dataframe thead th {\n",
       "        text-align: right;\n",
       "    }\n",
       "</style>\n",
       "<table border=\"1\" class=\"dataframe\">\n",
       "  <thead>\n",
       "    <tr style=\"text-align: right;\">\n",
       "      <th></th>\n",
       "      <th>text</th>\n",
       "      <th>Final Label</th>\n",
       "    </tr>\n",
       "  </thead>\n",
       "  <tbody>\n",
       "    <tr>\n",
       "      <th>0</th>\n",
       "      <td>Save Western Ghats from annihilation</td>\n",
       "      <td>False</td>\n",
       "    </tr>\n",
       "    <tr>\n",
       "      <th>1</th>\n",
       "      <td>Save Beacon Hill Park</td>\n",
       "      <td>False</td>\n",
       "    </tr>\n",
       "    <tr>\n",
       "      <th>2</th>\n",
       "      <td>Government of India: Don't Tax Medical Bills</td>\n",
       "      <td>False</td>\n",
       "    </tr>\n",
       "    <tr>\n",
       "      <th>3</th>\n",
       "      <td>NO FAILING @ UCR</td>\n",
       "      <td>False</td>\n",
       "    </tr>\n",
       "    <tr>\n",
       "      <th>4</th>\n",
       "      <td>WIAA - Let them play football!</td>\n",
       "      <td>False</td>\n",
       "    </tr>\n",
       "  </tbody>\n",
       "</table>\n",
       "</div>"
      ],
      "text/plain": [
       "                                           text Final Label\n",
       "0          Save Western Ghats from annihilation       False\n",
       "1                         Save Beacon Hill Park       False\n",
       "2  Government of India: Don't Tax Medical Bills       False\n",
       "3                              NO FAILING @ UCR       False\n",
       "4                WIAA - Let them play football!       False"
      ]
     },
     "execution_count": 244,
     "metadata": {},
     "output_type": "execute_result"
    }
   ],
   "source": [
    "updateLabel(df_14)\n",
    "df_14 = df_14.iloc[:,[0,-1]]\n",
    "df_14.head()"
   ]
  },
  {
   "cell_type": "code",
   "execution_count": 245,
   "id": "completed-conditioning",
   "metadata": {},
   "outputs": [],
   "source": [
    "df_14.to_csv(r'C:\\Users\\stuar\\Desktop\\NLP Assignment 2\\new_files\\secondary\\change.org_topic_4_vaccination.csv',\n",
    "           index = False)"
   ]
  },
  {
   "cell_type": "markdown",
   "id": "powered-southwest",
   "metadata": {},
   "source": [
    "## Merging change.org_topic_lockdowns\n"
   ]
  },
  {
   "cell_type": "code",
   "execution_count": 246,
   "id": "impossible-thumb",
   "metadata": {},
   "outputs": [],
   "source": [
    "df = pd.read_csv(r'C:\\Users\\stuar\\Desktop\\NLP Assignment 2\\new_files\\secondary\\change.org_topic_0_lockdowns.csv', sep=',', header=None,index_col = False)\n",
    "df1 = pd.read_csv(r'C:\\Users\\stuar\\Desktop\\NLP Assignment 2\\new_files\\secondary\\change.org_topic_1_lockdowns.csv', sep=',', header=None,index_col = False)\n",
    "df2 = pd.read_csv(r'C:\\Users\\stuar\\Desktop\\NLP Assignment 2\\new_files\\secondary\\change.org_topic_2_lockdowns.csv', sep=',', header=None,index_col = False)\n",
    "df3 = pd.read_csv(r'C:\\Users\\stuar\\Desktop\\NLP Assignment 2\\new_files\\secondary\\change.org_topic_3_lockdowns.csv', sep=',', header=None,index_col = False)\n",
    "df4 = pd.read_csv(r'C:\\Users\\stuar\\Desktop\\NLP Assignment 2\\new_files\\secondary\\change.org_topic_4_lockdowns.csv', sep=',', header=None,index_col = False)\n"
   ]
  },
  {
   "cell_type": "code",
   "execution_count": 247,
   "id": "faced-fundamentals",
   "metadata": {},
   "outputs": [],
   "source": [
    "df.reset_index(drop=True)\n",
    "df1.reset_index( drop=True)\n",
    "df2.reset_index(drop=True)\n",
    "df3.reset_index(drop=True)\n",
    "df4.reset_index(drop=True)\n",
    "df_combined = pd.concat([df,df1,df2,df3,df4], axis=0)"
   ]
  },
  {
   "cell_type": "code",
   "execution_count": 248,
   "id": "brazilian-alarm",
   "metadata": {},
   "outputs": [],
   "source": [
    "df_combined.to_csv(r'C:\\Users\\stuar\\Desktop\\NLP Assignment 2\\new_files\\secondary_final\\change.org_topic_lockdowns.csv',index= False,header = False)"
   ]
  },
  {
   "cell_type": "code",
   "execution_count": null,
   "id": "nuclear-nothing",
   "metadata": {},
   "outputs": [],
   "source": []
  },
  {
   "cell_type": "markdown",
   "id": "objective-frank",
   "metadata": {},
   "source": [
    "## Merging change.org_topic_masking_and_distancing\n"
   ]
  },
  {
   "cell_type": "code",
   "execution_count": 249,
   "id": "aggregate-excerpt",
   "metadata": {},
   "outputs": [],
   "source": [
    "df = pd.read_csv(r'C:\\Users\\stuar\\Desktop\\NLP Assignment 2\\new_files\\secondary\\change.org_topic_0_masking_and_distancing.csv', sep=',', header=None,index_col = False)\n",
    "df1 = pd.read_csv(r'C:\\Users\\stuar\\Desktop\\NLP Assignment 2\\new_files\\secondary\\change.org_topic_1_masking_and_distancing.csv', sep=',', header=None,index_col = False)\n",
    "df2 = pd.read_csv(r'C:\\Users\\stuar\\Desktop\\NLP Assignment 2\\new_files\\secondary\\change.org_topic_2_masking_and_distancing.csv', sep=',', header=None,index_col = False)\n",
    "df3 = pd.read_csv(r'C:\\Users\\stuar\\Desktop\\NLP Assignment 2\\new_files\\secondary\\change.org_topic_3_masking_and_distancing.csv', sep=',', header=None,index_col = False)\n",
    "df4 = pd.read_csv(r'C:\\Users\\stuar\\Desktop\\NLP Assignment 2\\new_files\\secondary\\change.org_topic_4_masking_and_distancing.csv', sep=',', header=None,index_col = False)"
   ]
  },
  {
   "cell_type": "code",
   "execution_count": 250,
   "id": "ideal-camel",
   "metadata": {},
   "outputs": [],
   "source": [
    "df.reset_index(drop=True)\n",
    "df1.reset_index( drop=True)\n",
    "df2.reset_index(drop=True)\n",
    "df3.reset_index(drop=True)\n",
    "df4.reset_index(drop=True)\n",
    "df_combined = pd.concat([df,df1,df2,df3,df4], axis=0)"
   ]
  },
  {
   "cell_type": "code",
   "execution_count": 251,
   "id": "advance-cemetery",
   "metadata": {},
   "outputs": [],
   "source": [
    "df_combined.to_csv(r'C:\\Users\\stuar\\Desktop\\NLP Assignment 2\\new_files\\secondary_final\\change.org_topic_masking_and_distancing.csv',index= False,header = False)"
   ]
  },
  {
   "cell_type": "markdown",
   "id": "tender-custody",
   "metadata": {},
   "source": [
    "## Merging change.org_topic_vaccination\n"
   ]
  },
  {
   "cell_type": "code",
   "execution_count": 252,
   "id": "bound-network",
   "metadata": {},
   "outputs": [],
   "source": [
    "df = pd.read_csv(r'C:\\Users\\stuar\\Desktop\\NLP Assignment 2\\new_files\\secondary\\change.org_topic_0_masking_and_distancing.csv', sep=',', header=None,index_col = False)\n",
    "df1 = pd.read_csv(r'C:\\Users\\stuar\\Desktop\\NLP Assignment 2\\new_files\\secondary\\change.org_topic_1_masking_and_distancing.csv', sep=',', header=None,index_col = False)\n",
    "df2 = pd.read_csv(r'C:\\Users\\stuar\\Desktop\\NLP Assignment 2\\new_files\\secondary\\change.org_topic_2_masking_and_distancing.csv', sep=',', header=None,index_col = False)\n",
    "df3 = pd.read_csv(r'C:\\Users\\stuar\\Desktop\\NLP Assignment 2\\new_files\\secondary\\change.org_topic_3_masking_and_distancing.csv', sep=',', header=None,index_col = False)\n",
    "df4 = pd.read_csv(r'C:\\Users\\stuar\\Desktop\\NLP Assignment 2\\new_files\\secondary\\change.org_topic_4_masking_and_distancing.csv', sep=',', header=None,index_col = False)"
   ]
  },
  {
   "cell_type": "code",
   "execution_count": 253,
   "id": "cross-interpretation",
   "metadata": {},
   "outputs": [],
   "source": [
    "df.reset_index(drop=True)\n",
    "df1.reset_index( drop=True)\n",
    "df2.reset_index(drop=True)\n",
    "df3.reset_index(drop=True)\n",
    "df4.reset_index(drop=True)\n",
    "df_combined = pd.concat([df,df1,df2,df3,df4], axis=0)"
   ]
  },
  {
   "cell_type": "code",
   "execution_count": 254,
   "id": "foster-cooler",
   "metadata": {},
   "outputs": [],
   "source": [
    "df_combined.to_csv(r'C:\\Users\\stuar\\Desktop\\NLP Assignment 2\\new_files\\secondary_final\\change.org_topic_vaccination.csv',index= False,header = False)"
   ]
  },
  {
   "cell_type": "code",
   "execution_count": null,
   "id": "enhanced-brush",
   "metadata": {},
   "outputs": [],
   "source": []
  }
 ],
 "metadata": {
  "kernelspec": {
   "display_name": "Python 3",
   "language": "python",
   "name": "python3"
  },
  "language_info": {
   "codemirror_mode": {
    "name": "ipython",
    "version": 3
   },
   "file_extension": ".py",
   "mimetype": "text/x-python",
   "name": "python",
   "nbconvert_exporter": "python",
   "pygments_lexer": "ipython3",
   "version": "3.9.1"
  }
 },
 "nbformat": 4,
 "nbformat_minor": 5
}
