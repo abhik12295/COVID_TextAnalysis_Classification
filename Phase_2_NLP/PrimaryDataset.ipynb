{
 "cells": [
  {
   "cell_type": "markdown",
   "id": "happy-greensboro",
   "metadata": {},
   "source": [
    "### Abhishek Kumar <br>\n",
    "### Primary Dataset"
   ]
  },
  {
   "cell_type": "code",
   "execution_count": 1,
   "id": "controversial-century",
   "metadata": {},
   "outputs": [],
   "source": [
    "import sklearn\n",
    "from sklearn.metrics import cohen_kappa_score\n",
    "import pandas as pd"
   ]
  },
  {
   "cell_type": "markdown",
   "id": "still-legend",
   "metadata": {},
   "source": [
    "##### For a given topic dataset CSV, create three separate CSVs, corresponding to lockdowns, masking and distancing, and vaccination. The new CSVs are written with the name of the topic suffixed to the original filename.\n",
    "\n",
    "```\n",
    "import argparse\n",
    "import re\n",
    "import pandas as pd\n",
    "\n",
    "parser = argparse.ArgumentParser()\n",
    "parser.add_argument(\"--infile\", \"-i\", type=str, help=\"CSV for dataset to expand\",\n",
    "                    required=True)\n",
    "args = parser.parse_args()\n",
    "\n",
    "for topic in [\"lockdowns\", \"masking and distancing\", \"vaccination\"]:\n",
    "    df = pd.read_csv(args.infile)\n",
    "    cols = df.columns\n",
    "    for col in cols:\n",
    "        if \"annotation\" in col:\n",
    "            df[col] = (df[col].notna() & df[col].str.contains(topic))\n",
    "    new_fn = re.sub(r\"\\.csv$\", f\"_{topic.replace(' ', '_')}.csv\", args.infile)\n",
    "    df.to_csv(new_fn, index=False)\n",
    "\n",
    "```\n",
    "\n",
    "###### Using command: python expand_topic_csv_dataset.py --infile twitter_topic_0.csv\n",
    "###### Using command: python expand_topic_csv_dataset.py --infile twitter_topic_1.csv\n",
    "###### Using command: python expand_topic_csv_dataset.py --infile twitter_topic_2.csv\n",
    "###### Using command: python expand_topic_csv_dataset.py --infile twitter_topic_3.csv\n",
    "\n"
   ]
  },
  {
   "cell_type": "markdown",
   "id": "capable-understanding",
   "metadata": {},
   "source": [
    "## twitter_topic_0_lockdowns.csv"
   ]
  },
  {
   "cell_type": "code",
   "execution_count": 2,
   "id": "controlled-heath",
   "metadata": {},
   "outputs": [
    {
     "data": {
      "text/html": [
       "<div>\n",
       "<style scoped>\n",
       "    .dataframe tbody tr th:only-of-type {\n",
       "        vertical-align: middle;\n",
       "    }\n",
       "\n",
       "    .dataframe tbody tr th {\n",
       "        vertical-align: top;\n",
       "    }\n",
       "\n",
       "    .dataframe thead th {\n",
       "        text-align: right;\n",
       "    }\n",
       "</style>\n",
       "<table border=\"1\" class=\"dataframe\">\n",
       "  <thead>\n",
       "    <tr style=\"text-align: right;\">\n",
       "      <th></th>\n",
       "      <th>text</th>\n",
       "      <th>annotation_104</th>\n",
       "      <th>annotation_101</th>\n",
       "      <th>annotation_102</th>\n",
       "      <th>annotation_103</th>\n",
       "    </tr>\n",
       "  </thead>\n",
       "  <tbody>\n",
       "    <tr>\n",
       "      <th>0</th>\n",
       "      <td>Putin After Announcing #CovidVaccine #Russian ...</td>\n",
       "      <td>False</td>\n",
       "      <td>False</td>\n",
       "      <td>False</td>\n",
       "      <td>False</td>\n",
       "    </tr>\n",
       "    <tr>\n",
       "      <th>1</th>\n",
       "      <td>Courtesy: WA! #WhatsApp #COVID #CovidVaccine h...</td>\n",
       "      <td>False</td>\n",
       "      <td>False</td>\n",
       "      <td>False</td>\n",
       "      <td>False</td>\n",
       "    </tr>\n",
       "    <tr>\n",
       "      <th>2</th>\n",
       "      <td>4 of the vaccines Jared bought are expected to...</td>\n",
       "      <td>False</td>\n",
       "      <td>False</td>\n",
       "      <td>False</td>\n",
       "      <td>False</td>\n",
       "    </tr>\n",
       "    <tr>\n",
       "      <th>3</th>\n",
       "      <td>One day you will realize CDC Guidelines magica...</td>\n",
       "      <td>False</td>\n",
       "      <td>False</td>\n",
       "      <td>False</td>\n",
       "      <td>False</td>\n",
       "    </tr>\n",
       "    <tr>\n",
       "      <th>4</th>\n",
       "      <td>Im far from lying.  Current CDC guidelines is ...</td>\n",
       "      <td>False</td>\n",
       "      <td>False</td>\n",
       "      <td>False</td>\n",
       "      <td>False</td>\n",
       "    </tr>\n",
       "  </tbody>\n",
       "</table>\n",
       "</div>"
      ],
      "text/plain": [
       "                                                text  annotation_104  \\\n",
       "0  Putin After Announcing #CovidVaccine #Russian ...           False   \n",
       "1  Courtesy: WA! #WhatsApp #COVID #CovidVaccine h...           False   \n",
       "2  4 of the vaccines Jared bought are expected to...           False   \n",
       "3  One day you will realize CDC Guidelines magica...           False   \n",
       "4  Im far from lying.  Current CDC guidelines is ...           False   \n",
       "\n",
       "   annotation_101  annotation_102  annotation_103  \n",
       "0           False           False           False  \n",
       "1           False           False           False  \n",
       "2           False           False           False  \n",
       "3           False           False           False  \n",
       "4           False           False           False  "
      ]
     },
     "execution_count": 2,
     "metadata": {},
     "output_type": "execute_result"
    }
   ],
   "source": [
    "df = pd.read_csv(r'twitter_topic\\twitter_topic_0_lockdowns.csv')\n",
    "df.head()"
   ]
  },
  {
   "cell_type": "code",
   "execution_count": 3,
   "id": "wooden-transcription",
   "metadata": {},
   "outputs": [
    {
     "name": "stdout",
     "output_type": "stream",
     "text": [
      "0\n",
      "0\n",
      "0\n",
      "0\n",
      "0\n"
     ]
    }
   ],
   "source": [
    "print(df['annotation_101'].isnull().sum())\n",
    "print(df['annotation_102'].isnull().sum())\n",
    "print(df['annotation_103'].isnull().sum())\n",
    "print(df['annotation_104'].isnull().sum())\n",
    "print(df['text'].isnull().sum())"
   ]
  },
  {
   "cell_type": "code",
   "execution_count": 4,
   "id": "subject-melissa",
   "metadata": {},
   "outputs": [],
   "source": [
    "annotation_1= df['annotation_101']\n",
    "annotation_2= df['annotation_102']\n",
    "annotation_3= df['annotation_103']\n",
    "annotation_4= df['annotation_104']"
   ]
  },
  {
   "cell_type": "markdown",
   "id": "legitimate-clock",
   "metadata": {},
   "source": [
    "### Cohen_kappa average score of annotation 101"
   ]
  },
  {
   "cell_type": "code",
   "execution_count": 5,
   "id": "fluid-ordinary",
   "metadata": {},
   "outputs": [],
   "source": [
    "def cohen_avg_1():\n",
    "    cohen_score_12 = cohen_kappa_score(annotation_1,annotation_2)\n",
    "    cohen_score_13 = cohen_kappa_score(annotation_1,annotation_3)\n",
    "    cohen_score_14 = cohen_kappa_score(annotation_1,annotation_4)\n",
    "    cohen_score_average_1 = round((cohen_score_12 + cohen_score_13 + cohen_score_14)/3,3)\n",
    "    #print(\"Average Cohen Kappa Score for annotation 101:\",(cohen_score_average_1))\n",
    "    return cohen_score_average_1"
   ]
  },
  {
   "cell_type": "code",
   "execution_count": 6,
   "id": "chemical-links",
   "metadata": {
    "scrolled": true
   },
   "outputs": [
    {
     "data": {
      "text/plain": [
       "0.208"
      ]
     },
     "execution_count": 6,
     "metadata": {},
     "output_type": "execute_result"
    }
   ],
   "source": [
    "cohen_avg_1()"
   ]
  },
  {
   "cell_type": "markdown",
   "id": "established-target",
   "metadata": {},
   "source": [
    "### Cohen_kappa average score of annotation 102"
   ]
  },
  {
   "cell_type": "code",
   "execution_count": 7,
   "id": "known-mailing",
   "metadata": {},
   "outputs": [],
   "source": [
    "def cohen_avg_2():\n",
    "    cohen_score_21 = cohen_kappa_score(annotation_2,annotation_1)\n",
    "    cohen_score_23 = cohen_kappa_score(annotation_2,annotation_3)\n",
    "    cohen_score_24 = cohen_kappa_score(annotation_2,annotation_4)\n",
    "    cohen_score_average_2 = round((cohen_score_21 + cohen_score_23 + cohen_score_24)/3,3)\n",
    "    #print(\"Average Cohen Kappa Score for annotation 102:\",(cohen_score_average_2))\n",
    "    return cohen_score_average_2"
   ]
  },
  {
   "cell_type": "code",
   "execution_count": 8,
   "id": "interpreted-export",
   "metadata": {},
   "outputs": [
    {
     "data": {
      "text/plain": [
       "0.17"
      ]
     },
     "execution_count": 8,
     "metadata": {},
     "output_type": "execute_result"
    }
   ],
   "source": [
    "cohen_avg_2()"
   ]
  },
  {
   "cell_type": "markdown",
   "id": "sharing-commitment",
   "metadata": {},
   "source": [
    "### Cohen_kappa average score of annotation 103"
   ]
  },
  {
   "cell_type": "code",
   "execution_count": 9,
   "id": "cognitive-depth",
   "metadata": {},
   "outputs": [],
   "source": [
    "def cohen_avg_3():\n",
    "    cohen_score_31 = cohen_kappa_score(annotation_3,annotation_1)\n",
    "    cohen_score_32 = cohen_kappa_score(annotation_3,annotation_2)\n",
    "    cohen_score_34 = cohen_kappa_score(annotation_3,annotation_4)\n",
    "    cohen_score_average_3 = round((cohen_score_31 + cohen_score_32 + cohen_score_34)/3,3)\n",
    "    #print(\"Average Cohen Kappa Score for annotation 103:\",(cohen_score_average_3))\n",
    "    return cohen_score_average_3"
   ]
  },
  {
   "cell_type": "code",
   "execution_count": 10,
   "id": "accredited-glucose",
   "metadata": {},
   "outputs": [
    {
     "data": {
      "text/plain": [
       "0.21"
      ]
     },
     "execution_count": 10,
     "metadata": {},
     "output_type": "execute_result"
    }
   ],
   "source": [
    "cohen_avg_3()"
   ]
  },
  {
   "cell_type": "markdown",
   "id": "ahead-preserve",
   "metadata": {},
   "source": [
    "### Cohen_kappa average score of annotation 104"
   ]
  },
  {
   "cell_type": "code",
   "execution_count": 11,
   "id": "round-glass",
   "metadata": {},
   "outputs": [],
   "source": [
    "def cohen_avg_4():\n",
    "    cohen_score_41 = cohen_kappa_score(annotation_4,annotation_1)\n",
    "    cohen_score_42 = cohen_kappa_score(annotation_4,annotation_2)\n",
    "    cohen_score_43 = cohen_kappa_score(annotation_4,annotation_3)\n",
    "    cohen_score_average_4 = round((cohen_score_41 + cohen_score_42 + cohen_score_43)/3,3)\n",
    "    #print(\"Average Cohen Kappa Score for annotation 104:\",(cohen_score_average_4))\n",
    "    return cohen_score_average_4"
   ]
  },
  {
   "cell_type": "code",
   "execution_count": 12,
   "id": "statewide-softball",
   "metadata": {},
   "outputs": [
    {
     "data": {
      "text/plain": [
       "0.153"
      ]
     },
     "execution_count": 12,
     "metadata": {},
     "output_type": "execute_result"
    }
   ],
   "source": [
    "cohen_avg_4()"
   ]
  },
  {
   "cell_type": "markdown",
   "id": "latin-graduation",
   "metadata": {},
   "source": [
    "##### If average cohen kappa score for any annotation is less than 0.2, we will drop it"
   ]
  },
  {
   "cell_type": "code",
   "execution_count": 13,
   "id": "stuffed-sociology",
   "metadata": {},
   "outputs": [],
   "source": [
    "def drop_annotate():\n",
    "    average = [cohen_avg_1(), cohen_avg_2(),cohen_avg_3(),cohen_avg_4()]\n",
    "    columns_name = ['annotation_101','annotation_102','annotation_103','annotation_104']\n",
    "    #columns =[annotation_1,annotation_2,annotation_3,annotation_4]\n",
    "    for i in range(0,len(average)):\n",
    "        if average[i]< 0.2:\n",
    "            print(columns_name[i])\n",
    "            print(average[i])\n",
    "            df.drop(columns_name[i], axis=1, inplace = True)\n",
    "    print(df.head())\n",
    "    r = []\n",
    "    for col in df.columns:\n",
    "        r.append(col)\n",
    "    print(r[1:])\n",
    "    \n"
   ]
  },
  {
   "cell_type": "code",
   "execution_count": 14,
   "id": "failing-irrigation",
   "metadata": {
    "scrolled": true
   },
   "outputs": [
    {
     "name": "stdout",
     "output_type": "stream",
     "text": [
      "annotation_102\n",
      "0.17\n",
      "annotation_104\n",
      "0.153\n",
      "                                                text  annotation_101  \\\n",
      "0  Putin After Announcing #CovidVaccine #Russian ...           False   \n",
      "1  Courtesy: WA! #WhatsApp #COVID #CovidVaccine h...           False   \n",
      "2  4 of the vaccines Jared bought are expected to...           False   \n",
      "3  One day you will realize CDC Guidelines magica...           False   \n",
      "4  Im far from lying.  Current CDC guidelines is ...           False   \n",
      "\n",
      "   annotation_103  \n",
      "0           False  \n",
      "1           False  \n",
      "2           False  \n",
      "3           False  \n",
      "4           False  \n",
      "['annotation_101', 'annotation_103']\n"
     ]
    }
   ],
   "source": [
    "drop_annotate()"
   ]
  },
  {
   "cell_type": "code",
   "execution_count": 15,
   "id": "outside-independence",
   "metadata": {},
   "outputs": [],
   "source": [
    "def updateLabel(df):\n",
    "    for index, rows in df.iterrows():\n",
    "        match = [[cohen_avg_1(),rows['annotation_101']],\n",
    "                       [cohen_avg_3(),rows['annotation_103']]]\n",
    "        boolean = [rows['annotation_101'],rows['annotation_103']]\n",
    "        match.sort(key = lambda k:k[0])\n",
    "        true = match.count('True')\n",
    "        false = match.count('False')\n",
    "        if true == false: \n",
    "            kapaValue, colValue = match[-1]\n",
    "            df.loc[index, 'Final Label'] = colValue\n",
    "            \n",
    "        elif true!=false:\n",
    "            if true > false:\n",
    "                df.loc[index, 'Final Label'] = True\n",
    "            else:\n",
    "                df.loc[index, 'Final Label'] = False\n"
   ]
  },
  {
   "cell_type": "code",
   "execution_count": 16,
   "id": "circular-staff",
   "metadata": {},
   "outputs": [
    {
     "data": {
      "text/html": [
       "<div>\n",
       "<style scoped>\n",
       "    .dataframe tbody tr th:only-of-type {\n",
       "        vertical-align: middle;\n",
       "    }\n",
       "\n",
       "    .dataframe tbody tr th {\n",
       "        vertical-align: top;\n",
       "    }\n",
       "\n",
       "    .dataframe thead th {\n",
       "        text-align: right;\n",
       "    }\n",
       "</style>\n",
       "<table border=\"1\" class=\"dataframe\">\n",
       "  <thead>\n",
       "    <tr style=\"text-align: right;\">\n",
       "      <th></th>\n",
       "      <th>text</th>\n",
       "      <th>Final Label</th>\n",
       "    </tr>\n",
       "  </thead>\n",
       "  <tbody>\n",
       "    <tr>\n",
       "      <th>0</th>\n",
       "      <td>Putin After Announcing #CovidVaccine #Russian ...</td>\n",
       "      <td>False</td>\n",
       "    </tr>\n",
       "    <tr>\n",
       "      <th>1</th>\n",
       "      <td>Courtesy: WA! #WhatsApp #COVID #CovidVaccine h...</td>\n",
       "      <td>False</td>\n",
       "    </tr>\n",
       "    <tr>\n",
       "      <th>2</th>\n",
       "      <td>4 of the vaccines Jared bought are expected to...</td>\n",
       "      <td>False</td>\n",
       "    </tr>\n",
       "    <tr>\n",
       "      <th>3</th>\n",
       "      <td>One day you will realize CDC Guidelines magica...</td>\n",
       "      <td>False</td>\n",
       "    </tr>\n",
       "    <tr>\n",
       "      <th>4</th>\n",
       "      <td>Im far from lying.  Current CDC guidelines is ...</td>\n",
       "      <td>False</td>\n",
       "    </tr>\n",
       "  </tbody>\n",
       "</table>\n",
       "</div>"
      ],
      "text/plain": [
       "                                                text Final Label\n",
       "0  Putin After Announcing #CovidVaccine #Russian ...       False\n",
       "1  Courtesy: WA! #WhatsApp #COVID #CovidVaccine h...       False\n",
       "2  4 of the vaccines Jared bought are expected to...       False\n",
       "3  One day you will realize CDC Guidelines magica...       False\n",
       "4  Im far from lying.  Current CDC guidelines is ...       False"
      ]
     },
     "execution_count": 16,
     "metadata": {},
     "output_type": "execute_result"
    }
   ],
   "source": [
    "updateLabel(df)\n",
    "df = df.iloc[:,[0,-1]]\n",
    "df.head()"
   ]
  },
  {
   "cell_type": "code",
   "execution_count": 17,
   "id": "dirty-accused",
   "metadata": {},
   "outputs": [],
   "source": [
    "df.to_csv(r'C:\\Users\\stuar\\Desktop\\NLP Assignment 2\\new_files\\primary\\twitter_topic_0_lockdowns.csv',\n",
    "           index = False)"
   ]
  },
  {
   "cell_type": "markdown",
   "id": "other-walter",
   "metadata": {},
   "source": [
    "## twitter_topic_0_masking_and_distancing.csv"
   ]
  },
  {
   "cell_type": "code",
   "execution_count": 18,
   "id": "interracial-squad",
   "metadata": {},
   "outputs": [
    {
     "data": {
      "text/html": [
       "<div>\n",
       "<style scoped>\n",
       "    .dataframe tbody tr th:only-of-type {\n",
       "        vertical-align: middle;\n",
       "    }\n",
       "\n",
       "    .dataframe tbody tr th {\n",
       "        vertical-align: top;\n",
       "    }\n",
       "\n",
       "    .dataframe thead th {\n",
       "        text-align: right;\n",
       "    }\n",
       "</style>\n",
       "<table border=\"1\" class=\"dataframe\">\n",
       "  <thead>\n",
       "    <tr style=\"text-align: right;\">\n",
       "      <th></th>\n",
       "      <th>text</th>\n",
       "      <th>annotation_104</th>\n",
       "      <th>annotation_101</th>\n",
       "      <th>annotation_102</th>\n",
       "      <th>annotation_103</th>\n",
       "    </tr>\n",
       "  </thead>\n",
       "  <tbody>\n",
       "    <tr>\n",
       "      <th>0</th>\n",
       "      <td>Putin After Announcing #CovidVaccine #Russian ...</td>\n",
       "      <td>False</td>\n",
       "      <td>False</td>\n",
       "      <td>False</td>\n",
       "      <td>False</td>\n",
       "    </tr>\n",
       "    <tr>\n",
       "      <th>1</th>\n",
       "      <td>Courtesy: WA! #WhatsApp #COVID #CovidVaccine h...</td>\n",
       "      <td>False</td>\n",
       "      <td>False</td>\n",
       "      <td>False</td>\n",
       "      <td>False</td>\n",
       "    </tr>\n",
       "    <tr>\n",
       "      <th>2</th>\n",
       "      <td>4 of the vaccines Jared bought are expected to...</td>\n",
       "      <td>False</td>\n",
       "      <td>False</td>\n",
       "      <td>False</td>\n",
       "      <td>False</td>\n",
       "    </tr>\n",
       "    <tr>\n",
       "      <th>3</th>\n",
       "      <td>One day you will realize CDC Guidelines magica...</td>\n",
       "      <td>True</td>\n",
       "      <td>False</td>\n",
       "      <td>False</td>\n",
       "      <td>False</td>\n",
       "    </tr>\n",
       "    <tr>\n",
       "      <th>4</th>\n",
       "      <td>Im far from lying.  Current CDC guidelines is ...</td>\n",
       "      <td>True</td>\n",
       "      <td>True</td>\n",
       "      <td>False</td>\n",
       "      <td>True</td>\n",
       "    </tr>\n",
       "  </tbody>\n",
       "</table>\n",
       "</div>"
      ],
      "text/plain": [
       "                                                text  annotation_104  \\\n",
       "0  Putin After Announcing #CovidVaccine #Russian ...           False   \n",
       "1  Courtesy: WA! #WhatsApp #COVID #CovidVaccine h...           False   \n",
       "2  4 of the vaccines Jared bought are expected to...           False   \n",
       "3  One day you will realize CDC Guidelines magica...            True   \n",
       "4  Im far from lying.  Current CDC guidelines is ...            True   \n",
       "\n",
       "   annotation_101  annotation_102  annotation_103  \n",
       "0           False           False           False  \n",
       "1           False           False           False  \n",
       "2           False           False           False  \n",
       "3           False           False           False  \n",
       "4            True           False            True  "
      ]
     },
     "execution_count": 18,
     "metadata": {},
     "output_type": "execute_result"
    }
   ],
   "source": [
    "df_1 = pd.read_csv(r'twitter_topic\\twitter_topic_0_masking_and_distancing.csv')\n",
    "df_1.head()\n",
    "\n"
   ]
  },
  {
   "cell_type": "code",
   "execution_count": 19,
   "id": "expired-inspiration",
   "metadata": {},
   "outputs": [
    {
     "name": "stdout",
     "output_type": "stream",
     "text": [
      "0\n",
      "0\n",
      "0\n",
      "0\n",
      "0\n"
     ]
    }
   ],
   "source": [
    "print(df_1['annotation_101'].isnull().sum())\n",
    "print(df_1['annotation_102'].isnull().sum())\n",
    "print(df_1['annotation_103'].isnull().sum())\n",
    "print(df_1['annotation_104'].isnull().sum())\n",
    "print(df_1['text'].isnull().sum())"
   ]
  },
  {
   "cell_type": "code",
   "execution_count": 20,
   "id": "serial-kazakhstan",
   "metadata": {},
   "outputs": [],
   "source": [
    "annotation_1= df_1['annotation_101']\n",
    "annotation_2= df_1['annotation_102']\n",
    "annotation_3= df_1['annotation_103']\n",
    "annotation_4= df_1['annotation_104']"
   ]
  },
  {
   "cell_type": "markdown",
   "id": "hindu-academy",
   "metadata": {},
   "source": [
    "### Cohen_kappa average score of annotation 101"
   ]
  },
  {
   "cell_type": "code",
   "execution_count": 21,
   "id": "israeli-strand",
   "metadata": {},
   "outputs": [],
   "source": [
    "def cohen_avg_1():\n",
    "    cohen_score_12 = cohen_kappa_score(annotation_1,annotation_2)\n",
    "    cohen_score_13 = cohen_kappa_score(annotation_1,annotation_3)\n",
    "    cohen_score_14 = cohen_kappa_score(annotation_1,annotation_4)\n",
    "    cohen_score_average_1 = round((cohen_score_12 + cohen_score_13 + cohen_score_14)/3,3)\n",
    "    #print(\"Average Cohen Kappa Score for annotation 101:\",(cohen_score_average_1))\n",
    "    return cohen_score_average_1"
   ]
  },
  {
   "cell_type": "code",
   "execution_count": 22,
   "id": "departmental-fireplace",
   "metadata": {},
   "outputs": [
    {
     "data": {
      "text/plain": [
       "0.77"
      ]
     },
     "execution_count": 22,
     "metadata": {},
     "output_type": "execute_result"
    }
   ],
   "source": [
    "cohen_avg_1()"
   ]
  },
  {
   "cell_type": "markdown",
   "id": "invisible-memory",
   "metadata": {},
   "source": [
    "### Cohen_kappa average score of annotation 102"
   ]
  },
  {
   "cell_type": "code",
   "execution_count": 23,
   "id": "incomplete-overhead",
   "metadata": {},
   "outputs": [],
   "source": [
    "def cohen_avg_2():\n",
    "    cohen_score_21 = cohen_kappa_score(annotation_2,annotation_1)\n",
    "    cohen_score_23 = cohen_kappa_score(annotation_2,annotation_3)\n",
    "    cohen_score_24 = cohen_kappa_score(annotation_2,annotation_4)\n",
    "    cohen_score_average_2 = round((cohen_score_21 + cohen_score_23 + cohen_score_24)/3,3)\n",
    "    #print(\"Average Cohen Kappa Score for annotation 102:\",(cohen_score_average_2))\n",
    "    return cohen_score_average_2"
   ]
  },
  {
   "cell_type": "code",
   "execution_count": 24,
   "id": "pointed-selling",
   "metadata": {},
   "outputs": [
    {
     "data": {
      "text/plain": [
       "0.733"
      ]
     },
     "execution_count": 24,
     "metadata": {},
     "output_type": "execute_result"
    }
   ],
   "source": [
    "cohen_avg_2()"
   ]
  },
  {
   "cell_type": "markdown",
   "id": "hawaiian-hollywood",
   "metadata": {},
   "source": [
    "### Cohen_kappa average score of annotation 103"
   ]
  },
  {
   "cell_type": "code",
   "execution_count": 25,
   "id": "joined-refund",
   "metadata": {},
   "outputs": [],
   "source": [
    "def cohen_avg_3():\n",
    "    cohen_score_31 = cohen_kappa_score(annotation_3,annotation_1)\n",
    "    cohen_score_32 = cohen_kappa_score(annotation_3,annotation_2)\n",
    "    cohen_score_34 = cohen_kappa_score(annotation_3,annotation_4)\n",
    "    cohen_score_average_3 = round((cohen_score_31 + cohen_score_32 + cohen_score_34)/3,3)\n",
    "    #print(\"Average Cohen Kappa Score for annotation 103:\",(cohen_score_average_3))\n",
    "    return cohen_score_average_3"
   ]
  },
  {
   "cell_type": "code",
   "execution_count": 26,
   "id": "mexican-browser",
   "metadata": {},
   "outputs": [
    {
     "data": {
      "text/plain": [
       "0.763"
      ]
     },
     "execution_count": 26,
     "metadata": {},
     "output_type": "execute_result"
    }
   ],
   "source": [
    "cohen_avg_3()"
   ]
  },
  {
   "cell_type": "markdown",
   "id": "treated-duration",
   "metadata": {},
   "source": [
    "### Cohen_kappa average score of annotation 104"
   ]
  },
  {
   "cell_type": "code",
   "execution_count": 27,
   "id": "manufactured-commonwealth",
   "metadata": {},
   "outputs": [],
   "source": [
    "def cohen_avg_4():\n",
    "    cohen_score_41 = cohen_kappa_score(annotation_4,annotation_1)\n",
    "    cohen_score_42 = cohen_kappa_score(annotation_4,annotation_2)\n",
    "    cohen_score_43 = cohen_kappa_score(annotation_4,annotation_3)\n",
    "    cohen_score_average_4 = round((cohen_score_41 + cohen_score_42 + cohen_score_43)/3,3)\n",
    "    #print(\"Average Cohen Kappa Score for annotation 104:\",(cohen_score_average_4))\n",
    "    return cohen_score_average_4"
   ]
  },
  {
   "cell_type": "code",
   "execution_count": 28,
   "id": "advance-railway",
   "metadata": {},
   "outputs": [
    {
     "data": {
      "text/plain": [
       "0.511"
      ]
     },
     "execution_count": 28,
     "metadata": {},
     "output_type": "execute_result"
    }
   ],
   "source": [
    "cohen_avg_4()"
   ]
  },
  {
   "cell_type": "markdown",
   "id": "breathing-compound",
   "metadata": {},
   "source": [
    "##### If average cohen kappa score for any annotation is less than 0.2, we will drop it"
   ]
  },
  {
   "cell_type": "code",
   "execution_count": 29,
   "id": "editorial-reporter",
   "metadata": {},
   "outputs": [],
   "source": [
    "def drop_annotate():\n",
    "    average = [cohen_avg_1(), cohen_avg_2(),cohen_avg_3(),cohen_avg_4()]\n",
    "    columns_name = ['annotation_101','annotation_102','annotation_103','annotation_104']\n",
    "    for i in range(0,len(average)):\n",
    "        if average[i]< 0.2:\n",
    "            print(columns_name[i])\n",
    "            print(average[i])\n",
    "            df_1.drop(columns_name[i], axis=1, inplace = True)\n",
    "    print(df_1.head())\n",
    "    r = []\n",
    "    for col in df_1.columns:\n",
    "        r.append(col)\n",
    "    print(r[1:])"
   ]
  },
  {
   "cell_type": "code",
   "execution_count": 30,
   "id": "great-given",
   "metadata": {},
   "outputs": [
    {
     "name": "stdout",
     "output_type": "stream",
     "text": [
      "                                                text  annotation_104  \\\n",
      "0  Putin After Announcing #CovidVaccine #Russian ...           False   \n",
      "1  Courtesy: WA! #WhatsApp #COVID #CovidVaccine h...           False   \n",
      "2  4 of the vaccines Jared bought are expected to...           False   \n",
      "3  One day you will realize CDC Guidelines magica...            True   \n",
      "4  Im far from lying.  Current CDC guidelines is ...            True   \n",
      "\n",
      "   annotation_101  annotation_102  annotation_103  \n",
      "0           False           False           False  \n",
      "1           False           False           False  \n",
      "2           False           False           False  \n",
      "3           False           False           False  \n",
      "4            True           False            True  \n",
      "['annotation_104', 'annotation_101', 'annotation_102', 'annotation_103']\n"
     ]
    }
   ],
   "source": [
    "drop_annotate()"
   ]
  },
  {
   "cell_type": "code",
   "execution_count": 31,
   "id": "biological-kinase",
   "metadata": {},
   "outputs": [],
   "source": [
    "def updateLabel(df_1):\n",
    "    for index, rows in df_1.iterrows():\n",
    "        match = [[cohen_avg_1(),rows['annotation_101']],\n",
    "                   [cohen_avg_2(),rows['annotation_102']],\n",
    "                   [cohen_avg_3(),rows['annotation_103']],\n",
    "                    [cohen_avg_4(),rows['annotation_104']]]\n",
    "        boolean = [rows['annotation_101'],rows['annotation_102'],rows['annotation_103'],rows['annotation_104']]\n",
    "        match.sort(key = lambda k:k[0])\n",
    "        true = match.count('True')\n",
    "        false = match.count('False')\n",
    "        if true == false: \n",
    "            kapaValue, colValue = match[-1]\n",
    "            df_1.loc[index, 'Final Label'] = colValue\n",
    "            \n",
    "        elif true!=false:\n",
    "            if true > false:\n",
    "                df_1.loc[index, 'Final Label'] = True\n",
    "            else:\n",
    "                df_1.loc[index, 'Final Label'] = False\n",
    "    \n",
    "\n"
   ]
  },
  {
   "cell_type": "code",
   "execution_count": 32,
   "id": "alert-adobe",
   "metadata": {},
   "outputs": [
    {
     "data": {
      "text/html": [
       "<div>\n",
       "<style scoped>\n",
       "    .dataframe tbody tr th:only-of-type {\n",
       "        vertical-align: middle;\n",
       "    }\n",
       "\n",
       "    .dataframe tbody tr th {\n",
       "        vertical-align: top;\n",
       "    }\n",
       "\n",
       "    .dataframe thead th {\n",
       "        text-align: right;\n",
       "    }\n",
       "</style>\n",
       "<table border=\"1\" class=\"dataframe\">\n",
       "  <thead>\n",
       "    <tr style=\"text-align: right;\">\n",
       "      <th></th>\n",
       "      <th>text</th>\n",
       "      <th>Final Label</th>\n",
       "    </tr>\n",
       "  </thead>\n",
       "  <tbody>\n",
       "    <tr>\n",
       "      <th>0</th>\n",
       "      <td>Putin After Announcing #CovidVaccine #Russian ...</td>\n",
       "      <td>False</td>\n",
       "    </tr>\n",
       "    <tr>\n",
       "      <th>1</th>\n",
       "      <td>Courtesy: WA! #WhatsApp #COVID #CovidVaccine h...</td>\n",
       "      <td>False</td>\n",
       "    </tr>\n",
       "    <tr>\n",
       "      <th>2</th>\n",
       "      <td>4 of the vaccines Jared bought are expected to...</td>\n",
       "      <td>False</td>\n",
       "    </tr>\n",
       "    <tr>\n",
       "      <th>3</th>\n",
       "      <td>One day you will realize CDC Guidelines magica...</td>\n",
       "      <td>False</td>\n",
       "    </tr>\n",
       "    <tr>\n",
       "      <th>4</th>\n",
       "      <td>Im far from lying.  Current CDC guidelines is ...</td>\n",
       "      <td>True</td>\n",
       "    </tr>\n",
       "  </tbody>\n",
       "</table>\n",
       "</div>"
      ],
      "text/plain": [
       "                                                text Final Label\n",
       "0  Putin After Announcing #CovidVaccine #Russian ...       False\n",
       "1  Courtesy: WA! #WhatsApp #COVID #CovidVaccine h...       False\n",
       "2  4 of the vaccines Jared bought are expected to...       False\n",
       "3  One day you will realize CDC Guidelines magica...       False\n",
       "4  Im far from lying.  Current CDC guidelines is ...        True"
      ]
     },
     "execution_count": 32,
     "metadata": {},
     "output_type": "execute_result"
    }
   ],
   "source": [
    "updateLabel(df_1)\n",
    "df_1 = df_1.iloc[:,[0,-1]]\n",
    "df_1.head()"
   ]
  },
  {
   "cell_type": "code",
   "execution_count": 33,
   "id": "patent-speaker",
   "metadata": {},
   "outputs": [],
   "source": [
    "df_1.to_csv(r'C:\\Users\\stuar\\Desktop\\NLP Assignment 2\\new_files\\primary\\twitter_topic_0_masking_and_distancing.csv',\n",
    "           index = False)"
   ]
  },
  {
   "cell_type": "markdown",
   "id": "contemporary-senate",
   "metadata": {},
   "source": [
    "## twitter_topic_0_vaccination.csv"
   ]
  },
  {
   "cell_type": "code",
   "execution_count": 34,
   "id": "whole-lunch",
   "metadata": {},
   "outputs": [
    {
     "data": {
      "text/html": [
       "<div>\n",
       "<style scoped>\n",
       "    .dataframe tbody tr th:only-of-type {\n",
       "        vertical-align: middle;\n",
       "    }\n",
       "\n",
       "    .dataframe tbody tr th {\n",
       "        vertical-align: top;\n",
       "    }\n",
       "\n",
       "    .dataframe thead th {\n",
       "        text-align: right;\n",
       "    }\n",
       "</style>\n",
       "<table border=\"1\" class=\"dataframe\">\n",
       "  <thead>\n",
       "    <tr style=\"text-align: right;\">\n",
       "      <th></th>\n",
       "      <th>text</th>\n",
       "      <th>annotation_104</th>\n",
       "      <th>annotation_101</th>\n",
       "      <th>annotation_102</th>\n",
       "      <th>annotation_103</th>\n",
       "    </tr>\n",
       "  </thead>\n",
       "  <tbody>\n",
       "    <tr>\n",
       "      <th>0</th>\n",
       "      <td>Putin After Announcing #CovidVaccine #Russian ...</td>\n",
       "      <td>True</td>\n",
       "      <td>True</td>\n",
       "      <td>True</td>\n",
       "      <td>False</td>\n",
       "    </tr>\n",
       "    <tr>\n",
       "      <th>1</th>\n",
       "      <td>Courtesy: WA! #WhatsApp #COVID #CovidVaccine h...</td>\n",
       "      <td>True</td>\n",
       "      <td>True</td>\n",
       "      <td>False</td>\n",
       "      <td>False</td>\n",
       "    </tr>\n",
       "    <tr>\n",
       "      <th>2</th>\n",
       "      <td>4 of the vaccines Jared bought are expected to...</td>\n",
       "      <td>True</td>\n",
       "      <td>True</td>\n",
       "      <td>True</td>\n",
       "      <td>True</td>\n",
       "    </tr>\n",
       "    <tr>\n",
       "      <th>3</th>\n",
       "      <td>One day you will realize CDC Guidelines magica...</td>\n",
       "      <td>False</td>\n",
       "      <td>False</td>\n",
       "      <td>False</td>\n",
       "      <td>False</td>\n",
       "    </tr>\n",
       "    <tr>\n",
       "      <th>4</th>\n",
       "      <td>Im far from lying.  Current CDC guidelines is ...</td>\n",
       "      <td>False</td>\n",
       "      <td>True</td>\n",
       "      <td>True</td>\n",
       "      <td>True</td>\n",
       "    </tr>\n",
       "  </tbody>\n",
       "</table>\n",
       "</div>"
      ],
      "text/plain": [
       "                                                text  annotation_104  \\\n",
       "0  Putin After Announcing #CovidVaccine #Russian ...            True   \n",
       "1  Courtesy: WA! #WhatsApp #COVID #CovidVaccine h...            True   \n",
       "2  4 of the vaccines Jared bought are expected to...            True   \n",
       "3  One day you will realize CDC Guidelines magica...           False   \n",
       "4  Im far from lying.  Current CDC guidelines is ...           False   \n",
       "\n",
       "   annotation_101  annotation_102  annotation_103  \n",
       "0            True            True           False  \n",
       "1            True           False           False  \n",
       "2            True            True            True  \n",
       "3           False           False           False  \n",
       "4            True            True            True  "
      ]
     },
     "execution_count": 34,
     "metadata": {},
     "output_type": "execute_result"
    }
   ],
   "source": [
    "df_2 = pd.read_csv(r'twitter_topic\\twitter_topic_0_vaccination.csv')\n",
    "df_2.head()"
   ]
  },
  {
   "cell_type": "code",
   "execution_count": 35,
   "id": "descending-struggle",
   "metadata": {},
   "outputs": [
    {
     "name": "stdout",
     "output_type": "stream",
     "text": [
      "0\n",
      "0\n",
      "0\n",
      "0\n",
      "0\n"
     ]
    }
   ],
   "source": [
    "print(df_2['annotation_101'].isnull().sum())\n",
    "print(df_2['annotation_102'].isnull().sum())\n",
    "print(df_2['annotation_103'].isnull().sum())\n",
    "print(df_2['annotation_104'].isnull().sum())\n",
    "print(df_2['text'].isnull().sum())"
   ]
  },
  {
   "cell_type": "code",
   "execution_count": 36,
   "id": "junior-renaissance",
   "metadata": {},
   "outputs": [],
   "source": [
    "annotation_1= df_2['annotation_101']\n",
    "annotation_2= df_2['annotation_102']\n",
    "annotation_3= df_2['annotation_103']\n",
    "annotation_4= df_2['annotation_104']"
   ]
  },
  {
   "cell_type": "markdown",
   "id": "rotary-series",
   "metadata": {},
   "source": [
    "### Cohen_kappa average score of annotation 101"
   ]
  },
  {
   "cell_type": "code",
   "execution_count": 37,
   "id": "russian-simon",
   "metadata": {},
   "outputs": [],
   "source": [
    "def cohen_avg_1():\n",
    "    cohen_score_12 = cohen_kappa_score(annotation_1,annotation_2)\n",
    "    cohen_score_13 = cohen_kappa_score(annotation_1,annotation_3)\n",
    "    cohen_score_14 = cohen_kappa_score(annotation_1,annotation_4)\n",
    "    cohen_score_average_1 = round((cohen_score_12 + cohen_score_13 + cohen_score_14)/3,3)\n",
    "    #print(\"Average Cohen Kappa Score for annotation 101:\",(cohen_score_average_1))\n",
    "    return cohen_score_average_1"
   ]
  },
  {
   "cell_type": "code",
   "execution_count": 38,
   "id": "intended-suggestion",
   "metadata": {},
   "outputs": [
    {
     "data": {
      "text/plain": [
       "0.762"
      ]
     },
     "execution_count": 38,
     "metadata": {},
     "output_type": "execute_result"
    }
   ],
   "source": [
    "cohen_avg_1()"
   ]
  },
  {
   "cell_type": "markdown",
   "id": "surprising-france",
   "metadata": {},
   "source": [
    "### Cohen_kappa average score of annotation 102"
   ]
  },
  {
   "cell_type": "code",
   "execution_count": 39,
   "id": "renewable-coordinator",
   "metadata": {},
   "outputs": [],
   "source": [
    "def cohen_avg_2():\n",
    "    cohen_score_21 = cohen_kappa_score(annotation_2,annotation_1)\n",
    "    cohen_score_23 = cohen_kappa_score(annotation_2,annotation_3)\n",
    "    cohen_score_24 = cohen_kappa_score(annotation_2,annotation_4)\n",
    "    cohen_score_average_2 = round((cohen_score_21 + cohen_score_23 + cohen_score_24)/3,3)\n",
    "    #print(\"Average Cohen Kappa Score for annotation 102:\",(cohen_score_average_2))\n",
    "    return cohen_score_average_2"
   ]
  },
  {
   "cell_type": "code",
   "execution_count": 40,
   "id": "least-idaho",
   "metadata": {},
   "outputs": [
    {
     "data": {
      "text/plain": [
       "0.624"
      ]
     },
     "execution_count": 40,
     "metadata": {},
     "output_type": "execute_result"
    }
   ],
   "source": [
    "cohen_avg_2()"
   ]
  },
  {
   "cell_type": "markdown",
   "id": "elect-combining",
   "metadata": {},
   "source": [
    "### Cohen_kappa average score of annotation 103"
   ]
  },
  {
   "cell_type": "code",
   "execution_count": 41,
   "id": "surface-turkey",
   "metadata": {},
   "outputs": [],
   "source": [
    "def cohen_avg_3():\n",
    "    cohen_score_31 = cohen_kappa_score(annotation_3,annotation_1)\n",
    "    cohen_score_32 = cohen_kappa_score(annotation_3,annotation_2)\n",
    "    cohen_score_34 = cohen_kappa_score(annotation_3,annotation_4)\n",
    "    cohen_score_average_3 = round((cohen_score_31 + cohen_score_32 + cohen_score_34)/3,3)\n",
    "    #print(\"Average Cohen Kappa Score for annotation 103:\",(cohen_score_average_3))\n",
    "    return cohen_score_average_3"
   ]
  },
  {
   "cell_type": "code",
   "execution_count": 42,
   "id": "animated-wagner",
   "metadata": {},
   "outputs": [
    {
     "data": {
      "text/plain": [
       "0.71"
      ]
     },
     "execution_count": 42,
     "metadata": {},
     "output_type": "execute_result"
    }
   ],
   "source": [
    "cohen_avg_3()"
   ]
  },
  {
   "cell_type": "markdown",
   "id": "crazy-chemistry",
   "metadata": {},
   "source": [
    "### Cohen_kappa average score of annotation 104"
   ]
  },
  {
   "cell_type": "code",
   "execution_count": 43,
   "id": "empirical-consent",
   "metadata": {},
   "outputs": [],
   "source": [
    "def cohen_avg_4():\n",
    "    cohen_score_41 = cohen_kappa_score(annotation_4,annotation_1)\n",
    "    cohen_score_42 = cohen_kappa_score(annotation_4,annotation_2)\n",
    "    cohen_score_43 = cohen_kappa_score(annotation_4,annotation_3)\n",
    "    cohen_score_average_4 = round((cohen_score_41 + cohen_score_42 + cohen_score_43)/3,3)\n",
    "    #print(\"Average Cohen Kappa Score for annotation 104:\",(cohen_score_average_4))\n",
    "    return cohen_score_average_4"
   ]
  },
  {
   "cell_type": "code",
   "execution_count": 44,
   "id": "proper-robinson",
   "metadata": {},
   "outputs": [
    {
     "data": {
      "text/plain": [
       "0.673"
      ]
     },
     "execution_count": 44,
     "metadata": {},
     "output_type": "execute_result"
    }
   ],
   "source": [
    "cohen_avg_4()"
   ]
  },
  {
   "cell_type": "markdown",
   "id": "ranging-steam",
   "metadata": {},
   "source": [
    "##### If average cohen kappa score for any annotation is less than 0.2, we will drop it"
   ]
  },
  {
   "cell_type": "code",
   "execution_count": 45,
   "id": "voluntary-agenda",
   "metadata": {},
   "outputs": [],
   "source": [
    "def drop_annotate():\n",
    "    average = [cohen_avg_1(), cohen_avg_2(),cohen_avg_3(),cohen_avg_4()]\n",
    "    columns_name = ['annotation_101','annotation_102','annotation_103','annotation_104']\n",
    "    for i in range(0,len(average)):\n",
    "        if average[i]< 0.2:\n",
    "            print(columns_name[i])\n",
    "            print(average[i])\n",
    "            df_2.drop(columns_name[i], axis=1, inplace = True)\n",
    "    print(df_2.head())\n",
    "    r = []\n",
    "    for col in df_2.columns:\n",
    "        r.append(col)\n",
    "    print(r[1:])"
   ]
  },
  {
   "cell_type": "code",
   "execution_count": 46,
   "id": "formal-expense",
   "metadata": {},
   "outputs": [
    {
     "name": "stdout",
     "output_type": "stream",
     "text": [
      "                                                text  annotation_104  \\\n",
      "0  Putin After Announcing #CovidVaccine #Russian ...            True   \n",
      "1  Courtesy: WA! #WhatsApp #COVID #CovidVaccine h...            True   \n",
      "2  4 of the vaccines Jared bought are expected to...            True   \n",
      "3  One day you will realize CDC Guidelines magica...           False   \n",
      "4  Im far from lying.  Current CDC guidelines is ...           False   \n",
      "\n",
      "   annotation_101  annotation_102  annotation_103  \n",
      "0            True            True           False  \n",
      "1            True           False           False  \n",
      "2            True            True            True  \n",
      "3           False           False           False  \n",
      "4            True            True            True  \n",
      "['annotation_104', 'annotation_101', 'annotation_102', 'annotation_103']\n"
     ]
    }
   ],
   "source": [
    "drop_annotate()"
   ]
  },
  {
   "cell_type": "code",
   "execution_count": 47,
   "id": "mental-tracker",
   "metadata": {},
   "outputs": [],
   "source": [
    "def updateLabel(df_2):\n",
    "    for index, rows in df_2.iterrows():\n",
    "        match = [[cohen_avg_1(),rows['annotation_101']],\n",
    "                   [cohen_avg_2(),rows['annotation_102']],\n",
    "                   [cohen_avg_3(),rows['annotation_103']],\n",
    "                    [cohen_avg_4(),rows['annotation_104']]]\n",
    "        boolean = [rows['annotation_101'],rows['annotation_102'],rows['annotation_103'],rows['annotation_104']]\n",
    "        match.sort(key = lambda k:k[0])\n",
    "        true = match.count('True')\n",
    "        false = match.count('False')\n",
    "        if true == false: \n",
    "            kapaValue, colValue = match[-1]\n",
    "            df_2.loc[index, 'Final Label'] = colValue\n",
    "        elif true!=false:\n",
    "            if true > false:\n",
    "                df_1.loc[index, 'Final Label'] = True\n",
    "            else:\n",
    "                df_1.loc[index, 'Final Label'] = False\n",
    "    \n",
    "\n"
   ]
  },
  {
   "cell_type": "code",
   "execution_count": 48,
   "id": "banner-compromise",
   "metadata": {},
   "outputs": [
    {
     "data": {
      "text/html": [
       "<div>\n",
       "<style scoped>\n",
       "    .dataframe tbody tr th:only-of-type {\n",
       "        vertical-align: middle;\n",
       "    }\n",
       "\n",
       "    .dataframe tbody tr th {\n",
       "        vertical-align: top;\n",
       "    }\n",
       "\n",
       "    .dataframe thead th {\n",
       "        text-align: right;\n",
       "    }\n",
       "</style>\n",
       "<table border=\"1\" class=\"dataframe\">\n",
       "  <thead>\n",
       "    <tr style=\"text-align: right;\">\n",
       "      <th></th>\n",
       "      <th>text</th>\n",
       "      <th>Final Label</th>\n",
       "    </tr>\n",
       "  </thead>\n",
       "  <tbody>\n",
       "    <tr>\n",
       "      <th>0</th>\n",
       "      <td>Putin After Announcing #CovidVaccine #Russian ...</td>\n",
       "      <td>True</td>\n",
       "    </tr>\n",
       "    <tr>\n",
       "      <th>1</th>\n",
       "      <td>Courtesy: WA! #WhatsApp #COVID #CovidVaccine h...</td>\n",
       "      <td>True</td>\n",
       "    </tr>\n",
       "    <tr>\n",
       "      <th>2</th>\n",
       "      <td>4 of the vaccines Jared bought are expected to...</td>\n",
       "      <td>True</td>\n",
       "    </tr>\n",
       "    <tr>\n",
       "      <th>3</th>\n",
       "      <td>One day you will realize CDC Guidelines magica...</td>\n",
       "      <td>False</td>\n",
       "    </tr>\n",
       "    <tr>\n",
       "      <th>4</th>\n",
       "      <td>Im far from lying.  Current CDC guidelines is ...</td>\n",
       "      <td>True</td>\n",
       "    </tr>\n",
       "  </tbody>\n",
       "</table>\n",
       "</div>"
      ],
      "text/plain": [
       "                                                text Final Label\n",
       "0  Putin After Announcing #CovidVaccine #Russian ...        True\n",
       "1  Courtesy: WA! #WhatsApp #COVID #CovidVaccine h...        True\n",
       "2  4 of the vaccines Jared bought are expected to...        True\n",
       "3  One day you will realize CDC Guidelines magica...       False\n",
       "4  Im far from lying.  Current CDC guidelines is ...        True"
      ]
     },
     "execution_count": 48,
     "metadata": {},
     "output_type": "execute_result"
    }
   ],
   "source": [
    "updateLabel(df_2)\n",
    "df_2 = df_2.iloc[:,[0,-1]]\n",
    "df_2.head()"
   ]
  },
  {
   "cell_type": "code",
   "execution_count": 49,
   "id": "suspected-paint",
   "metadata": {},
   "outputs": [],
   "source": [
    "df_2.to_csv(r'C:\\Users\\stuar\\Desktop\\NLP Assignment 2\\new_files\\primary\\twitter_topic_0_vaccination.csv',\n",
    "           index = False)"
   ]
  },
  {
   "cell_type": "markdown",
   "id": "organized-field",
   "metadata": {},
   "source": [
    "## twitter_topic_1_lockdowns.csv"
   ]
  },
  {
   "cell_type": "code",
   "execution_count": 50,
   "id": "nutritional-thinking",
   "metadata": {},
   "outputs": [
    {
     "data": {
      "text/html": [
       "<div>\n",
       "<style scoped>\n",
       "    .dataframe tbody tr th:only-of-type {\n",
       "        vertical-align: middle;\n",
       "    }\n",
       "\n",
       "    .dataframe tbody tr th {\n",
       "        vertical-align: top;\n",
       "    }\n",
       "\n",
       "    .dataframe thead th {\n",
       "        text-align: right;\n",
       "    }\n",
       "</style>\n",
       "<table border=\"1\" class=\"dataframe\">\n",
       "  <thead>\n",
       "    <tr style=\"text-align: right;\">\n",
       "      <th></th>\n",
       "      <th>text</th>\n",
       "      <th>annotation_51</th>\n",
       "      <th>annotation_52</th>\n",
       "      <th>annotation_53</th>\n",
       "      <th>annotation_54</th>\n",
       "    </tr>\n",
       "  </thead>\n",
       "  <tbody>\n",
       "    <tr>\n",
       "      <th>0</th>\n",
       "      <td>Follow the CDC guidelines. Don’t become a stat...</td>\n",
       "      <td>False</td>\n",
       "      <td>False</td>\n",
       "      <td>False</td>\n",
       "      <td>False</td>\n",
       "    </tr>\n",
       "    <tr>\n",
       "      <th>1</th>\n",
       "      <td>Do you agree with CDC guidelines that children...</td>\n",
       "      <td>False</td>\n",
       "      <td>False</td>\n",
       "      <td>False</td>\n",
       "      <td>False</td>\n",
       "    </tr>\n",
       "    <tr>\n",
       "      <th>2</th>\n",
       "      <td>So, both #Pharmaceutical companies #lilly and ...</td>\n",
       "      <td>False</td>\n",
       "      <td>False</td>\n",
       "      <td>False</td>\n",
       "      <td>False</td>\n",
       "    </tr>\n",
       "    <tr>\n",
       "      <th>3</th>\n",
       "      <td>The CDC's guidelines are clear; you just don't...</td>\n",
       "      <td>False</td>\n",
       "      <td>False</td>\n",
       "      <td>False</td>\n",
       "      <td>False</td>\n",
       "    </tr>\n",
       "    <tr>\n",
       "      <th>4</th>\n",
       "      <td>CDC Updates School Guidelines For Students Ret...</td>\n",
       "      <td>True</td>\n",
       "      <td>True</td>\n",
       "      <td>True</td>\n",
       "      <td>False</td>\n",
       "    </tr>\n",
       "  </tbody>\n",
       "</table>\n",
       "</div>"
      ],
      "text/plain": [
       "                                                text  annotation_51  \\\n",
       "0  Follow the CDC guidelines. Don’t become a stat...          False   \n",
       "1  Do you agree with CDC guidelines that children...          False   \n",
       "2  So, both #Pharmaceutical companies #lilly and ...          False   \n",
       "3  The CDC's guidelines are clear; you just don't...          False   \n",
       "4  CDC Updates School Guidelines For Students Ret...           True   \n",
       "\n",
       "   annotation_52  annotation_53  annotation_54  \n",
       "0          False          False          False  \n",
       "1          False          False          False  \n",
       "2          False          False          False  \n",
       "3          False          False          False  \n",
       "4           True           True          False  "
      ]
     },
     "execution_count": 50,
     "metadata": {},
     "output_type": "execute_result"
    }
   ],
   "source": [
    "df_3 = pd.read_csv(r'twitter_topic\\twitter_topic_1_lockdowns.csv')\n",
    "df_3.head()"
   ]
  },
  {
   "cell_type": "code",
   "execution_count": 51,
   "id": "cooperative-gibraltar",
   "metadata": {},
   "outputs": [
    {
     "name": "stdout",
     "output_type": "stream",
     "text": [
      "0\n",
      "0\n",
      "0\n",
      "0\n",
      "0\n"
     ]
    }
   ],
   "source": [
    "print(df_3['annotation_51'].isnull().sum())\n",
    "print(df_3['annotation_52'].isnull().sum())\n",
    "print(df_3['annotation_53'].isnull().sum())\n",
    "print(df_3['annotation_54'].isnull().sum())\n",
    "print(df_3['text'].isnull().sum())"
   ]
  },
  {
   "cell_type": "code",
   "execution_count": 52,
   "id": "filled-monkey",
   "metadata": {},
   "outputs": [],
   "source": [
    "annotation_1= df_3['annotation_51']\n",
    "annotation_2= df_3['annotation_52']\n",
    "annotation_3= df_3['annotation_53']\n",
    "annotation_4= df_3['annotation_54']"
   ]
  },
  {
   "cell_type": "markdown",
   "id": "thirty-inflation",
   "metadata": {},
   "source": [
    "### Cohen_kappa average score of annotation 51"
   ]
  },
  {
   "cell_type": "code",
   "execution_count": 53,
   "id": "proprietary-damage",
   "metadata": {},
   "outputs": [],
   "source": [
    "def cohen_avg_1():\n",
    "    cohen_score_12 = cohen_kappa_score(annotation_1,annotation_2)\n",
    "    cohen_score_13 = cohen_kappa_score(annotation_1,annotation_3)\n",
    "    cohen_score_14 = cohen_kappa_score(annotation_1,annotation_4)\n",
    "    cohen_score_average_1 = round((cohen_score_12 + cohen_score_13 + cohen_score_14)/3,3)\n",
    "    #print(\"Average Cohen Kappa Score for annotation 51:\",(cohen_score_average_1))\n",
    "    return cohen_score_average_1"
   ]
  },
  {
   "cell_type": "code",
   "execution_count": 54,
   "id": "racial-given",
   "metadata": {},
   "outputs": [
    {
     "data": {
      "text/plain": [
       "0.384"
      ]
     },
     "execution_count": 54,
     "metadata": {},
     "output_type": "execute_result"
    }
   ],
   "source": [
    "cohen_avg_1()"
   ]
  },
  {
   "cell_type": "markdown",
   "id": "limited-gambling",
   "metadata": {},
   "source": [
    "### Cohen_kappa average score of annotation 52"
   ]
  },
  {
   "cell_type": "code",
   "execution_count": 55,
   "id": "digital-hydrogen",
   "metadata": {},
   "outputs": [],
   "source": [
    "def cohen_avg_2():\n",
    "    cohen_score_21 = cohen_kappa_score(annotation_2,annotation_1)\n",
    "    cohen_score_23 = cohen_kappa_score(annotation_2,annotation_3)\n",
    "    cohen_score_24 = cohen_kappa_score(annotation_2,annotation_4)\n",
    "    cohen_score_average_2 = round((cohen_score_21 + cohen_score_23 + cohen_score_24)/3,3)\n",
    "    #print(\"Average Cohen Kappa Score for annotation 52:\",(cohen_score_average_2))\n",
    "    return cohen_score_average_2"
   ]
  },
  {
   "cell_type": "code",
   "execution_count": 56,
   "id": "cardiovascular-discovery",
   "metadata": {},
   "outputs": [
    {
     "data": {
      "text/plain": [
       "0.248"
      ]
     },
     "execution_count": 56,
     "metadata": {},
     "output_type": "execute_result"
    }
   ],
   "source": [
    "cohen_avg_2()"
   ]
  },
  {
   "cell_type": "markdown",
   "id": "accepting-rhythm",
   "metadata": {},
   "source": [
    "### Cohen_kappa average score of annotation 53"
   ]
  },
  {
   "cell_type": "code",
   "execution_count": 57,
   "id": "living-bible",
   "metadata": {},
   "outputs": [],
   "source": [
    "def cohen_avg_3():\n",
    "    cohen_score_31 = cohen_kappa_score(annotation_3,annotation_1)\n",
    "    cohen_score_32 = cohen_kappa_score(annotation_3,annotation_2)\n",
    "    cohen_score_34 = cohen_kappa_score(annotation_3,annotation_4)\n",
    "    cohen_score_average_3 = round((cohen_score_31 + cohen_score_32 + cohen_score_34)/3,3)\n",
    "    #print(\"Average Cohen Kappa Score for annotation 53:\",(cohen_score_average_3))\n",
    "    return cohen_score_average_3"
   ]
  },
  {
   "cell_type": "code",
   "execution_count": 58,
   "id": "pacific-question",
   "metadata": {},
   "outputs": [
    {
     "data": {
      "text/plain": [
       "0.347"
      ]
     },
     "execution_count": 58,
     "metadata": {},
     "output_type": "execute_result"
    }
   ],
   "source": [
    "cohen_avg_3()"
   ]
  },
  {
   "cell_type": "markdown",
   "id": "innocent-firewall",
   "metadata": {},
   "source": [
    "### Cohen_kappa average score of annotation 54"
   ]
  },
  {
   "cell_type": "code",
   "execution_count": 59,
   "id": "official-adoption",
   "metadata": {},
   "outputs": [],
   "source": [
    "def cohen_avg_4():\n",
    "    cohen_score_41 = cohen_kappa_score(annotation_4,annotation_1)\n",
    "    cohen_score_42 = cohen_kappa_score(annotation_4,annotation_2)\n",
    "    cohen_score_43 = cohen_kappa_score(annotation_4,annotation_3)\n",
    "    cohen_score_average_4 = round((cohen_score_41 + cohen_score_42 + cohen_score_43)/3,3)\n",
    "    #print(\"Average Cohen Kappa Score for annotation 54:\",(cohen_score_average_4))\n",
    "    return cohen_score_average_4"
   ]
  },
  {
   "cell_type": "code",
   "execution_count": 60,
   "id": "irish-authorization",
   "metadata": {},
   "outputs": [
    {
     "data": {
      "text/plain": [
       "0.362"
      ]
     },
     "execution_count": 60,
     "metadata": {},
     "output_type": "execute_result"
    }
   ],
   "source": [
    "cohen_avg_4()"
   ]
  },
  {
   "cell_type": "markdown",
   "id": "caroline-premises",
   "metadata": {},
   "source": [
    "##### If average cohen kappa score for any annotation is less than 0.2, we will drop it"
   ]
  },
  {
   "cell_type": "code",
   "execution_count": 61,
   "id": "mediterranean-living",
   "metadata": {},
   "outputs": [],
   "source": [
    "def drop_annotate():\n",
    "    average = [cohen_avg_1(), cohen_avg_2(),cohen_avg_3(),cohen_avg_4()]\n",
    "    columns_name = ['annotation_51','annotation_52','annotation_53','annotation_54']\n",
    "    for i in range(0,len(average)):\n",
    "        if average[i]< 0.2:\n",
    "            print(columns_name[i])\n",
    "            print(average[i])\n",
    "            df_3.drop(columns_name[i], axis=1, inplace = True)\n",
    "    print(df_3.head())\n",
    "    r = []\n",
    "    for col in df_3.columns:\n",
    "        r.append(col)\n",
    "    print(r[1:])"
   ]
  },
  {
   "cell_type": "code",
   "execution_count": 62,
   "id": "meaningful-brunswick",
   "metadata": {},
   "outputs": [
    {
     "name": "stdout",
     "output_type": "stream",
     "text": [
      "                                                text  annotation_51  \\\n",
      "0  Follow the CDC guidelines. Don’t become a stat...          False   \n",
      "1  Do you agree with CDC guidelines that children...          False   \n",
      "2  So, both #Pharmaceutical companies #lilly and ...          False   \n",
      "3  The CDC's guidelines are clear; you just don't...          False   \n",
      "4  CDC Updates School Guidelines For Students Ret...           True   \n",
      "\n",
      "   annotation_52  annotation_53  annotation_54  \n",
      "0          False          False          False  \n",
      "1          False          False          False  \n",
      "2          False          False          False  \n",
      "3          False          False          False  \n",
      "4           True           True          False  \n",
      "['annotation_51', 'annotation_52', 'annotation_53', 'annotation_54']\n"
     ]
    }
   ],
   "source": [
    "drop_annotate()"
   ]
  },
  {
   "cell_type": "code",
   "execution_count": 63,
   "id": "clinical-garden",
   "metadata": {},
   "outputs": [],
   "source": [
    "def updateLabel(df_3):\n",
    "    for index, rows in df_3.iterrows():\n",
    "        match = [[cohen_avg_1(),rows['annotation_51']],\n",
    "                   [cohen_avg_2(),rows['annotation_52']],\n",
    "                   [cohen_avg_3(),rows['annotation_53']],\n",
    "                    [cohen_avg_4(),rows['annotation_54']]]\n",
    "        boolean = [rows['annotation_51'],rows['annotation_52'],rows['annotation_53'],rows['annotation_54']]\n",
    "        match.sort(key = lambda k:k[0])\n",
    "        true = match.count('True')\n",
    "        false = match.count('False')\n",
    "        if true == false: \n",
    "            kapaValue, colValue = match[-1]\n",
    "            df_3.loc[index, 'Final Label'] = colValue\n",
    "            \n",
    "        elif true != false:\n",
    "            if true > false:\n",
    "                df_3.loc[index, 'Final Label'] = True\n",
    "            else:\n",
    "                df_3.loc[index, 'Final Label'] = False\n",
    "    \n",
    "\n"
   ]
  },
  {
   "cell_type": "code",
   "execution_count": 64,
   "id": "perfect-inclusion",
   "metadata": {},
   "outputs": [
    {
     "data": {
      "text/html": [
       "<div>\n",
       "<style scoped>\n",
       "    .dataframe tbody tr th:only-of-type {\n",
       "        vertical-align: middle;\n",
       "    }\n",
       "\n",
       "    .dataframe tbody tr th {\n",
       "        vertical-align: top;\n",
       "    }\n",
       "\n",
       "    .dataframe thead th {\n",
       "        text-align: right;\n",
       "    }\n",
       "</style>\n",
       "<table border=\"1\" class=\"dataframe\">\n",
       "  <thead>\n",
       "    <tr style=\"text-align: right;\">\n",
       "      <th></th>\n",
       "      <th>text</th>\n",
       "      <th>Final Label</th>\n",
       "    </tr>\n",
       "  </thead>\n",
       "  <tbody>\n",
       "    <tr>\n",
       "      <th>0</th>\n",
       "      <td>Follow the CDC guidelines. Don’t become a stat...</td>\n",
       "      <td>False</td>\n",
       "    </tr>\n",
       "    <tr>\n",
       "      <th>1</th>\n",
       "      <td>Do you agree with CDC guidelines that children...</td>\n",
       "      <td>False</td>\n",
       "    </tr>\n",
       "    <tr>\n",
       "      <th>2</th>\n",
       "      <td>So, both #Pharmaceutical companies #lilly and ...</td>\n",
       "      <td>False</td>\n",
       "    </tr>\n",
       "    <tr>\n",
       "      <th>3</th>\n",
       "      <td>The CDC's guidelines are clear; you just don't...</td>\n",
       "      <td>False</td>\n",
       "    </tr>\n",
       "    <tr>\n",
       "      <th>4</th>\n",
       "      <td>CDC Updates School Guidelines For Students Ret...</td>\n",
       "      <td>True</td>\n",
       "    </tr>\n",
       "  </tbody>\n",
       "</table>\n",
       "</div>"
      ],
      "text/plain": [
       "                                                text Final Label\n",
       "0  Follow the CDC guidelines. Don’t become a stat...       False\n",
       "1  Do you agree with CDC guidelines that children...       False\n",
       "2  So, both #Pharmaceutical companies #lilly and ...       False\n",
       "3  The CDC's guidelines are clear; you just don't...       False\n",
       "4  CDC Updates School Guidelines For Students Ret...        True"
      ]
     },
     "execution_count": 64,
     "metadata": {},
     "output_type": "execute_result"
    }
   ],
   "source": [
    "updateLabel(df_3)\n",
    "df_3 = df_3.iloc[:,[0,-1]]\n",
    "df_3.head()"
   ]
  },
  {
   "cell_type": "code",
   "execution_count": 65,
   "id": "asian-lambda",
   "metadata": {},
   "outputs": [],
   "source": [
    "df_3.to_csv(r'C:\\Users\\stuar\\Desktop\\NLP Assignment 2\\new_files\\primary\\twitter_topic_1_lockdowns.csv',\n",
    "           index = False)"
   ]
  },
  {
   "cell_type": "markdown",
   "id": "convenient-underwear",
   "metadata": {},
   "source": [
    "## twitter_topic_1_masking_and_distancing.csv"
   ]
  },
  {
   "cell_type": "code",
   "execution_count": 66,
   "id": "running-announcement",
   "metadata": {},
   "outputs": [
    {
     "data": {
      "text/html": [
       "<div>\n",
       "<style scoped>\n",
       "    .dataframe tbody tr th:only-of-type {\n",
       "        vertical-align: middle;\n",
       "    }\n",
       "\n",
       "    .dataframe tbody tr th {\n",
       "        vertical-align: top;\n",
       "    }\n",
       "\n",
       "    .dataframe thead th {\n",
       "        text-align: right;\n",
       "    }\n",
       "</style>\n",
       "<table border=\"1\" class=\"dataframe\">\n",
       "  <thead>\n",
       "    <tr style=\"text-align: right;\">\n",
       "      <th></th>\n",
       "      <th>text</th>\n",
       "      <th>annotation_51</th>\n",
       "      <th>annotation_52</th>\n",
       "      <th>annotation_53</th>\n",
       "      <th>annotation_54</th>\n",
       "    </tr>\n",
       "  </thead>\n",
       "  <tbody>\n",
       "    <tr>\n",
       "      <th>0</th>\n",
       "      <td>Follow the CDC guidelines. Don’t become a stat...</td>\n",
       "      <td>True</td>\n",
       "      <td>False</td>\n",
       "      <td>True</td>\n",
       "      <td>False</td>\n",
       "    </tr>\n",
       "    <tr>\n",
       "      <th>1</th>\n",
       "      <td>Do you agree with CDC guidelines that children...</td>\n",
       "      <td>True</td>\n",
       "      <td>True</td>\n",
       "      <td>True</td>\n",
       "      <td>True</td>\n",
       "    </tr>\n",
       "    <tr>\n",
       "      <th>2</th>\n",
       "      <td>So, both #Pharmaceutical companies #lilly and ...</td>\n",
       "      <td>False</td>\n",
       "      <td>False</td>\n",
       "      <td>False</td>\n",
       "      <td>False</td>\n",
       "    </tr>\n",
       "    <tr>\n",
       "      <th>3</th>\n",
       "      <td>The CDC's guidelines are clear; you just don't...</td>\n",
       "      <td>True</td>\n",
       "      <td>False</td>\n",
       "      <td>False</td>\n",
       "      <td>False</td>\n",
       "    </tr>\n",
       "    <tr>\n",
       "      <th>4</th>\n",
       "      <td>CDC Updates School Guidelines For Students Ret...</td>\n",
       "      <td>True</td>\n",
       "      <td>False</td>\n",
       "      <td>False</td>\n",
       "      <td>False</td>\n",
       "    </tr>\n",
       "  </tbody>\n",
       "</table>\n",
       "</div>"
      ],
      "text/plain": [
       "                                                text  annotation_51  \\\n",
       "0  Follow the CDC guidelines. Don’t become a stat...           True   \n",
       "1  Do you agree with CDC guidelines that children...           True   \n",
       "2  So, both #Pharmaceutical companies #lilly and ...          False   \n",
       "3  The CDC's guidelines are clear; you just don't...           True   \n",
       "4  CDC Updates School Guidelines For Students Ret...           True   \n",
       "\n",
       "   annotation_52  annotation_53  annotation_54  \n",
       "0          False           True          False  \n",
       "1           True           True           True  \n",
       "2          False          False          False  \n",
       "3          False          False          False  \n",
       "4          False          False          False  "
      ]
     },
     "execution_count": 66,
     "metadata": {},
     "output_type": "execute_result"
    }
   ],
   "source": [
    "df_4 = pd.read_csv(r'twitter_topic\\twitter_topic_1_masking_and_distancing.csv')\n",
    "df_4.head()"
   ]
  },
  {
   "cell_type": "code",
   "execution_count": 67,
   "id": "toxic-portrait",
   "metadata": {},
   "outputs": [
    {
     "name": "stdout",
     "output_type": "stream",
     "text": [
      "0\n",
      "0\n",
      "0\n",
      "0\n",
      "0\n"
     ]
    }
   ],
   "source": [
    "print(df_4['annotation_51'].isnull().sum())\n",
    "print(df_4['annotation_52'].isnull().sum())\n",
    "print(df_4['annotation_53'].isnull().sum())\n",
    "print(df_4['annotation_54'].isnull().sum())\n",
    "print(df_4['text'].isnull().sum())"
   ]
  },
  {
   "cell_type": "code",
   "execution_count": 68,
   "id": "medieval-schema",
   "metadata": {},
   "outputs": [],
   "source": [
    "annotation_1= df_4['annotation_51']\n",
    "annotation_2= df_4['annotation_52']\n",
    "annotation_3= df_4['annotation_53']\n",
    "annotation_4= df_4['annotation_54']"
   ]
  },
  {
   "cell_type": "markdown",
   "id": "unlikely-jimmy",
   "metadata": {},
   "source": [
    "### Cohen_kappa average score of annotation 51"
   ]
  },
  {
   "cell_type": "code",
   "execution_count": 69,
   "id": "european-silly",
   "metadata": {},
   "outputs": [],
   "source": [
    "def cohen_avg_1():\n",
    "    cohen_score_12 = cohen_kappa_score(annotation_1,annotation_2)\n",
    "    cohen_score_13 = cohen_kappa_score(annotation_1,annotation_3)\n",
    "    cohen_score_14 = cohen_kappa_score(annotation_1,annotation_4)\n",
    "    cohen_score_average_1 = round((cohen_score_12 + cohen_score_13 + cohen_score_14)/3,3)\n",
    "    #print(\"Average Cohen Kappa Score for annotation 51:\",(cohen_score_average_1))\n",
    "    return cohen_score_average_1"
   ]
  },
  {
   "cell_type": "code",
   "execution_count": 70,
   "id": "gentle-albert",
   "metadata": {},
   "outputs": [
    {
     "data": {
      "text/plain": [
       "0.555"
      ]
     },
     "execution_count": 70,
     "metadata": {},
     "output_type": "execute_result"
    }
   ],
   "source": [
    "cohen_avg_1()"
   ]
  },
  {
   "cell_type": "markdown",
   "id": "hollow-skill",
   "metadata": {},
   "source": [
    "### Cohen_kappa average score of annotation 52"
   ]
  },
  {
   "cell_type": "code",
   "execution_count": 71,
   "id": "engaging-humanity",
   "metadata": {},
   "outputs": [],
   "source": [
    "def cohen_avg_2():\n",
    "    cohen_score_21 = cohen_kappa_score(annotation_2,annotation_1)\n",
    "    cohen_score_23 = cohen_kappa_score(annotation_2,annotation_3)\n",
    "    cohen_score_24 = cohen_kappa_score(annotation_2,annotation_4)\n",
    "    cohen_score_average_2 = round((cohen_score_21 + cohen_score_23 + cohen_score_24)/3,3)\n",
    "    #print(\"Average Cohen Kappa Score for annotation 52:\",(cohen_score_average_2))\n",
    "    return cohen_score_average_2"
   ]
  },
  {
   "cell_type": "code",
   "execution_count": 72,
   "id": "patent-apache",
   "metadata": {},
   "outputs": [
    {
     "data": {
      "text/plain": [
       "0.699"
      ]
     },
     "execution_count": 72,
     "metadata": {},
     "output_type": "execute_result"
    }
   ],
   "source": [
    "cohen_avg_2()"
   ]
  },
  {
   "cell_type": "markdown",
   "id": "blind-checkout",
   "metadata": {},
   "source": [
    "### Cohen_kappa average score of annotation 53"
   ]
  },
  {
   "cell_type": "code",
   "execution_count": 73,
   "id": "clean-producer",
   "metadata": {},
   "outputs": [],
   "source": [
    "def cohen_avg_3():\n",
    "    cohen_score_31 = cohen_kappa_score(annotation_3,annotation_1)\n",
    "    cohen_score_32 = cohen_kappa_score(annotation_3,annotation_2)\n",
    "    cohen_score_34 = cohen_kappa_score(annotation_3,annotation_4)\n",
    "    cohen_score_average_3 = round((cohen_score_31 + cohen_score_32 + cohen_score_34)/3,3)\n",
    "    #print(\"Average Cohen Kappa Score for annotation 53:\",(cohen_score_average_3))\n",
    "    return cohen_score_average_3"
   ]
  },
  {
   "cell_type": "code",
   "execution_count": 74,
   "id": "horizontal-cornell",
   "metadata": {},
   "outputs": [
    {
     "data": {
      "text/plain": [
       "0.681"
      ]
     },
     "execution_count": 74,
     "metadata": {},
     "output_type": "execute_result"
    }
   ],
   "source": [
    "cohen_avg_3()"
   ]
  },
  {
   "cell_type": "markdown",
   "id": "victorian-ferry",
   "metadata": {},
   "source": [
    "### Cohen_kappa average score of annotation 54"
   ]
  },
  {
   "cell_type": "code",
   "execution_count": 75,
   "id": "divine-islam",
   "metadata": {},
   "outputs": [],
   "source": [
    "def cohen_avg_4():\n",
    "    cohen_score_41 = cohen_kappa_score(annotation_4,annotation_1)\n",
    "    cohen_score_42 = cohen_kappa_score(annotation_4,annotation_2)\n",
    "    cohen_score_43 = cohen_kappa_score(annotation_4,annotation_3)\n",
    "    cohen_score_average_4 = round((cohen_score_41 + cohen_score_42 + cohen_score_43)/3,3)\n",
    "    #print(\"Average Cohen Kappa Score for annotation 54:\",(cohen_score_average_4))\n",
    "    return cohen_score_average_4"
   ]
  },
  {
   "cell_type": "code",
   "execution_count": 76,
   "id": "automotive-duration",
   "metadata": {},
   "outputs": [
    {
     "data": {
      "text/plain": [
       "0.705"
      ]
     },
     "execution_count": 76,
     "metadata": {},
     "output_type": "execute_result"
    }
   ],
   "source": [
    "cohen_avg_4()"
   ]
  },
  {
   "cell_type": "markdown",
   "id": "continuing-consequence",
   "metadata": {},
   "source": [
    "##### If average cohen kappa score for any annotation is less than 0.2, we will drop it"
   ]
  },
  {
   "cell_type": "code",
   "execution_count": 77,
   "id": "saved-locking",
   "metadata": {},
   "outputs": [],
   "source": [
    "def drop_annotate():\n",
    "    average = [cohen_avg_1(), cohen_avg_2(),cohen_avg_3(),cohen_avg_4()]\n",
    "    columns_name = ['annotation_51','annotation_52','annotation_53','annotation_54']\n",
    "    #columns =[annotation_1,annotation_2,annotation_3,annotation_4]\n",
    "    for i in range(0,len(average)):\n",
    "        if average[i]< 0.2:\n",
    "            print(columns_name[i])\n",
    "            print(average[i])\n",
    "            df_4.drop(columns_name[i], axis=1, inplace = True)\n",
    "    print(df_4.head())\n",
    "    r = []\n",
    "    for col in df_4.columns:\n",
    "        r.append(col)\n",
    "    print(r[1:])"
   ]
  },
  {
   "cell_type": "code",
   "execution_count": 78,
   "id": "adjustable-worry",
   "metadata": {},
   "outputs": [
    {
     "name": "stdout",
     "output_type": "stream",
     "text": [
      "                                                text  annotation_51  \\\n",
      "0  Follow the CDC guidelines. Don’t become a stat...           True   \n",
      "1  Do you agree with CDC guidelines that children...           True   \n",
      "2  So, both #Pharmaceutical companies #lilly and ...          False   \n",
      "3  The CDC's guidelines are clear; you just don't...           True   \n",
      "4  CDC Updates School Guidelines For Students Ret...           True   \n",
      "\n",
      "   annotation_52  annotation_53  annotation_54  \n",
      "0          False           True          False  \n",
      "1           True           True           True  \n",
      "2          False          False          False  \n",
      "3          False          False          False  \n",
      "4          False          False          False  \n",
      "['annotation_51', 'annotation_52', 'annotation_53', 'annotation_54']\n"
     ]
    }
   ],
   "source": [
    "drop_annotate()"
   ]
  },
  {
   "cell_type": "code",
   "execution_count": 79,
   "id": "referenced-portland",
   "metadata": {},
   "outputs": [],
   "source": [
    "def updateLabel(df_4):\n",
    "    for index, rows in df_4.iterrows():\n",
    "        match = [[cohen_avg_1(),rows['annotation_51']],\n",
    "                   [cohen_avg_2(),rows['annotation_52']],\n",
    "                   [cohen_avg_3(),rows['annotation_53']],\n",
    "                    [cohen_avg_4(),rows['annotation_54']]]\n",
    "        boolean = [rows['annotation_51'],rows['annotation_52'],rows['annotation_53'],rows['annotation_54']]\n",
    "        match.sort(key = lambda k:k[0])\n",
    "        true = match.count('True')\n",
    "        false = match.count('False')\n",
    "        if true == false: \n",
    "            kapaValue, colValue = match[-1]\n",
    "            df_4.loc[index, 'Final Label'] = colValue\n",
    "            \n",
    "        elif true!=false:\n",
    "            if true > false:\n",
    "                df_4.loc[index, 'Final Label'] = True\n",
    "            else:\n",
    "                df_4.loc[index, 'Final Label'] = False\n",
    "    \n",
    "\n"
   ]
  },
  {
   "cell_type": "code",
   "execution_count": 80,
   "id": "basic-excuse",
   "metadata": {},
   "outputs": [
    {
     "data": {
      "text/html": [
       "<div>\n",
       "<style scoped>\n",
       "    .dataframe tbody tr th:only-of-type {\n",
       "        vertical-align: middle;\n",
       "    }\n",
       "\n",
       "    .dataframe tbody tr th {\n",
       "        vertical-align: top;\n",
       "    }\n",
       "\n",
       "    .dataframe thead th {\n",
       "        text-align: right;\n",
       "    }\n",
       "</style>\n",
       "<table border=\"1\" class=\"dataframe\">\n",
       "  <thead>\n",
       "    <tr style=\"text-align: right;\">\n",
       "      <th></th>\n",
       "      <th>text</th>\n",
       "      <th>Final Label</th>\n",
       "    </tr>\n",
       "  </thead>\n",
       "  <tbody>\n",
       "    <tr>\n",
       "      <th>0</th>\n",
       "      <td>Follow the CDC guidelines. Don’t become a stat...</td>\n",
       "      <td>False</td>\n",
       "    </tr>\n",
       "    <tr>\n",
       "      <th>1</th>\n",
       "      <td>Do you agree with CDC guidelines that children...</td>\n",
       "      <td>True</td>\n",
       "    </tr>\n",
       "    <tr>\n",
       "      <th>2</th>\n",
       "      <td>So, both #Pharmaceutical companies #lilly and ...</td>\n",
       "      <td>False</td>\n",
       "    </tr>\n",
       "    <tr>\n",
       "      <th>3</th>\n",
       "      <td>The CDC's guidelines are clear; you just don't...</td>\n",
       "      <td>False</td>\n",
       "    </tr>\n",
       "    <tr>\n",
       "      <th>4</th>\n",
       "      <td>CDC Updates School Guidelines For Students Ret...</td>\n",
       "      <td>False</td>\n",
       "    </tr>\n",
       "  </tbody>\n",
       "</table>\n",
       "</div>"
      ],
      "text/plain": [
       "                                                text Final Label\n",
       "0  Follow the CDC guidelines. Don’t become a stat...       False\n",
       "1  Do you agree with CDC guidelines that children...        True\n",
       "2  So, both #Pharmaceutical companies #lilly and ...       False\n",
       "3  The CDC's guidelines are clear; you just don't...       False\n",
       "4  CDC Updates School Guidelines For Students Ret...       False"
      ]
     },
     "execution_count": 80,
     "metadata": {},
     "output_type": "execute_result"
    }
   ],
   "source": [
    "updateLabel(df_4)\n",
    "df_4 = df_4.iloc[:,[0,-1]]\n",
    "df_4.head()"
   ]
  },
  {
   "cell_type": "code",
   "execution_count": 81,
   "id": "southeast-airport",
   "metadata": {},
   "outputs": [],
   "source": [
    "df_4.to_csv(r'C:\\Users\\stuar\\Desktop\\NLP Assignment 2\\new_files\\primary\\twitter_topic_1_masking_and_distancing.csv',\n",
    "           index = False)"
   ]
  },
  {
   "cell_type": "markdown",
   "id": "innovative-ferry",
   "metadata": {},
   "source": [
    "## twitter_topic_1_vaccination.csv"
   ]
  },
  {
   "cell_type": "code",
   "execution_count": 82,
   "id": "vital-encyclopedia",
   "metadata": {},
   "outputs": [
    {
     "data": {
      "text/html": [
       "<div>\n",
       "<style scoped>\n",
       "    .dataframe tbody tr th:only-of-type {\n",
       "        vertical-align: middle;\n",
       "    }\n",
       "\n",
       "    .dataframe tbody tr th {\n",
       "        vertical-align: top;\n",
       "    }\n",
       "\n",
       "    .dataframe thead th {\n",
       "        text-align: right;\n",
       "    }\n",
       "</style>\n",
       "<table border=\"1\" class=\"dataframe\">\n",
       "  <thead>\n",
       "    <tr style=\"text-align: right;\">\n",
       "      <th></th>\n",
       "      <th>text</th>\n",
       "      <th>annotation_51</th>\n",
       "      <th>annotation_52</th>\n",
       "      <th>annotation_53</th>\n",
       "      <th>annotation_54</th>\n",
       "    </tr>\n",
       "  </thead>\n",
       "  <tbody>\n",
       "    <tr>\n",
       "      <th>0</th>\n",
       "      <td>Follow the CDC guidelines. Don’t become a stat...</td>\n",
       "      <td>False</td>\n",
       "      <td>False</td>\n",
       "      <td>False</td>\n",
       "      <td>False</td>\n",
       "    </tr>\n",
       "    <tr>\n",
       "      <th>1</th>\n",
       "      <td>Do you agree with CDC guidelines that children...</td>\n",
       "      <td>False</td>\n",
       "      <td>False</td>\n",
       "      <td>False</td>\n",
       "      <td>False</td>\n",
       "    </tr>\n",
       "    <tr>\n",
       "      <th>2</th>\n",
       "      <td>So, both #Pharmaceutical companies #lilly and ...</td>\n",
       "      <td>True</td>\n",
       "      <td>True</td>\n",
       "      <td>True</td>\n",
       "      <td>True</td>\n",
       "    </tr>\n",
       "    <tr>\n",
       "      <th>3</th>\n",
       "      <td>The CDC's guidelines are clear; you just don't...</td>\n",
       "      <td>False</td>\n",
       "      <td>False</td>\n",
       "      <td>False</td>\n",
       "      <td>False</td>\n",
       "    </tr>\n",
       "    <tr>\n",
       "      <th>4</th>\n",
       "      <td>CDC Updates School Guidelines For Students Ret...</td>\n",
       "      <td>False</td>\n",
       "      <td>False</td>\n",
       "      <td>False</td>\n",
       "      <td>False</td>\n",
       "    </tr>\n",
       "  </tbody>\n",
       "</table>\n",
       "</div>"
      ],
      "text/plain": [
       "                                                text  annotation_51  \\\n",
       "0  Follow the CDC guidelines. Don’t become a stat...          False   \n",
       "1  Do you agree with CDC guidelines that children...          False   \n",
       "2  So, both #Pharmaceutical companies #lilly and ...           True   \n",
       "3  The CDC's guidelines are clear; you just don't...          False   \n",
       "4  CDC Updates School Guidelines For Students Ret...          False   \n",
       "\n",
       "   annotation_52  annotation_53  annotation_54  \n",
       "0          False          False          False  \n",
       "1          False          False          False  \n",
       "2           True           True           True  \n",
       "3          False          False          False  \n",
       "4          False          False          False  "
      ]
     },
     "execution_count": 82,
     "metadata": {},
     "output_type": "execute_result"
    }
   ],
   "source": [
    "df_5 = pd.read_csv(r'twitter_topic\\twitter_topic_1_vaccination.csv')\n",
    "df_5.head()"
   ]
  },
  {
   "cell_type": "code",
   "execution_count": 83,
   "id": "universal-climate",
   "metadata": {},
   "outputs": [
    {
     "name": "stdout",
     "output_type": "stream",
     "text": [
      "0\n",
      "0\n",
      "0\n",
      "0\n",
      "0\n"
     ]
    }
   ],
   "source": [
    "print(df_5['annotation_51'].isnull().sum())\n",
    "print(df_5['annotation_52'].isnull().sum())\n",
    "print(df_5['annotation_53'].isnull().sum())\n",
    "print(df_5['annotation_54'].isnull().sum())\n",
    "print(df_5['text'].isnull().sum())"
   ]
  },
  {
   "cell_type": "code",
   "execution_count": 84,
   "id": "allied-conditioning",
   "metadata": {},
   "outputs": [],
   "source": [
    "annotation_1= df_5['annotation_51']\n",
    "annotation_2= df_5['annotation_52']\n",
    "annotation_3= df_5['annotation_53']\n",
    "annotation_4= df_5['annotation_54']"
   ]
  },
  {
   "cell_type": "markdown",
   "id": "handed-canal",
   "metadata": {},
   "source": [
    "### Cohen_kappa average score of annotation 51"
   ]
  },
  {
   "cell_type": "code",
   "execution_count": 85,
   "id": "institutional-price",
   "metadata": {},
   "outputs": [],
   "source": [
    "def cohen_avg_1():\n",
    "    cohen_score_12 = cohen_kappa_score(annotation_1,annotation_2)\n",
    "    cohen_score_13 = cohen_kappa_score(annotation_1,annotation_3)\n",
    "    cohen_score_14 = cohen_kappa_score(annotation_1,annotation_4)\n",
    "    cohen_score_average_1 = round((cohen_score_12 + cohen_score_13 + cohen_score_14)/3,3)\n",
    "    #print(\"Average Cohen Kappa Score for annotation 51:\",(cohen_score_average_1))\n",
    "    return cohen_score_average_1"
   ]
  },
  {
   "cell_type": "code",
   "execution_count": 86,
   "id": "developed-compensation",
   "metadata": {},
   "outputs": [
    {
     "data": {
      "text/plain": [
       "0.656"
      ]
     },
     "execution_count": 86,
     "metadata": {},
     "output_type": "execute_result"
    }
   ],
   "source": [
    "cohen_avg_1()"
   ]
  },
  {
   "cell_type": "markdown",
   "id": "standard-invention",
   "metadata": {},
   "source": [
    "### Cohen_kappa average score of annotation 52"
   ]
  },
  {
   "cell_type": "code",
   "execution_count": 87,
   "id": "equal-error",
   "metadata": {},
   "outputs": [],
   "source": [
    "def cohen_avg_2():\n",
    "    cohen_score_21 = cohen_kappa_score(annotation_2,annotation_1)\n",
    "    cohen_score_23 = cohen_kappa_score(annotation_2,annotation_3)\n",
    "    cohen_score_24 = cohen_kappa_score(annotation_2,annotation_4)\n",
    "    cohen_score_average_2 = round((cohen_score_21 + cohen_score_23 + cohen_score_24)/3,3)\n",
    "    #print(\"Average Cohen Kappa Score for annotation 52:\",(cohen_score_average_2))\n",
    "    return cohen_score_average_2"
   ]
  },
  {
   "cell_type": "code",
   "execution_count": 88,
   "id": "advised-philosophy",
   "metadata": {},
   "outputs": [
    {
     "data": {
      "text/plain": [
       "0.363"
      ]
     },
     "execution_count": 88,
     "metadata": {},
     "output_type": "execute_result"
    }
   ],
   "source": [
    "cohen_avg_2()"
   ]
  },
  {
   "cell_type": "markdown",
   "id": "israeli-simon",
   "metadata": {},
   "source": [
    "### Cohen_kappa average score of annotation 53"
   ]
  },
  {
   "cell_type": "code",
   "execution_count": 89,
   "id": "enhanced-painting",
   "metadata": {},
   "outputs": [],
   "source": [
    "def cohen_avg_3():\n",
    "    cohen_score_31 = cohen_kappa_score(annotation_3,annotation_1)\n",
    "    cohen_score_32 = cohen_kappa_score(annotation_3,annotation_2)\n",
    "    cohen_score_34 = cohen_kappa_score(annotation_3,annotation_4)\n",
    "    cohen_score_average_3 = round((cohen_score_31 + cohen_score_32 + cohen_score_34)/3,3)\n",
    "    #print(\"Average Cohen Kappa Score for annotation 53:\",(cohen_score_average_3))\n",
    "    return cohen_score_average_3"
   ]
  },
  {
   "cell_type": "code",
   "execution_count": 90,
   "id": "found-ticket",
   "metadata": {},
   "outputs": [
    {
     "data": {
      "text/plain": [
       "0.613"
      ]
     },
     "execution_count": 90,
     "metadata": {},
     "output_type": "execute_result"
    }
   ],
   "source": [
    "cohen_avg_3()"
   ]
  },
  {
   "cell_type": "markdown",
   "id": "subsequent-adrian",
   "metadata": {},
   "source": [
    "### Cohen_kappa average score of annotation 54"
   ]
  },
  {
   "cell_type": "code",
   "execution_count": 91,
   "id": "treated-dining",
   "metadata": {},
   "outputs": [],
   "source": [
    "def cohen_avg_4():\n",
    "    cohen_score_41 = cohen_kappa_score(annotation_4,annotation_1)\n",
    "    cohen_score_42 = cohen_kappa_score(annotation_4,annotation_2)\n",
    "    cohen_score_43 = cohen_kappa_score(annotation_4,annotation_3)\n",
    "    cohen_score_average_4 = round((cohen_score_41 + cohen_score_42 + cohen_score_43)/3,3)\n",
    "    #print(\"Average Cohen Kappa Score for annotation 54:\",(cohen_score_average_4))\n",
    "    return cohen_score_average_4"
   ]
  },
  {
   "cell_type": "code",
   "execution_count": 92,
   "id": "frozen-basement",
   "metadata": {},
   "outputs": [
    {
     "data": {
      "text/plain": [
       "0.608"
      ]
     },
     "execution_count": 92,
     "metadata": {},
     "output_type": "execute_result"
    }
   ],
   "source": [
    "cohen_avg_4()"
   ]
  },
  {
   "cell_type": "markdown",
   "id": "authentic-montreal",
   "metadata": {},
   "source": [
    "##### If average cohen kappa score for any annotation is less than 0.2, we will drop it"
   ]
  },
  {
   "cell_type": "code",
   "execution_count": 93,
   "id": "important-temple",
   "metadata": {},
   "outputs": [],
   "source": [
    "def drop_annotate():\n",
    "    average = [cohen_avg_1(), cohen_avg_2(),cohen_avg_3(),cohen_avg_4()]\n",
    "    columns_name = ['annotation_51','annotation_52','annotation_53','annotation_54']\n",
    "    #columns =[annotation_1,annotation_2,annotation_3,annotation_4]\n",
    "    for i in range(0,len(average)):\n",
    "        if average[i]< 0.2:\n",
    "            print(columns_name[i])\n",
    "            print(average[i])\n",
    "            df_5.drop(columns_name[i], axis=1, inplace = True)\n",
    "    print(df_5.head())\n",
    "    r = []\n",
    "    for col in df_5.columns:\n",
    "        r.append(col)\n",
    "    print(r[1:])"
   ]
  },
  {
   "cell_type": "code",
   "execution_count": 94,
   "id": "bound-nickname",
   "metadata": {},
   "outputs": [
    {
     "name": "stdout",
     "output_type": "stream",
     "text": [
      "                                                text  annotation_51  \\\n",
      "0  Follow the CDC guidelines. Don’t become a stat...          False   \n",
      "1  Do you agree with CDC guidelines that children...          False   \n",
      "2  So, both #Pharmaceutical companies #lilly and ...           True   \n",
      "3  The CDC's guidelines are clear; you just don't...          False   \n",
      "4  CDC Updates School Guidelines For Students Ret...          False   \n",
      "\n",
      "   annotation_52  annotation_53  annotation_54  \n",
      "0          False          False          False  \n",
      "1          False          False          False  \n",
      "2           True           True           True  \n",
      "3          False          False          False  \n",
      "4          False          False          False  \n",
      "['annotation_51', 'annotation_52', 'annotation_53', 'annotation_54']\n"
     ]
    }
   ],
   "source": [
    "drop_annotate()"
   ]
  },
  {
   "cell_type": "code",
   "execution_count": 95,
   "id": "beneficial-robert",
   "metadata": {},
   "outputs": [],
   "source": [
    "def updateLabel(df_5):\n",
    "    for index, rows in df_5.iterrows():\n",
    "        match = [[cohen_avg_1(),rows['annotation_51']],\n",
    "                   [cohen_avg_2(),rows['annotation_52']],\n",
    "                   [cohen_avg_3(),rows['annotation_53']],\n",
    "                    [cohen_avg_4(),rows['annotation_54']]]\n",
    "        boolean = [rows['annotation_51'],rows['annotation_52'],rows['annotation_53'],rows['annotation_54']]\n",
    "        match.sort(key = lambda k:k[0])\n",
    "        true = match.count('True')\n",
    "        false = match.count('False')\n",
    "        if true == false: \n",
    "            kapaValue, colValue = match[-1]\n",
    "            df_5.loc[index, 'Final Label'] = colValue\n",
    "            \n",
    "        elif true!=false:\n",
    "            if true > false:\n",
    "                df_5.loc[index, 'Final Label'] = True\n",
    "            else:\n",
    "                df_5.loc[index, 'Final Label'] = False\n",
    "    "
   ]
  },
  {
   "cell_type": "code",
   "execution_count": 96,
   "id": "constant-formula",
   "metadata": {},
   "outputs": [
    {
     "data": {
      "text/html": [
       "<div>\n",
       "<style scoped>\n",
       "    .dataframe tbody tr th:only-of-type {\n",
       "        vertical-align: middle;\n",
       "    }\n",
       "\n",
       "    .dataframe tbody tr th {\n",
       "        vertical-align: top;\n",
       "    }\n",
       "\n",
       "    .dataframe thead th {\n",
       "        text-align: right;\n",
       "    }\n",
       "</style>\n",
       "<table border=\"1\" class=\"dataframe\">\n",
       "  <thead>\n",
       "    <tr style=\"text-align: right;\">\n",
       "      <th></th>\n",
       "      <th>text</th>\n",
       "      <th>Final Label</th>\n",
       "    </tr>\n",
       "  </thead>\n",
       "  <tbody>\n",
       "    <tr>\n",
       "      <th>0</th>\n",
       "      <td>Follow the CDC guidelines. Don’t become a stat...</td>\n",
       "      <td>False</td>\n",
       "    </tr>\n",
       "    <tr>\n",
       "      <th>1</th>\n",
       "      <td>Do you agree with CDC guidelines that children...</td>\n",
       "      <td>False</td>\n",
       "    </tr>\n",
       "    <tr>\n",
       "      <th>2</th>\n",
       "      <td>So, both #Pharmaceutical companies #lilly and ...</td>\n",
       "      <td>True</td>\n",
       "    </tr>\n",
       "    <tr>\n",
       "      <th>3</th>\n",
       "      <td>The CDC's guidelines are clear; you just don't...</td>\n",
       "      <td>False</td>\n",
       "    </tr>\n",
       "    <tr>\n",
       "      <th>4</th>\n",
       "      <td>CDC Updates School Guidelines For Students Ret...</td>\n",
       "      <td>False</td>\n",
       "    </tr>\n",
       "  </tbody>\n",
       "</table>\n",
       "</div>"
      ],
      "text/plain": [
       "                                                text Final Label\n",
       "0  Follow the CDC guidelines. Don’t become a stat...       False\n",
       "1  Do you agree with CDC guidelines that children...       False\n",
       "2  So, both #Pharmaceutical companies #lilly and ...        True\n",
       "3  The CDC's guidelines are clear; you just don't...       False\n",
       "4  CDC Updates School Guidelines For Students Ret...       False"
      ]
     },
     "execution_count": 96,
     "metadata": {},
     "output_type": "execute_result"
    }
   ],
   "source": [
    "updateLabel(df_5)\n",
    "df_5 = df_5.iloc[:,[0,-1]]\n",
    "df_5.head()"
   ]
  },
  {
   "cell_type": "code",
   "execution_count": 97,
   "id": "worse-drive",
   "metadata": {},
   "outputs": [],
   "source": [
    "df_5.to_csv(r'C:\\Users\\stuar\\Desktop\\NLP Assignment 2\\new_files\\primary\\twitter_topic_1_vaccination.csv',\n",
    "           index = False)"
   ]
  },
  {
   "cell_type": "code",
   "execution_count": null,
   "id": "vietnamese-accessory",
   "metadata": {},
   "outputs": [],
   "source": []
  },
  {
   "cell_type": "markdown",
   "id": "discrete-delight",
   "metadata": {},
   "source": [
    "## twitter_topic_2_lockdowns.csv"
   ]
  },
  {
   "cell_type": "code",
   "execution_count": 98,
   "id": "focal-cursor",
   "metadata": {},
   "outputs": [
    {
     "data": {
      "text/html": [
       "<div>\n",
       "<style scoped>\n",
       "    .dataframe tbody tr th:only-of-type {\n",
       "        vertical-align: middle;\n",
       "    }\n",
       "\n",
       "    .dataframe tbody tr th {\n",
       "        vertical-align: top;\n",
       "    }\n",
       "\n",
       "    .dataframe thead th {\n",
       "        text-align: right;\n",
       "    }\n",
       "</style>\n",
       "<table border=\"1\" class=\"dataframe\">\n",
       "  <thead>\n",
       "    <tr style=\"text-align: right;\">\n",
       "      <th></th>\n",
       "      <th>text</th>\n",
       "      <th>annotation_56</th>\n",
       "      <th>annotation_57</th>\n",
       "      <th>annotation_58</th>\n",
       "      <th>annotation_59</th>\n",
       "    </tr>\n",
       "  </thead>\n",
       "  <tbody>\n",
       "    <tr>\n",
       "      <th>0</th>\n",
       "      <td>Federal Judge Rules Against CDC, Throws Out Cr...</td>\n",
       "      <td>False</td>\n",
       "      <td>False</td>\n",
       "      <td>False</td>\n",
       "      <td>False</td>\n",
       "    </tr>\n",
       "    <tr>\n",
       "      <th>1</th>\n",
       "      <td>Indeed. Even in the dysfunctional US health sy...</td>\n",
       "      <td>False</td>\n",
       "      <td>False</td>\n",
       "      <td>False</td>\n",
       "      <td>False</td>\n",
       "    </tr>\n",
       "    <tr>\n",
       "      <th>2</th>\n",
       "      <td>a vaccine seems to be ESSENTIAL if we are to s...</td>\n",
       "      <td>False</td>\n",
       "      <td>False</td>\n",
       "      <td>False</td>\n",
       "      <td>False</td>\n",
       "    </tr>\n",
       "    <tr>\n",
       "      <th>3</th>\n",
       "      <td>Nurses union calls on CDC to reinstate univers...</td>\n",
       "      <td>False</td>\n",
       "      <td>False</td>\n",
       "      <td>False</td>\n",
       "      <td>False</td>\n",
       "    </tr>\n",
       "    <tr>\n",
       "      <th>4</th>\n",
       "      <td>Sirf  #MukeshAmbani  Company &amp;amp; it's Worker...</td>\n",
       "      <td>False</td>\n",
       "      <td>False</td>\n",
       "      <td>True</td>\n",
       "      <td>False</td>\n",
       "    </tr>\n",
       "  </tbody>\n",
       "</table>\n",
       "</div>"
      ],
      "text/plain": [
       "                                                text  annotation_56  \\\n",
       "0  Federal Judge Rules Against CDC, Throws Out Cr...          False   \n",
       "1  Indeed. Even in the dysfunctional US health sy...          False   \n",
       "2  a vaccine seems to be ESSENTIAL if we are to s...          False   \n",
       "3  Nurses union calls on CDC to reinstate univers...          False   \n",
       "4  Sirf  #MukeshAmbani  Company &amp; it's Worker...          False   \n",
       "\n",
       "   annotation_57  annotation_58  annotation_59  \n",
       "0          False          False          False  \n",
       "1          False          False          False  \n",
       "2          False          False          False  \n",
       "3          False          False          False  \n",
       "4          False           True          False  "
      ]
     },
     "execution_count": 98,
     "metadata": {},
     "output_type": "execute_result"
    }
   ],
   "source": [
    "df_6 = pd.read_csv(r'twitter_topic\\twitter_topic_2_lockdowns.csv')\n",
    "df_6.head()"
   ]
  },
  {
   "cell_type": "code",
   "execution_count": 99,
   "id": "dependent-fraud",
   "metadata": {},
   "outputs": [
    {
     "name": "stdout",
     "output_type": "stream",
     "text": [
      "0\n",
      "0\n",
      "0\n",
      "0\n",
      "0\n"
     ]
    }
   ],
   "source": [
    "print(df_6['annotation_56'].isnull().sum())\n",
    "print(df_6['annotation_57'].isnull().sum())\n",
    "print(df_6['annotation_58'].isnull().sum())\n",
    "print(df_6['annotation_59'].isnull().sum())\n",
    "print(df_6['text'].isnull().sum())"
   ]
  },
  {
   "cell_type": "code",
   "execution_count": 100,
   "id": "talented-hepatitis",
   "metadata": {},
   "outputs": [],
   "source": [
    "annotation_1= df_6['annotation_56']\n",
    "annotation_2= df_6['annotation_57']\n",
    "annotation_3= df_6['annotation_58']\n",
    "annotation_4= df_6['annotation_59']"
   ]
  },
  {
   "cell_type": "markdown",
   "id": "living-intellectual",
   "metadata": {},
   "source": [
    "### Cohen_kappa average score of annotation 56"
   ]
  },
  {
   "cell_type": "code",
   "execution_count": 101,
   "id": "amazing-merit",
   "metadata": {},
   "outputs": [],
   "source": [
    "def cohen_avg_1():\n",
    "    cohen_score_12 = cohen_kappa_score(annotation_1,annotation_2)\n",
    "    cohen_score_13 = cohen_kappa_score(annotation_1,annotation_3)\n",
    "    cohen_score_14 = cohen_kappa_score(annotation_1,annotation_4)\n",
    "    cohen_score_average_1 = round((cohen_score_12 + cohen_score_13 + cohen_score_14)/3,3)\n",
    "    #print(\"Average Cohen Kappa Score for annotation 56:\",(cohen_score_average_1))\n",
    "    return cohen_score_average_1"
   ]
  },
  {
   "cell_type": "code",
   "execution_count": 102,
   "id": "composite-conversation",
   "metadata": {},
   "outputs": [
    {
     "data": {
      "text/plain": [
       "0.116"
      ]
     },
     "execution_count": 102,
     "metadata": {},
     "output_type": "execute_result"
    }
   ],
   "source": [
    "cohen_avg_1()"
   ]
  },
  {
   "cell_type": "markdown",
   "id": "serious-small",
   "metadata": {},
   "source": [
    "### Cohen_kappa average score of annotation 57"
   ]
  },
  {
   "cell_type": "code",
   "execution_count": 103,
   "id": "acknowledged-context",
   "metadata": {},
   "outputs": [],
   "source": [
    "def cohen_avg_2():\n",
    "    cohen_score_21 = cohen_kappa_score(annotation_2,annotation_1)\n",
    "    cohen_score_23 = cohen_kappa_score(annotation_2,annotation_3)\n",
    "    cohen_score_24 = cohen_kappa_score(annotation_2,annotation_4)\n",
    "    cohen_score_average_2 = round((cohen_score_21 + cohen_score_23 + cohen_score_24)/3,3)\n",
    "    #print(\"Average Cohen Kappa Score for annotation 57:\",(cohen_score_average_2))\n",
    "    return cohen_score_average_2"
   ]
  },
  {
   "cell_type": "code",
   "execution_count": 104,
   "id": "clear-aggregate",
   "metadata": {},
   "outputs": [
    {
     "data": {
      "text/plain": [
       "0.301"
      ]
     },
     "execution_count": 104,
     "metadata": {},
     "output_type": "execute_result"
    }
   ],
   "source": [
    "cohen_avg_2()"
   ]
  },
  {
   "cell_type": "markdown",
   "id": "marked-words",
   "metadata": {},
   "source": [
    "### Cohen_kappa average score of annotation 58"
   ]
  },
  {
   "cell_type": "code",
   "execution_count": 105,
   "id": "bridal-psychiatry",
   "metadata": {},
   "outputs": [],
   "source": [
    "def cohen_avg_3():\n",
    "    cohen_score_31 = cohen_kappa_score(annotation_3,annotation_1)\n",
    "    cohen_score_32 = cohen_kappa_score(annotation_3,annotation_2)\n",
    "    cohen_score_34 = cohen_kappa_score(annotation_3,annotation_4)\n",
    "    cohen_score_average_3 = round((cohen_score_31 + cohen_score_32 + cohen_score_34)/3,3)\n",
    "    #print(\"Average Cohen Kappa Score for annotation 58:\",(cohen_score_average_3))\n",
    "    return cohen_score_average_3"
   ]
  },
  {
   "cell_type": "code",
   "execution_count": 106,
   "id": "southern-flight",
   "metadata": {},
   "outputs": [
    {
     "data": {
      "text/plain": [
       "0.195"
      ]
     },
     "execution_count": 106,
     "metadata": {},
     "output_type": "execute_result"
    }
   ],
   "source": [
    "cohen_avg_3()"
   ]
  },
  {
   "cell_type": "markdown",
   "id": "another-forestry",
   "metadata": {},
   "source": [
    "### Cohen_kappa average score of annotation 59"
   ]
  },
  {
   "cell_type": "code",
   "execution_count": 107,
   "id": "suspended-villa",
   "metadata": {},
   "outputs": [],
   "source": [
    "def cohen_avg_4():\n",
    "    cohen_score_41 = cohen_kappa_score(annotation_4,annotation_1)\n",
    "    cohen_score_42 = cohen_kappa_score(annotation_4,annotation_2)\n",
    "    cohen_score_43 = cohen_kappa_score(annotation_4,annotation_3)\n",
    "    cohen_score_average_4 = round((cohen_score_41 + cohen_score_42 + cohen_score_43)/3,3)\n",
    "    #print(\"Average Cohen Kappa Score for annotation 59:\",(cohen_score_average_4))\n",
    "    return cohen_score_average_4"
   ]
  },
  {
   "cell_type": "code",
   "execution_count": 108,
   "id": "plastic-roommate",
   "metadata": {},
   "outputs": [
    {
     "data": {
      "text/plain": [
       "0.303"
      ]
     },
     "execution_count": 108,
     "metadata": {},
     "output_type": "execute_result"
    }
   ],
   "source": [
    "cohen_avg_4()"
   ]
  },
  {
   "cell_type": "markdown",
   "id": "portuguese-violence",
   "metadata": {},
   "source": [
    "##### If average cohen kappa score for any annotation is less than 0.2, we will drop it"
   ]
  },
  {
   "cell_type": "code",
   "execution_count": 109,
   "id": "beautiful-community",
   "metadata": {},
   "outputs": [],
   "source": [
    "def drop_annotate():\n",
    "    average = [cohen_avg_1(), cohen_avg_2(),cohen_avg_3(),cohen_avg_4()]\n",
    "    columns_name = ['annotation_56','annotation_57','annotation_58','annotation_59']\n",
    "    #columns =[annotation_1,annotation_2,annotation_3,annotation_4]\n",
    "    for i in range(0,len(average)):\n",
    "        if average[i]< 0.2:\n",
    "            print(columns_name[i])\n",
    "            print(average[i])\n",
    "            df_6.drop(columns_name[i], axis=1, inplace = True)\n",
    "    print(df_6.head())\n",
    "    r = []\n",
    "    for col in df_6.columns:\n",
    "        r.append(col)\n",
    "    print(r[1:])"
   ]
  },
  {
   "cell_type": "code",
   "execution_count": 110,
   "id": "narrow-facial",
   "metadata": {},
   "outputs": [
    {
     "name": "stdout",
     "output_type": "stream",
     "text": [
      "annotation_56\n",
      "0.116\n",
      "annotation_58\n",
      "0.195\n",
      "                                                text  annotation_57  \\\n",
      "0  Federal Judge Rules Against CDC, Throws Out Cr...          False   \n",
      "1  Indeed. Even in the dysfunctional US health sy...          False   \n",
      "2  a vaccine seems to be ESSENTIAL if we are to s...          False   \n",
      "3  Nurses union calls on CDC to reinstate univers...          False   \n",
      "4  Sirf  #MukeshAmbani  Company &amp; it's Worker...          False   \n",
      "\n",
      "   annotation_59  \n",
      "0          False  \n",
      "1          False  \n",
      "2          False  \n",
      "3          False  \n",
      "4          False  \n",
      "['annotation_57', 'annotation_59']\n"
     ]
    }
   ],
   "source": [
    "drop_annotate()"
   ]
  },
  {
   "cell_type": "code",
   "execution_count": 111,
   "id": "adjustable-cedar",
   "metadata": {},
   "outputs": [],
   "source": [
    "def updateLabel(df_6):\n",
    "    for index, rows in df_6.iterrows():\n",
    "        match = [[cohen_avg_2(),rows['annotation_57']],\n",
    "                    [cohen_avg_4(),rows['annotation_59']]]\n",
    "        boolean = [rows['annotation_57'],rows['annotation_59']]\n",
    "        match.sort(key = lambda k:k[0])\n",
    "        true = match.count('True')\n",
    "        false = match.count('False')\n",
    "        if true == false: \n",
    "            kapaValue, colValue = match[-1]\n",
    "            df_6.loc[index, 'Final Label'] = colValue\n",
    "            \n",
    "        elif true!=false:\n",
    "            if true > false:\n",
    "                df_6.loc[index, 'Final Label'] = True\n",
    "            else:\n",
    "                df_6.loc[index, 'Final Label'] = False\n",
    "    "
   ]
  },
  {
   "cell_type": "code",
   "execution_count": 112,
   "id": "western-florist",
   "metadata": {},
   "outputs": [
    {
     "data": {
      "text/html": [
       "<div>\n",
       "<style scoped>\n",
       "    .dataframe tbody tr th:only-of-type {\n",
       "        vertical-align: middle;\n",
       "    }\n",
       "\n",
       "    .dataframe tbody tr th {\n",
       "        vertical-align: top;\n",
       "    }\n",
       "\n",
       "    .dataframe thead th {\n",
       "        text-align: right;\n",
       "    }\n",
       "</style>\n",
       "<table border=\"1\" class=\"dataframe\">\n",
       "  <thead>\n",
       "    <tr style=\"text-align: right;\">\n",
       "      <th></th>\n",
       "      <th>text</th>\n",
       "      <th>Final Label</th>\n",
       "    </tr>\n",
       "  </thead>\n",
       "  <tbody>\n",
       "    <tr>\n",
       "      <th>0</th>\n",
       "      <td>Federal Judge Rules Against CDC, Throws Out Cr...</td>\n",
       "      <td>False</td>\n",
       "    </tr>\n",
       "    <tr>\n",
       "      <th>1</th>\n",
       "      <td>Indeed. Even in the dysfunctional US health sy...</td>\n",
       "      <td>False</td>\n",
       "    </tr>\n",
       "    <tr>\n",
       "      <th>2</th>\n",
       "      <td>a vaccine seems to be ESSENTIAL if we are to s...</td>\n",
       "      <td>False</td>\n",
       "    </tr>\n",
       "    <tr>\n",
       "      <th>3</th>\n",
       "      <td>Nurses union calls on CDC to reinstate univers...</td>\n",
       "      <td>False</td>\n",
       "    </tr>\n",
       "    <tr>\n",
       "      <th>4</th>\n",
       "      <td>Sirf  #MukeshAmbani  Company &amp;amp; it's Worker...</td>\n",
       "      <td>False</td>\n",
       "    </tr>\n",
       "  </tbody>\n",
       "</table>\n",
       "</div>"
      ],
      "text/plain": [
       "                                                text Final Label\n",
       "0  Federal Judge Rules Against CDC, Throws Out Cr...       False\n",
       "1  Indeed. Even in the dysfunctional US health sy...       False\n",
       "2  a vaccine seems to be ESSENTIAL if we are to s...       False\n",
       "3  Nurses union calls on CDC to reinstate univers...       False\n",
       "4  Sirf  #MukeshAmbani  Company &amp; it's Worker...       False"
      ]
     },
     "execution_count": 112,
     "metadata": {},
     "output_type": "execute_result"
    }
   ],
   "source": [
    "updateLabel(df_6)\n",
    "df_6 = df_6.iloc[:,[0,-1]]\n",
    "df_6.head()"
   ]
  },
  {
   "cell_type": "code",
   "execution_count": 113,
   "id": "entire-column",
   "metadata": {},
   "outputs": [],
   "source": [
    "df_6.to_csv(r'C:\\Users\\stuar\\Desktop\\NLP Assignment 2\\new_files\\primary\\twitter_topic_2_lockdowns.csv',\n",
    "           index = False)"
   ]
  },
  {
   "cell_type": "code",
   "execution_count": null,
   "id": "appropriate-worry",
   "metadata": {},
   "outputs": [],
   "source": []
  },
  {
   "cell_type": "markdown",
   "id": "wireless-techno",
   "metadata": {},
   "source": [
    "## twitter_topic_2_masking_and_distancing.csv"
   ]
  },
  {
   "cell_type": "code",
   "execution_count": 114,
   "id": "personalized-negotiation",
   "metadata": {},
   "outputs": [
    {
     "data": {
      "text/html": [
       "<div>\n",
       "<style scoped>\n",
       "    .dataframe tbody tr th:only-of-type {\n",
       "        vertical-align: middle;\n",
       "    }\n",
       "\n",
       "    .dataframe tbody tr th {\n",
       "        vertical-align: top;\n",
       "    }\n",
       "\n",
       "    .dataframe thead th {\n",
       "        text-align: right;\n",
       "    }\n",
       "</style>\n",
       "<table border=\"1\" class=\"dataframe\">\n",
       "  <thead>\n",
       "    <tr style=\"text-align: right;\">\n",
       "      <th></th>\n",
       "      <th>text</th>\n",
       "      <th>annotation_56</th>\n",
       "      <th>annotation_57</th>\n",
       "      <th>annotation_58</th>\n",
       "      <th>annotation_59</th>\n",
       "    </tr>\n",
       "  </thead>\n",
       "  <tbody>\n",
       "    <tr>\n",
       "      <th>0</th>\n",
       "      <td>Federal Judge Rules Against CDC, Throws Out Cr...</td>\n",
       "      <td>False</td>\n",
       "      <td>False</td>\n",
       "      <td>True</td>\n",
       "      <td>True</td>\n",
       "    </tr>\n",
       "    <tr>\n",
       "      <th>1</th>\n",
       "      <td>Indeed. Even in the dysfunctional US health sy...</td>\n",
       "      <td>False</td>\n",
       "      <td>False</td>\n",
       "      <td>False</td>\n",
       "      <td>False</td>\n",
       "    </tr>\n",
       "    <tr>\n",
       "      <th>2</th>\n",
       "      <td>a vaccine seems to be ESSENTIAL if we are to s...</td>\n",
       "      <td>False</td>\n",
       "      <td>True</td>\n",
       "      <td>False</td>\n",
       "      <td>False</td>\n",
       "    </tr>\n",
       "    <tr>\n",
       "      <th>3</th>\n",
       "      <td>Nurses union calls on CDC to reinstate univers...</td>\n",
       "      <td>True</td>\n",
       "      <td>True</td>\n",
       "      <td>True</td>\n",
       "      <td>True</td>\n",
       "    </tr>\n",
       "    <tr>\n",
       "      <th>4</th>\n",
       "      <td>Sirf  #MukeshAmbani  Company &amp;amp; it's Worker...</td>\n",
       "      <td>False</td>\n",
       "      <td>False</td>\n",
       "      <td>False</td>\n",
       "      <td>False</td>\n",
       "    </tr>\n",
       "  </tbody>\n",
       "</table>\n",
       "</div>"
      ],
      "text/plain": [
       "                                                text  annotation_56  \\\n",
       "0  Federal Judge Rules Against CDC, Throws Out Cr...          False   \n",
       "1  Indeed. Even in the dysfunctional US health sy...          False   \n",
       "2  a vaccine seems to be ESSENTIAL if we are to s...          False   \n",
       "3  Nurses union calls on CDC to reinstate univers...           True   \n",
       "4  Sirf  #MukeshAmbani  Company &amp; it's Worker...          False   \n",
       "\n",
       "   annotation_57  annotation_58  annotation_59  \n",
       "0          False           True           True  \n",
       "1          False          False          False  \n",
       "2           True          False          False  \n",
       "3           True           True           True  \n",
       "4          False          False          False  "
      ]
     },
     "execution_count": 114,
     "metadata": {},
     "output_type": "execute_result"
    }
   ],
   "source": [
    "df_7 = pd.read_csv(r'twitter_topic\\twitter_topic_2_masking_and_distancing.csv')\n",
    "df_7.head()"
   ]
  },
  {
   "cell_type": "code",
   "execution_count": 115,
   "id": "turned-change",
   "metadata": {},
   "outputs": [
    {
     "name": "stdout",
     "output_type": "stream",
     "text": [
      "0\n",
      "0\n",
      "0\n",
      "0\n",
      "0\n"
     ]
    }
   ],
   "source": [
    "print(df_7['annotation_56'].isnull().sum())\n",
    "print(df_7['annotation_57'].isnull().sum())\n",
    "print(df_7['annotation_58'].isnull().sum())\n",
    "print(df_7['annotation_59'].isnull().sum())\n",
    "print(df_7['text'].isnull().sum())"
   ]
  },
  {
   "cell_type": "code",
   "execution_count": 116,
   "id": "lesser-boundary",
   "metadata": {},
   "outputs": [],
   "source": [
    "annotation_1= df_7['annotation_56']\n",
    "annotation_2= df_7['annotation_57']\n",
    "annotation_3= df_7['annotation_58']\n",
    "annotation_4= df_7['annotation_59']"
   ]
  },
  {
   "cell_type": "markdown",
   "id": "secure-novel",
   "metadata": {},
   "source": [
    "### Cohen_kappa average score of annotation 56"
   ]
  },
  {
   "cell_type": "code",
   "execution_count": 117,
   "id": "thorough-stone",
   "metadata": {},
   "outputs": [],
   "source": [
    "def cohen_avg_1():\n",
    "    cohen_score_12 = cohen_kappa_score(annotation_1,annotation_2)\n",
    "    cohen_score_13 = cohen_kappa_score(annotation_1,annotation_3)\n",
    "    cohen_score_14 = cohen_kappa_score(annotation_1,annotation_4)\n",
    "    cohen_score_average_1 = round((cohen_score_12 + cohen_score_13 + cohen_score_14)/3,3)\n",
    "    #print(\"Average Cohen Kappa Score for annotation 56:\",(cohen_score_average_1))\n",
    "    return cohen_score_average_1"
   ]
  },
  {
   "cell_type": "code",
   "execution_count": 118,
   "id": "suspended-canyon",
   "metadata": {},
   "outputs": [
    {
     "data": {
      "text/plain": [
       "0.635"
      ]
     },
     "execution_count": 118,
     "metadata": {},
     "output_type": "execute_result"
    }
   ],
   "source": [
    "cohen_avg_1()"
   ]
  },
  {
   "cell_type": "markdown",
   "id": "parallel-workstation",
   "metadata": {},
   "source": [
    "### Cohen_kappa average score of annotation 57"
   ]
  },
  {
   "cell_type": "code",
   "execution_count": 119,
   "id": "negative-mathematics",
   "metadata": {},
   "outputs": [],
   "source": [
    "def cohen_avg_2():\n",
    "    cohen_score_21 = cohen_kappa_score(annotation_2,annotation_1)\n",
    "    cohen_score_23 = cohen_kappa_score(annotation_2,annotation_3)\n",
    "    cohen_score_24 = cohen_kappa_score(annotation_2,annotation_4)\n",
    "    cohen_score_average_2 = round((cohen_score_21 + cohen_score_23 + cohen_score_24)/3,3)\n",
    "    #print(\"Average Cohen Kappa Score for annotation 57:\",(cohen_score_average_2))\n",
    "    return cohen_score_average_2"
   ]
  },
  {
   "cell_type": "code",
   "execution_count": 120,
   "id": "interior-israeli",
   "metadata": {},
   "outputs": [
    {
     "data": {
      "text/plain": [
       "0.603"
      ]
     },
     "execution_count": 120,
     "metadata": {},
     "output_type": "execute_result"
    }
   ],
   "source": [
    "cohen_avg_2()"
   ]
  },
  {
   "cell_type": "markdown",
   "id": "victorian-parliament",
   "metadata": {},
   "source": [
    "### Cohen_kappa average score of annotation 58"
   ]
  },
  {
   "cell_type": "code",
   "execution_count": 121,
   "id": "comparative-decade",
   "metadata": {},
   "outputs": [],
   "source": [
    "def cohen_avg_3():\n",
    "    cohen_score_31 = cohen_kappa_score(annotation_3,annotation_1)\n",
    "    cohen_score_32 = cohen_kappa_score(annotation_3,annotation_2)\n",
    "    cohen_score_34 = cohen_kappa_score(annotation_3,annotation_4)\n",
    "    cohen_score_average_3 = round((cohen_score_31 + cohen_score_32 + cohen_score_34)/3,3)\n",
    "    #print(\"Average Cohen Kappa Score for annotation 58:\",(cohen_score_average_3))\n",
    "    return cohen_score_average_3"
   ]
  },
  {
   "cell_type": "code",
   "execution_count": 122,
   "id": "wrapped-traffic",
   "metadata": {},
   "outputs": [
    {
     "data": {
      "text/plain": [
       "0.564"
      ]
     },
     "execution_count": 122,
     "metadata": {},
     "output_type": "execute_result"
    }
   ],
   "source": [
    "cohen_avg_3()"
   ]
  },
  {
   "cell_type": "markdown",
   "id": "functioning-programming",
   "metadata": {},
   "source": [
    "### Cohen_kappa average score of annotation 59"
   ]
  },
  {
   "cell_type": "code",
   "execution_count": 123,
   "id": "atmospheric-sellers",
   "metadata": {},
   "outputs": [],
   "source": [
    "def cohen_avg_4():\n",
    "    cohen_score_41 = cohen_kappa_score(annotation_4,annotation_1)\n",
    "    cohen_score_42 = cohen_kappa_score(annotation_4,annotation_2)\n",
    "    cohen_score_43 = cohen_kappa_score(annotation_4,annotation_3)\n",
    "    cohen_score_average_4 = round((cohen_score_41 + cohen_score_42 + cohen_score_43)/3,3)\n",
    "    #print(\"Average Cohen Kappa Score for annotation 59:\",(cohen_score_average_4))\n",
    "    return cohen_score_average_4"
   ]
  },
  {
   "cell_type": "code",
   "execution_count": 124,
   "id": "subject-private",
   "metadata": {},
   "outputs": [
    {
     "data": {
      "text/plain": [
       "0.663"
      ]
     },
     "execution_count": 124,
     "metadata": {},
     "output_type": "execute_result"
    }
   ],
   "source": [
    "cohen_avg_4()"
   ]
  },
  {
   "cell_type": "markdown",
   "id": "accredited-equilibrium",
   "metadata": {},
   "source": [
    "##### If average cohen kappa score for any annotation is less than 0.2, we will drop it"
   ]
  },
  {
   "cell_type": "code",
   "execution_count": 125,
   "id": "sharp-proceeding",
   "metadata": {},
   "outputs": [],
   "source": [
    "def drop_annotate():\n",
    "    average = [cohen_avg_1(), cohen_avg_2(),cohen_avg_3(),cohen_avg_4()]\n",
    "    columns_name = ['annotation_56','annotation_57','annotation_58','annotation_59']\n",
    "    #columns =[annotation_1,annotation_2,annotation_3,annotation_4]\n",
    "    for i in range(0,len(average)):\n",
    "        if average[i]< 0.2:\n",
    "            print(columns_name[i])\n",
    "            print(average[i])\n",
    "            df_7.drop(columns_name[i], axis=1, inplace = True)\n",
    "    print(df_7.head())\n",
    "    r = []\n",
    "    for col in df_7.columns:\n",
    "        r.append(col)\n",
    "    print(r[1:])"
   ]
  },
  {
   "cell_type": "code",
   "execution_count": 126,
   "id": "white-thesis",
   "metadata": {},
   "outputs": [
    {
     "name": "stdout",
     "output_type": "stream",
     "text": [
      "                                                text  annotation_56  \\\n",
      "0  Federal Judge Rules Against CDC, Throws Out Cr...          False   \n",
      "1  Indeed. Even in the dysfunctional US health sy...          False   \n",
      "2  a vaccine seems to be ESSENTIAL if we are to s...          False   \n",
      "3  Nurses union calls on CDC to reinstate univers...           True   \n",
      "4  Sirf  #MukeshAmbani  Company &amp; it's Worker...          False   \n",
      "\n",
      "   annotation_57  annotation_58  annotation_59  \n",
      "0          False           True           True  \n",
      "1          False          False          False  \n",
      "2           True          False          False  \n",
      "3           True           True           True  \n",
      "4          False          False          False  \n",
      "['annotation_56', 'annotation_57', 'annotation_58', 'annotation_59']\n"
     ]
    }
   ],
   "source": [
    "drop_annotate()"
   ]
  },
  {
   "cell_type": "code",
   "execution_count": 127,
   "id": "increased-dayton",
   "metadata": {},
   "outputs": [],
   "source": [
    "def updateLabel(df_7):\n",
    "    for index, rows in df_7.iterrows():\n",
    "        match = [[cohen_avg_1(),rows['annotation_56']],\n",
    "                   [cohen_avg_2(),rows['annotation_57']],\n",
    "                   [cohen_avg_3(),rows['annotation_58']],\n",
    "                    [cohen_avg_4(),rows['annotation_59']]]\n",
    "        boolean = [rows['annotation_56'],rows['annotation_57'],rows['annotation_58'],rows['annotation_59']]\n",
    "        match.sort(key = lambda k:k[0])\n",
    "        true = match.count('True')\n",
    "        false = match.count('False')\n",
    "        if true == false: \n",
    "            kapaValue, colValue = match[-1]\n",
    "            df_7.loc[index, 'Final Label'] = colValue\n",
    "            \n",
    "        elif true!=false:\n",
    "            if true > false:\n",
    "                df_7.loc[index, 'Final Label'] = True\n",
    "            else:\n",
    "                df_7.loc[index, 'Final Label'] = False\n",
    "    "
   ]
  },
  {
   "cell_type": "code",
   "execution_count": 128,
   "id": "racial-train",
   "metadata": {},
   "outputs": [
    {
     "data": {
      "text/html": [
       "<div>\n",
       "<style scoped>\n",
       "    .dataframe tbody tr th:only-of-type {\n",
       "        vertical-align: middle;\n",
       "    }\n",
       "\n",
       "    .dataframe tbody tr th {\n",
       "        vertical-align: top;\n",
       "    }\n",
       "\n",
       "    .dataframe thead th {\n",
       "        text-align: right;\n",
       "    }\n",
       "</style>\n",
       "<table border=\"1\" class=\"dataframe\">\n",
       "  <thead>\n",
       "    <tr style=\"text-align: right;\">\n",
       "      <th></th>\n",
       "      <th>text</th>\n",
       "      <th>Final Label</th>\n",
       "    </tr>\n",
       "  </thead>\n",
       "  <tbody>\n",
       "    <tr>\n",
       "      <th>0</th>\n",
       "      <td>Federal Judge Rules Against CDC, Throws Out Cr...</td>\n",
       "      <td>True</td>\n",
       "    </tr>\n",
       "    <tr>\n",
       "      <th>1</th>\n",
       "      <td>Indeed. Even in the dysfunctional US health sy...</td>\n",
       "      <td>False</td>\n",
       "    </tr>\n",
       "    <tr>\n",
       "      <th>2</th>\n",
       "      <td>a vaccine seems to be ESSENTIAL if we are to s...</td>\n",
       "      <td>False</td>\n",
       "    </tr>\n",
       "    <tr>\n",
       "      <th>3</th>\n",
       "      <td>Nurses union calls on CDC to reinstate univers...</td>\n",
       "      <td>True</td>\n",
       "    </tr>\n",
       "    <tr>\n",
       "      <th>4</th>\n",
       "      <td>Sirf  #MukeshAmbani  Company &amp;amp; it's Worker...</td>\n",
       "      <td>False</td>\n",
       "    </tr>\n",
       "  </tbody>\n",
       "</table>\n",
       "</div>"
      ],
      "text/plain": [
       "                                                text Final Label\n",
       "0  Federal Judge Rules Against CDC, Throws Out Cr...        True\n",
       "1  Indeed. Even in the dysfunctional US health sy...       False\n",
       "2  a vaccine seems to be ESSENTIAL if we are to s...       False\n",
       "3  Nurses union calls on CDC to reinstate univers...        True\n",
       "4  Sirf  #MukeshAmbani  Company &amp; it's Worker...       False"
      ]
     },
     "execution_count": 128,
     "metadata": {},
     "output_type": "execute_result"
    }
   ],
   "source": [
    "updateLabel(df_7)\n",
    "df_7 = df_7.iloc[:,[0,-1]]\n",
    "df_7.head()"
   ]
  },
  {
   "cell_type": "code",
   "execution_count": 129,
   "id": "balanced-lover",
   "metadata": {},
   "outputs": [],
   "source": [
    "df_7.to_csv(r'C:\\Users\\stuar\\Desktop\\NLP Assignment 2\\new_files\\primary\\twitter_topic_2_masking_and_distancing.csv',\n",
    "           index = False)"
   ]
  },
  {
   "cell_type": "code",
   "execution_count": null,
   "id": "revolutionary-education",
   "metadata": {},
   "outputs": [],
   "source": []
  },
  {
   "cell_type": "markdown",
   "id": "intimate-guitar",
   "metadata": {},
   "source": [
    "## twitter_topic_2_vaccination.csv"
   ]
  },
  {
   "cell_type": "code",
   "execution_count": 130,
   "id": "boolean-state",
   "metadata": {},
   "outputs": [
    {
     "data": {
      "text/html": [
       "<div>\n",
       "<style scoped>\n",
       "    .dataframe tbody tr th:only-of-type {\n",
       "        vertical-align: middle;\n",
       "    }\n",
       "\n",
       "    .dataframe tbody tr th {\n",
       "        vertical-align: top;\n",
       "    }\n",
       "\n",
       "    .dataframe thead th {\n",
       "        text-align: right;\n",
       "    }\n",
       "</style>\n",
       "<table border=\"1\" class=\"dataframe\">\n",
       "  <thead>\n",
       "    <tr style=\"text-align: right;\">\n",
       "      <th></th>\n",
       "      <th>text</th>\n",
       "      <th>annotation_56</th>\n",
       "      <th>annotation_57</th>\n",
       "      <th>annotation_58</th>\n",
       "      <th>annotation_59</th>\n",
       "    </tr>\n",
       "  </thead>\n",
       "  <tbody>\n",
       "    <tr>\n",
       "      <th>0</th>\n",
       "      <td>Federal Judge Rules Against CDC, Throws Out Cr...</td>\n",
       "      <td>False</td>\n",
       "      <td>False</td>\n",
       "      <td>False</td>\n",
       "      <td>False</td>\n",
       "    </tr>\n",
       "    <tr>\n",
       "      <th>1</th>\n",
       "      <td>Indeed. Even in the dysfunctional US health sy...</td>\n",
       "      <td>True</td>\n",
       "      <td>True</td>\n",
       "      <td>True</td>\n",
       "      <td>True</td>\n",
       "    </tr>\n",
       "    <tr>\n",
       "      <th>2</th>\n",
       "      <td>a vaccine seems to be ESSENTIAL if we are to s...</td>\n",
       "      <td>True</td>\n",
       "      <td>False</td>\n",
       "      <td>True</td>\n",
       "      <td>True</td>\n",
       "    </tr>\n",
       "    <tr>\n",
       "      <th>3</th>\n",
       "      <td>Nurses union calls on CDC to reinstate univers...</td>\n",
       "      <td>False</td>\n",
       "      <td>False</td>\n",
       "      <td>False</td>\n",
       "      <td>False</td>\n",
       "    </tr>\n",
       "    <tr>\n",
       "      <th>4</th>\n",
       "      <td>Sirf  #MukeshAmbani  Company &amp;amp; it's Worker...</td>\n",
       "      <td>False</td>\n",
       "      <td>False</td>\n",
       "      <td>False</td>\n",
       "      <td>False</td>\n",
       "    </tr>\n",
       "  </tbody>\n",
       "</table>\n",
       "</div>"
      ],
      "text/plain": [
       "                                                text  annotation_56  \\\n",
       "0  Federal Judge Rules Against CDC, Throws Out Cr...          False   \n",
       "1  Indeed. Even in the dysfunctional US health sy...           True   \n",
       "2  a vaccine seems to be ESSENTIAL if we are to s...           True   \n",
       "3  Nurses union calls on CDC to reinstate univers...          False   \n",
       "4  Sirf  #MukeshAmbani  Company &amp; it's Worker...          False   \n",
       "\n",
       "   annotation_57  annotation_58  annotation_59  \n",
       "0          False          False          False  \n",
       "1           True           True           True  \n",
       "2          False           True           True  \n",
       "3          False          False          False  \n",
       "4          False          False          False  "
      ]
     },
     "execution_count": 130,
     "metadata": {},
     "output_type": "execute_result"
    }
   ],
   "source": [
    "df_8 = pd.read_csv(r'twitter_topic\\twitter_topic_2_vaccination.csv')\n",
    "df_8.head()"
   ]
  },
  {
   "cell_type": "code",
   "execution_count": 131,
   "id": "sensitive-devon",
   "metadata": {},
   "outputs": [
    {
     "name": "stdout",
     "output_type": "stream",
     "text": [
      "0\n",
      "0\n",
      "0\n",
      "0\n",
      "0\n"
     ]
    }
   ],
   "source": [
    "print(df_8['annotation_56'].isnull().sum())\n",
    "print(df_8['annotation_57'].isnull().sum())\n",
    "print(df_8['annotation_58'].isnull().sum())\n",
    "print(df_8['annotation_59'].isnull().sum())\n",
    "print(df_8['text'].isnull().sum())"
   ]
  },
  {
   "cell_type": "code",
   "execution_count": 132,
   "id": "anonymous-change",
   "metadata": {},
   "outputs": [],
   "source": [
    "annotation_1= df_8['annotation_56']\n",
    "annotation_2= df_8['annotation_57']\n",
    "annotation_3= df_8['annotation_58']\n",
    "annotation_4= df_8['annotation_59']"
   ]
  },
  {
   "cell_type": "markdown",
   "id": "sharp-element",
   "metadata": {},
   "source": [
    "### Cohen_kappa average score of annotation 56"
   ]
  },
  {
   "cell_type": "code",
   "execution_count": 133,
   "id": "filled-container",
   "metadata": {},
   "outputs": [],
   "source": [
    "def cohen_avg_1():\n",
    "    cohen_score_12 = cohen_kappa_score(annotation_1,annotation_2)\n",
    "    cohen_score_13 = cohen_kappa_score(annotation_1,annotation_3)\n",
    "    cohen_score_14 = cohen_kappa_score(annotation_1,annotation_4)\n",
    "    cohen_score_average_1 = round((cohen_score_12 + cohen_score_13 + cohen_score_14)/3,3)\n",
    "    #print(\"Average Cohen Kappa Score for annotation 56:\",(cohen_score_average_1))\n",
    "    return cohen_score_average_1"
   ]
  },
  {
   "cell_type": "code",
   "execution_count": 134,
   "id": "floating-distributor",
   "metadata": {},
   "outputs": [
    {
     "data": {
      "text/plain": [
       "0.69"
      ]
     },
     "execution_count": 134,
     "metadata": {},
     "output_type": "execute_result"
    }
   ],
   "source": [
    "cohen_avg_1()"
   ]
  },
  {
   "cell_type": "markdown",
   "id": "sporting-partition",
   "metadata": {},
   "source": [
    "### Cohen_kappa average score of annotation 57"
   ]
  },
  {
   "cell_type": "code",
   "execution_count": 135,
   "id": "original-bhutan",
   "metadata": {},
   "outputs": [],
   "source": [
    "def cohen_avg_2():\n",
    "    cohen_score_21 = cohen_kappa_score(annotation_2,annotation_1)\n",
    "    cohen_score_23 = cohen_kappa_score(annotation_2,annotation_3)\n",
    "    cohen_score_24 = cohen_kappa_score(annotation_2,annotation_4)\n",
    "    cohen_score_average_2 = round((cohen_score_21 + cohen_score_23 + cohen_score_24)/3,3)\n",
    "    #print(\"Average Cohen Kappa Score for annotation 57:\",(cohen_score_average_2))\n",
    "    return cohen_score_average_2"
   ]
  },
  {
   "cell_type": "code",
   "execution_count": 136,
   "id": "collected-rocket",
   "metadata": {},
   "outputs": [
    {
     "data": {
      "text/plain": [
       "0.695"
      ]
     },
     "execution_count": 136,
     "metadata": {},
     "output_type": "execute_result"
    }
   ],
   "source": [
    "cohen_avg_2()"
   ]
  },
  {
   "cell_type": "markdown",
   "id": "alternate-timer",
   "metadata": {},
   "source": [
    "### Cohen_kappa average score of annotation 58"
   ]
  },
  {
   "cell_type": "code",
   "execution_count": 137,
   "id": "certified-treasury",
   "metadata": {},
   "outputs": [],
   "source": [
    "def cohen_avg_3():\n",
    "    cohen_score_31 = cohen_kappa_score(annotation_3,annotation_1)\n",
    "    cohen_score_32 = cohen_kappa_score(annotation_3,annotation_2)\n",
    "    cohen_score_34 = cohen_kappa_score(annotation_3,annotation_4)\n",
    "    cohen_score_average_3 = round((cohen_score_31 + cohen_score_32 + cohen_score_34)/3,3)\n",
    "    #print(\"Average Cohen Kappa Score for annotation 58:\",(cohen_score_average_3))\n",
    "    return cohen_score_average_3"
   ]
  },
  {
   "cell_type": "code",
   "execution_count": 138,
   "id": "enclosed-causing",
   "metadata": {},
   "outputs": [
    {
     "data": {
      "text/plain": [
       "0.585"
      ]
     },
     "execution_count": 138,
     "metadata": {},
     "output_type": "execute_result"
    }
   ],
   "source": [
    "cohen_avg_3()"
   ]
  },
  {
   "cell_type": "markdown",
   "id": "brave-facial",
   "metadata": {},
   "source": [
    "### Cohen_kappa average score of annotation 59"
   ]
  },
  {
   "cell_type": "code",
   "execution_count": 139,
   "id": "incident-charger",
   "metadata": {},
   "outputs": [],
   "source": [
    "def cohen_avg_4():\n",
    "    cohen_score_41 = cohen_kappa_score(annotation_4,annotation_1)\n",
    "    cohen_score_42 = cohen_kappa_score(annotation_4,annotation_2)\n",
    "    cohen_score_43 = cohen_kappa_score(annotation_4,annotation_3)\n",
    "    cohen_score_average_4 = round((cohen_score_41 + cohen_score_42 + cohen_score_43)/3,3)\n",
    "    #print(\"Average Cohen Kappa Score for annotation 59:\",(cohen_score_average_4))\n",
    "    return cohen_score_average_4"
   ]
  },
  {
   "cell_type": "code",
   "execution_count": 140,
   "id": "mysterious-newspaper",
   "metadata": {},
   "outputs": [
    {
     "data": {
      "text/plain": [
       "0.737"
      ]
     },
     "execution_count": 140,
     "metadata": {},
     "output_type": "execute_result"
    }
   ],
   "source": [
    "cohen_avg_4()"
   ]
  },
  {
   "cell_type": "markdown",
   "id": "certified-context",
   "metadata": {},
   "source": [
    "##### If average cohen kappa score for any annotation is less than 0.2, we will drop it"
   ]
  },
  {
   "cell_type": "code",
   "execution_count": 141,
   "id": "weird-mouth",
   "metadata": {},
   "outputs": [],
   "source": [
    "def drop_annotate():\n",
    "    average = [cohen_avg_1(), cohen_avg_2(),cohen_avg_3(),cohen_avg_4()]\n",
    "    columns_name = ['annotation_56','annotation_57','annotation_58','annotation_59']\n",
    "    #columns =[annotation_1,annotation_2,annotation_3,annotation_4]\n",
    "    for i in range(0,len(average)):\n",
    "        if average[i]< 0.2:\n",
    "            print(columns_name[i])\n",
    "            print(average[i])\n",
    "            df_8.drop(columns_name[i], axis=1, inplace = True)\n",
    "    print(df_8.head())\n",
    "    r = []\n",
    "    for col in df_8.columns:\n",
    "        r.append(col)\n",
    "    print(r[1:])"
   ]
  },
  {
   "cell_type": "code",
   "execution_count": 142,
   "id": "accredited-prisoner",
   "metadata": {},
   "outputs": [
    {
     "name": "stdout",
     "output_type": "stream",
     "text": [
      "                                                text  annotation_56  \\\n",
      "0  Federal Judge Rules Against CDC, Throws Out Cr...          False   \n",
      "1  Indeed. Even in the dysfunctional US health sy...           True   \n",
      "2  a vaccine seems to be ESSENTIAL if we are to s...           True   \n",
      "3  Nurses union calls on CDC to reinstate univers...          False   \n",
      "4  Sirf  #MukeshAmbani  Company &amp; it's Worker...          False   \n",
      "\n",
      "   annotation_57  annotation_58  annotation_59  \n",
      "0          False          False          False  \n",
      "1           True           True           True  \n",
      "2          False           True           True  \n",
      "3          False          False          False  \n",
      "4          False          False          False  \n",
      "['annotation_56', 'annotation_57', 'annotation_58', 'annotation_59']\n"
     ]
    }
   ],
   "source": [
    "drop_annotate()"
   ]
  },
  {
   "cell_type": "code",
   "execution_count": 143,
   "id": "tender-textbook",
   "metadata": {},
   "outputs": [],
   "source": [
    "def updateLabel(df_8):\n",
    "    for index, rows in df_8.iterrows():\n",
    "        match = [[cohen_avg_1(),rows['annotation_56']],\n",
    "                   [cohen_avg_2(),rows['annotation_57']],\n",
    "                   [cohen_avg_3(),rows['annotation_58']],\n",
    "                    [cohen_avg_4(),rows['annotation_59']]]\n",
    "        boolean = [rows['annotation_56'],rows['annotation_57'],rows['annotation_58'],rows['annotation_59']]\n",
    "        match.sort(key = lambda k:k[0])\n",
    "        true = match.count('True')\n",
    "        false = match.count('False')\n",
    "        if true == false: \n",
    "            kapaValue, colValue = match[-1]\n",
    "            df_8.loc[index, 'Final Label'] = colValue\n",
    "            \n",
    "        elif true !=false:\n",
    "            if true > false:\n",
    "                df_8.loc[index, 'Final Label'] = True\n",
    "            else:\n",
    "                df_8.loc[index, 'Final Label'] = False\n",
    "    "
   ]
  },
  {
   "cell_type": "code",
   "execution_count": 144,
   "id": "neutral-requirement",
   "metadata": {},
   "outputs": [
    {
     "data": {
      "text/html": [
       "<div>\n",
       "<style scoped>\n",
       "    .dataframe tbody tr th:only-of-type {\n",
       "        vertical-align: middle;\n",
       "    }\n",
       "\n",
       "    .dataframe tbody tr th {\n",
       "        vertical-align: top;\n",
       "    }\n",
       "\n",
       "    .dataframe thead th {\n",
       "        text-align: right;\n",
       "    }\n",
       "</style>\n",
       "<table border=\"1\" class=\"dataframe\">\n",
       "  <thead>\n",
       "    <tr style=\"text-align: right;\">\n",
       "      <th></th>\n",
       "      <th>text</th>\n",
       "      <th>Final Label</th>\n",
       "    </tr>\n",
       "  </thead>\n",
       "  <tbody>\n",
       "    <tr>\n",
       "      <th>0</th>\n",
       "      <td>Federal Judge Rules Against CDC, Throws Out Cr...</td>\n",
       "      <td>False</td>\n",
       "    </tr>\n",
       "    <tr>\n",
       "      <th>1</th>\n",
       "      <td>Indeed. Even in the dysfunctional US health sy...</td>\n",
       "      <td>True</td>\n",
       "    </tr>\n",
       "    <tr>\n",
       "      <th>2</th>\n",
       "      <td>a vaccine seems to be ESSENTIAL if we are to s...</td>\n",
       "      <td>True</td>\n",
       "    </tr>\n",
       "    <tr>\n",
       "      <th>3</th>\n",
       "      <td>Nurses union calls on CDC to reinstate univers...</td>\n",
       "      <td>False</td>\n",
       "    </tr>\n",
       "    <tr>\n",
       "      <th>4</th>\n",
       "      <td>Sirf  #MukeshAmbani  Company &amp;amp; it's Worker...</td>\n",
       "      <td>False</td>\n",
       "    </tr>\n",
       "  </tbody>\n",
       "</table>\n",
       "</div>"
      ],
      "text/plain": [
       "                                                text Final Label\n",
       "0  Federal Judge Rules Against CDC, Throws Out Cr...       False\n",
       "1  Indeed. Even in the dysfunctional US health sy...        True\n",
       "2  a vaccine seems to be ESSENTIAL if we are to s...        True\n",
       "3  Nurses union calls on CDC to reinstate univers...       False\n",
       "4  Sirf  #MukeshAmbani  Company &amp; it's Worker...       False"
      ]
     },
     "execution_count": 144,
     "metadata": {},
     "output_type": "execute_result"
    }
   ],
   "source": [
    "updateLabel(df_8)\n",
    "df_8 = df_8.iloc[:,[0,-1]]\n",
    "df_8.head()"
   ]
  },
  {
   "cell_type": "code",
   "execution_count": 145,
   "id": "clinical-spectrum",
   "metadata": {},
   "outputs": [],
   "source": [
    "df_8.to_csv(r'C:\\Users\\stuar\\Desktop\\NLP Assignment 2\\new_files\\primary\\twitter_topic_2_vaccination.csv',\n",
    "           index = False)"
   ]
  },
  {
   "cell_type": "markdown",
   "id": "premier-hardware",
   "metadata": {},
   "source": [
    "## twitter_topic_3_lockdowns.csv"
   ]
  },
  {
   "cell_type": "code",
   "execution_count": 146,
   "id": "occasional-scale",
   "metadata": {},
   "outputs": [
    {
     "data": {
      "text/html": [
       "<div>\n",
       "<style scoped>\n",
       "    .dataframe tbody tr th:only-of-type {\n",
       "        vertical-align: middle;\n",
       "    }\n",
       "\n",
       "    .dataframe tbody tr th {\n",
       "        vertical-align: top;\n",
       "    }\n",
       "\n",
       "    .dataframe thead th {\n",
       "        text-align: right;\n",
       "    }\n",
       "</style>\n",
       "<table border=\"1\" class=\"dataframe\">\n",
       "  <thead>\n",
       "    <tr style=\"text-align: right;\">\n",
       "      <th></th>\n",
       "      <th>text</th>\n",
       "      <th>annotation_91</th>\n",
       "      <th>annotation_85</th>\n",
       "      <th>annotation_86</th>\n",
       "      <th>annotation_87</th>\n",
       "    </tr>\n",
       "  </thead>\n",
       "  <tbody>\n",
       "    <tr>\n",
       "      <th>0</th>\n",
       "      <td>Bad news. Johnson &amp;amp; Johnson pauses #CovidV...</td>\n",
       "      <td>False</td>\n",
       "      <td>False</td>\n",
       "      <td>False</td>\n",
       "      <td>False</td>\n",
       "    </tr>\n",
       "    <tr>\n",
       "      <th>1</th>\n",
       "      <td>Saw this on TV and you women Need to work with...</td>\n",
       "      <td>False</td>\n",
       "      <td>False</td>\n",
       "      <td>False</td>\n",
       "      <td>True</td>\n",
       "    </tr>\n",
       "    <tr>\n",
       "      <th>2</th>\n",
       "      <td>Two Indian vaccine candidates against COVID-19...</td>\n",
       "      <td>False</td>\n",
       "      <td>False</td>\n",
       "      <td>False</td>\n",
       "      <td>False</td>\n",
       "    </tr>\n",
       "    <tr>\n",
       "      <th>3</th>\n",
       "      <td>The point is media &amp;amp; govt lie abt the numb...</td>\n",
       "      <td>False</td>\n",
       "      <td>False</td>\n",
       "      <td>False</td>\n",
       "      <td>False</td>\n",
       "    </tr>\n",
       "    <tr>\n",
       "      <th>4</th>\n",
       "      <td>California students will continue wearing mask...</td>\n",
       "      <td>False</td>\n",
       "      <td>True</td>\n",
       "      <td>False</td>\n",
       "      <td>False</td>\n",
       "    </tr>\n",
       "  </tbody>\n",
       "</table>\n",
       "</div>"
      ],
      "text/plain": [
       "                                                text  annotation_91  \\\n",
       "0  Bad news. Johnson &amp; Johnson pauses #CovidV...          False   \n",
       "1  Saw this on TV and you women Need to work with...          False   \n",
       "2  Two Indian vaccine candidates against COVID-19...          False   \n",
       "3  The point is media &amp; govt lie abt the numb...          False   \n",
       "4  California students will continue wearing mask...          False   \n",
       "\n",
       "   annotation_85  annotation_86  annotation_87  \n",
       "0          False          False          False  \n",
       "1          False          False           True  \n",
       "2          False          False          False  \n",
       "3          False          False          False  \n",
       "4           True          False          False  "
      ]
     },
     "execution_count": 146,
     "metadata": {},
     "output_type": "execute_result"
    }
   ],
   "source": [
    "df_9 = pd.read_csv(r'twitter_topic\\twitter_topic_3_lockdowns.csv')\n",
    "df_9.head()"
   ]
  },
  {
   "cell_type": "code",
   "execution_count": 147,
   "id": "golden-plastic",
   "metadata": {},
   "outputs": [
    {
     "name": "stdout",
     "output_type": "stream",
     "text": [
      "0\n",
      "0\n",
      "0\n",
      "0\n",
      "0\n"
     ]
    }
   ],
   "source": [
    "print(df_9['annotation_85'].isnull().sum())\n",
    "print(df_9['annotation_86'].isnull().sum())\n",
    "print(df_9['annotation_87'].isnull().sum())\n",
    "print(df_9['annotation_91'].isnull().sum())\n",
    "print(df_9['text'].isnull().sum())"
   ]
  },
  {
   "cell_type": "code",
   "execution_count": 148,
   "id": "controversial-status",
   "metadata": {},
   "outputs": [],
   "source": [
    "annotation_1= df_9['annotation_85']\n",
    "annotation_2= df_9['annotation_86']\n",
    "annotation_3= df_9['annotation_87']\n",
    "annotation_4= df_9['annotation_91']"
   ]
  },
  {
   "cell_type": "markdown",
   "id": "significant-compensation",
   "metadata": {},
   "source": [
    "### Cohen_kappa average score of annotation 85"
   ]
  },
  {
   "cell_type": "code",
   "execution_count": 149,
   "id": "american-matthew",
   "metadata": {},
   "outputs": [],
   "source": [
    "def cohen_avg_1():\n",
    "    cohen_score_12 = cohen_kappa_score(annotation_1,annotation_2)\n",
    "    cohen_score_13 = cohen_kappa_score(annotation_1,annotation_3)\n",
    "    cohen_score_14 = cohen_kappa_score(annotation_1,annotation_4)\n",
    "    cohen_score_average_1 = round((cohen_score_12 + cohen_score_13 + cohen_score_14)/3,3)\n",
    "    #print(\"Average Cohen Kappa Score for annotation 85:\",(cohen_score_average_1))\n",
    "    return cohen_score_average_1"
   ]
  },
  {
   "cell_type": "code",
   "execution_count": 150,
   "id": "productive-youth",
   "metadata": {},
   "outputs": [
    {
     "data": {
      "text/plain": [
       "0.218"
      ]
     },
     "execution_count": 150,
     "metadata": {},
     "output_type": "execute_result"
    }
   ],
   "source": [
    "cohen_avg_1()"
   ]
  },
  {
   "cell_type": "markdown",
   "id": "biblical-central",
   "metadata": {},
   "source": [
    "### Cohen_kappa average score of annotation 86"
   ]
  },
  {
   "cell_type": "code",
   "execution_count": 151,
   "id": "framed-ticket",
   "metadata": {},
   "outputs": [],
   "source": [
    "def cohen_avg_2():\n",
    "    cohen_score_21 = cohen_kappa_score(annotation_2,annotation_1)\n",
    "    cohen_score_23 = cohen_kappa_score(annotation_2,annotation_3)\n",
    "    cohen_score_24 = cohen_kappa_score(annotation_2,annotation_4)\n",
    "    cohen_score_average_2 = round((cohen_score_21 + cohen_score_23 + cohen_score_24)/3,3)\n",
    "    #print(\"Average Cohen Kappa Score for annotation 86:\",(cohen_score_average_2))\n",
    "    return cohen_score_average_2"
   ]
  },
  {
   "cell_type": "code",
   "execution_count": 152,
   "id": "together-paraguay",
   "metadata": {},
   "outputs": [
    {
     "data": {
      "text/plain": [
       "0.192"
      ]
     },
     "execution_count": 152,
     "metadata": {},
     "output_type": "execute_result"
    }
   ],
   "source": [
    "cohen_avg_2()"
   ]
  },
  {
   "cell_type": "markdown",
   "id": "binding-brook",
   "metadata": {},
   "source": [
    "### Cohen_kappa average score of annotation 87"
   ]
  },
  {
   "cell_type": "code",
   "execution_count": 153,
   "id": "likely-christian",
   "metadata": {},
   "outputs": [],
   "source": [
    "def cohen_avg_3():\n",
    "    cohen_score_31 = cohen_kappa_score(annotation_3,annotation_1)\n",
    "    cohen_score_32 = cohen_kappa_score(annotation_3,annotation_2)\n",
    "    cohen_score_34 = cohen_kappa_score(annotation_3,annotation_4)\n",
    "    cohen_score_average_3 = round((cohen_score_31 + cohen_score_32 + cohen_score_34)/3,3)\n",
    "    #print(\"Average Cohen Kappa Score for annotation 87:\",(cohen_score_average_3))\n",
    "    return cohen_score_average_3"
   ]
  },
  {
   "cell_type": "code",
   "execution_count": 154,
   "id": "legal-dining",
   "metadata": {},
   "outputs": [
    {
     "data": {
      "text/plain": [
       "0.261"
      ]
     },
     "execution_count": 154,
     "metadata": {},
     "output_type": "execute_result"
    }
   ],
   "source": [
    "cohen_avg_3()"
   ]
  },
  {
   "cell_type": "markdown",
   "id": "roman-biotechnology",
   "metadata": {},
   "source": [
    "### Cohen_kappa average score of annotation 91"
   ]
  },
  {
   "cell_type": "code",
   "execution_count": 155,
   "id": "genuine-syntax",
   "metadata": {},
   "outputs": [],
   "source": [
    "def cohen_avg_4():\n",
    "    cohen_score_41 = cohen_kappa_score(annotation_4,annotation_1)\n",
    "    cohen_score_42 = cohen_kappa_score(annotation_4,annotation_2)\n",
    "    cohen_score_43 = cohen_kappa_score(annotation_4,annotation_3)\n",
    "    cohen_score_average_4 = round((cohen_score_41 + cohen_score_42 + cohen_score_43)/3,3)\n",
    "    #print(\"Average Cohen Kappa Score for annotation 91:\",(cohen_score_average_4))\n",
    "    return cohen_score_average_4"
   ]
  },
  {
   "cell_type": "code",
   "execution_count": 156,
   "id": "turkish-intranet",
   "metadata": {},
   "outputs": [
    {
     "data": {
      "text/plain": [
       "0.328"
      ]
     },
     "execution_count": 156,
     "metadata": {},
     "output_type": "execute_result"
    }
   ],
   "source": [
    "cohen_avg_4()"
   ]
  },
  {
   "cell_type": "markdown",
   "id": "incorrect-dancing",
   "metadata": {},
   "source": [
    "##### If average cohen kappa score for any annotation is less than 0.2, we will drop it"
   ]
  },
  {
   "cell_type": "code",
   "execution_count": 157,
   "id": "circular-baghdad",
   "metadata": {},
   "outputs": [],
   "source": [
    "def drop_annotate():\n",
    "    average = [cohen_avg_1(), cohen_avg_2(),cohen_avg_3(),cohen_avg_4()]\n",
    "    columns_name = ['annotation_85','annotation_86','annotation_87','annotation_91']\n",
    "    for i in range(0,len(average)):\n",
    "        if average[i]< 0.2:\n",
    "            print(columns_name[i])\n",
    "            print(average[i])\n",
    "            df_9.drop(columns_name[i], axis=1, inplace = True)\n",
    "    print(df_9.head())\n",
    "    r = []\n",
    "    for col in df_9.columns:\n",
    "        r.append(col)\n",
    "    print(r[1:])"
   ]
  },
  {
   "cell_type": "code",
   "execution_count": 158,
   "id": "emerging-insert",
   "metadata": {},
   "outputs": [
    {
     "name": "stdout",
     "output_type": "stream",
     "text": [
      "annotation_86\n",
      "0.192\n",
      "                                                text  annotation_91  \\\n",
      "0  Bad news. Johnson &amp; Johnson pauses #CovidV...          False   \n",
      "1  Saw this on TV and you women Need to work with...          False   \n",
      "2  Two Indian vaccine candidates against COVID-19...          False   \n",
      "3  The point is media &amp; govt lie abt the numb...          False   \n",
      "4  California students will continue wearing mask...          False   \n",
      "\n",
      "   annotation_85  annotation_87  \n",
      "0          False          False  \n",
      "1          False           True  \n",
      "2          False          False  \n",
      "3          False          False  \n",
      "4           True          False  \n",
      "['annotation_91', 'annotation_85', 'annotation_87']\n"
     ]
    }
   ],
   "source": [
    "drop_annotate()"
   ]
  },
  {
   "cell_type": "code",
   "execution_count": 159,
   "id": "funny-field",
   "metadata": {},
   "outputs": [],
   "source": [
    "def updateLabel(df_9):\n",
    "    for index, rows in df_9.iterrows():\n",
    "        match = [[cohen_avg_1(),rows['annotation_85']],\n",
    "                   [cohen_avg_3(),rows['annotation_87']],\n",
    "                   [cohen_avg_4(),rows['annotation_91']]]\n",
    "        boolean = [rows['annotation_85'],rows['annotation_87'],rows['annotation_91']]\n",
    "        match.sort(key = lambda k:k[0])\n",
    "        true = match.count('True')\n",
    "        false = match.count('False')\n",
    "        if true == false: \n",
    "            kapaValue, colValue = match[-1]\n",
    "            df_9.loc[index, 'Final Label'] = colValue\n",
    "            \n",
    "        elif true!=false:\n",
    "            if true > false:\n",
    "                df_9.loc[index, 'Final Label'] = True\n",
    "            else:\n",
    "                df_9.loc[index, 'Final Label'] = False\n",
    "    "
   ]
  },
  {
   "cell_type": "code",
   "execution_count": 160,
   "id": "individual-racing",
   "metadata": {},
   "outputs": [
    {
     "data": {
      "text/html": [
       "<div>\n",
       "<style scoped>\n",
       "    .dataframe tbody tr th:only-of-type {\n",
       "        vertical-align: middle;\n",
       "    }\n",
       "\n",
       "    .dataframe tbody tr th {\n",
       "        vertical-align: top;\n",
       "    }\n",
       "\n",
       "    .dataframe thead th {\n",
       "        text-align: right;\n",
       "    }\n",
       "</style>\n",
       "<table border=\"1\" class=\"dataframe\">\n",
       "  <thead>\n",
       "    <tr style=\"text-align: right;\">\n",
       "      <th></th>\n",
       "      <th>text</th>\n",
       "      <th>Final Label</th>\n",
       "    </tr>\n",
       "  </thead>\n",
       "  <tbody>\n",
       "    <tr>\n",
       "      <th>0</th>\n",
       "      <td>Bad news. Johnson &amp;amp; Johnson pauses #CovidV...</td>\n",
       "      <td>False</td>\n",
       "    </tr>\n",
       "    <tr>\n",
       "      <th>1</th>\n",
       "      <td>Saw this on TV and you women Need to work with...</td>\n",
       "      <td>False</td>\n",
       "    </tr>\n",
       "    <tr>\n",
       "      <th>2</th>\n",
       "      <td>Two Indian vaccine candidates against COVID-19...</td>\n",
       "      <td>False</td>\n",
       "    </tr>\n",
       "    <tr>\n",
       "      <th>3</th>\n",
       "      <td>The point is media &amp;amp; govt lie abt the numb...</td>\n",
       "      <td>False</td>\n",
       "    </tr>\n",
       "    <tr>\n",
       "      <th>4</th>\n",
       "      <td>California students will continue wearing mask...</td>\n",
       "      <td>False</td>\n",
       "    </tr>\n",
       "  </tbody>\n",
       "</table>\n",
       "</div>"
      ],
      "text/plain": [
       "                                                text Final Label\n",
       "0  Bad news. Johnson &amp; Johnson pauses #CovidV...       False\n",
       "1  Saw this on TV and you women Need to work with...       False\n",
       "2  Two Indian vaccine candidates against COVID-19...       False\n",
       "3  The point is media &amp; govt lie abt the numb...       False\n",
       "4  California students will continue wearing mask...       False"
      ]
     },
     "execution_count": 160,
     "metadata": {},
     "output_type": "execute_result"
    }
   ],
   "source": [
    "updateLabel(df_9)\n",
    "df_9 = df_9.iloc[:,[0,-1]]\n",
    "df_9.head()"
   ]
  },
  {
   "cell_type": "code",
   "execution_count": 161,
   "id": "aware-utilization",
   "metadata": {},
   "outputs": [],
   "source": [
    "df_9.to_csv(r'C:\\Users\\stuar\\Desktop\\NLP Assignment 2\\new_files\\primary\\twitter_topic_3_lockdowns.csv',\n",
    "           index = False)"
   ]
  },
  {
   "cell_type": "markdown",
   "id": "lovely-sydney",
   "metadata": {},
   "source": [
    "## twitter_topic_3_masking_and_distancing.csv"
   ]
  },
  {
   "cell_type": "code",
   "execution_count": 162,
   "id": "civil-burden",
   "metadata": {},
   "outputs": [
    {
     "data": {
      "text/html": [
       "<div>\n",
       "<style scoped>\n",
       "    .dataframe tbody tr th:only-of-type {\n",
       "        vertical-align: middle;\n",
       "    }\n",
       "\n",
       "    .dataframe tbody tr th {\n",
       "        vertical-align: top;\n",
       "    }\n",
       "\n",
       "    .dataframe thead th {\n",
       "        text-align: right;\n",
       "    }\n",
       "</style>\n",
       "<table border=\"1\" class=\"dataframe\">\n",
       "  <thead>\n",
       "    <tr style=\"text-align: right;\">\n",
       "      <th></th>\n",
       "      <th>text</th>\n",
       "      <th>annotation_91</th>\n",
       "      <th>annotation_85</th>\n",
       "      <th>annotation_86</th>\n",
       "      <th>annotation_87</th>\n",
       "    </tr>\n",
       "  </thead>\n",
       "  <tbody>\n",
       "    <tr>\n",
       "      <th>0</th>\n",
       "      <td>Bad news. Johnson &amp;amp; Johnson pauses #CovidV...</td>\n",
       "      <td>False</td>\n",
       "      <td>False</td>\n",
       "      <td>False</td>\n",
       "      <td>False</td>\n",
       "    </tr>\n",
       "    <tr>\n",
       "      <th>1</th>\n",
       "      <td>Saw this on TV and you women Need to work with...</td>\n",
       "      <td>True</td>\n",
       "      <td>True</td>\n",
       "      <td>True</td>\n",
       "      <td>True</td>\n",
       "    </tr>\n",
       "    <tr>\n",
       "      <th>2</th>\n",
       "      <td>Two Indian vaccine candidates against COVID-19...</td>\n",
       "      <td>False</td>\n",
       "      <td>False</td>\n",
       "      <td>False</td>\n",
       "      <td>False</td>\n",
       "    </tr>\n",
       "    <tr>\n",
       "      <th>3</th>\n",
       "      <td>The point is media &amp;amp; govt lie abt the numb...</td>\n",
       "      <td>False</td>\n",
       "      <td>False</td>\n",
       "      <td>False</td>\n",
       "      <td>False</td>\n",
       "    </tr>\n",
       "    <tr>\n",
       "      <th>4</th>\n",
       "      <td>California students will continue wearing mask...</td>\n",
       "      <td>True</td>\n",
       "      <td>True</td>\n",
       "      <td>True</td>\n",
       "      <td>True</td>\n",
       "    </tr>\n",
       "  </tbody>\n",
       "</table>\n",
       "</div>"
      ],
      "text/plain": [
       "                                                text  annotation_91  \\\n",
       "0  Bad news. Johnson &amp; Johnson pauses #CovidV...          False   \n",
       "1  Saw this on TV and you women Need to work with...           True   \n",
       "2  Two Indian vaccine candidates against COVID-19...          False   \n",
       "3  The point is media &amp; govt lie abt the numb...          False   \n",
       "4  California students will continue wearing mask...           True   \n",
       "\n",
       "   annotation_85  annotation_86  annotation_87  \n",
       "0          False          False          False  \n",
       "1           True           True           True  \n",
       "2          False          False          False  \n",
       "3          False          False          False  \n",
       "4           True           True           True  "
      ]
     },
     "execution_count": 162,
     "metadata": {},
     "output_type": "execute_result"
    }
   ],
   "source": [
    "df_10 = pd.read_csv(r'twitter_topic\\twitter_topic_3_masking_and_distancing.csv')\n",
    "df_10.head()"
   ]
  },
  {
   "cell_type": "code",
   "execution_count": 163,
   "id": "valuable-plain",
   "metadata": {},
   "outputs": [
    {
     "name": "stdout",
     "output_type": "stream",
     "text": [
      "0\n",
      "0\n",
      "0\n",
      "0\n",
      "0\n"
     ]
    }
   ],
   "source": [
    "print(df_10['annotation_85'].isnull().sum())\n",
    "print(df_10['annotation_86'].isnull().sum())\n",
    "print(df_10['annotation_87'].isnull().sum())\n",
    "print(df_10['annotation_91'].isnull().sum())\n",
    "print(df_10['text'].isnull().sum())"
   ]
  },
  {
   "cell_type": "code",
   "execution_count": 164,
   "id": "civil-scottish",
   "metadata": {},
   "outputs": [],
   "source": [
    "annotation_1= df_10['annotation_85']\n",
    "annotation_2= df_10['annotation_86']\n",
    "annotation_3= df_10['annotation_87']\n",
    "annotation_4= df_10['annotation_91']"
   ]
  },
  {
   "cell_type": "markdown",
   "id": "egyptian-punch",
   "metadata": {},
   "source": [
    "### Cohen_kappa average score of annotation 85"
   ]
  },
  {
   "cell_type": "code",
   "execution_count": 165,
   "id": "eight-thickness",
   "metadata": {},
   "outputs": [],
   "source": [
    "def cohen_avg_1():\n",
    "    cohen_score_12 = cohen_kappa_score(annotation_1,annotation_2)\n",
    "    cohen_score_13 = cohen_kappa_score(annotation_1,annotation_3)\n",
    "    cohen_score_14 = cohen_kappa_score(annotation_1,annotation_4)\n",
    "    cohen_score_average_1 = round((cohen_score_12 + cohen_score_13 + cohen_score_14)/3,3)\n",
    "    #print(\"Average Cohen Kappa Score for annotation 85:\",(cohen_score_average_1))\n",
    "    return cohen_score_average_1"
   ]
  },
  {
   "cell_type": "code",
   "execution_count": 166,
   "id": "rotary-inspector",
   "metadata": {},
   "outputs": [
    {
     "data": {
      "text/plain": [
       "0.803"
      ]
     },
     "execution_count": 166,
     "metadata": {},
     "output_type": "execute_result"
    }
   ],
   "source": [
    "cohen_avg_1()"
   ]
  },
  {
   "cell_type": "markdown",
   "id": "prerequisite-bikini",
   "metadata": {},
   "source": [
    "### Cohen_kappa average score of annotation 86"
   ]
  },
  {
   "cell_type": "code",
   "execution_count": 167,
   "id": "interior-lease",
   "metadata": {},
   "outputs": [],
   "source": [
    "def cohen_avg_2():\n",
    "    cohen_score_21 = cohen_kappa_score(annotation_2,annotation_1)\n",
    "    cohen_score_23 = cohen_kappa_score(annotation_2,annotation_3)\n",
    "    cohen_score_24 = cohen_kappa_score(annotation_2,annotation_4)\n",
    "    cohen_score_average_2 = round((cohen_score_21 + cohen_score_23 + cohen_score_24)/3,3)\n",
    "    #print(\"Average Cohen Kappa Score for annotation 86:\",(cohen_score_average_2))\n",
    "    return cohen_score_average_2"
   ]
  },
  {
   "cell_type": "code",
   "execution_count": 168,
   "id": "subsequent-attraction",
   "metadata": {},
   "outputs": [
    {
     "data": {
      "text/plain": [
       "0.856"
      ]
     },
     "execution_count": 168,
     "metadata": {},
     "output_type": "execute_result"
    }
   ],
   "source": [
    "cohen_avg_2()"
   ]
  },
  {
   "cell_type": "markdown",
   "id": "decent-destruction",
   "metadata": {},
   "source": [
    "### Cohen_kappa average score of annotation 87"
   ]
  },
  {
   "cell_type": "code",
   "execution_count": 169,
   "id": "temporal-crazy",
   "metadata": {},
   "outputs": [],
   "source": [
    "def cohen_avg_3():\n",
    "    cohen_score_31 = cohen_kappa_score(annotation_3,annotation_1)\n",
    "    cohen_score_32 = cohen_kappa_score(annotation_3,annotation_2)\n",
    "    cohen_score_34 = cohen_kappa_score(annotation_3,annotation_4)\n",
    "    cohen_score_average_3 = round((cohen_score_31 + cohen_score_32 + cohen_score_34)/3,3)\n",
    "    #print(\"Average Cohen Kappa Score for annotation 87:\",(cohen_score_average_3))\n",
    "    return cohen_score_average_3"
   ]
  },
  {
   "cell_type": "code",
   "execution_count": 170,
   "id": "august-pitch",
   "metadata": {},
   "outputs": [
    {
     "data": {
      "text/plain": [
       "0.814"
      ]
     },
     "execution_count": 170,
     "metadata": {},
     "output_type": "execute_result"
    }
   ],
   "source": [
    "cohen_avg_3()"
   ]
  },
  {
   "cell_type": "markdown",
   "id": "capital-realtor",
   "metadata": {},
   "source": [
    "### Cohen_kappa average score of annotation 91"
   ]
  },
  {
   "cell_type": "code",
   "execution_count": 171,
   "id": "continent-europe",
   "metadata": {},
   "outputs": [],
   "source": [
    "def cohen_avg_4():\n",
    "    cohen_score_41 = cohen_kappa_score(annotation_4,annotation_1)\n",
    "    cohen_score_42 = cohen_kappa_score(annotation_4,annotation_2)\n",
    "    cohen_score_43 = cohen_kappa_score(annotation_4,annotation_3)\n",
    "    cohen_score_average_4 = round((cohen_score_41 + cohen_score_42 + cohen_score_43)/3,3)\n",
    "    #print(\"Average Cohen Kappa Score for annotation 91:\",(cohen_score_average_4))\n",
    "    return cohen_score_average_4"
   ]
  },
  {
   "cell_type": "code",
   "execution_count": 172,
   "id": "starting-democrat",
   "metadata": {},
   "outputs": [
    {
     "data": {
      "text/plain": [
       "0.832"
      ]
     },
     "execution_count": 172,
     "metadata": {},
     "output_type": "execute_result"
    }
   ],
   "source": [
    "cohen_avg_4()"
   ]
  },
  {
   "cell_type": "markdown",
   "id": "spanish-territory",
   "metadata": {},
   "source": [
    "##### If average cohen kappa score for any annotation is less than 0.2, we will drop it"
   ]
  },
  {
   "cell_type": "code",
   "execution_count": 173,
   "id": "fifth-eugene",
   "metadata": {},
   "outputs": [],
   "source": [
    "def drop_annotate():\n",
    "    average = [cohen_avg_1(), cohen_avg_2(),cohen_avg_3(),cohen_avg_4()]\n",
    "    columns_name = ['annotation_85','annotation_86','annotation_87','annotation_91']\n",
    "    #columns =[annotation_1,annotation_2,annotation_3,annotation_4]\n",
    "    for i in range(0,len(average)):\n",
    "        if average[i]< 0.2:\n",
    "            print(columns_name[i])\n",
    "            print(average[i])\n",
    "            df_10.drop(columns_name[i], axis=1, inplace = True)\n",
    "    print(df_10.head())\n",
    "    r = []\n",
    "    for col in df_10.columns:\n",
    "        r.append(col)\n",
    "    print(r[1:])"
   ]
  },
  {
   "cell_type": "code",
   "execution_count": 174,
   "id": "piano-delay",
   "metadata": {},
   "outputs": [
    {
     "name": "stdout",
     "output_type": "stream",
     "text": [
      "                                                text  annotation_91  \\\n",
      "0  Bad news. Johnson &amp; Johnson pauses #CovidV...          False   \n",
      "1  Saw this on TV and you women Need to work with...           True   \n",
      "2  Two Indian vaccine candidates against COVID-19...          False   \n",
      "3  The point is media &amp; govt lie abt the numb...          False   \n",
      "4  California students will continue wearing mask...           True   \n",
      "\n",
      "   annotation_85  annotation_86  annotation_87  \n",
      "0          False          False          False  \n",
      "1           True           True           True  \n",
      "2          False          False          False  \n",
      "3          False          False          False  \n",
      "4           True           True           True  \n",
      "['annotation_91', 'annotation_85', 'annotation_86', 'annotation_87']\n"
     ]
    }
   ],
   "source": [
    "drop_annotate()"
   ]
  },
  {
   "cell_type": "code",
   "execution_count": 175,
   "id": "historical-patent",
   "metadata": {},
   "outputs": [],
   "source": [
    "def updateLabel(df_10):\n",
    "    for index, rows in df_10.iterrows():\n",
    "        match = [[cohen_avg_1(),rows['annotation_85']],\n",
    "                   [cohen_avg_2(),rows['annotation_86']],\n",
    "                   [cohen_avg_3(),rows['annotation_87']],\n",
    "                   [cohen_avg_4(),rows['annotation_91']]]\n",
    "        boolean = [rows['annotation_85'],rows['annotation_86'],rows['annotation_87'],rows['annotation_91']]\n",
    "        match.sort(key = lambda k:k[0])\n",
    "        true = match.count('True')\n",
    "        false = match.count('False')\n",
    "        if true == false: \n",
    "            kapaValue, colValue = match[-1]\n",
    "            df_10.loc[index, 'Final Label'] = colValue\n",
    "            \n",
    "        elif true!=false:\n",
    "            if true > false:\n",
    "                df_10.loc[index, 'Final Label'] = True\n",
    "            else:\n",
    "                df_10.loc[index, 'Final Label'] = False\n",
    "    "
   ]
  },
  {
   "cell_type": "code",
   "execution_count": 176,
   "id": "distinguished-driver",
   "metadata": {},
   "outputs": [
    {
     "data": {
      "text/html": [
       "<div>\n",
       "<style scoped>\n",
       "    .dataframe tbody tr th:only-of-type {\n",
       "        vertical-align: middle;\n",
       "    }\n",
       "\n",
       "    .dataframe tbody tr th {\n",
       "        vertical-align: top;\n",
       "    }\n",
       "\n",
       "    .dataframe thead th {\n",
       "        text-align: right;\n",
       "    }\n",
       "</style>\n",
       "<table border=\"1\" class=\"dataframe\">\n",
       "  <thead>\n",
       "    <tr style=\"text-align: right;\">\n",
       "      <th></th>\n",
       "      <th>text</th>\n",
       "      <th>Final Label</th>\n",
       "    </tr>\n",
       "  </thead>\n",
       "  <tbody>\n",
       "    <tr>\n",
       "      <th>0</th>\n",
       "      <td>Bad news. Johnson &amp;amp; Johnson pauses #CovidV...</td>\n",
       "      <td>False</td>\n",
       "    </tr>\n",
       "    <tr>\n",
       "      <th>1</th>\n",
       "      <td>Saw this on TV and you women Need to work with...</td>\n",
       "      <td>True</td>\n",
       "    </tr>\n",
       "    <tr>\n",
       "      <th>2</th>\n",
       "      <td>Two Indian vaccine candidates against COVID-19...</td>\n",
       "      <td>False</td>\n",
       "    </tr>\n",
       "    <tr>\n",
       "      <th>3</th>\n",
       "      <td>The point is media &amp;amp; govt lie abt the numb...</td>\n",
       "      <td>False</td>\n",
       "    </tr>\n",
       "    <tr>\n",
       "      <th>4</th>\n",
       "      <td>California students will continue wearing mask...</td>\n",
       "      <td>True</td>\n",
       "    </tr>\n",
       "  </tbody>\n",
       "</table>\n",
       "</div>"
      ],
      "text/plain": [
       "                                                text Final Label\n",
       "0  Bad news. Johnson &amp; Johnson pauses #CovidV...       False\n",
       "1  Saw this on TV and you women Need to work with...        True\n",
       "2  Two Indian vaccine candidates against COVID-19...       False\n",
       "3  The point is media &amp; govt lie abt the numb...       False\n",
       "4  California students will continue wearing mask...        True"
      ]
     },
     "execution_count": 176,
     "metadata": {},
     "output_type": "execute_result"
    }
   ],
   "source": [
    "updateLabel(df_10)\n",
    "df_10 = df_10.iloc[:,[0,-1]]\n",
    "df_10.head()"
   ]
  },
  {
   "cell_type": "code",
   "execution_count": 177,
   "id": "alpha-digit",
   "metadata": {},
   "outputs": [],
   "source": [
    "df_10.to_csv(r'C:\\Users\\stuar\\Desktop\\NLP Assignment 2\\new_files\\primary\\twitter_topic_3_masking_and_distancing.csv',\n",
    "           index = False)"
   ]
  },
  {
   "cell_type": "markdown",
   "id": "individual-testimony",
   "metadata": {},
   "source": [
    "## twitter_topic_3_vaccination.csv\n",
    "\n"
   ]
  },
  {
   "cell_type": "code",
   "execution_count": 178,
   "id": "whole-marshall",
   "metadata": {},
   "outputs": [
    {
     "data": {
      "text/html": [
       "<div>\n",
       "<style scoped>\n",
       "    .dataframe tbody tr th:only-of-type {\n",
       "        vertical-align: middle;\n",
       "    }\n",
       "\n",
       "    .dataframe tbody tr th {\n",
       "        vertical-align: top;\n",
       "    }\n",
       "\n",
       "    .dataframe thead th {\n",
       "        text-align: right;\n",
       "    }\n",
       "</style>\n",
       "<table border=\"1\" class=\"dataframe\">\n",
       "  <thead>\n",
       "    <tr style=\"text-align: right;\">\n",
       "      <th></th>\n",
       "      <th>text</th>\n",
       "      <th>annotation_91</th>\n",
       "      <th>annotation_85</th>\n",
       "      <th>annotation_86</th>\n",
       "      <th>annotation_87</th>\n",
       "    </tr>\n",
       "  </thead>\n",
       "  <tbody>\n",
       "    <tr>\n",
       "      <th>0</th>\n",
       "      <td>Bad news. Johnson &amp;amp; Johnson pauses #CovidV...</td>\n",
       "      <td>True</td>\n",
       "      <td>True</td>\n",
       "      <td>True</td>\n",
       "      <td>True</td>\n",
       "    </tr>\n",
       "    <tr>\n",
       "      <th>1</th>\n",
       "      <td>Saw this on TV and you women Need to work with...</td>\n",
       "      <td>False</td>\n",
       "      <td>False</td>\n",
       "      <td>False</td>\n",
       "      <td>False</td>\n",
       "    </tr>\n",
       "    <tr>\n",
       "      <th>2</th>\n",
       "      <td>Two Indian vaccine candidates against COVID-19...</td>\n",
       "      <td>True</td>\n",
       "      <td>True</td>\n",
       "      <td>True</td>\n",
       "      <td>True</td>\n",
       "    </tr>\n",
       "    <tr>\n",
       "      <th>3</th>\n",
       "      <td>The point is media &amp;amp; govt lie abt the numb...</td>\n",
       "      <td>True</td>\n",
       "      <td>True</td>\n",
       "      <td>True</td>\n",
       "      <td>True</td>\n",
       "    </tr>\n",
       "    <tr>\n",
       "      <th>4</th>\n",
       "      <td>California students will continue wearing mask...</td>\n",
       "      <td>False</td>\n",
       "      <td>False</td>\n",
       "      <td>False</td>\n",
       "      <td>False</td>\n",
       "    </tr>\n",
       "  </tbody>\n",
       "</table>\n",
       "</div>"
      ],
      "text/plain": [
       "                                                text  annotation_91  \\\n",
       "0  Bad news. Johnson &amp; Johnson pauses #CovidV...           True   \n",
       "1  Saw this on TV and you women Need to work with...          False   \n",
       "2  Two Indian vaccine candidates against COVID-19...           True   \n",
       "3  The point is media &amp; govt lie abt the numb...           True   \n",
       "4  California students will continue wearing mask...          False   \n",
       "\n",
       "   annotation_85  annotation_86  annotation_87  \n",
       "0           True           True           True  \n",
       "1          False          False          False  \n",
       "2           True           True           True  \n",
       "3           True           True           True  \n",
       "4          False          False          False  "
      ]
     },
     "execution_count": 178,
     "metadata": {},
     "output_type": "execute_result"
    }
   ],
   "source": [
    "df_11 = pd.read_csv(r'twitter_topic\\twitter_topic_3_vaccination.csv')\n",
    "df_11.head()"
   ]
  },
  {
   "cell_type": "code",
   "execution_count": 179,
   "id": "european-repair",
   "metadata": {},
   "outputs": [
    {
     "name": "stdout",
     "output_type": "stream",
     "text": [
      "0\n",
      "0\n",
      "0\n",
      "0\n",
      "0\n"
     ]
    }
   ],
   "source": [
    "print(df_11['annotation_85'].isnull().sum())\n",
    "print(df_11['annotation_86'].isnull().sum())\n",
    "print(df_11['annotation_87'].isnull().sum())\n",
    "print(df_11['annotation_91'].isnull().sum())\n",
    "print(df_11['text'].isnull().sum())"
   ]
  },
  {
   "cell_type": "code",
   "execution_count": 180,
   "id": "minor-planet",
   "metadata": {},
   "outputs": [],
   "source": [
    "annotation_1= df_11['annotation_85']\n",
    "annotation_2= df_11['annotation_86']\n",
    "annotation_3= df_11['annotation_87']\n",
    "annotation_4= df_11['annotation_91']"
   ]
  },
  {
   "cell_type": "markdown",
   "id": "level-diversity",
   "metadata": {},
   "source": [
    "### Cohen_kappa average score of annotation 85"
   ]
  },
  {
   "cell_type": "code",
   "execution_count": 181,
   "id": "another-peeing",
   "metadata": {},
   "outputs": [],
   "source": [
    "def cohen_avg_1():\n",
    "    cohen_score_12 = cohen_kappa_score(annotation_1,annotation_2)\n",
    "    cohen_score_13 = cohen_kappa_score(annotation_1,annotation_3)\n",
    "    cohen_score_14 = cohen_kappa_score(annotation_1,annotation_4)\n",
    "    cohen_score_average_1 = round((cohen_score_12 + cohen_score_13 + cohen_score_14)/3,3)\n",
    "    #print(\"Average Cohen Kappa Score for annotation 85:\",(cohen_score_average_1))\n",
    "    return cohen_score_average_1"
   ]
  },
  {
   "cell_type": "code",
   "execution_count": 182,
   "id": "minute-state",
   "metadata": {},
   "outputs": [
    {
     "data": {
      "text/plain": [
       "0.658"
      ]
     },
     "execution_count": 182,
     "metadata": {},
     "output_type": "execute_result"
    }
   ],
   "source": [
    "cohen_avg_1()"
   ]
  },
  {
   "cell_type": "markdown",
   "id": "intensive-pickup",
   "metadata": {},
   "source": [
    "### Cohen_kappa average score of annotation 86"
   ]
  },
  {
   "cell_type": "code",
   "execution_count": 183,
   "id": "rapid-corpus",
   "metadata": {},
   "outputs": [],
   "source": [
    "def cohen_avg_2():\n",
    "    cohen_score_21 = cohen_kappa_score(annotation_2,annotation_1)\n",
    "    cohen_score_23 = cohen_kappa_score(annotation_2,annotation_3)\n",
    "    cohen_score_24 = cohen_kappa_score(annotation_2,annotation_4)\n",
    "    cohen_score_average_2 = round((cohen_score_21 + cohen_score_23 + cohen_score_24)/3,3)\n",
    "    #print(\"Average Cohen Kappa Score for annotation 86:\",(cohen_score_average_2))\n",
    "    return cohen_score_average_2"
   ]
  },
  {
   "cell_type": "code",
   "execution_count": 184,
   "id": "resistant-strengthening",
   "metadata": {},
   "outputs": [
    {
     "data": {
      "text/plain": [
       "0.621"
      ]
     },
     "execution_count": 184,
     "metadata": {},
     "output_type": "execute_result"
    }
   ],
   "source": [
    "cohen_avg_2()"
   ]
  },
  {
   "cell_type": "markdown",
   "id": "strong-orlando",
   "metadata": {},
   "source": [
    "### Cohen_kappa average score of annotation 87"
   ]
  },
  {
   "cell_type": "code",
   "execution_count": 185,
   "id": "pharmaceutical-romance",
   "metadata": {},
   "outputs": [],
   "source": [
    "def cohen_avg_3():\n",
    "    cohen_score_31 = cohen_kappa_score(annotation_3,annotation_1)\n",
    "    cohen_score_32 = cohen_kappa_score(annotation_3,annotation_2)\n",
    "    cohen_score_34 = cohen_kappa_score(annotation_3,annotation_4)\n",
    "    cohen_score_average_3 = round((cohen_score_31 + cohen_score_32 + cohen_score_34)/3,3)\n",
    "    #print(\"Average Cohen Kappa Score for annotation 87:\",(cohen_score_average_3))\n",
    "    return cohen_score_average_3"
   ]
  },
  {
   "cell_type": "code",
   "execution_count": 186,
   "id": "twenty-politics",
   "metadata": {},
   "outputs": [
    {
     "data": {
      "text/plain": [
       "0.636"
      ]
     },
     "execution_count": 186,
     "metadata": {},
     "output_type": "execute_result"
    }
   ],
   "source": [
    "cohen_avg_3()"
   ]
  },
  {
   "cell_type": "markdown",
   "id": "legitimate-spokesman",
   "metadata": {},
   "source": [
    "### Cohen_kappa average score of annotation 91"
   ]
  },
  {
   "cell_type": "code",
   "execution_count": 187,
   "id": "dominant-speaking",
   "metadata": {},
   "outputs": [],
   "source": [
    "def cohen_avg_4():\n",
    "    cohen_score_41 = cohen_kappa_score(annotation_4,annotation_1)\n",
    "    cohen_score_42 = cohen_kappa_score(annotation_4,annotation_2)\n",
    "    cohen_score_43 = cohen_kappa_score(annotation_4,annotation_3)\n",
    "    cohen_score_average_4 = round((cohen_score_41 + cohen_score_42 + cohen_score_43)/3,3)\n",
    "    #print(\"Average Cohen Kappa Score for annotation 91:\",(cohen_score_average_4))\n",
    "    return cohen_score_average_4"
   ]
  },
  {
   "cell_type": "code",
   "execution_count": 188,
   "id": "artistic-sponsorship",
   "metadata": {},
   "outputs": [
    {
     "data": {
      "text/plain": [
       "0.668"
      ]
     },
     "execution_count": 188,
     "metadata": {},
     "output_type": "execute_result"
    }
   ],
   "source": [
    "cohen_avg_4()"
   ]
  },
  {
   "cell_type": "markdown",
   "id": "signed-ebony",
   "metadata": {},
   "source": [
    "##### If average cohen kappa score for any annotation is less than 0.2, we will drop it"
   ]
  },
  {
   "cell_type": "code",
   "execution_count": 189,
   "id": "czech-destiny",
   "metadata": {},
   "outputs": [],
   "source": [
    "def drop_annotate():\n",
    "    average = [cohen_avg_1(), cohen_avg_2(),cohen_avg_3(),cohen_avg_4()]\n",
    "    columns_name = ['annotation_85','annotation_86','annotation_87','annotation_91']\n",
    "    #columns =[annotation_1,annotation_2,annotation_3,annotation_4]\n",
    "    for i in range(0,len(average)):\n",
    "        if average[i]< 0.2:\n",
    "            print(columns_name[i])\n",
    "            print(average[i])\n",
    "            df_11.drop(columns_name[i], axis=1, inplace = True)\n",
    "    print(df_11.head())\n",
    "    r = []\n",
    "    for col in df_11.columns:\n",
    "        r.append(col)\n",
    "    print(r[1:])"
   ]
  },
  {
   "cell_type": "code",
   "execution_count": 190,
   "id": "modified-delaware",
   "metadata": {},
   "outputs": [
    {
     "name": "stdout",
     "output_type": "stream",
     "text": [
      "                                                text  annotation_91  \\\n",
      "0  Bad news. Johnson &amp; Johnson pauses #CovidV...           True   \n",
      "1  Saw this on TV and you women Need to work with...          False   \n",
      "2  Two Indian vaccine candidates against COVID-19...           True   \n",
      "3  The point is media &amp; govt lie abt the numb...           True   \n",
      "4  California students will continue wearing mask...          False   \n",
      "\n",
      "   annotation_85  annotation_86  annotation_87  \n",
      "0           True           True           True  \n",
      "1          False          False          False  \n",
      "2           True           True           True  \n",
      "3           True           True           True  \n",
      "4          False          False          False  \n",
      "['annotation_91', 'annotation_85', 'annotation_86', 'annotation_87']\n"
     ]
    }
   ],
   "source": [
    "drop_annotate()"
   ]
  },
  {
   "cell_type": "code",
   "execution_count": 191,
   "id": "random-multimedia",
   "metadata": {},
   "outputs": [],
   "source": [
    "def updateLabel(df_11):\n",
    "    for index, rows in df_11.iterrows():\n",
    "        match = [[cohen_avg_1(),rows['annotation_85']],\n",
    "                   [cohen_avg_2(),rows['annotation_86']],\n",
    "                   [cohen_avg_3(),rows['annotation_87']],\n",
    "                   [cohen_avg_4(),rows['annotation_91']]]\n",
    "        boolean = [rows['annotation_85'],rows['annotation_86'],rows['annotation_87'],rows['annotation_91']]\n",
    "        match.sort(key = lambda k:k[0])\n",
    "        true = match.count('True')\n",
    "        false = match.count('False')\n",
    "        if true == false: \n",
    "            kapaValue, colValue = match[-1]\n",
    "            df_11.loc[index, 'Final Label'] = colValue\n",
    "            \n",
    "        elif true!=false:\n",
    "            if true > false:\n",
    "                df_11.loc[index, 'Final Label'] = True\n",
    "            else:\n",
    "                df_11.loc[index, 'Final Label'] = False\n",
    "    "
   ]
  },
  {
   "cell_type": "code",
   "execution_count": 192,
   "id": "metropolitan-voltage",
   "metadata": {},
   "outputs": [
    {
     "data": {
      "text/html": [
       "<div>\n",
       "<style scoped>\n",
       "    .dataframe tbody tr th:only-of-type {\n",
       "        vertical-align: middle;\n",
       "    }\n",
       "\n",
       "    .dataframe tbody tr th {\n",
       "        vertical-align: top;\n",
       "    }\n",
       "\n",
       "    .dataframe thead th {\n",
       "        text-align: right;\n",
       "    }\n",
       "</style>\n",
       "<table border=\"1\" class=\"dataframe\">\n",
       "  <thead>\n",
       "    <tr style=\"text-align: right;\">\n",
       "      <th></th>\n",
       "      <th>text</th>\n",
       "      <th>Final Label</th>\n",
       "    </tr>\n",
       "  </thead>\n",
       "  <tbody>\n",
       "    <tr>\n",
       "      <th>0</th>\n",
       "      <td>Bad news. Johnson &amp;amp; Johnson pauses #CovidV...</td>\n",
       "      <td>True</td>\n",
       "    </tr>\n",
       "    <tr>\n",
       "      <th>1</th>\n",
       "      <td>Saw this on TV and you women Need to work with...</td>\n",
       "      <td>False</td>\n",
       "    </tr>\n",
       "    <tr>\n",
       "      <th>2</th>\n",
       "      <td>Two Indian vaccine candidates against COVID-19...</td>\n",
       "      <td>True</td>\n",
       "    </tr>\n",
       "    <tr>\n",
       "      <th>3</th>\n",
       "      <td>The point is media &amp;amp; govt lie abt the numb...</td>\n",
       "      <td>True</td>\n",
       "    </tr>\n",
       "    <tr>\n",
       "      <th>4</th>\n",
       "      <td>California students will continue wearing mask...</td>\n",
       "      <td>False</td>\n",
       "    </tr>\n",
       "  </tbody>\n",
       "</table>\n",
       "</div>"
      ],
      "text/plain": [
       "                                                text Final Label\n",
       "0  Bad news. Johnson &amp; Johnson pauses #CovidV...        True\n",
       "1  Saw this on TV and you women Need to work with...       False\n",
       "2  Two Indian vaccine candidates against COVID-19...        True\n",
       "3  The point is media &amp; govt lie abt the numb...        True\n",
       "4  California students will continue wearing mask...       False"
      ]
     },
     "execution_count": 192,
     "metadata": {},
     "output_type": "execute_result"
    }
   ],
   "source": [
    "updateLabel(df_11)\n",
    "df_11 = df_11.iloc[:,[0,-1]]\n",
    "df_11.head()"
   ]
  },
  {
   "cell_type": "code",
   "execution_count": 193,
   "id": "weird-phone",
   "metadata": {},
   "outputs": [],
   "source": [
    "df_11.to_csv(r'C:\\Users\\stuar\\Desktop\\NLP Assignment 2\\new_files\\primary\\twitter_topic_3_vaccination.csv',\n",
    "           index = False)"
   ]
  },
  {
   "cell_type": "code",
   "execution_count": null,
   "id": "specific-patrick",
   "metadata": {},
   "outputs": [],
   "source": []
  },
  {
   "cell_type": "markdown",
   "id": "little-village",
   "metadata": {},
   "source": [
    "## Merging twitter_topic_lockdowns"
   ]
  },
  {
   "cell_type": "code",
   "execution_count": 194,
   "id": "parliamentary-warner",
   "metadata": {},
   "outputs": [],
   "source": [
    "df = pd.read_csv(r'C:\\Users\\stuar\\Desktop\\NLP Assignment 2\\new_files\\primary\\twitter_topic_0_lockdowns.csv', sep=',', header=None,index_col = False)\n",
    "df1 = pd.read_csv(r'C:\\Users\\stuar\\Desktop\\NLP Assignment 2\\new_files\\primary\\twitter_topic_1_lockdowns.csv', sep=',', header=None,index_col = False)\n",
    "df2 = pd.read_csv(r'C:\\Users\\stuar\\Desktop\\NLP Assignment 2\\new_files\\primary\\twitter_topic_2_lockdowns.csv', sep=',', header=None,index_col = False)\n",
    "df3 = pd.read_csv(r'C:\\Users\\stuar\\Desktop\\NLP Assignment 2\\new_files\\primary\\twitter_topic_3_lockdowns.csv', sep=',', header=None,index_col = False)"
   ]
  },
  {
   "cell_type": "code",
   "execution_count": 195,
   "id": "perfect-friday",
   "metadata": {},
   "outputs": [],
   "source": [
    "df.reset_index(drop=True)\n",
    "df1.reset_index( drop=True)\n",
    "df2.reset_index(drop=True)\n",
    "df3.reset_index(drop=True)\n",
    "df_combined = pd.concat([df,df1,df2,df3], axis=0)"
   ]
  },
  {
   "cell_type": "code",
   "execution_count": 196,
   "id": "entire-costs",
   "metadata": {},
   "outputs": [],
   "source": [
    "df_combined.to_csv(r'C:\\Users\\stuar\\Desktop\\NLP Assignment 2\\new_files\\primary_final\\twitter_topic_lockdowns.csv',index= False,header = False)"
   ]
  },
  {
   "cell_type": "code",
   "execution_count": 197,
   "id": "reverse-speed",
   "metadata": {},
   "outputs": [
    {
     "data": {
      "text/html": [
       "<div>\n",
       "<style scoped>\n",
       "    .dataframe tbody tr th:only-of-type {\n",
       "        vertical-align: middle;\n",
       "    }\n",
       "\n",
       "    .dataframe tbody tr th {\n",
       "        vertical-align: top;\n",
       "    }\n",
       "\n",
       "    .dataframe thead th {\n",
       "        text-align: right;\n",
       "    }\n",
       "</style>\n",
       "<table border=\"1\" class=\"dataframe\">\n",
       "  <thead>\n",
       "    <tr style=\"text-align: right;\">\n",
       "      <th></th>\n",
       "      <th>0</th>\n",
       "      <th>1</th>\n",
       "    </tr>\n",
       "  </thead>\n",
       "  <tbody>\n",
       "    <tr>\n",
       "      <th>count</th>\n",
       "      <td>1204</td>\n",
       "      <td>1204</td>\n",
       "    </tr>\n",
       "    <tr>\n",
       "      <th>unique</th>\n",
       "      <td>1196</td>\n",
       "      <td>3</td>\n",
       "    </tr>\n",
       "    <tr>\n",
       "      <th>top</th>\n",
       "      <td>STUDIES SHOW MORPHINE MILLIGRAM EQUIVALENT (MM...</td>\n",
       "      <td>False</td>\n",
       "    </tr>\n",
       "    <tr>\n",
       "      <th>freq</th>\n",
       "      <td>4</td>\n",
       "      <td>1145</td>\n",
       "    </tr>\n",
       "  </tbody>\n",
       "</table>\n",
       "</div>"
      ],
      "text/plain": [
       "                                                        0      1\n",
       "count                                                1204   1204\n",
       "unique                                               1196      3\n",
       "top     STUDIES SHOW MORPHINE MILLIGRAM EQUIVALENT (MM...  False\n",
       "freq                                                    4   1145"
      ]
     },
     "execution_count": 197,
     "metadata": {},
     "output_type": "execute_result"
    }
   ],
   "source": [
    "df_combined.describe()"
   ]
  },
  {
   "cell_type": "markdown",
   "id": "fifth-costume",
   "metadata": {},
   "source": [
    "## Merging twitter_topic_masking_and_distancing"
   ]
  },
  {
   "cell_type": "code",
   "execution_count": 198,
   "id": "meaningful-progressive",
   "metadata": {},
   "outputs": [],
   "source": [
    "df = pd.read_csv(r'C:\\Users\\stuar\\Desktop\\NLP Assignment 2\\new_files\\primary\\twitter_topic_0_masking_and_distancing.csv', sep=',', header=None,index_col = False)\n",
    "df1 = pd.read_csv(r'C:\\Users\\stuar\\Desktop\\NLP Assignment 2\\new_files\\primary\\twitter_topic_1_masking_and_distancing.csv', sep=',', header=None,index_col = False)\n",
    "df2 = pd.read_csv(r'C:\\Users\\stuar\\Desktop\\NLP Assignment 2\\new_files\\primary\\twitter_topic_2_masking_and_distancing.csv', sep=',', header=None,index_col = False)\n",
    "df3 = pd.read_csv(r'C:\\Users\\stuar\\Desktop\\NLP Assignment 2\\new_files\\primary\\twitter_topic_3_masking_and_distancing.csv', sep=',', header=None,index_col = False)"
   ]
  },
  {
   "cell_type": "code",
   "execution_count": 199,
   "id": "artificial-terrain",
   "metadata": {},
   "outputs": [],
   "source": [
    "df.reset_index(drop=True)\n",
    "df1.reset_index( drop=True)\n",
    "df2.reset_index(drop=True)\n",
    "df3.reset_index(drop=True)\n",
    "df_combined = pd.concat([df,df1,df2,df3], axis=0)"
   ]
  },
  {
   "cell_type": "code",
   "execution_count": 200,
   "id": "imported-water",
   "metadata": {},
   "outputs": [],
   "source": [
    "df_combined.to_csv(r'C:\\Users\\stuar\\Desktop\\NLP Assignment 2\\new_files\\primary_final\\twitter_topic_masking_and_distancing.csv',index= False,header = False)"
   ]
  },
  {
   "cell_type": "markdown",
   "id": "departmental-cruise",
   "metadata": {},
   "source": [
    "## Merging twitter_topic_vaccination\n"
   ]
  },
  {
   "cell_type": "code",
   "execution_count": 201,
   "id": "unlimited-enhancement",
   "metadata": {},
   "outputs": [],
   "source": [
    "df = pd.read_csv(r'C:\\Users\\stuar\\Desktop\\NLP Assignment 2\\new_files\\primary\\twitter_topic_0_vaccination.csv', sep=',', header=None,index_col = False)\n",
    "df1 = pd.read_csv(r'C:\\Users\\stuar\\Desktop\\NLP Assignment 2\\new_files\\primary\\twitter_topic_1_vaccination.csv', sep=',', header=None,index_col = False)\n",
    "df2 = pd.read_csv(r'C:\\Users\\stuar\\Desktop\\NLP Assignment 2\\new_files\\primary\\twitter_topic_2_vaccination.csv', sep=',', header=None,index_col = False)\n",
    "df3 = pd.read_csv(r'C:\\Users\\stuar\\Desktop\\NLP Assignment 2\\new_files\\primary\\twitter_topic_3_vaccination.csv', sep=',', header=None,index_col = False)"
   ]
  },
  {
   "cell_type": "code",
   "execution_count": 202,
   "id": "looking-moral",
   "metadata": {},
   "outputs": [],
   "source": [
    "df.reset_index(drop=True)\n",
    "df1.reset_index( drop=True)\n",
    "df2.reset_index(drop=True)\n",
    "df3.reset_index(drop=True)\n",
    "df_combined = pd.concat([df,df1,df2,df3], axis=0)"
   ]
  },
  {
   "cell_type": "code",
   "execution_count": 203,
   "id": "forbidden-independence",
   "metadata": {},
   "outputs": [],
   "source": [
    "df_combined.to_csv(r'C:\\Users\\stuar\\Desktop\\NLP Assignment 2\\new_files\\primary_final\\twitter_topic_vaccination.csv',index= False,header = False)"
   ]
  },
  {
   "cell_type": "code",
   "execution_count": null,
   "id": "veterinary-spotlight",
   "metadata": {},
   "outputs": [],
   "source": []
  },
  {
   "cell_type": "code",
   "execution_count": null,
   "id": "ordinary-prospect",
   "metadata": {},
   "outputs": [],
   "source": []
  },
  {
   "cell_type": "code",
   "execution_count": null,
   "id": "manual-ordinary",
   "metadata": {},
   "outputs": [],
   "source": []
  },
  {
   "cell_type": "code",
   "execution_count": null,
   "id": "persistent-complex",
   "metadata": {},
   "outputs": [],
   "source": []
  },
  {
   "cell_type": "code",
   "execution_count": null,
   "id": "framed-bridges",
   "metadata": {},
   "outputs": [],
   "source": []
  },
  {
   "cell_type": "code",
   "execution_count": null,
   "id": "entitled-platform",
   "metadata": {},
   "outputs": [],
   "source": []
  },
  {
   "cell_type": "code",
   "execution_count": null,
   "id": "fabulous-ballot",
   "metadata": {},
   "outputs": [],
   "source": []
  },
  {
   "cell_type": "code",
   "execution_count": null,
   "id": "different-nation",
   "metadata": {},
   "outputs": [],
   "source": []
  },
  {
   "cell_type": "code",
   "execution_count": null,
   "id": "vocational-manufacturer",
   "metadata": {},
   "outputs": [],
   "source": []
  },
  {
   "cell_type": "code",
   "execution_count": null,
   "id": "processed-dressing",
   "metadata": {},
   "outputs": [],
   "source": []
  }
 ],
 "metadata": {
  "kernelspec": {
   "display_name": "Python 3",
   "language": "python",
   "name": "python3"
  },
  "language_info": {
   "codemirror_mode": {
    "name": "ipython",
    "version": 3
   },
   "file_extension": ".py",
   "mimetype": "text/x-python",
   "name": "python",
   "nbconvert_exporter": "python",
   "pygments_lexer": "ipython3",
   "version": "3.9.1"
  }
 },
 "nbformat": 4,
 "nbformat_minor": 5
}
